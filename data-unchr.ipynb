{
 "metadata": {
  "name": "",
  "signature": "sha256:570b7268f01bf26ac73a13938961b9e3fdd77f196a8f88073f706ec3da1fca04"
 },
 "nbformat": 3,
 "nbformat_minor": 0,
 "worksheets": [
  {
   "cells": [
    {
     "cell_type": "code",
     "collapsed": false,
     "input": [
      "import json, urllib, urllib2\n",
      "\n",
      "def get_json(url, qsa=None):\n",
      "    if qsa != None:\n",
      "        args = urllib.urlencode(qsa)\n",
      "        url += \"?\"\n",
      "        url += args\n",
      "    response = urllib2.urlopen(url)\n",
      "    data = json.load(response)   \n",
      "    return data\n",
      "\n",
      "def LngLatToPixelXY(lnglat, scale = 1.):\n",
      "    (lng, lat) = lnglat\n",
      "    x = (lng + 180.0) * 256.0 / 360.0\n",
      "    y = 128.0 - math.log(math.tan((lat + 90.0) * math.pi / 360.0)) * 128.0 / math.pi\n",
      "    return [x*scale, y*scale]\n",
      "\n",
      "# cow.txt from http://opengeocode.org/download/cow.php"
     ],
     "language": "python",
     "metadata": {},
     "outputs": [],
     "prompt_number": 59
    },
    {
     "cell_type": "code",
     "collapsed": false,
     "input": [
      "import csv\n",
      "cow = []\n",
      "with open('cow.csv') as csvfile:\n",
      "     reader = csv.DictReader(csvfile, delimiter=\";\")\n",
      "     for row in reader:\n",
      "            cow.append(row)\n",
      "print \"ISO:%s LNG: %s LAT %s\" %  (cow[0]['ISO3166A3'], cow[0]['longitude'], cow[0]['latitude'])\n"
     ],
     "language": "python",
     "metadata": {},
     "outputs": [
      {
       "output_type": "stream",
       "stream": "stdout",
       "text": [
        "ISO: AFG LNG:  65 LAT  33\n"
       ]
      }
     ],
     "prompt_number": 22
    },
    {
     "cell_type": "code",
     "collapsed": false,
     "input": [
      "countries_list_url = \"http://data.unhcr.org/api/countries/list.json\"\n",
      "countries_list = get_json(countries_list_url)\n",
      "print countries_list[0]"
     ],
     "language": "python",
     "metadata": {},
     "outputs": [
      {
       "output_type": "stream",
       "stream": "stdout",
       "text": [
        "{u'region_code_en': u'Latin America and the Caribbean', u'name_en': u'Aruba', u'region_code': u'419', u'country_code': u'ABW'}\n"
       ]
      }
     ],
     "prompt_number": 11
    },
    {
     "cell_type": "code",
     "collapsed": false,
     "input": [
      "origin_url = \"http://data.unhcr.org/api/stats/origin.json\"\n",
      "origin_list = get_json(origin_url)\n",
      "print origin_list[0]"
     ],
     "language": "python",
     "metadata": {},
     "outputs": [
      {
       "output_type": "stream",
       "stream": "stdout",
       "text": [
        "{u'origin': u'AFG', u'origin_en': u'Afghanistan'}\n"
       ]
      }
     ],
     "prompt_number": 7
    },
    {
     "cell_type": "code",
     "collapsed": false,
     "input": [
      "population_types_url = \"http://data.unhcr.org/api/stats/time_series_population_types.json\"\n",
      "population_types_list = get_json(population_types_url)\n",
      "print population_types_list"
     ],
     "language": "python",
     "metadata": {},
     "outputs": [
      {
       "output_type": "stream",
       "stream": "stdout",
       "text": [
        "[{u'population_type_code': u'AS', u'population_type_en': u'Asylum seekers'}, {u'population_type_code': u'ID', u'population_type_en': u'Internally displaced persons'}, {u'population_type_code': u'OC', u'population_type_en': u'Others of concern'}, {u'population_type_code': u'RD', u'population_type_en': u'Returned IDPs'}, {u'population_type_code': u'RF', u'population_type_en': u'Refugees'}, {u'population_type_code': u'RT', u'population_type_en': u'Returned refugees'}, {u'population_type_code': u'ST', u'population_type_en': u'Stateless persons'}]\n"
       ]
      }
     ],
     "prompt_number": 9
    },
    {
     "cell_type": "code",
     "collapsed": false,
     "input": [
      "time_series_all_years_url = \"http://data.unhcr.org/api/stats/time_series_all_years.json\"\n",
      "args = { 'population_type_code' : 'RF',  'country_of_origin' : 'AFG', 'country_of_residence': 'CHE'}\n",
      "time_series_all_years_afg_list = get_json(time_series_all_years_url, args)\n",
      "print time_series_all_years_afg_list[0]"
     ],
     "language": "python",
     "metadata": {},
     "outputs": [
      {
       "output_type": "stream",
       "stream": "stdout",
       "text": [
        "{u'country_of_origin': u'AFG', u'value': u'1204', u'country_of_residence': u'CHE', u'country_of_residence_en': u'Switzerland', u'year': 2000, u'country_of_origin_en': u'Afghanistan'}\n"
       ]
      }
     ],
     "prompt_number": 25
    },
    {
     "cell_type": "code",
     "collapsed": false,
     "input": [
      "for val in time_series_all_years_afg_list:\n",
      "    print \"%s %s\" % (val['year'], val['value'])"
     ],
     "language": "python",
     "metadata": {},
     "outputs": [
      {
       "output_type": "stream",
       "stream": "stdout",
       "text": [
        "2000 1204\n",
        "2001 1446\n",
        "2002 1365\n",
        "2003 1598\n",
        "2004 1524\n",
        "2005 1595\n",
        "2006 1726\n",
        "2007 1609\n",
        "2008 1610\n",
        "2009 1683\n",
        "2010 1929\n",
        "2011 2127\n",
        "2012 2099\n",
        "2013 2578\n"
       ]
      }
     ],
     "prompt_number": 27
    },
    {
     "cell_type": "code",
     "collapsed": false,
     "input": [
      "for country in cow:\n",
      "    if country['ISO3166A3'] == \" CHE\":\n",
      "        lng, lat = float(country['longitude']), float(country['latitude'])\n",
      "        break"
     ],
     "language": "python",
     "metadata": {},
     "outputs": [],
     "prompt_number": 47
    },
    {
     "cell_type": "code",
     "collapsed": false,
     "input": [
      "points = []\n",
      "for i in range(0,13):\n",
      "    points += [LngLatToPixelXY((lng, lat),\n",
      "               float(time_series_all_years_afg_list[i]['value']),\n",
      "               float(time_series_all_years_afg_list[i+1]['value'])\n",
      "               ]"
     ],
     "language": "python",
     "metadata": {},
     "outputs": [
      {
       "ename": "SyntaxError",
       "evalue": "invalid syntax (<ipython-input-61-ab34f7e764b8>, line 6)",
       "output_type": "pyerr",
       "traceback": [
        "\u001b[0;36m  File \u001b[0;32m\"<ipython-input-61-ab34f7e764b8>\"\u001b[0;36m, line \u001b[0;32m6\u001b[0m\n\u001b[0;31m    ]\u001b[0m\n\u001b[0m    ^\u001b[0m\n\u001b[0;31mSyntaxError\u001b[0m\u001b[0;31m:\u001b[0m invalid syntax\n"
       ]
      }
     ],
     "prompt_number": 61
    },
    {
     "cell_type": "code",
     "collapsed": false,
     "input": [
      "points"
     ],
     "language": "python",
     "metadata": {},
     "outputs": [
      {
       "metadata": {},
       "output_type": "pyout",
       "prompt_number": 53,
       "text": [
        "[8.0,\n",
        " 47.0,\n",
        " 2000,\n",
        " 1204.0,\n",
        " 1446.0,\n",
        " 8.0,\n",
        " 47.0,\n",
        " 2001,\n",
        " 1446.0,\n",
        " 1365.0,\n",
        " 8.0,\n",
        " 47.0,\n",
        " 2002,\n",
        " 1365.0,\n",
        " 1598.0,\n",
        " 8.0,\n",
        " 47.0,\n",
        " 2003,\n",
        " 1598.0,\n",
        " 1524.0,\n",
        " 8.0,\n",
        " 47.0,\n",
        " 2004,\n",
        " 1524.0,\n",
        " 1595.0,\n",
        " 8.0,\n",
        " 47.0,\n",
        " 2005,\n",
        " 1595.0,\n",
        " 1726.0,\n",
        " 8.0,\n",
        " 47.0,\n",
        " 2006,\n",
        " 1726.0,\n",
        " 1609.0,\n",
        " 8.0,\n",
        " 47.0,\n",
        " 2007,\n",
        " 1609.0,\n",
        " 1610.0,\n",
        " 8.0,\n",
        " 47.0,\n",
        " 2008,\n",
        " 1610.0,\n",
        " 1683.0,\n",
        " 8.0,\n",
        " 47.0,\n",
        " 2009,\n",
        " 1683.0,\n",
        " 1929.0,\n",
        " 8.0,\n",
        " 47.0,\n",
        " 2010,\n",
        " 1929.0,\n",
        " 2127.0,\n",
        " 8.0,\n",
        " 47.0,\n",
        " 2011,\n",
        " 2127.0,\n",
        " 2099.0,\n",
        " 8.0,\n",
        " 47.0,\n",
        " 2012,\n",
        " 2099.0,\n",
        " 2578.0]"
       ]
      }
     ],
     "prompt_number": 53
    },
    {
     "cell_type": "code",
     "collapsed": false,
     "input": [
      "import array\n",
      "array.array('f', points).tofile(open(\"unhcr.bin\", 'w'))"
     ],
     "language": "python",
     "metadata": {},
     "outputs": [],
     "prompt_number": 56
    },
    {
     "cell_type": "code",
     "collapsed": false,
     "input": [],
     "language": "python",
     "metadata": {},
     "outputs": []
    }
   ],
   "metadata": {}
  }
 ]
}