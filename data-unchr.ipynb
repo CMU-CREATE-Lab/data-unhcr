{
 "metadata": {
  "name": "",
  "signature": "sha256:7ea676a7fd5fb9e6d0e79e219112ae9dab40365412af9499d13466265836cf64"
 },
 "nbformat": 3,
 "nbformat_minor": 0,
 "worksheets": [
  {
   "cells": [
    {
     "cell_type": "code",
     "collapsed": false,
     "input": [
      "import array, json, math, urllib, urllib2\n",
      "from shapely.geometry import shape, Point\n",
      "from shapely.wkb import loads\n",
      "\n",
      "from random import uniform\n",
      "\n",
      "def get_json(url, qsa=None):\n",
      "    if qsa != None:\n",
      "        args = urllib.urlencode(qsa)\n",
      "        url += \"?\"\n",
      "        url += args\n",
      "    response = urllib2.urlopen(url)\n",
      "    data = json.load(response)   \n",
      "    return data\n",
      "\n",
      "def LngLatToPixelXY(lnglat, scale = 1.):\n",
      "    (lng, lat) = lnglat\n",
      "    x = (lng + 180.0) * 256.0 / 360.0\n",
      "    y = 128.0 - math.log(math.tan((lat + 90.0) * math.pi / 360.0)) * 128.0 / math.pi\n",
      "    return [x*scale, y*scale]\n",
      "\n",
      "# cow.txt from http://opengeocode.org/download/cow.php"
     ],
     "language": "python",
     "metadata": {},
     "outputs": [],
     "prompt_number": 74
    },
    {
     "cell_type": "code",
     "collapsed": false,
     "input": [
      "import csv\n",
      "cow = []\n",
      "with open('cow.csv') as csvfile:\n",
      "     reader = csv.DictReader(csvfile, delimiter=\";\")\n",
      "     for row in reader:\n",
      "            cow.append(row)\n",
      "print \"ISO:%s LNG: %s LAT %s\" %  (cow[0]['ISO3166A3'], cow[0]['longitude'], cow[0]['latitude'])\n"
     ],
     "language": "python",
     "metadata": {},
     "outputs": []
    },
    {
     "cell_type": "code",
     "collapsed": false,
     "input": [
      "countries_list_url = \"http://data.unhcr.org/api/countries/list.json\"\n",
      "countries_list = get_json(countries_list_url)\n",
      "print countries_list[0]"
     ],
     "language": "python",
     "metadata": {},
     "outputs": []
    },
    {
     "cell_type": "code",
     "collapsed": false,
     "input": [
      "origin_url = \"http://data.unhcr.org/api/stats/origin.json\"\n",
      "origin_list = get_json(origin_url)\n",
      "print origin_list[0]"
     ],
     "language": "python",
     "metadata": {},
     "outputs": []
    },
    {
     "cell_type": "code",
     "collapsed": false,
     "input": [
      "population_types_url = \"http://data.unhcr.org/api/stats/time_series_population_types.json\"\n",
      "population_types_list = get_json(population_types_url)\n",
      "print population_types_list"
     ],
     "language": "python",
     "metadata": {},
     "outputs": []
    },
    {
     "cell_type": "code",
     "collapsed": false,
     "input": [
      "time_series_all_years_url = \"http://data.unhcr.org/api/stats/time_series_all_years.json\"\n",
      "args = { 'population_type_code' : 'RF',  'country_of_origin' : 'AFG', 'country_of_residence': 'CHE'}\n",
      "time_series_all_years_afg_list = get_json(time_series_all_years_url, args)\n",
      "print time_series_all_years_afg_list[0]"
     ],
     "language": "python",
     "metadata": {},
     "outputs": []
    },
    {
     "cell_type": "code",
     "collapsed": false,
     "input": [
      "for val in time_series_all_years_afg_list:\n",
      "    print \"%s %s\" % (val['year'], val['value'])"
     ],
     "language": "python",
     "metadata": {},
     "outputs": []
    },
    {
     "cell_type": "code",
     "collapsed": false,
     "input": [
      "for country in cow:\n",
      "    if country['ISO3166A3'] == \" CHE\":\n",
      "        lng, lat = float(country['longitude']), float(country['latitude'])\n",
      "        break"
     ],
     "language": "python",
     "metadata": {},
     "outputs": []
    },
    {
     "cell_type": "code",
     "collapsed": false,
     "input": [
      "points = []\n",
      "for i in range(0,13):\n",
      "    x, y = LngLatToPixelXY((lng, lat))\n",
      "    points += [x, y,\n",
      "               float(time_series_all_years_afg_list[i]['value']),\n",
      "               float(time_series_all_years_afg_list[i+1]['value'])\n",
      "               ]\n",
      "points += [x, y,\n",
      "           float(time_series_all_years_afg_list[13]['value']),\n",
      "           float(time_series_all_years_afg_list[13]['value'])\n",
      "          ]"
     ],
     "language": "python",
     "metadata": {},
     "outputs": []
    },
    {
     "cell_type": "code",
     "collapsed": false,
     "input": [
      "points"
     ],
     "language": "python",
     "metadata": {},
     "outputs": []
    },
    {
     "cell_type": "code",
     "collapsed": false,
     "input": [
      "import array\n",
      "array.array('f', points).tofile(open(\"unhcr.bin\", 'w'))"
     ],
     "language": "python",
     "metadata": {},
     "outputs": []
    },
    {
     "cell_type": "code",
     "collapsed": false,
     "input": [
      "residence_url = \"http://data.unhcr.org/api/stats/country_of_residence.json\"\n",
      "residence_list = get_json(residence_url)\n",
      "print residence_list[0]\n"
     ],
     "language": "python",
     "metadata": {},
     "outputs": []
    },
    {
     "cell_type": "code",
     "collapsed": false,
     "input": [
      "def get_time_series_all_years(origin, residence):\n",
      "    time_series_all_years_url = \"http://data.unhcr.org/api/stats/time_series_all_years.json\"\n",
      "    args = { 'population_type_code' : 'RF',  'country_of_origin' : origin, 'country_of_residence': residence}\n",
      "    time_series_all_years_list = get_json(time_series_all_years_url, args)\n",
      "    return time_series_all_years_list\n",
      "\n",
      "def fill_values(cor, residence_list):\n",
      "    values = []\n",
      "    for i in range(2000, 2014):\n",
      "        value = {'country_of_residence': cor, 'value': 0, 'year': i}\n",
      "        values.append(value)\n",
      "    for residence in residence_list:\n",
      "        index = residence['year'] - 2000;\n",
      "        values[index]['value'] = residence['value']\n",
      "    return values\n",
      "\n",
      "def get_cow_lnglat(c):\n",
      "    for country in cow:\n",
      "        if country['ISO3166A3'] == \" \" + c:\n",
      "            lng, lat = float(country['longitude']), float(country['latitude'])\n",
      "            return (lng, lat)"
     ],
     "language": "python",
     "metadata": {},
     "outputs": []
    },
    {
     "cell_type": "code",
     "collapsed": false,
     "input": [
      "points = []\n",
      "refugees_list = []\n",
      "for residence in residence_list:\n",
      "    if residence['country_of_residence'] != 'AFG' and residence['country_of_residence'] != 'YUG' and residence['country_of_residence'] != 'SCG':\n",
      "        refugee_list = get_time_series_all_years('AFG', residence['country_of_residence'])\n",
      "        if len(refugee_list) > 0:\n",
      "            print \"%s %s\" % (residence['country_of_residence'], len(refugee_list))\n",
      "            refugees_list.append(refugee_list)\n",
      "            x, y = LngLatToPixelXY(get_cow_lnglat(residence['country_of_residence']))\n",
      "            for i in range(0,len(refugee_list) - 1):\n",
      "                points += [x, y,\n",
      "                           float(refugee_list[i]['year']),\n",
      "                           0 if refugee_list[i]['value'] == None else float(refugee_list[i]['value']),\n",
      "                           0 if refugee_list[i+1]['value'] == None else float(refugee_list[i+1]['value'])\n",
      "                           ]\n",
      "            points += [x, y,\n",
      "                       float(refugee_list[len(refugee_list) - 1]['year']),\n",
      "                       0 if refugee_list[len(refugee_list) - 1]['value'] == None else float(refugee_list[len(refugee_list) - 1]['value']),\n",
      "                       0 if refugee_list[len(refugee_list) - 1]['value'] == None else float(refugee_list[len(refugee_list) - 1]['value'])\n",
      "                      ]"
     ],
     "language": "python",
     "metadata": {},
     "outputs": []
    },
    {
     "cell_type": "code",
     "collapsed": false,
     "input": [
      "len(points)\n",
      "len(refugees_list)\n",
      "refugees_list[67]"
     ],
     "language": "python",
     "metadata": {},
     "outputs": []
    },
    {
     "cell_type": "code",
     "collapsed": false,
     "input": [
      "import array\n",
      "array.array('f', points).tofile(open(\"afg-unhcr.bin\", 'w'))"
     ],
     "language": "python",
     "metadata": {},
     "outputs": []
    },
    {
     "cell_type": "code",
     "collapsed": false,
     "input": [
      "import matplotlib.pyplot as plt\n",
      "plt.plot([1,2,3,4])\n",
      "plt.plot([0.5,2.5,3,4,5])\n",
      "\n",
      "plt.ylabel('somenumbers')\n",
      "plt.show()"
     ],
     "language": "python",
     "metadata": {},
     "outputs": []
    },
    {
     "cell_type": "code",
     "collapsed": false,
     "input": [
      "data = []\n",
      "for refugee_list in refugees_list:\n",
      "    for val in refugee_list:\n",
      "        value = 0 if val['value'] == None else int(val['value'])\n",
      "        data.append(value)"
     ],
     "language": "python",
     "metadata": {},
     "outputs": []
    },
    {
     "cell_type": "code",
     "collapsed": false,
     "input": [
      "import matplotlib.pyplot as plt\n",
      "plt.plot(sorted(data))\n",
      "plt.show()"
     ],
     "language": "python",
     "metadata": {},
     "outputs": []
    },
    {
     "cell_type": "code",
     "collapsed": false,
     "input": [
      "data"
     ],
     "language": "python",
     "metadata": {},
     "outputs": []
    },
    {
     "cell_type": "code",
     "collapsed": false,
     "input": [
      "from matplotlib.colors import LogNorm\n",
      "plt.hist(points, bins=10)\n",
      "plt.show()"
     ],
     "language": "python",
     "metadata": {},
     "outputs": []
    },
    {
     "cell_type": "code",
     "collapsed": false,
     "input": [
      "trimmed_data = []\n",
      "for refugee_list in refugees_list:\n",
      "    for val in refugee_list:\n",
      "        value = 0 if val['value'] == None else int(val['value'])\n",
      "        if value > 1000 and value < 100000:\n",
      "            trimmed_data.append(value)\n",
      "        else: \n",
      "            print val['country_of_residence']"
     ],
     "language": "python",
     "metadata": {},
     "outputs": []
    },
    {
     "cell_type": "code",
     "collapsed": false,
     "input": [
      "from matplotlib.colors import LogNorm\n",
      "plt.hist(trimmed_data, bins=10)\n",
      "plt.show()"
     ],
     "language": "python",
     "metadata": {},
     "outputs": []
    },
    {
     "cell_type": "code",
     "collapsed": false,
     "input": [
      "points = []\n",
      "for refugee_list in refugees_list:\n",
      "    include = False\n",
      "    for i in range(0, len(refugee_list)):\n",
      "        value = 0 if refugee_list[i]['value'] == None else int(refugee_list[i]['value'])\n",
      "#        if value > 1000 and value < 100000:\n",
      "        if value > 1000:\n",
      "            include = True\n",
      "            break;\n",
      "    if include:\n",
      "        x, y = LngLatToPixelXY(get_cow_lnglat(refugee_list[0]['country_of_residence']))\n",
      "        for i in range(0,len(refugee_list) - 1):\n",
      "            points += [x, y,\n",
      "                       float(refugee_list[i]['year']),\n",
      "                       0 if refugee_list[i]['value'] == None else float(refugee_list[i]['value']),\n",
      "                       0 if refugee_list[i+1]['value'] == None else float(refugee_list[i+1]['value'])\n",
      "                      ]\n",
      "            points += [x, y,\n",
      "                       float(refugee_list[len(refugee_list) - 1]['year']),\n",
      "                       0 if refugee_list[len(refugee_list) - 1]['value'] == None else float(refugee_list[len(refugee_list) - 1]['value']),\n",
      "                       0 if refugee_list[len(refugee_list) - 1]['value'] == None else float(refugee_list[len(refugee_list) - 1]['value'])\n",
      "                      ]        \n",
      " "
     ],
     "language": "python",
     "metadata": {},
     "outputs": []
    },
    {
     "cell_type": "code",
     "collapsed": false,
     "input": [
      "import array\n",
      "array.array('f', points).tofile(open(\"afg-unhcr.bin\", 'w'))"
     ],
     "language": "python",
     "metadata": {},
     "outputs": []
    },
    {
     "cell_type": "code",
     "collapsed": false,
     "input": [
      "from shapely.geometry import shape, Point\n",
      "from shapely.wkb import loads\n",
      "\n",
      "from random import uniform\n",
      "\n",
      "geom_cache = {}\n",
      "\n",
      "def randomPoint(poly):\n",
      "    bbox = poly.bounds\n",
      "    l,b,r,t = bbox\n",
      "    while True:\n",
      "        point = Point(random.uniform(l,r),random.uniform(t,b))\n",
      "        if point is None:\n",
      "            break\n",
      "        if poly.contains(point):\n",
      "            break\n",
      "    return point.__geo_interface__['coordinates']"
     ],
     "language": "python",
     "metadata": {},
     "outputs": []
    },
    {
     "cell_type": "code",
     "collapsed": false,
     "input": [
      "import csv\n",
      "cow = []\n",
      "with open('cow.csv') as csvfile:\n",
      "     reader = csv.DictReader(csvfile, delimiter=\";\")\n",
      "     for row in reader:\n",
      "            cow.append(row)\n",
      "\n"
     ],
     "language": "python",
     "metadata": {},
     "outputs": []
    },
    {
     "cell_type": "code",
     "collapsed": false,
     "input": [
      "for country in cow:\n",
      "    if country['ISO3166A3'] == \" AFG\":\n",
      "        print \"%s %s %s %s \" % (country['minlatitude'], country['minlongitude'], country['maxlatitude'], country['maxlongitude']) \n",
      "        break"
     ],
     "language": "python",
     "metadata": {},
     "outputs": []
    },
    {
     "cell_type": "code",
     "collapsed": false,
     "input": [
      "refugees_list[2] "
     ],
     "language": "python",
     "metadata": {},
     "outputs": []
    },
    {
     "cell_type": "code",
     "collapsed": false,
     "input": [
      "with open(\"capture/AUT/AUT_adm0.geojson\") as f:\n",
      "  aut_geojson = json.load(f)\n",
      "\n",
      "with open(\"capture/AFG/AFG_adm0.geojson\") as f:\n",
      "  afg_geojson = json.load(f)\n"
     ],
     "language": "python",
     "metadata": {},
     "outputs": []
    },
    {
     "cell_type": "code",
     "collapsed": false,
     "input": [
      "aut_geojson['features'][0]['geometry']"
     ],
     "language": "python",
     "metadata": {},
     "outputs": []
    },
    {
     "cell_type": "code",
     "collapsed": false,
     "input": [
      "randomPoint(aut_geojson['features'][0]['geometry'])"
     ],
     "language": "python",
     "metadata": {},
     "outputs": []
    },
    {
     "cell_type": "code",
     "collapsed": false,
     "input": [
      "aut_refugees_list = refugees_list[2] "
     ],
     "language": "python",
     "metadata": {},
     "outputs": []
    },
    {
     "cell_type": "code",
     "collapsed": false,
     "input": [
      "max_pop = 0\n",
      "for year in aut_refugees_list:\n",
      "    if int(year['value']) > max_pop:\n",
      "        max_pop = int(year['value'])\n",
      "print max_pop\n"
     ],
     "language": "python",
     "metadata": {},
     "outputs": []
    },
    {
     "cell_type": "code",
     "collapsed": false,
     "input": [
      "data = []\n",
      "poly = shape(aut_geojson['features'][0]['geometry'])\n",
      "for i in range(0, max_pop):\n",
      "    aut_point = randomPoint(poly)\n",
      "    data += LngLatToPixelXY(aut_point)\n",
      "    data.append(float(i))\n",
      "    \n"
     ],
     "language": "python",
     "metadata": {},
     "outputs": []
    },
    {
     "cell_type": "code",
     "collapsed": false,
     "input": [
      "array.array('f', data).tofile(open(\"afg-aut-unhcr.bin\", 'w'))"
     ],
     "language": "python",
     "metadata": {},
     "outputs": []
    },
    {
     "cell_type": "code",
     "collapsed": false,
     "input": [
      "points = []\n",
      "for i in range(0,len(aut_refugees_list) - 1):\n",
      "            points.append([float(aut_refugees_list[i]['year']),\n",
      "                       0 if aut_refugees_list[i]['value'] == None else float(aut_refugees_list[i]['value']),\n",
      "                       0 if aut_refugees_list[i+1]['value'] == None else float(aut_refugees_list[i+1]['value'])\n",
      "                      ])\n",
      "points.append([float(aut_refugees_list[len(aut_refugees_list) - 1]['year']),\n",
      "           0 if aut_refugees_list[len(aut_refugees_list) - 1]['value'] == None else float(aut_refugees_list[len(aut_refugees_list) - 1]['value']),\n",
      "           0 if aut_refugees_list[len(aut_refugees_list) - 1]['value'] == None else float(aut_refugees_list[len(aut_refugees_list) - 1]['value'])\n",
      "          ])        \n",
      "json.dumps(points)"
     ],
     "language": "python",
     "metadata": {},
     "outputs": []
    },
    {
     "cell_type": "code",
     "collapsed": false,
     "input": [
      "countries = {}\n",
      "for refugee_list in refugees_list:\n",
      "    for vals in refugee_list:\n",
      "        if not countries.has_key(vals['country_of_residence']):\n",
      "            countries[vals['country_of_residence']] = 0\n",
      "        countries[vals['country_of_residence']] += 0 if vals['value'] == None else float(vals['value'])\n",
      "            "
     ],
     "language": "python",
     "metadata": {},
     "outputs": []
    },
    {
     "cell_type": "code",
     "collapsed": false,
     "input": [
      "countries"
     ],
     "language": "python",
     "metadata": {},
     "outputs": []
    },
    {
     "cell_type": "code",
     "collapsed": false,
     "input": [
      "import operator\n",
      "sorted_countries = sorted(countries.items(), key=operator.itemgetter(1))\n"
     ],
     "language": "python",
     "metadata": {},
     "outputs": []
    },
    {
     "cell_type": "code",
     "collapsed": false,
     "input": [
      "sorted_countries[len(sorted_countries) - 12 : len(sorted_countries)]"
     ],
     "language": "python",
     "metadata": {},
     "outputs": []
    },
    {
     "cell_type": "code",
     "collapsed": false,
     "input": [
      "foo.has_key('a')"
     ],
     "language": "python",
     "metadata": {},
     "outputs": []
    },
    {
     "cell_type": "code",
     "collapsed": false,
     "input": [
      "refugees_list[33]"
     ],
     "language": "python",
     "metadata": {},
     "outputs": []
    },
    {
     "cell_type": "code",
     "collapsed": false,
     "input": [
      "with open(\"capture/DEU/DEU_adm0.geojson\") as f:\n",
      "  deu_geojson = json.load(f)\n",
      "deu_refugees_list = refugees_list[33] \n",
      "max_pop = 0\n",
      "for year in deu_refugees_list:\n",
      "    if int(year['value']) > max_pop:\n",
      "        max_pop = int(year['value'])\n",
      "print max_pop\n",
      "data = []\n",
      "poly = shape(deu_geojson['features'][0]['geometry'])\n",
      "for i in range(0, max_pop):\n",
      "    deu_point = randomPoint(poly)\n",
      "    data += LngLatToPixelXY(deu_point)\n",
      "    data.append(float(i))\n",
      "array.array('f', data).tofile(open(\"afg-deu-unhcr.bin\", 'w'))\n"
     ],
     "language": "python",
     "metadata": {},
     "outputs": []
    },
    {
     "cell_type": "code",
     "collapsed": false,
     "input": [
      "with open(\"capture/DEU/DEU_adm0.geojson\") as f:\n",
      "  deu_geojson = json.load(f)\n",
      "with open(\"capture/AFG/AFG_adm0.geojson\") as f:\n",
      "  afg_geojson = json.load(f)\n",
      "deu_poly = shape(deu_geojson['features'][0]['geometry'])\n",
      "afg_poly = shape(afg_geojson['features'][0]['geometry'])\n",
      "deu_centroid = deu_poly.centroid.__geo_interface__['coordinates']\n",
      "afg_centroid = afg_poly.centroid.__geo_interface__['coordinates']"
     ],
     "language": "python",
     "metadata": {},
     "outputs": []
    },
    {
     "cell_type": "code",
     "collapsed": false,
     "input": [
      "deu_refugee_list = refugees_list[33]\n",
      "deu_2002 = deu_refugee_list[0]\n",
      "total_points = int(deu_2002['value'])\n",
      "year = int(deu_2002['year'])"
     ],
     "language": "python",
     "metadata": {},
     "outputs": []
    },
    {
     "cell_type": "code",
     "collapsed": false,
     "input": [],
     "language": "python",
     "metadata": {},
     "outputs": []
    },
    {
     "cell_type": "code",
     "collapsed": false,
     "input": [
      "import datetime, random\n",
      "def random_month_day():\n",
      "    month = random.randint(1, 12)\n",
      "    if month == 2:\n",
      "        day = random.randint(1, 28)\n",
      "    elif month == 4 or month == 6 or month == 9 or month == 11:\n",
      "        day = random.randint(1, 30)\n",
      "    else:\n",
      "        day = random.randint(1,31)\n",
      "    return (month, day)\n",
      "\n",
      "def LonLatToPixelXY(lonlat):\n",
      "    (lon, lat) = lonlat\n",
      "    x = (lon + 180.0) * 256.0 / 360.0\n",
      "    y = 128.0 - math.log(math.tan((lat + 90.0) * math.pi / 360.0)) * 128.0 / math.pi\n",
      "    return [x, y]\n",
      "\n",
      "def YearMonthDayToEpoch(year, month, day):\n",
      "    return (datetime.datetime(int(year), int(month), int(day)) - datetime.datetime(1970, 1, 1)).total_seconds()\n"
     ],
     "language": "python",
     "metadata": {},
     "outputs": [],
     "prompt_number": 68
    },
    {
     "cell_type": "code",
     "collapsed": false,
     "input": [
      "points = []\n",
      "for i in range(0, total_points):\n",
      "    points += LonLatToPixelXY(afg_centroid)\n",
      "    points += LonLatToPixelXY(deu_centroid)\n",
      "    month, day = random_month_day()\n",
      "    points.append(YearMonthDayToEpoch(year, month, day))"
     ],
     "language": "python",
     "metadata": {},
     "outputs": []
    },
    {
     "cell_type": "code",
     "collapsed": false,
     "input": [
      "array.array('f', points).tofile(open(\"afg-deu-points.bin\", 'w'))"
     ],
     "language": "python",
     "metadata": {},
     "outputs": []
    },
    {
     "cell_type": "code",
     "collapsed": false,
     "input": [
      "points[0:5]"
     ],
     "language": "python",
     "metadata": {},
     "outputs": []
    },
    {
     "cell_type": "code",
     "collapsed": false,
     "input": [
      "int(13/3.1)"
     ],
     "language": "python",
     "metadata": {},
     "outputs": []
    },
    {
     "cell_type": "code",
     "collapsed": false,
     "input": [
      "points = []\n",
      "for deu_refugee in deu_refugee_list:\n",
      "    total_points = int(deu_refugee['value'])\n",
      "    year = int(deu_refugee['year'])\n",
      "    for i in range(0, int(total_points*.02)):\n",
      "        points += LonLatToPixelXY(afg_centroid)\n",
      "        points += LonLatToPixelXY(deu_centroid)\n",
      "        month, day = random_month_day()\n",
      "        points.append(YearMonthDayToEpoch(year, month, day))"
     ],
     "language": "python",
     "metadata": {},
     "outputs": []
    },
    {
     "cell_type": "code",
     "collapsed": false,
     "input": [
      "array.array('f', points).tofile(open(\"afg-deu-points.bin\", 'w'))"
     ],
     "language": "python",
     "metadata": {},
     "outputs": []
    },
    {
     "cell_type": "code",
     "collapsed": false,
     "input": [
      "deu_refugee"
     ],
     "language": "python",
     "metadata": {},
     "outputs": []
    },
    {
     "cell_type": "code",
     "collapsed": false,
     "input": [
      "# Download the country shapefiles for all countries"
     ],
     "language": "python",
     "metadata": {},
     "outputs": []
    },
    {
     "cell_type": "code",
     "collapsed": false,
     "input": [
      "# Get the list of countries\n",
      "countries_list_url = \"http://data.unhcr.org/api/countries/list.json\"\n",
      "countries_list = get_json(countries_list_url)"
     ],
     "language": "python",
     "metadata": {},
     "outputs": []
    },
    {
     "cell_type": "code",
     "collapsed": false,
     "input": [
      "def download_file(url, filename):\n",
      "    command = \"curl %s --create-dirs -o %s\" % (url, filename)\n",
      "    print \"Downloading %s to %s\" % (url, filename)\n",
      "    !$command\n",
      "\n",
      "def unzip_file(filename, exdir):\n",
      "    command = \"unzip %s -d %s\" % (filename, exdir)\n",
      "    !$command\n",
      "\n",
      "def shp_to_geojson(country_name):\n",
      "    command = \"ogr2ogr -f GeoJSON -t_srs crs:84 capture/%s/%s_adm0.geojson capture/%s/%s_adm0.shp\" % (country_name, country_name, country_name, country_name)\n",
      "    !$command    "
     ],
     "language": "python",
     "metadata": {},
     "outputs": [],
     "prompt_number": 58
    },
    {
     "cell_type": "code",
     "collapsed": false,
     "input": [
      "# Download the countries\n",
      "for country in countries_list:\n",
      "    url = \"http://biogeo.ucdavis.edu/data/gadm2.8/shp/%s_adm_shp.zip\" % country['country_code']\n",
      "    filename = \"capture/%s/%s_adm_shp.zip\" % (country['country_code'], country['country_code'])\n",
      "    download_file(url, filename)"
     ],
     "language": "python",
     "metadata": {},
     "outputs": []
    },
    {
     "cell_type": "code",
     "collapsed": false,
     "input": [
      "# Unzip the countries\n",
      "for country in countries_list:\n",
      "    filename = \"capture/%s/%s_adm_shp.zip\" % (country['country_code'], country['country_code'])\n",
      "    exdir = \"capture/%s\" % country['country_code']\n",
      "    unzip_file(filename, exdir)"
     ],
     "language": "python",
     "metadata": {},
     "outputs": []
    },
    {
     "cell_type": "code",
     "collapsed": false,
     "input": [
      "# Convert shapefile to geojson\n",
      "for country in countries_list:\n",
      "    shp_to_geojson(country['country_code'])"
     ],
     "language": "python",
     "metadata": {},
     "outputs": [
      {
       "output_type": "stream",
       "stream": "stdout",
       "text": [
        "ERROR 6: The GeoJSON driver does not overwrite existing files.\r\n",
        "GeoJSON driver failed to create capture/AFG/AFG_adm0.geojson\r\n"
       ]
      },
      {
       "output_type": "stream",
       "stream": "stdout",
       "text": [
        "FAILURE:\r\n",
        "Unable to open datasource `capture/ANT/ANT_adm0.shp' with the following drivers.\r\n",
        "  -> ESRI Shapefile\r\n",
        "  -> MapInfo File\r\n",
        "  -> UK .NTF\r\n",
        "  -> SDTS\r\n",
        "  -> TIGER\r\n",
        "  -> S57\r\n",
        "  -> DGN\r\n",
        "  -> VRT\r\n",
        "  -> REC\r\n",
        "  -> Memory\r\n",
        "  -> BNA\r\n",
        "  -> CSV\r\n",
        "  -> NAS\r\n",
        "  -> GML\r\n",
        "  -> GPX\r\n",
        "  -> KML\r\n",
        "  -> GeoJSON\r\n",
        "  -> Interlis 1\r\n",
        "  -> Interlis 2\r\n",
        "  -> GMT\r\n",
        "  -> GPKG\r\n",
        "  -> SQLite\r\n",
        "  -> DODS\r\n",
        "  -> ODBC\r\n",
        "  -> WAsP\r\n",
        "  -> PGeo\r\n",
        "  -> MSSQLSpatial\r\n",
        "  -> PCIDSK\r\n",
        "  -> OpenFileGDB\r\n",
        "  -> XPlane\r\n",
        "  -> AVCBin\r\n",
        "  -> AVCE00\r\n",
        "  -> DXF\r\n",
        "  -> Geoconcept\r\n",
        "  -> GeoRSS\r\n",
        "  -> GPSTrackMaker\r\n",
        "  -> VFK\r\n",
        "  -> PGDump\r\n",
        "  -> OSM\r\n",
        "  -> GPSBabel\r\n",
        "  -> SUA\r\n",
        "  -> OpenAir\r\n",
        "  -> PDS\r\n",
        "  -> WFS\r\n",
        "  -> HTF\r\n",
        "  -> AeronavFAA\r\n",
        "  -> Geomedia\r\n",
        "  -> EDIGEO\r\n",
        "  -> GFT\r\n",
        "  -> GME\r\n",
        "  -> SVG\r\n",
        "  -> CouchDB\r\n",
        "  -> Idrisi\r\n",
        "  -> ARCGEN\r\n",
        "  -> SEGUKOOA\r\n",
        "  -> SEGY\r\n",
        "  -> XLS\r\n",
        "  -> ODS\r\n",
        "  -> XLSX\r\n",
        "  -> ElasticSearch\r\n",
        "  -> PDF\r\n",
        "  -> Walk\r\n",
        "  -> CartoDB\r\n",
        "  -> SXF\r\n"
       ]
      },
      {
       "output_type": "stream",
       "stream": "stdout",
       "text": [
        "ERROR 6: The GeoJSON driver does not overwrite existing files.\r\n",
        "GeoJSON driver failed to create capture/AUT/AUT_adm0.geojson\r\n"
       ]
      },
      {
       "output_type": "stream",
       "stream": "stdout",
       "text": [
        "ERROR 6: The GeoJSON driver does not overwrite existing files.\r\n",
        "GeoJSON driver failed to create capture/DEU/DEU_adm0.geojson\r\n"
       ]
      },
      {
       "output_type": "stream",
       "stream": "stdout",
       "text": [
        "ERROR 6: The GeoJSON driver does not overwrite existing files.\r\n",
        "GeoJSON driver failed to create capture/LBY/LBY_adm0.geojson\r\n"
       ]
      },
      {
       "output_type": "stream",
       "stream": "stdout",
       "text": [
        "ERROR 6: The GeoJSON driver does not overwrite existing files.\r\n",
        "GeoJSON driver failed to create capture/PSE/PSE_adm0.geojson\r\n"
       ]
      },
      {
       "output_type": "stream",
       "stream": "stdout",
       "text": [
        "FAILURE:\r\n",
        "Unable to open datasource `capture/SCG/SCG_adm0.shp' with the following drivers.\r\n",
        "  -> ESRI Shapefile\r\n",
        "  -> MapInfo File\r\n",
        "  -> UK .NTF\r\n",
        "  -> SDTS\r\n",
        "  -> TIGER\r\n",
        "  -> S57\r\n",
        "  -> DGN\r\n",
        "  -> VRT\r\n",
        "  -> REC\r\n",
        "  -> Memory\r\n",
        "  -> BNA\r\n",
        "  -> CSV\r\n",
        "  -> NAS\r\n",
        "  -> GML\r\n",
        "  -> GPX\r\n",
        "  -> KML\r\n",
        "  -> GeoJSON\r\n",
        "  -> Interlis 1\r\n",
        "  -> Interlis 2\r\n",
        "  -> GMT\r\n",
        "  -> GPKG\r\n",
        "  -> SQLite\r\n",
        "  -> DODS\r\n",
        "  -> ODBC\r\n",
        "  -> WAsP\r\n",
        "  -> PGeo\r\n",
        "  -> MSSQLSpatial\r\n",
        "  -> PCIDSK\r\n",
        "  -> OpenFileGDB\r\n",
        "  -> XPlane\r\n",
        "  -> AVCBin\r\n",
        "  -> AVCE00\r\n",
        "  -> DXF\r\n",
        "  -> Geoconcept\r\n",
        "  -> GeoRSS\r\n",
        "  -> GPSTrackMaker\r\n",
        "  -> VFK\r\n",
        "  -> PGDump\r\n",
        "  -> OSM\r\n",
        "  -> GPSBabel\r\n",
        "  -> SUA\r\n",
        "  -> OpenAir\r\n",
        "  -> PDS\r\n",
        "  -> WFS\r\n",
        "  -> HTF\r\n",
        "  -> AeronavFAA\r\n",
        "  -> Geomedia\r\n",
        "  -> EDIGEO\r\n",
        "  -> GFT\r\n",
        "  -> GME\r\n",
        "  -> SVG\r\n",
        "  -> CouchDB\r\n",
        "  -> Idrisi\r\n",
        "  -> ARCGEN\r\n",
        "  -> SEGUKOOA\r\n",
        "  -> SEGY\r\n",
        "  -> XLS\r\n",
        "  -> ODS\r\n",
        "  -> XLSX\r\n",
        "  -> ElasticSearch\r\n",
        "  -> PDF\r\n",
        "  -> Walk\r\n",
        "  -> CartoDB\r\n",
        "  -> SXF\r\n"
       ]
      },
      {
       "output_type": "stream",
       "stream": "stdout",
       "text": [
        "ERROR 6: The GeoJSON driver does not overwrite existing files.\r\n",
        "GeoJSON driver failed to create capture/SDN/SDN_adm0.geojson\r\n"
       ]
      },
      {
       "output_type": "stream",
       "stream": "stdout",
       "text": [
        "FAILURE:\r\n",
        "Unable to open datasource `capture/SUN/SUN_adm0.shp' with the following drivers.\r\n",
        "  -> ESRI Shapefile\r\n",
        "  -> MapInfo File\r\n",
        "  -> UK .NTF\r\n",
        "  -> SDTS\r\n",
        "  -> TIGER\r\n",
        "  -> S57\r\n",
        "  -> DGN\r\n",
        "  -> VRT\r\n",
        "  -> REC\r\n",
        "  -> Memory\r\n",
        "  -> BNA\r\n",
        "  -> CSV\r\n",
        "  -> NAS\r\n",
        "  -> GML\r\n",
        "  -> GPX\r\n",
        "  -> KML\r\n",
        "  -> GeoJSON\r\n",
        "  -> Interlis 1\r\n",
        "  -> Interlis 2\r\n",
        "  -> GMT\r\n",
        "  -> GPKG\r\n",
        "  -> SQLite\r\n",
        "  -> DODS\r\n",
        "  -> ODBC\r\n",
        "  -> WAsP\r\n",
        "  -> PGeo\r\n",
        "  -> MSSQLSpatial\r\n",
        "  -> PCIDSK\r\n",
        "  -> OpenFileGDB\r\n",
        "  -> XPlane\r\n",
        "  -> AVCBin\r\n",
        "  -> AVCE00\r\n",
        "  -> DXF\r\n",
        "  -> Geoconcept\r\n",
        "  -> GeoRSS\r\n",
        "  -> GPSTrackMaker\r\n",
        "  -> VFK\r\n",
        "  -> PGDump\r\n",
        "  -> OSM\r\n",
        "  -> GPSBabel\r\n",
        "  -> SUA\r\n",
        "  -> OpenAir\r\n",
        "  -> PDS\r\n",
        "  -> WFS\r\n",
        "  -> HTF\r\n",
        "  -> AeronavFAA\r\n",
        "  -> Geomedia\r\n",
        "  -> EDIGEO\r\n",
        "  -> GFT\r\n",
        "  -> GME\r\n",
        "  -> SVG\r\n",
        "  -> CouchDB\r\n",
        "  -> Idrisi\r\n",
        "  -> ARCGEN\r\n",
        "  -> SEGUKOOA\r\n",
        "  -> SEGY\r\n",
        "  -> XLS\r\n",
        "  -> ODS\r\n",
        "  -> XLSX\r\n",
        "  -> ElasticSearch\r\n",
        "  -> PDF\r\n",
        "  -> Walk\r\n",
        "  -> CartoDB\r\n",
        "  -> SXF\r\n"
       ]
      },
      {
       "output_type": "stream",
       "stream": "stdout",
       "text": [
        "FAILURE:\r\n",
        "Unable to open datasource `capture/XKS/XKS_adm0.shp' with the following drivers.\r\n",
        "  -> ESRI Shapefile\r\n",
        "  -> MapInfo File\r\n",
        "  -> UK .NTF\r\n",
        "  -> SDTS\r\n",
        "  -> TIGER\r\n",
        "  -> S57\r\n",
        "  -> DGN\r\n",
        "  -> VRT\r\n",
        "  -> REC\r\n",
        "  -> Memory\r\n",
        "  -> BNA\r\n",
        "  -> CSV\r\n",
        "  -> NAS\r\n",
        "  -> GML\r\n",
        "  -> GPX\r\n",
        "  -> KML\r\n",
        "  -> GeoJSON\r\n",
        "  -> Interlis 1\r\n",
        "  -> Interlis 2\r\n",
        "  -> GMT\r\n",
        "  -> GPKG\r\n",
        "  -> SQLite\r\n",
        "  -> DODS\r\n",
        "  -> ODBC\r\n",
        "  -> WAsP\r\n",
        "  -> PGeo\r\n",
        "  -> MSSQLSpatial\r\n",
        "  -> PCIDSK\r\n",
        "  -> OpenFileGDB\r\n",
        "  -> XPlane\r\n",
        "  -> AVCBin\r\n",
        "  -> AVCE00\r\n",
        "  -> DXF\r\n",
        "  -> Geoconcept\r\n",
        "  -> GeoRSS\r\n",
        "  -> GPSTrackMaker\r\n",
        "  -> VFK\r\n",
        "  -> PGDump\r\n",
        "  -> OSM\r\n",
        "  -> GPSBabel\r\n",
        "  -> SUA\r\n",
        "  -> OpenAir\r\n",
        "  -> PDS\r\n",
        "  -> WFS\r\n",
        "  -> HTF\r\n",
        "  -> AeronavFAA\r\n",
        "  -> Geomedia\r\n",
        "  -> EDIGEO\r\n",
        "  -> GFT\r\n",
        "  -> GME\r\n",
        "  -> SVG\r\n",
        "  -> CouchDB\r\n",
        "  -> Idrisi\r\n",
        "  -> ARCGEN\r\n",
        "  -> SEGUKOOA\r\n",
        "  -> SEGY\r\n",
        "  -> XLS\r\n",
        "  -> ODS\r\n",
        "  -> XLSX\r\n",
        "  -> ElasticSearch\r\n",
        "  -> PDF\r\n",
        "  -> Walk\r\n",
        "  -> CartoDB\r\n",
        "  -> SXF\r\n"
       ]
      },
      {
       "output_type": "stream",
       "stream": "stdout",
       "text": [
        "FAILURE:\r\n",
        "Unable to open datasource `capture/YUG/YUG_adm0.shp' with the following drivers.\r\n",
        "  -> ESRI Shapefile\r\n",
        "  -> MapInfo File\r\n",
        "  -> UK .NTF\r\n",
        "  -> SDTS\r\n",
        "  -> TIGER\r\n",
        "  -> S57\r\n",
        "  -> DGN\r\n",
        "  -> VRT\r\n",
        "  -> REC\r\n",
        "  -> Memory\r\n",
        "  -> BNA\r\n",
        "  -> CSV\r\n",
        "  -> NAS\r\n",
        "  -> GML\r\n",
        "  -> GPX\r\n",
        "  -> KML\r\n",
        "  -> GeoJSON\r\n",
        "  -> Interlis 1\r\n",
        "  -> Interlis 2\r\n",
        "  -> GMT\r\n",
        "  -> GPKG\r\n",
        "  -> SQLite\r\n",
        "  -> DODS\r\n",
        "  -> ODBC\r\n",
        "  -> WAsP\r\n",
        "  -> PGeo\r\n",
        "  -> MSSQLSpatial\r\n",
        "  -> PCIDSK\r\n",
        "  -> OpenFileGDB\r\n",
        "  -> XPlane\r\n",
        "  -> AVCBin\r\n",
        "  -> AVCE00\r\n",
        "  -> DXF\r\n",
        "  -> Geoconcept\r\n",
        "  -> GeoRSS\r\n",
        "  -> GPSTrackMaker\r\n",
        "  -> VFK\r\n",
        "  -> PGDump\r\n",
        "  -> OSM\r\n",
        "  -> GPSBabel\r\n",
        "  -> SUA\r\n",
        "  -> OpenAir\r\n",
        "  -> PDS\r\n",
        "  -> WFS\r\n",
        "  -> HTF\r\n",
        "  -> AeronavFAA\r\n",
        "  -> Geomedia\r\n",
        "  -> EDIGEO\r\n",
        "  -> GFT\r\n",
        "  -> GME\r\n",
        "  -> SVG\r\n",
        "  -> CouchDB\r\n",
        "  -> Idrisi\r\n",
        "  -> ARCGEN\r\n",
        "  -> SEGUKOOA\r\n",
        "  -> SEGY\r\n",
        "  -> XLS\r\n",
        "  -> ODS\r\n",
        "  -> XLSX\r\n",
        "  -> ElasticSearch\r\n",
        "  -> PDF\r\n",
        "  -> Walk\r\n",
        "  -> CartoDB\r\n",
        "  -> SXF\r\n"
       ]
      },
      {
       "output_type": "stream",
       "stream": "stdout",
       "text": [
        "FAILURE:\r\n",
        "Unable to open datasource `capture/ZAR/ZAR_adm0.shp' with the following drivers.\r\n",
        "  -> ESRI Shapefile\r\n",
        "  -> MapInfo File\r\n",
        "  -> UK .NTF\r\n",
        "  -> SDTS\r\n",
        "  -> TIGER\r\n",
        "  -> S57\r\n",
        "  -> DGN\r\n",
        "  -> VRT\r\n",
        "  -> REC\r\n",
        "  -> Memory\r\n",
        "  -> BNA\r\n",
        "  -> CSV\r\n",
        "  -> NAS\r\n",
        "  -> GML\r\n",
        "  -> GPX\r\n",
        "  -> KML\r\n",
        "  -> GeoJSON\r\n",
        "  -> Interlis 1\r\n",
        "  -> Interlis 2\r\n",
        "  -> GMT\r\n",
        "  -> GPKG\r\n",
        "  -> SQLite\r\n",
        "  -> DODS\r\n",
        "  -> ODBC\r\n",
        "  -> WAsP\r\n",
        "  -> PGeo\r\n",
        "  -> MSSQLSpatial\r\n",
        "  -> PCIDSK\r\n",
        "  -> OpenFileGDB\r\n",
        "  -> XPlane\r\n",
        "  -> AVCBin\r\n",
        "  -> AVCE00\r\n",
        "  -> DXF\r\n",
        "  -> Geoconcept\r\n",
        "  -> GeoRSS\r\n",
        "  -> GPSTrackMaker\r\n",
        "  -> VFK\r\n",
        "  -> PGDump\r\n",
        "  -> OSM\r\n",
        "  -> GPSBabel\r\n",
        "  -> SUA\r\n",
        "  -> OpenAir\r\n",
        "  -> PDS\r\n",
        "  -> WFS\r\n",
        "  -> HTF\r\n",
        "  -> AeronavFAA\r\n",
        "  -> Geomedia\r\n",
        "  -> EDIGEO\r\n",
        "  -> GFT\r\n",
        "  -> GME\r\n",
        "  -> SVG\r\n",
        "  -> CouchDB\r\n",
        "  -> Idrisi\r\n",
        "  -> ARCGEN\r\n",
        "  -> SEGUKOOA\r\n",
        "  -> SEGY\r\n",
        "  -> XLS\r\n",
        "  -> ODS\r\n",
        "  -> XLSX\r\n",
        "  -> ElasticSearch\r\n",
        "  -> PDF\r\n",
        "  -> Walk\r\n",
        "  -> CartoDB\r\n",
        "  -> SXF\r\n"
       ]
      }
     ],
     "prompt_number": 59
    },
    {
     "cell_type": "code",
     "collapsed": false,
     "input": [
      "time_series_all_years_url = \"http://data.unhcr.org/api/stats/time_series_all_years.json\"\n",
      "args = { 'population_type_code' : 'RF',  'country_of_origin' : 'AFG'}\n",
      "afg_list = get_json(time_series_all_years_url, args)"
     ],
     "language": "python",
     "metadata": {},
     "outputs": [
      {
       "output_type": "stream",
       "stream": "stdout",
       "text": [
        "{u'country_of_origin': u'AFG', u'value': u'6', u'country_of_residence': u'ARE', u'country_of_residence_en': u'United Arab Emirates', u'year': 2001, u'country_of_origin_en': u'Afghanistan'}\n"
       ]
      }
     ],
     "prompt_number": 27
    },
    {
     "cell_type": "code",
     "collapsed": false,
     "input": [
      "countries = {}\n",
      "for val in afg_list:\n",
      "    if not countries.has_key(val['country_of_residence']):\n",
      "        countries[val['country_of_residence']] = 0\n",
      "    countries[val['country_of_residence']] += 0 if val['value'] == None else float(val['value'])"
     ],
     "language": "python",
     "metadata": {},
     "outputs": [],
     "prompt_number": 42
    },
    {
     "cell_type": "code",
     "collapsed": false,
     "input": [
      "import operator\n",
      "sorted_countries = sorted(countries.items(), key=operator.itemgetter(1))\n"
     ],
     "language": "python",
     "metadata": {},
     "outputs": [],
     "prompt_number": 50
    },
    {
     "cell_type": "code",
     "collapsed": false,
     "input": [
      "sorted_countries"
     ],
     "language": "python",
     "metadata": {},
     "outputs": [
      {
       "metadata": {},
       "output_type": "pyout",
       "prompt_number": 51,
       "text": [
        "[(u'MNG', 0),\n",
        " (u'ZMB', 0),\n",
        " (u'LBY', 1.0),\n",
        " (u'DZA', 2.0),\n",
        " (u'BOL', 2.0),\n",
        " (u'COL', 2.0),\n",
        " (u'SGP', 2.0),\n",
        " (u'ARG', 2.0),\n",
        " (u'PAN', 3.0),\n",
        " (u'CYM', 3.0),\n",
        " (u'SCG', 4.0),\n",
        " (u'FJI', 4.0),\n",
        " (u'NGA', 5.0),\n",
        " (u'PNG', 5.0),\n",
        " (u'NPL', 8.0),\n",
        " (u'MKD', 8.0),\n",
        " (u'BGD', 9.0),\n",
        " (u'MOZ', 9.0),\n",
        " (u'KEN', 9.0),\n",
        " (u'CRI', 12.0),\n",
        " (u'VEN', 12.0),\n",
        " (u'IRQ', 13.0),\n",
        " (u'PHL', 16.0),\n",
        " (u'TCD', 17.0),\n",
        " (u'YUG', 20.0),\n",
        " (u'HKG', 24.0),\n",
        " (u'ETH', 24.0),\n",
        " (u'ISL', 31.0),\n",
        " (u'LUX', 32.0),\n",
        " (u'GEO', 39.0),\n",
        " (u'MEX', 39.0),\n",
        " (u'ARE', 41.0),\n",
        " (u'MAR', 48.0),\n",
        " (u'LKA', 49.0),\n",
        " (u'KOR', 51.0),\n",
        " (u'JOR', 59.0),\n",
        " (u'KHM', 64.0),\n",
        " (u'SVN', 65.0),\n",
        " (u'HRV', 66.0),\n",
        " (u'CYP', 72.0),\n",
        " (u'PRT', 78.0),\n",
        " (u'MLT', 80.0),\n",
        " (u'CHN', 81.0),\n",
        " (u'THA', 89.0),\n",
        " (u'EST', 102.0),\n",
        " (u'LVA', 112.0),\n",
        " (u'CUB', 119.0),\n",
        " (u'CIV', 123.0),\n",
        " (u'MDA', 133.0),\n",
        " (u'CHL', 158.0),\n",
        " (u'BRA', 204.0),\n",
        " (u'ZAF', 226.0),\n",
        " (u'QAT', 280.0),\n",
        " (u'LBN', 319.0),\n",
        " (u'ZWE', 350.0),\n",
        " (u'EGY', 358.0),\n",
        " (u'KWT', 454.0),\n",
        " (u'SAU', 512.0),\n",
        " (u'JPN', 725.0),\n",
        " (u'ECU', 957.0),\n",
        " (u'POL', 1021.0),\n",
        " (u'ESP', 1293.0),\n",
        " (u'LTU', 1380.0),\n",
        " (u'IRL', 1403.0),\n",
        " (u'MYS', 2003.0),\n",
        " (u'SVK', 2075.0),\n",
        " (u'GRC', 2805.0),\n",
        " (u'ROU', 3001.0),\n",
        " (u'CZE', 3200.0),\n",
        " (u'IDN', 3479.0),\n",
        " (u'AZE', 4170.0),\n",
        " (u'NZL', 5934.0),\n",
        " (u'BLR', 6254.0),\n",
        " (u'KGZ', 6492.0),\n",
        " (u'TKM', 8200.0),\n",
        " (u'BEL', 10063.0),\n",
        " (u'SYR', 10306.0),\n",
        " (u'KAZ', 13275.0),\n",
        " (u'TUR', 13766.0),\n",
        " (u'FIN', 13874.0),\n",
        " (u'UKR', 19382.0),\n",
        " (u'RUS', 19846.0),\n",
        " (u'FRA', 22481.0),\n",
        " (u'BGR', 22510.0),\n",
        " (u'HUN', 23183.0),\n",
        " (u'CHE', 24093.0),\n",
        " (u'ITA', 27802.0),\n",
        " (u'UZB', 43724.0),\n",
        " (u'NOR', 53704.0),\n",
        " (u'TJK', 57345.0),\n",
        " (u'SWE', 63022.0),\n",
        " (u'DNK', 67447.0),\n",
        " (u'AUT', 67768.0),\n",
        " (u'USA', 72865.0),\n",
        " (u'AUS', 90321.0),\n",
        " (u'CAN', 113582.0),\n",
        " (u'IND', 139515.0),\n",
        " (u'NLD', 239416.0),\n",
        " (u'GBR', 258001.0),\n",
        " (u'DEU', 387216.0),\n",
        " (u'IRN', 14061208.0),\n",
        " (u'PAK', 21228791.0)]"
       ]
      }
     ],
     "prompt_number": 51
    },
    {
     "cell_type": "code",
     "collapsed": false,
     "input": [
      "geojson = {}\n",
      "polys = {}\n",
      "centroids = {}\n",
      "for val in afg_list:\n",
      "    if countries[val['country_of_residence']] > 10000:\n",
      "        if not geojson.has_key(val['country_of_residence']):\n",
      "            filename = \"capture/%s/%s_adm0.geojson\" % (val['country_of_residence'], val['country_of_residence'])\n",
      "            with open(filename) as f:\n",
      "                geojson[val['country_of_residence']] = json.load(f)\n",
      "                polys[val['country_of_residence']] = shape(geojson[val['country_of_residence']]['features'][0]['geometry'])\n",
      "                centroids[val['country_of_residence']] = polys[val['country_of_residence']].centroid.__geo_interface__['coordinates']\n",
      "\n"
     ],
     "language": "python",
     "metadata": {},
     "outputs": [],
     "prompt_number": 62
    },
    {
     "cell_type": "code",
     "collapsed": false,
     "input": [
      "country_name = 'AFG'\n",
      "filename = \"capture/%s/%s_adm0.geojson\" % (country_name, country_name)\n",
      "with open(filename) as f:\n",
      "    geojson[country_name] = json.load(f)\n",
      "    polys[country_name] = shape(geojson[country_name]['features'][0]['geometry'])\n",
      "    centroids[country_name] = polys[country_name].centroid.__geo_interface__['coordinates']"
     ],
     "language": "python",
     "metadata": {},
     "outputs": [],
     "prompt_number": 65
    },
    {
     "cell_type": "code",
     "collapsed": false,
     "input": [
      "points = []\n",
      "for val in afg_list:\n",
      "    if countries[val['country_of_residence']] > 10000:\n",
      "        year = int(val['year'])\n",
      "        points += LonLatToPixelXY(centroids['AFG'])\n",
      "        points.append(YearMonthDayToEpoch(year, 1, 1))        \n",
      "        points += LonLatToPixelXY(centroids[val['country_of_residence']])\n",
      "        points.append(YearMonthDayToEpoch(year, 1, 1))"
     ],
     "language": "python",
     "metadata": {},
     "outputs": [],
     "prompt_number": 76
    },
    {
     "cell_type": "code",
     "collapsed": false,
     "input": [
      "array.array('f', points).tofile(open(\"afg-lines.bin\", 'w'))"
     ],
     "language": "python",
     "metadata": {},
     "outputs": [],
     "prompt_number": 77
    },
    {
     "cell_type": "code",
     "collapsed": false,
     "input": [],
     "language": "python",
     "metadata": {},
     "outputs": []
    }
   ],
   "metadata": {}
  }
 ]
}