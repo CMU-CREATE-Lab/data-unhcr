{
 "metadata": {
  "name": "",
  "signature": "sha256:e15e17f1987948f5a7a092359aa1995f0c738d3b6617852225898e796a37a932"
 },
 "nbformat": 3,
 "nbformat_minor": 0,
 "worksheets": [
  {
   "cells": [
    {
     "cell_type": "code",
     "collapsed": false,
     "input": [
      "import array, csv, json, math, random, urllib, urllib2\n",
      "from shapely.geometry import shape, box, Polygon, Point, LineString\n",
      "from shapely.wkb import loads\n",
      "from operator import itemgetter\n",
      "\n",
      "from random import uniform\n",
      "\n",
      "def get_json(url, qsa=None):\n",
      "    if qsa != None:\n",
      "        args = urllib.urlencode(qsa)\n",
      "        url += \"?\"\n",
      "        url += args\n",
      "    response = urllib2.urlopen(url)\n",
      "    data = json.load(response)   \n",
      "    return data\n",
      "\n",
      "def LngLatToPixelXY(lnglat, scale = 1.):\n",
      "    (lng, lat) = lnglat\n",
      "    x = (lng + 180.0) * 256.0 / 360.0\n",
      "    y = 128.0 - math.log(math.tan((lat + 90.0) * math.pi / 360.0)) * 128.0 / math.pi\n",
      "    return [x*scale, y*scale]\n",
      "\n",
      "# cow.txt from http://opengeocode.org/download/cow.php\n",
      "\n",
      "import datetime, random\n",
      "def random_month_day(month = None):\n",
      "    if month == None:\n",
      "        month = random.randint(1, 12)\n",
      "    if month == 2:\n",
      "        day = random.randint(1, 28)\n",
      "    elif month == 4 or month == 6 or month == 9 or month == 11:\n",
      "        day = random.randint(1, 30)\n",
      "    else:\n",
      "        day = random.randint(1,31)\n",
      "    return (month, day)\n",
      "\n",
      "def LonLatToPixelXY(lonlat):\n",
      "    (lon, lat) = lonlat\n",
      "    x = (lon + 180.0) * 256.0 / 360.0\n",
      "    y = 128.0 - math.log(math.tan((lat + 90.0) * math.pi / 360.0)) * 128.0 / math.pi\n",
      "    return [x, y]\n",
      "\n",
      "def YearMonthDayToEpoch(year, month, day):\n",
      "    return (datetime.datetime(int(year), int(month), int(day)) - datetime.datetime(1970, 1, 1)).total_seconds()\n",
      "\n",
      "def split_list(alist, wanted_parts=1):\n",
      "    length = len(alist)\n",
      "    return [ alist[i*length // wanted_parts: (i+1)*length // wanted_parts] \n",
      "             for i in range(wanted_parts) ]\n",
      "\n",
      "def randomMercatorPoints(coo, count, contain = True):\n",
      "    if coo == \"CHN\" or coo == \"KAZ\" or coo == \"IND\" or coo == \"AUS\" or coo == \"RUS\" or coo == \"BRA\" or coo == \"USA\" or coo == \"CAN\" or coo == \"ARG\" or coo == \"DZA\":\n",
      "        max_area = 0\n",
      "        max_geom = None\n",
      "        for geom in polys[coo].geoms:\n",
      "            if geom.area > max_area:\n",
      "                max_area = geom.area\n",
      "                max_geom = geom        \n",
      "        distance = -1.0\n",
      "        if val == \"CHN\":\n",
      "           distance = -5.5\n",
      "        if val == \"KAZ\":\n",
      "           distance = -2.0\n",
      "        if val == \"IND\":\n",
      "           distance = -2.0\n",
      "        if val == \"AUS\":\n",
      "           distance = -5.0\n",
      "        if val == \"RUS\":\n",
      "           distance = -9.0\n",
      "        if val == \"BRA\":\n",
      "           distance = -6.0\n",
      "        if val == \"USA\":\n",
      "           distance = -6.0\n",
      "        if val == \"CAN\":\n",
      "           distance = -6.0\n",
      "        if val == \"ARG\":\n",
      "           distance = -2.0\n",
      "        if val == \"DZA\":\n",
      "           distance = -1.0\n",
      "        poly = max_geom.buffer(distance)                \n",
      "    else:\n",
      "        poly = polys[coo]\n",
      "    bbox = poly.bounds\n",
      "    l,b,r,t = bbox\n",
      "    points = []\n",
      "    for i in range(0, count):\n",
      "        while True:\n",
      "            point = Point(random.uniform(l,r),random.uniform(t,b))\n",
      "            if point is None:\n",
      "                break\n",
      "            if contain and poly.contains(point):\n",
      "                break\n",
      "            if not contain:\n",
      "                break\n",
      "        points.append(LngLatToPixelXY(point.__geo_interface__['coordinates']))\n",
      "    return points\n"
     ],
     "language": "python",
     "metadata": {},
     "outputs": [],
     "prompt_number": 1
    },
    {
     "cell_type": "code",
     "collapsed": false,
     "input": [
      "import csv\n",
      "cow = []\n",
      "with open('cow.csv') as csvfile:\n",
      "     reader = csv.DictReader(csvfile, delimiter=\";\")\n",
      "     for row in reader:\n",
      "            cow.append(row)\n",
      "print \"ISO:%s LNG: %s LAT %s\" %  (cow[0]['ISO3166A3'], cow[0]['longitude'], cow[0]['latitude'])\n"
     ],
     "language": "python",
     "metadata": {},
     "outputs": []
    },
    {
     "cell_type": "code",
     "collapsed": false,
     "input": [
      "countries_list_url = \"http://data.unhcr.org/api/countries/list.json\"\n",
      "countries_list = get_json(countries_list_url)\n",
      "print countries_list[0]"
     ],
     "language": "python",
     "metadata": {},
     "outputs": []
    },
    {
     "cell_type": "code",
     "collapsed": false,
     "input": [
      "origin_url = \"http://data.unhcr.org/api/stats/origin.json\"\n",
      "origin_list = get_json(origin_url)\n",
      "print origin_list[0]"
     ],
     "language": "python",
     "metadata": {},
     "outputs": []
    },
    {
     "cell_type": "code",
     "collapsed": false,
     "input": [
      "population_types_url = \"http://data.unhcr.org/api/stats/time_series_population_types.json\"\n",
      "population_types_list = get_json(population_types_url)\n",
      "print population_types_list"
     ],
     "language": "python",
     "metadata": {},
     "outputs": []
    },
    {
     "cell_type": "code",
     "collapsed": false,
     "input": [
      "time_series_all_years_url = \"http://data.unhcr.org/api/stats/time_series_all_years.json\"\n",
      "args = { 'population_type_code' : 'RF',  'country_of_origin' : 'AFG', 'country_of_residence': 'CHE'}\n",
      "time_series_all_years_afg_list = get_json(time_series_all_years_url, args)\n",
      "print time_series_all_years_afg_list[0]"
     ],
     "language": "python",
     "metadata": {},
     "outputs": []
    },
    {
     "cell_type": "code",
     "collapsed": false,
     "input": [
      "for val in time_series_all_years_afg_list:\n",
      "    print \"%s %s\" % (val['year'], val['value'])"
     ],
     "language": "python",
     "metadata": {},
     "outputs": []
    },
    {
     "cell_type": "code",
     "collapsed": false,
     "input": [
      "for country in cow:\n",
      "    if country['ISO3166A3'] == \" CHE\":\n",
      "        lng, lat = float(country['longitude']), float(country['latitude'])\n",
      "        break"
     ],
     "language": "python",
     "metadata": {},
     "outputs": []
    },
    {
     "cell_type": "code",
     "collapsed": false,
     "input": [
      "points = []\n",
      "for i in range(0,13):\n",
      "    x, y = LngLatToPixelXY((lng, lat))\n",
      "    points += [x, y,\n",
      "               float(time_series_all_years_afg_list[i]['value']),\n",
      "               float(time_series_all_years_afg_list[i+1]['value'])\n",
      "               ]\n",
      "points += [x, y,\n",
      "           float(time_series_all_years_afg_list[13]['value']),\n",
      "           float(time_series_all_years_afg_list[13]['value'])\n",
      "          ]"
     ],
     "language": "python",
     "metadata": {},
     "outputs": []
    },
    {
     "cell_type": "code",
     "collapsed": false,
     "input": [
      "points"
     ],
     "language": "python",
     "metadata": {},
     "outputs": []
    },
    {
     "cell_type": "code",
     "collapsed": false,
     "input": [
      "import array\n",
      "array.array('f', points).tofile(open(\"unhcr.bin\", 'w'))"
     ],
     "language": "python",
     "metadata": {},
     "outputs": []
    },
    {
     "cell_type": "code",
     "collapsed": false,
     "input": [
      "residence_url = \"http://data.unhcr.org/api/stats/country_of_residence.json\"\n",
      "residence_list = get_json(residence_url)\n",
      "print residence_list[0]\n"
     ],
     "language": "python",
     "metadata": {},
     "outputs": []
    },
    {
     "cell_type": "code",
     "collapsed": false,
     "input": [
      "def get_time_series_all_years(origin, residence):\n",
      "    time_series_all_years_url = \"http://data.unhcr.org/api/stats/time_series_all_years.json\"\n",
      "    args = { 'population_type_code' : 'RF',  'country_of_origin' : origin, 'country_of_residence': residence}\n",
      "    time_series_all_years_list = get_json(time_series_all_years_url, args)\n",
      "    return time_series_all_years_list\n",
      "\n",
      "def fill_values(cor, residence_list):\n",
      "    values = []\n",
      "    for i in range(2000, 2014):\n",
      "        value = {'country_of_residence': cor, 'value': 0, 'year': i}\n",
      "        values.append(value)\n",
      "    for residence in residence_list:\n",
      "        index = residence['year'] - 2000;\n",
      "        values[index]['value'] = residence['value']\n",
      "    return values\n",
      "\n",
      "def get_cow_lnglat(c):\n",
      "    for country in cow:\n",
      "        if country['ISO3166A3'] == \" \" + c:\n",
      "            lng, lat = float(country['longitude']), float(country['latitude'])\n",
      "            return (lng, lat)"
     ],
     "language": "python",
     "metadata": {},
     "outputs": []
    },
    {
     "cell_type": "code",
     "collapsed": false,
     "input": [
      "points = []\n",
      "refugees_list = []\n",
      "for residence in residence_list:\n",
      "    if residence['country_of_residence'] != 'AFG' and residence['country_of_residence'] != 'YUG' and residence['country_of_residence'] != 'SCG':\n",
      "        refugee_list = get_time_series_all_years('AFG', residence['country_of_residence'])\n",
      "        if len(refugee_list) > 0:\n",
      "            print \"%s %s\" % (residence['country_of_residence'], len(refugee_list))\n",
      "            refugees_list.append(refugee_list)\n",
      "            x, y = LngLatToPixelXY(get_cow_lnglat(residence['country_of_residence']))\n",
      "            for i in range(0,len(refugee_list) - 1):\n",
      "                points += [x, y,\n",
      "                           float(refugee_list[i]['year']),\n",
      "                           0 if refugee_list[i]['value'] == None else float(refugee_list[i]['value']),\n",
      "                           0 if refugee_list[i+1]['value'] == None else float(refugee_list[i+1]['value'])\n",
      "                           ]\n",
      "            points += [x, y,\n",
      "                       float(refugee_list[len(refugee_list) - 1]['year']),\n",
      "                       0 if refugee_list[len(refugee_list) - 1]['value'] == None else float(refugee_list[len(refugee_list) - 1]['value']),\n",
      "                       0 if refugee_list[len(refugee_list) - 1]['value'] == None else float(refugee_list[len(refugee_list) - 1]['value'])\n",
      "                      ]"
     ],
     "language": "python",
     "metadata": {},
     "outputs": []
    },
    {
     "cell_type": "code",
     "collapsed": false,
     "input": [
      "len(points)\n",
      "len(refugees_list)\n",
      "refugees_list[67]"
     ],
     "language": "python",
     "metadata": {},
     "outputs": []
    },
    {
     "cell_type": "code",
     "collapsed": false,
     "input": [
      "import array\n",
      "array.array('f', points).tofile(open(\"afg-unhcr.bin\", 'w'))"
     ],
     "language": "python",
     "metadata": {},
     "outputs": []
    },
    {
     "cell_type": "code",
     "collapsed": false,
     "input": [
      "import matplotlib.pyplot as plt\n",
      "plt.plot([1,2,3,4])\n",
      "plt.plot([0.5,2.5,3,4,5])\n",
      "\n",
      "plt.ylabel('somenumbers')\n",
      "plt.show()"
     ],
     "language": "python",
     "metadata": {},
     "outputs": []
    },
    {
     "cell_type": "code",
     "collapsed": false,
     "input": [
      "data = []\n",
      "for refugee_list in refugees_list:\n",
      "    for val in refugee_list:\n",
      "        value = 0 if val['value'] == None else int(val['value'])\n",
      "        data.append(value)"
     ],
     "language": "python",
     "metadata": {},
     "outputs": []
    },
    {
     "cell_type": "code",
     "collapsed": false,
     "input": [
      "import matplotlib.pyplot as plt\n",
      "plt.plot(sorted(data))\n",
      "plt.show()"
     ],
     "language": "python",
     "metadata": {},
     "outputs": []
    },
    {
     "cell_type": "code",
     "collapsed": false,
     "input": [
      "data"
     ],
     "language": "python",
     "metadata": {},
     "outputs": []
    },
    {
     "cell_type": "code",
     "collapsed": false,
     "input": [
      "from matplotlib.colors import LogNorm\n",
      "plt.hist(points, bins=10)\n",
      "plt.show()"
     ],
     "language": "python",
     "metadata": {},
     "outputs": []
    },
    {
     "cell_type": "code",
     "collapsed": false,
     "input": [
      "trimmed_data = []\n",
      "for refugee_list in refugees_list:\n",
      "    for val in refugee_list:\n",
      "        value = 0 if val['value'] == None else int(val['value'])\n",
      "        if value > 1000 and value < 100000:\n",
      "            trimmed_data.append(value)\n",
      "        else: \n",
      "            print val['country_of_residence']"
     ],
     "language": "python",
     "metadata": {},
     "outputs": []
    },
    {
     "cell_type": "code",
     "collapsed": false,
     "input": [
      "from matplotlib.colors import LogNorm\n",
      "plt.hist(trimmed_data, bins=10)\n",
      "plt.show()"
     ],
     "language": "python",
     "metadata": {},
     "outputs": []
    },
    {
     "cell_type": "code",
     "collapsed": false,
     "input": [
      "points = []\n",
      "for refugee_list in refugees_list:\n",
      "    include = False\n",
      "    for i in range(0, len(refugee_list)):\n",
      "        value = 0 if refugee_list[i]['value'] == None else int(refugee_list[i]['value'])\n",
      "#        if value > 1000 and value < 100000:\n",
      "        if value > 1000:\n",
      "            include = True\n",
      "            break;\n",
      "    if include:\n",
      "        x, y = LngLatToPixelXY(get_cow_lnglat(refugee_list[0]['country_of_residence']))\n",
      "        for i in range(0,len(refugee_list) - 1):\n",
      "            points += [x, y,\n",
      "                       float(refugee_list[i]['year']),\n",
      "                       0 if refugee_list[i]['value'] == None else float(refugee_list[i]['value']),\n",
      "                       0 if refugee_list[i+1]['value'] == None else float(refugee_list[i+1]['value'])\n",
      "                      ]\n",
      "            points += [x, y,\n",
      "                       float(refugee_list[len(refugee_list) - 1]['year']),\n",
      "                       0 if refugee_list[len(refugee_list) - 1]['value'] == None else float(refugee_list[len(refugee_list) - 1]['value']),\n",
      "                       0 if refugee_list[len(refugee_list) - 1]['value'] == None else float(refugee_list[len(refugee_list) - 1]['value'])\n",
      "                      ]        \n",
      " "
     ],
     "language": "python",
     "metadata": {},
     "outputs": []
    },
    {
     "cell_type": "code",
     "collapsed": false,
     "input": [
      "import array\n",
      "array.array('f', points).tofile(open(\"afg-unhcr.bin\", 'w'))"
     ],
     "language": "python",
     "metadata": {},
     "outputs": []
    },
    {
     "cell_type": "code",
     "collapsed": false,
     "input": [
      "from shapely.geometry import shape, Point\n",
      "from shapely.wkb import loads\n",
      "\n",
      "from random import uniform\n",
      "\n",
      "geom_cache = {}\n",
      "\n",
      "def randomPoint(poly):\n",
      "    bbox = poly.bounds\n",
      "    l,b,r,t = bbox\n",
      "    while True:\n",
      "        point = Point(random.uniform(l,r),random.uniform(t,b))\n",
      "        if point is None:\n",
      "            break\n",
      "        if poly.contains(point):\n",
      "            break\n",
      "    return point.__geo_interface__['coordinates']"
     ],
     "language": "python",
     "metadata": {},
     "outputs": [],
     "prompt_number": 153
    },
    {
     "cell_type": "code",
     "collapsed": false,
     "input": [
      "import csv\n",
      "cow = []\n",
      "with open('cow.csv') as csvfile:\n",
      "     reader = csv.DictReader(csvfile, delimiter=\";\")\n",
      "     for row in reader:\n",
      "            cow.append(row)\n",
      "\n"
     ],
     "language": "python",
     "metadata": {},
     "outputs": []
    },
    {
     "cell_type": "code",
     "collapsed": false,
     "input": [
      "for country in cow:\n",
      "    if country['ISO3166A3'] == \" AFG\":\n",
      "        print \"%s %s %s %s \" % (country['minlatitude'], country['minlongitude'], country['maxlatitude'], country['maxlongitude']) \n",
      "        break"
     ],
     "language": "python",
     "metadata": {},
     "outputs": []
    },
    {
     "cell_type": "code",
     "collapsed": false,
     "input": [
      "refugees_list[2] "
     ],
     "language": "python",
     "metadata": {},
     "outputs": []
    },
    {
     "cell_type": "code",
     "collapsed": false,
     "input": [
      "with open(\"capture/AUT/AUT_adm0.geojson\") as f:\n",
      "  aut_geojson = json.load(f)\n",
      "\n",
      "with open(\"capture/AFG/AFG_adm0.geojson\") as f:\n",
      "  afg_geojson = json.load(f)\n"
     ],
     "language": "python",
     "metadata": {},
     "outputs": [
      {
       "ename": "IOError",
       "evalue": "[Errno 2] No such file or directory: 'capture/AUT/AUT_adm0.geojson'",
       "output_type": "pyerr",
       "traceback": [
        "\u001b[0;31m---------------------------------------------------------------------------\u001b[0m\n\u001b[0;31mIOError\u001b[0m                                   Traceback (most recent call last)",
        "\u001b[0;32m<ipython-input-2-e3fb3602251a>\u001b[0m in \u001b[0;36m<module>\u001b[0;34m()\u001b[0m\n\u001b[0;32m----> 1\u001b[0;31m \u001b[0;32mwith\u001b[0m \u001b[0mopen\u001b[0m\u001b[0;34m(\u001b[0m\u001b[0;34m\"capture/AUT/AUT_adm0.geojson\"\u001b[0m\u001b[0;34m)\u001b[0m \u001b[0;32mas\u001b[0m \u001b[0mf\u001b[0m\u001b[0;34m:\u001b[0m\u001b[0;34m\u001b[0m\u001b[0m\n\u001b[0m\u001b[1;32m      2\u001b[0m   \u001b[0maut_geojson\u001b[0m \u001b[0;34m=\u001b[0m \u001b[0mjson\u001b[0m\u001b[0;34m.\u001b[0m\u001b[0mload\u001b[0m\u001b[0;34m(\u001b[0m\u001b[0mf\u001b[0m\u001b[0;34m)\u001b[0m\u001b[0;34m\u001b[0m\u001b[0m\n\u001b[1;32m      3\u001b[0m \u001b[0;34m\u001b[0m\u001b[0m\n\u001b[1;32m      4\u001b[0m \u001b[0;32mwith\u001b[0m \u001b[0mopen\u001b[0m\u001b[0;34m(\u001b[0m\u001b[0;34m\"capture/AFG/AFG_adm0.geojson\"\u001b[0m\u001b[0;34m)\u001b[0m \u001b[0;32mas\u001b[0m \u001b[0mf\u001b[0m\u001b[0;34m:\u001b[0m\u001b[0;34m\u001b[0m\u001b[0m\n\u001b[1;32m      5\u001b[0m   \u001b[0mafg_geojson\u001b[0m \u001b[0;34m=\u001b[0m \u001b[0mjson\u001b[0m\u001b[0;34m.\u001b[0m\u001b[0mload\u001b[0m\u001b[0;34m(\u001b[0m\u001b[0mf\u001b[0m\u001b[0;34m)\u001b[0m\u001b[0;34m\u001b[0m\u001b[0m\n",
        "\u001b[0;31mIOError\u001b[0m: [Errno 2] No such file or directory: 'capture/AUT/AUT_adm0.geojson'"
       ]
      }
     ],
     "prompt_number": 2
    },
    {
     "cell_type": "code",
     "collapsed": false,
     "input": [
      "aut_geojson['features'][0]['geometry']"
     ],
     "language": "python",
     "metadata": {},
     "outputs": []
    },
    {
     "cell_type": "code",
     "collapsed": false,
     "input": [
      "randomPoint(aut_geojson['features'][0]['geometry'])"
     ],
     "language": "python",
     "metadata": {},
     "outputs": []
    },
    {
     "cell_type": "code",
     "collapsed": false,
     "input": [
      "aut_refugees_list = refugees_list[2] "
     ],
     "language": "python",
     "metadata": {},
     "outputs": []
    },
    {
     "cell_type": "code",
     "collapsed": false,
     "input": [
      "max_pop = 0\n",
      "for year in aut_refugees_list:\n",
      "    if int(year['value']) > max_pop:\n",
      "        max_pop = int(year['value'])\n",
      "print max_pop\n"
     ],
     "language": "python",
     "metadata": {},
     "outputs": []
    },
    {
     "cell_type": "code",
     "collapsed": false,
     "input": [
      "data = []\n",
      "poly = shape(aut_geojson['features'][0]['geometry'])\n",
      "for i in range(0, max_pop):\n",
      "    aut_point = randomPoint(poly)\n",
      "    data += LngLatToPixelXY(aut_point)\n",
      "    data.append(float(i))\n",
      "    \n"
     ],
     "language": "python",
     "metadata": {},
     "outputs": []
    },
    {
     "cell_type": "code",
     "collapsed": false,
     "input": [
      "array.array('f', data).tofile(open(\"afg-aut-unhcr.bin\", 'w'))"
     ],
     "language": "python",
     "metadata": {},
     "outputs": []
    },
    {
     "cell_type": "code",
     "collapsed": false,
     "input": [
      "points = []\n",
      "for i in range(0,len(aut_refugees_list) - 1):\n",
      "            points.append([float(aut_refugees_list[i]['year']),\n",
      "                       0 if aut_refugees_list[i]['value'] == None else float(aut_refugees_list[i]['value']),\n",
      "                       0 if aut_refugees_list[i+1]['value'] == None else float(aut_refugees_list[i+1]['value'])\n",
      "                      ])\n",
      "points.append([float(aut_refugees_list[len(aut_refugees_list) - 1]['year']),\n",
      "           0 if aut_refugees_list[len(aut_refugees_list) - 1]['value'] == None else float(aut_refugees_list[len(aut_refugees_list) - 1]['value']),\n",
      "           0 if aut_refugees_list[len(aut_refugees_list) - 1]['value'] == None else float(aut_refugees_list[len(aut_refugees_list) - 1]['value'])\n",
      "          ])        \n",
      "json.dumps(points)"
     ],
     "language": "python",
     "metadata": {},
     "outputs": []
    },
    {
     "cell_type": "code",
     "collapsed": false,
     "input": [
      "countries = {}\n",
      "for refugee_list in refugees_list:\n",
      "    for vals in refugee_list:\n",
      "        if not countries.has_key(vals['country_of_residence']):\n",
      "            countries[vals['country_of_residence']] = 0\n",
      "        countries[vals['country_of_residence']] += 0 if vals['value'] == None else float(vals['value'])\n",
      "            "
     ],
     "language": "python",
     "metadata": {},
     "outputs": []
    },
    {
     "cell_type": "code",
     "collapsed": false,
     "input": [
      "countries"
     ],
     "language": "python",
     "metadata": {},
     "outputs": []
    },
    {
     "cell_type": "code",
     "collapsed": false,
     "input": [
      "import operator\n",
      "sorted_countries = sorted(countries.items(), key=operator.itemgetter(1))\n"
     ],
     "language": "python",
     "metadata": {},
     "outputs": []
    },
    {
     "cell_type": "code",
     "collapsed": false,
     "input": [
      "sorted_countries[len(sorted_countries) - 12 : len(sorted_countries)]"
     ],
     "language": "python",
     "metadata": {},
     "outputs": []
    },
    {
     "cell_type": "code",
     "collapsed": false,
     "input": [
      "foo.has_key('a')"
     ],
     "language": "python",
     "metadata": {},
     "outputs": []
    },
    {
     "cell_type": "code",
     "collapsed": false,
     "input": [
      "refugees_list[33]"
     ],
     "language": "python",
     "metadata": {},
     "outputs": []
    },
    {
     "cell_type": "code",
     "collapsed": false,
     "input": [
      "with open(\"capture/DEU/DEU_adm0.geojson\") as f:\n",
      "  deu_geojson = json.load(f)\n",
      "deu_refugees_list = refugees_list[33] \n",
      "max_pop = 0\n",
      "for year in deu_refugees_list:\n",
      "    if int(year['value']) > max_pop:\n",
      "        max_pop = int(year['value'])\n",
      "print max_pop\n",
      "data = []\n",
      "poly = shape(deu_geojson['features'][0]['geometry'])\n",
      "for i in range(0, max_pop):\n",
      "    deu_point = randomPoint(poly)\n",
      "    data += LngLatToPixelXY(deu_point)\n",
      "    data.append(float(i))\n",
      "array.array('f', data).tofile(open(\"afg-deu-unhcr.bin\", 'w'))\n"
     ],
     "language": "python",
     "metadata": {},
     "outputs": []
    },
    {
     "cell_type": "code",
     "collapsed": false,
     "input": [
      "with open(\"capture/DEU/DEU_adm0.geojson\") as f:\n",
      "  deu_geojson = json.load(f)\n",
      "with open(\"capture/AFG/AFG_adm0.geojson\") as f:\n",
      "  afg_geojson = json.load(f)\n",
      "deu_poly = shape(deu_geojson['features'][0]['geometry'])\n",
      "afg_poly = shape(afg_geojson['features'][0]['geometry'])\n",
      "deu_centroid = deu_poly.centroid.__geo_interface__['coordinates']\n",
      "afg_centroid = afg_poly.centroid.__geo_interface__['coordinates']"
     ],
     "language": "python",
     "metadata": {},
     "outputs": []
    },
    {
     "cell_type": "code",
     "collapsed": false,
     "input": [
      "deu_refugee_list = refugees_list[33]\n",
      "deu_2002 = deu_refugee_list[0]\n",
      "total_points = int(deu_2002['value'])\n",
      "year = int(deu_2002['year'])"
     ],
     "language": "python",
     "metadata": {},
     "outputs": []
    },
    {
     "cell_type": "code",
     "collapsed": false,
     "input": [],
     "language": "python",
     "metadata": {},
     "outputs": []
    },
    {
     "cell_type": "code",
     "collapsed": false,
     "input": [
      "import datetime, random\n",
      "def random_month_day():\n",
      "    month = random.randint(1, 12)\n",
      "    if month == 2:\n",
      "        day = random.randint(1, 28)\n",
      "    elif month == 4 or month == 6 or month == 9 or month == 11:\n",
      "        day = random.randint(1, 30)\n",
      "    else:\n",
      "        day = random.randint(1,31)\n",
      "    return (month, day)\n",
      "\n",
      "def LonLatToPixelXY(lonlat):\n",
      "    (lon, lat) = lonlat\n",
      "    x = (lon + 180.0) * 256.0 / 360.0\n",
      "    y = 128.0 - math.log(math.tan((lat + 90.0) * math.pi / 360.0)) * 128.0 / math.pi\n",
      "    return [x, y]\n",
      "\n",
      "def YearMonthDayToEpoch(year, month, day):\n",
      "    return (datetime.datetime(int(year), int(month), int(day)) - datetime.datetime(1970, 1, 1)).total_seconds()\n"
     ],
     "language": "python",
     "metadata": {},
     "outputs": [],
     "prompt_number": 163
    },
    {
     "cell_type": "code",
     "collapsed": false,
     "input": [
      "points = []\n",
      "for i in range(0, total_points):\n",
      "    points += LonLatToPixelXY(afg_centroid)\n",
      "    points += LonLatToPixelXY(deu_centroid)\n",
      "    month, day = random_month_day()\n",
      "    points.append(YearMonthDayToEpoch(year, month, day))"
     ],
     "language": "python",
     "metadata": {},
     "outputs": []
    },
    {
     "cell_type": "code",
     "collapsed": false,
     "input": [
      "array.array('f', points).tofile(open(\"afg-deu-points.bin\", 'w'))"
     ],
     "language": "python",
     "metadata": {},
     "outputs": []
    },
    {
     "cell_type": "code",
     "collapsed": false,
     "input": [
      "points[0:5]"
     ],
     "language": "python",
     "metadata": {},
     "outputs": []
    },
    {
     "cell_type": "code",
     "collapsed": false,
     "input": [
      "int(13/3.1)"
     ],
     "language": "python",
     "metadata": {},
     "outputs": []
    },
    {
     "cell_type": "code",
     "collapsed": false,
     "input": [
      "points = []\n",
      "for deu_refugee in deu_refugee_list:\n",
      "    total_points = int(deu_refugee['value'])\n",
      "    year = int(deu_refugee['year'])\n",
      "    for i in range(0, int(total_points*.02)):\n",
      "        points += LonLatToPixelXY(afg_centroid)\n",
      "        points += LonLatToPixelXY(deu_centroid)\n",
      "        month, day = random_month_day()\n",
      "        points.append(YearMonthDayToEpoch(year, month, day))"
     ],
     "language": "python",
     "metadata": {},
     "outputs": []
    },
    {
     "cell_type": "code",
     "collapsed": false,
     "input": [
      "array.array('f', points).tofile(open(\"afg-deu-points.bin\", 'w'))"
     ],
     "language": "python",
     "metadata": {},
     "outputs": []
    },
    {
     "cell_type": "code",
     "collapsed": false,
     "input": [
      "deu_refugee"
     ],
     "language": "python",
     "metadata": {},
     "outputs": []
    },
    {
     "cell_type": "code",
     "collapsed": false,
     "input": [
      "# Download the country shapefiles for all countries"
     ],
     "language": "python",
     "metadata": {},
     "outputs": []
    },
    {
     "cell_type": "code",
     "collapsed": false,
     "input": [
      "# Get the list of countries\n",
      "countries_list_url = \"http://data.unhcr.org/api/countries/list.json\"\n",
      "countries_list = get_json(countries_list_url)"
     ],
     "language": "python",
     "metadata": {},
     "outputs": [],
     "prompt_number": 2
    },
    {
     "cell_type": "code",
     "collapsed": false,
     "input": [
      "def download_file(url, filename):\n",
      "    command = \"curl %s --create-dirs -o %s\" % (url, filename)\n",
      "    print \"Downloading %s to %s\" % (url, filename)\n",
      "    !$command\n",
      "\n",
      "def unzip_file(filename, exdir):\n",
      "    command = \"unzip %s -d %s\" % (filename, exdir)\n",
      "    !$command\n",
      "\n",
      "def shp_to_geojson(country_name):\n",
      "    command = \"ogr2ogr -f GeoJSON -t_srs crs:84 capture/%s/%s_adm0.geojson capture/%s/%s_adm0.shp\" % (country_name, country_name, country_name, country_name)\n",
      "    !$command    "
     ],
     "language": "python",
     "metadata": {},
     "outputs": [],
     "prompt_number": 58
    },
    {
     "cell_type": "code",
     "collapsed": false,
     "input": [
      "# Download the countries\n",
      "for country in countries_list:\n",
      "    url = \"http://biogeo.ucdavis.edu/data/gadm2.8/shp/%s_adm_shp.zip\" % country['country_code']\n",
      "    filename = \"capture/%s/%s_adm_shp.zip\" % (country['country_code'], country['country_code'])\n",
      "    download_file(url, filename)"
     ],
     "language": "python",
     "metadata": {},
     "outputs": []
    },
    {
     "cell_type": "code",
     "collapsed": false,
     "input": [
      "# Unzip the countries\n",
      "for country in countries_list:\n",
      "    filename = \"capture/%s/%s_adm_shp.zip\" % (country['country_code'], country['country_code'])\n",
      "    exdir = \"capture/%s\" % country['country_code']\n",
      "    unzip_file(filename, exdir)"
     ],
     "language": "python",
     "metadata": {},
     "outputs": []
    },
    {
     "cell_type": "code",
     "collapsed": false,
     "input": [
      "# Convert shapefile to geojson\n",
      "for country in countries_list:\n",
      "    shp_to_geojson(country['country_code'])"
     ],
     "language": "python",
     "metadata": {},
     "outputs": [
      {
       "output_type": "stream",
       "stream": "stdout",
       "text": [
        "ERROR 6: The GeoJSON driver does not overwrite existing files.\r\n",
        "GeoJSON driver failed to create capture/AFG/AFG_adm0.geojson\r\n"
       ]
      },
      {
       "output_type": "stream",
       "stream": "stdout",
       "text": [
        "FAILURE:\r\n",
        "Unable to open datasource `capture/ANT/ANT_adm0.shp' with the following drivers.\r\n",
        "  -> ESRI Shapefile\r\n",
        "  -> MapInfo File\r\n",
        "  -> UK .NTF\r\n",
        "  -> SDTS\r\n",
        "  -> TIGER\r\n",
        "  -> S57\r\n",
        "  -> DGN\r\n",
        "  -> VRT\r\n",
        "  -> REC\r\n",
        "  -> Memory\r\n",
        "  -> BNA\r\n",
        "  -> CSV\r\n",
        "  -> NAS\r\n",
        "  -> GML\r\n",
        "  -> GPX\r\n",
        "  -> KML\r\n",
        "  -> GeoJSON\r\n",
        "  -> Interlis 1\r\n",
        "  -> Interlis 2\r\n",
        "  -> GMT\r\n",
        "  -> GPKG\r\n",
        "  -> SQLite\r\n",
        "  -> DODS\r\n",
        "  -> ODBC\r\n",
        "  -> WAsP\r\n",
        "  -> PGeo\r\n",
        "  -> MSSQLSpatial\r\n",
        "  -> PCIDSK\r\n",
        "  -> OpenFileGDB\r\n",
        "  -> XPlane\r\n",
        "  -> AVCBin\r\n",
        "  -> AVCE00\r\n",
        "  -> DXF\r\n",
        "  -> Geoconcept\r\n",
        "  -> GeoRSS\r\n",
        "  -> GPSTrackMaker\r\n",
        "  -> VFK\r\n",
        "  -> PGDump\r\n",
        "  -> OSM\r\n",
        "  -> GPSBabel\r\n",
        "  -> SUA\r\n",
        "  -> OpenAir\r\n",
        "  -> PDS\r\n",
        "  -> WFS\r\n",
        "  -> HTF\r\n",
        "  -> AeronavFAA\r\n",
        "  -> Geomedia\r\n",
        "  -> EDIGEO\r\n",
        "  -> GFT\r\n",
        "  -> GME\r\n",
        "  -> SVG\r\n",
        "  -> CouchDB\r\n",
        "  -> Idrisi\r\n",
        "  -> ARCGEN\r\n",
        "  -> SEGUKOOA\r\n",
        "  -> SEGY\r\n",
        "  -> XLS\r\n",
        "  -> ODS\r\n",
        "  -> XLSX\r\n",
        "  -> ElasticSearch\r\n",
        "  -> PDF\r\n",
        "  -> Walk\r\n",
        "  -> CartoDB\r\n",
        "  -> SXF\r\n"
       ]
      },
      {
       "output_type": "stream",
       "stream": "stdout",
       "text": [
        "ERROR 6: The GeoJSON driver does not overwrite existing files.\r\n",
        "GeoJSON driver failed to create capture/AUT/AUT_adm0.geojson\r\n"
       ]
      },
      {
       "output_type": "stream",
       "stream": "stdout",
       "text": [
        "ERROR 6: The GeoJSON driver does not overwrite existing files.\r\n",
        "GeoJSON driver failed to create capture/DEU/DEU_adm0.geojson\r\n"
       ]
      },
      {
       "output_type": "stream",
       "stream": "stdout",
       "text": [
        "ERROR 6: The GeoJSON driver does not overwrite existing files.\r\n",
        "GeoJSON driver failed to create capture/LBY/LBY_adm0.geojson\r\n"
       ]
      },
      {
       "output_type": "stream",
       "stream": "stdout",
       "text": [
        "ERROR 6: The GeoJSON driver does not overwrite existing files.\r\n",
        "GeoJSON driver failed to create capture/PSE/PSE_adm0.geojson\r\n"
       ]
      },
      {
       "output_type": "stream",
       "stream": "stdout",
       "text": [
        "FAILURE:\r\n",
        "Unable to open datasource `capture/SCG/SCG_adm0.shp' with the following drivers.\r\n",
        "  -> ESRI Shapefile\r\n",
        "  -> MapInfo File\r\n",
        "  -> UK .NTF\r\n",
        "  -> SDTS\r\n",
        "  -> TIGER\r\n",
        "  -> S57\r\n",
        "  -> DGN\r\n",
        "  -> VRT\r\n",
        "  -> REC\r\n",
        "  -> Memory\r\n",
        "  -> BNA\r\n",
        "  -> CSV\r\n",
        "  -> NAS\r\n",
        "  -> GML\r\n",
        "  -> GPX\r\n",
        "  -> KML\r\n",
        "  -> GeoJSON\r\n",
        "  -> Interlis 1\r\n",
        "  -> Interlis 2\r\n",
        "  -> GMT\r\n",
        "  -> GPKG\r\n",
        "  -> SQLite\r\n",
        "  -> DODS\r\n",
        "  -> ODBC\r\n",
        "  -> WAsP\r\n",
        "  -> PGeo\r\n",
        "  -> MSSQLSpatial\r\n",
        "  -> PCIDSK\r\n",
        "  -> OpenFileGDB\r\n",
        "  -> XPlane\r\n",
        "  -> AVCBin\r\n",
        "  -> AVCE00\r\n",
        "  -> DXF\r\n",
        "  -> Geoconcept\r\n",
        "  -> GeoRSS\r\n",
        "  -> GPSTrackMaker\r\n",
        "  -> VFK\r\n",
        "  -> PGDump\r\n",
        "  -> OSM\r\n",
        "  -> GPSBabel\r\n",
        "  -> SUA\r\n",
        "  -> OpenAir\r\n",
        "  -> PDS\r\n",
        "  -> WFS\r\n",
        "  -> HTF\r\n",
        "  -> AeronavFAA\r\n",
        "  -> Geomedia\r\n",
        "  -> EDIGEO\r\n",
        "  -> GFT\r\n",
        "  -> GME\r\n",
        "  -> SVG\r\n",
        "  -> CouchDB\r\n",
        "  -> Idrisi\r\n",
        "  -> ARCGEN\r\n",
        "  -> SEGUKOOA\r\n",
        "  -> SEGY\r\n",
        "  -> XLS\r\n",
        "  -> ODS\r\n",
        "  -> XLSX\r\n",
        "  -> ElasticSearch\r\n",
        "  -> PDF\r\n",
        "  -> Walk\r\n",
        "  -> CartoDB\r\n",
        "  -> SXF\r\n"
       ]
      },
      {
       "output_type": "stream",
       "stream": "stdout",
       "text": [
        "ERROR 6: The GeoJSON driver does not overwrite existing files.\r\n",
        "GeoJSON driver failed to create capture/SDN/SDN_adm0.geojson\r\n"
       ]
      },
      {
       "output_type": "stream",
       "stream": "stdout",
       "text": [
        "FAILURE:\r\n",
        "Unable to open datasource `capture/SUN/SUN_adm0.shp' with the following drivers.\r\n",
        "  -> ESRI Shapefile\r\n",
        "  -> MapInfo File\r\n",
        "  -> UK .NTF\r\n",
        "  -> SDTS\r\n",
        "  -> TIGER\r\n",
        "  -> S57\r\n",
        "  -> DGN\r\n",
        "  -> VRT\r\n",
        "  -> REC\r\n",
        "  -> Memory\r\n",
        "  -> BNA\r\n",
        "  -> CSV\r\n",
        "  -> NAS\r\n",
        "  -> GML\r\n",
        "  -> GPX\r\n",
        "  -> KML\r\n",
        "  -> GeoJSON\r\n",
        "  -> Interlis 1\r\n",
        "  -> Interlis 2\r\n",
        "  -> GMT\r\n",
        "  -> GPKG\r\n",
        "  -> SQLite\r\n",
        "  -> DODS\r\n",
        "  -> ODBC\r\n",
        "  -> WAsP\r\n",
        "  -> PGeo\r\n",
        "  -> MSSQLSpatial\r\n",
        "  -> PCIDSK\r\n",
        "  -> OpenFileGDB\r\n",
        "  -> XPlane\r\n",
        "  -> AVCBin\r\n",
        "  -> AVCE00\r\n",
        "  -> DXF\r\n",
        "  -> Geoconcept\r\n",
        "  -> GeoRSS\r\n",
        "  -> GPSTrackMaker\r\n",
        "  -> VFK\r\n",
        "  -> PGDump\r\n",
        "  -> OSM\r\n",
        "  -> GPSBabel\r\n",
        "  -> SUA\r\n",
        "  -> OpenAir\r\n",
        "  -> PDS\r\n",
        "  -> WFS\r\n",
        "  -> HTF\r\n",
        "  -> AeronavFAA\r\n",
        "  -> Geomedia\r\n",
        "  -> EDIGEO\r\n",
        "  -> GFT\r\n",
        "  -> GME\r\n",
        "  -> SVG\r\n",
        "  -> CouchDB\r\n",
        "  -> Idrisi\r\n",
        "  -> ARCGEN\r\n",
        "  -> SEGUKOOA\r\n",
        "  -> SEGY\r\n",
        "  -> XLS\r\n",
        "  -> ODS\r\n",
        "  -> XLSX\r\n",
        "  -> ElasticSearch\r\n",
        "  -> PDF\r\n",
        "  -> Walk\r\n",
        "  -> CartoDB\r\n",
        "  -> SXF\r\n"
       ]
      },
      {
       "output_type": "stream",
       "stream": "stdout",
       "text": [
        "FAILURE:\r\n",
        "Unable to open datasource `capture/XKS/XKS_adm0.shp' with the following drivers.\r\n",
        "  -> ESRI Shapefile\r\n",
        "  -> MapInfo File\r\n",
        "  -> UK .NTF\r\n",
        "  -> SDTS\r\n",
        "  -> TIGER\r\n",
        "  -> S57\r\n",
        "  -> DGN\r\n",
        "  -> VRT\r\n",
        "  -> REC\r\n",
        "  -> Memory\r\n",
        "  -> BNA\r\n",
        "  -> CSV\r\n",
        "  -> NAS\r\n",
        "  -> GML\r\n",
        "  -> GPX\r\n",
        "  -> KML\r\n",
        "  -> GeoJSON\r\n",
        "  -> Interlis 1\r\n",
        "  -> Interlis 2\r\n",
        "  -> GMT\r\n",
        "  -> GPKG\r\n",
        "  -> SQLite\r\n",
        "  -> DODS\r\n",
        "  -> ODBC\r\n",
        "  -> WAsP\r\n",
        "  -> PGeo\r\n",
        "  -> MSSQLSpatial\r\n",
        "  -> PCIDSK\r\n",
        "  -> OpenFileGDB\r\n",
        "  -> XPlane\r\n",
        "  -> AVCBin\r\n",
        "  -> AVCE00\r\n",
        "  -> DXF\r\n",
        "  -> Geoconcept\r\n",
        "  -> GeoRSS\r\n",
        "  -> GPSTrackMaker\r\n",
        "  -> VFK\r\n",
        "  -> PGDump\r\n",
        "  -> OSM\r\n",
        "  -> GPSBabel\r\n",
        "  -> SUA\r\n",
        "  -> OpenAir\r\n",
        "  -> PDS\r\n",
        "  -> WFS\r\n",
        "  -> HTF\r\n",
        "  -> AeronavFAA\r\n",
        "  -> Geomedia\r\n",
        "  -> EDIGEO\r\n",
        "  -> GFT\r\n",
        "  -> GME\r\n",
        "  -> SVG\r\n",
        "  -> CouchDB\r\n",
        "  -> Idrisi\r\n",
        "  -> ARCGEN\r\n",
        "  -> SEGUKOOA\r\n",
        "  -> SEGY\r\n",
        "  -> XLS\r\n",
        "  -> ODS\r\n",
        "  -> XLSX\r\n",
        "  -> ElasticSearch\r\n",
        "  -> PDF\r\n",
        "  -> Walk\r\n",
        "  -> CartoDB\r\n",
        "  -> SXF\r\n"
       ]
      },
      {
       "output_type": "stream",
       "stream": "stdout",
       "text": [
        "FAILURE:\r\n",
        "Unable to open datasource `capture/YUG/YUG_adm0.shp' with the following drivers.\r\n",
        "  -> ESRI Shapefile\r\n",
        "  -> MapInfo File\r\n",
        "  -> UK .NTF\r\n",
        "  -> SDTS\r\n",
        "  -> TIGER\r\n",
        "  -> S57\r\n",
        "  -> DGN\r\n",
        "  -> VRT\r\n",
        "  -> REC\r\n",
        "  -> Memory\r\n",
        "  -> BNA\r\n",
        "  -> CSV\r\n",
        "  -> NAS\r\n",
        "  -> GML\r\n",
        "  -> GPX\r\n",
        "  -> KML\r\n",
        "  -> GeoJSON\r\n",
        "  -> Interlis 1\r\n",
        "  -> Interlis 2\r\n",
        "  -> GMT\r\n",
        "  -> GPKG\r\n",
        "  -> SQLite\r\n",
        "  -> DODS\r\n",
        "  -> ODBC\r\n",
        "  -> WAsP\r\n",
        "  -> PGeo\r\n",
        "  -> MSSQLSpatial\r\n",
        "  -> PCIDSK\r\n",
        "  -> OpenFileGDB\r\n",
        "  -> XPlane\r\n",
        "  -> AVCBin\r\n",
        "  -> AVCE00\r\n",
        "  -> DXF\r\n",
        "  -> Geoconcept\r\n",
        "  -> GeoRSS\r\n",
        "  -> GPSTrackMaker\r\n",
        "  -> VFK\r\n",
        "  -> PGDump\r\n",
        "  -> OSM\r\n",
        "  -> GPSBabel\r\n",
        "  -> SUA\r\n",
        "  -> OpenAir\r\n",
        "  -> PDS\r\n",
        "  -> WFS\r\n",
        "  -> HTF\r\n",
        "  -> AeronavFAA\r\n",
        "  -> Geomedia\r\n",
        "  -> EDIGEO\r\n",
        "  -> GFT\r\n",
        "  -> GME\r\n",
        "  -> SVG\r\n",
        "  -> CouchDB\r\n",
        "  -> Idrisi\r\n",
        "  -> ARCGEN\r\n",
        "  -> SEGUKOOA\r\n",
        "  -> SEGY\r\n",
        "  -> XLS\r\n",
        "  -> ODS\r\n",
        "  -> XLSX\r\n",
        "  -> ElasticSearch\r\n",
        "  -> PDF\r\n",
        "  -> Walk\r\n",
        "  -> CartoDB\r\n",
        "  -> SXF\r\n"
       ]
      },
      {
       "output_type": "stream",
       "stream": "stdout",
       "text": [
        "FAILURE:\r\n",
        "Unable to open datasource `capture/ZAR/ZAR_adm0.shp' with the following drivers.\r\n",
        "  -> ESRI Shapefile\r\n",
        "  -> MapInfo File\r\n",
        "  -> UK .NTF\r\n",
        "  -> SDTS\r\n",
        "  -> TIGER\r\n",
        "  -> S57\r\n",
        "  -> DGN\r\n",
        "  -> VRT\r\n",
        "  -> REC\r\n",
        "  -> Memory\r\n",
        "  -> BNA\r\n",
        "  -> CSV\r\n",
        "  -> NAS\r\n",
        "  -> GML\r\n",
        "  -> GPX\r\n",
        "  -> KML\r\n",
        "  -> GeoJSON\r\n",
        "  -> Interlis 1\r\n",
        "  -> Interlis 2\r\n",
        "  -> GMT\r\n",
        "  -> GPKG\r\n",
        "  -> SQLite\r\n",
        "  -> DODS\r\n",
        "  -> ODBC\r\n",
        "  -> WAsP\r\n",
        "  -> PGeo\r\n",
        "  -> MSSQLSpatial\r\n",
        "  -> PCIDSK\r\n",
        "  -> OpenFileGDB\r\n",
        "  -> XPlane\r\n",
        "  -> AVCBin\r\n",
        "  -> AVCE00\r\n",
        "  -> DXF\r\n",
        "  -> Geoconcept\r\n",
        "  -> GeoRSS\r\n",
        "  -> GPSTrackMaker\r\n",
        "  -> VFK\r\n",
        "  -> PGDump\r\n",
        "  -> OSM\r\n",
        "  -> GPSBabel\r\n",
        "  -> SUA\r\n",
        "  -> OpenAir\r\n",
        "  -> PDS\r\n",
        "  -> WFS\r\n",
        "  -> HTF\r\n",
        "  -> AeronavFAA\r\n",
        "  -> Geomedia\r\n",
        "  -> EDIGEO\r\n",
        "  -> GFT\r\n",
        "  -> GME\r\n",
        "  -> SVG\r\n",
        "  -> CouchDB\r\n",
        "  -> Idrisi\r\n",
        "  -> ARCGEN\r\n",
        "  -> SEGUKOOA\r\n",
        "  -> SEGY\r\n",
        "  -> XLS\r\n",
        "  -> ODS\r\n",
        "  -> XLSX\r\n",
        "  -> ElasticSearch\r\n",
        "  -> PDF\r\n",
        "  -> Walk\r\n",
        "  -> CartoDB\r\n",
        "  -> SXF\r\n"
       ]
      }
     ],
     "prompt_number": 59
    },
    {
     "cell_type": "code",
     "collapsed": false,
     "input": [
      "time_series_all_years_url = \"http://data.unhcr.org/api/stats/time_series_all_years.json\"\n",
      "args = { 'population_type_code' : 'RF',  'country_of_origin' : 'AFG'}\n",
      "afg_list = get_json(time_series_all_years_url, args)"
     ],
     "language": "python",
     "metadata": {},
     "outputs": [],
     "prompt_number": 3
    },
    {
     "cell_type": "code",
     "collapsed": false,
     "input": [
      "countries = {}\n",
      "for val in afg_list:\n",
      "    if not countries.has_key(val['country_of_residence']):\n",
      "        countries[val['country_of_residence']] = 0\n",
      "    countries[val['country_of_residence']] += 0 if val['value'] == None else float(val['value'])"
     ],
     "language": "python",
     "metadata": {},
     "outputs": [],
     "prompt_number": 42
    },
    {
     "cell_type": "code",
     "collapsed": false,
     "input": [
      "import operator\n",
      "sorted_countries = sorted(countries.items(), key=operator.itemgetter(1))\n"
     ],
     "language": "python",
     "metadata": {},
     "outputs": [],
     "prompt_number": 50
    },
    {
     "cell_type": "code",
     "collapsed": false,
     "input": [
      "sorted_countries"
     ],
     "language": "python",
     "metadata": {},
     "outputs": [
      {
       "metadata": {},
       "output_type": "pyout",
       "prompt_number": 51,
       "text": [
        "[(u'MNG', 0),\n",
        " (u'ZMB', 0),\n",
        " (u'LBY', 1.0),\n",
        " (u'DZA', 2.0),\n",
        " (u'BOL', 2.0),\n",
        " (u'COL', 2.0),\n",
        " (u'SGP', 2.0),\n",
        " (u'ARG', 2.0),\n",
        " (u'PAN', 3.0),\n",
        " (u'CYM', 3.0),\n",
        " (u'SCG', 4.0),\n",
        " (u'FJI', 4.0),\n",
        " (u'NGA', 5.0),\n",
        " (u'PNG', 5.0),\n",
        " (u'NPL', 8.0),\n",
        " (u'MKD', 8.0),\n",
        " (u'BGD', 9.0),\n",
        " (u'MOZ', 9.0),\n",
        " (u'KEN', 9.0),\n",
        " (u'CRI', 12.0),\n",
        " (u'VEN', 12.0),\n",
        " (u'IRQ', 13.0),\n",
        " (u'PHL', 16.0),\n",
        " (u'TCD', 17.0),\n",
        " (u'YUG', 20.0),\n",
        " (u'HKG', 24.0),\n",
        " (u'ETH', 24.0),\n",
        " (u'ISL', 31.0),\n",
        " (u'LUX', 32.0),\n",
        " (u'GEO', 39.0),\n",
        " (u'MEX', 39.0),\n",
        " (u'ARE', 41.0),\n",
        " (u'MAR', 48.0),\n",
        " (u'LKA', 49.0),\n",
        " (u'KOR', 51.0),\n",
        " (u'JOR', 59.0),\n",
        " (u'KHM', 64.0),\n",
        " (u'SVN', 65.0),\n",
        " (u'HRV', 66.0),\n",
        " (u'CYP', 72.0),\n",
        " (u'PRT', 78.0),\n",
        " (u'MLT', 80.0),\n",
        " (u'CHN', 81.0),\n",
        " (u'THA', 89.0),\n",
        " (u'EST', 102.0),\n",
        " (u'LVA', 112.0),\n",
        " (u'CUB', 119.0),\n",
        " (u'CIV', 123.0),\n",
        " (u'MDA', 133.0),\n",
        " (u'CHL', 158.0),\n",
        " (u'BRA', 204.0),\n",
        " (u'ZAF', 226.0),\n",
        " (u'QAT', 280.0),\n",
        " (u'LBN', 319.0),\n",
        " (u'ZWE', 350.0),\n",
        " (u'EGY', 358.0),\n",
        " (u'KWT', 454.0),\n",
        " (u'SAU', 512.0),\n",
        " (u'JPN', 725.0),\n",
        " (u'ECU', 957.0),\n",
        " (u'POL', 1021.0),\n",
        " (u'ESP', 1293.0),\n",
        " (u'LTU', 1380.0),\n",
        " (u'IRL', 1403.0),\n",
        " (u'MYS', 2003.0),\n",
        " (u'SVK', 2075.0),\n",
        " (u'GRC', 2805.0),\n",
        " (u'ROU', 3001.0),\n",
        " (u'CZE', 3200.0),\n",
        " (u'IDN', 3479.0),\n",
        " (u'AZE', 4170.0),\n",
        " (u'NZL', 5934.0),\n",
        " (u'BLR', 6254.0),\n",
        " (u'KGZ', 6492.0),\n",
        " (u'TKM', 8200.0),\n",
        " (u'BEL', 10063.0),\n",
        " (u'SYR', 10306.0),\n",
        " (u'KAZ', 13275.0),\n",
        " (u'TUR', 13766.0),\n",
        " (u'FIN', 13874.0),\n",
        " (u'UKR', 19382.0),\n",
        " (u'RUS', 19846.0),\n",
        " (u'FRA', 22481.0),\n",
        " (u'BGR', 22510.0),\n",
        " (u'HUN', 23183.0),\n",
        " (u'CHE', 24093.0),\n",
        " (u'ITA', 27802.0),\n",
        " (u'UZB', 43724.0),\n",
        " (u'NOR', 53704.0),\n",
        " (u'TJK', 57345.0),\n",
        " (u'SWE', 63022.0),\n",
        " (u'DNK', 67447.0),\n",
        " (u'AUT', 67768.0),\n",
        " (u'USA', 72865.0),\n",
        " (u'AUS', 90321.0),\n",
        " (u'CAN', 113582.0),\n",
        " (u'IND', 139515.0),\n",
        " (u'NLD', 239416.0),\n",
        " (u'GBR', 258001.0),\n",
        " (u'DEU', 387216.0),\n",
        " (u'IRN', 14061208.0),\n",
        " (u'PAK', 21228791.0)]"
       ]
      }
     ],
     "prompt_number": 51
    },
    {
     "cell_type": "code",
     "collapsed": false,
     "input": [
      "geojson = {}\n",
      "polys = {}\n",
      "centroids = {}\n",
      "for val in afg_list:\n",
      "    if countries[val['country_of_residence']] > 10000:\n",
      "        if not geojson.has_key(val['country_of_residence']):\n",
      "            filename = \"capture/%s/%s_adm0.geojson\" % (val['country_of_residence'], val['country_of_residence'])\n",
      "            with open(filename) as f:\n",
      "                geojson[val['country_of_residence']] = json.load(f)\n",
      "                polys[val['country_of_residence']] = shape(geojson[val['country_of_residence']]['features'][0]['geometry'])\n",
      "                centroids[val['country_of_residence']] = polys[val['country_of_residence']].centroid.__geo_interface__['coordinates']\n",
      "\n"
     ],
     "language": "python",
     "metadata": {},
     "outputs": [],
     "prompt_number": 62
    },
    {
     "cell_type": "code",
     "collapsed": false,
     "input": [
      "country_name = 'AFG'\n",
      "filename = \"capture/%s/%s_adm0.geojson\" % (country_name, country_name)\n",
      "with open(filename) as f:\n",
      "    geojson[country_name] = json.load(f)\n",
      "    polys[country_name] = shape(geojson[country_name]['features'][0]['geometry'])\n",
      "    centroids[country_name] = polys[country_name].centroid.__geo_interface__['coordinates']"
     ],
     "language": "python",
     "metadata": {},
     "outputs": [],
     "prompt_number": 65
    },
    {
     "cell_type": "code",
     "collapsed": false,
     "input": [
      "points = []\n",
      "for val in afg_list:\n",
      "    if countries[val['country_of_residence']] > 10000:\n",
      "        year = int(val['year'])\n",
      "        points += LonLatToPixelXY(centroids['AFG'])\n",
      "        points.append(YearMonthDayToEpoch(year, 1, 1))        \n",
      "        points += LonLatToPixelXY(centroids[val['country_of_residence']])\n",
      "        points.append(YearMonthDayToEpoch(year, 1, 1))"
     ],
     "language": "python",
     "metadata": {},
     "outputs": [],
     "prompt_number": 76
    },
    {
     "cell_type": "code",
     "collapsed": false,
     "input": [
      "array.array('f', points).tofile(open(\"afg-lines.bin\", 'w'))"
     ],
     "language": "python",
     "metadata": {},
     "outputs": [],
     "prompt_number": 77
    },
    {
     "cell_type": "code",
     "collapsed": false,
     "input": [
      "# get all countries over all years\n",
      "time_series_all_years_url = \"http://data.unhcr.org/api/stats/time_series_all_years.json\"\n",
      "args = { 'population_type_code' : 'RF'}\n",
      "all_countries_list = get_json(time_series_all_years_url, args)"
     ],
     "language": "python",
     "metadata": {},
     "outputs": [],
     "prompt_number": 78
    },
    {
     "cell_type": "code",
     "collapsed": false,
     "input": [
      "total_refugees_count = {}\n",
      "for val in all_countries_list:\n",
      "    if not total_refugees_count.has_key(val['country_of_origin']):\n",
      "        total_refugees_count[val['country_of_origin']] = 0\n",
      "    total_refugees_count[val['country_of_origin']] += 0 if val['value'] == None else float(val['value'])"
     ],
     "language": "python",
     "metadata": {},
     "outputs": [],
     "prompt_number": 83
    },
    {
     "cell_type": "code",
     "collapsed": false,
     "input": [
      "origin_countries = []\n",
      "sorted_trc = sorted(total_refugees_count.items(), key=operator.itemgetter(1))\n",
      "for t in sorted_trc[len(sorted_trc)-21:len(sorted_trc)]:\n",
      "    origin_countries.append(t[0])"
     ],
     "language": "python",
     "metadata": {},
     "outputs": [],
     "prompt_number": 117
    },
    {
     "cell_type": "code",
     "collapsed": false,
     "input": [
      "origin_countries"
     ],
     "language": "python",
     "metadata": {},
     "outputs": [
      {
       "metadata": {},
       "output_type": "pyout",
       "prompt_number": 118,
       "text": [
        "[u'LKA',\n",
        " u'ESH',\n",
        " u'HRV',\n",
        " u'TUR',\n",
        " u'CHN',\n",
        " u'LBR',\n",
        " u'BIH',\n",
        " u'COL',\n",
        " u'AGO',\n",
        " u'ERI',\n",
        " u'SYR',\n",
        " u'PSE',\n",
        " u'MMR',\n",
        " u'XXX',\n",
        " u'BDI',\n",
        " u'VNM',\n",
        " u'COD',\n",
        " u'SDN',\n",
        " u'SOM',\n",
        " u'IRQ',\n",
        " u'AFG']"
       ]
      }
     ],
     "prompt_number": 118
    },
    {
     "cell_type": "code",
     "collapsed": false,
     "input": [
      "points = []\n",
      "country = origin_countries[0]\n",
      "if not geojson.has_key(country):\n",
      "    filename = \"capture/%s/%s_adm0.geojson\" % (country, country)\n",
      "    with open(filename) as f:\n",
      "        geojson[country] = json.load(f)\n",
      "        polys[country] = shape(geojson[country]['features'][0]['geometry'])\n",
      "        centroids[country] = polys[country].centroid.__geo_interface__['coordinates']\n",
      "\n",
      "time_series_all_years_url = \"http://data.unhcr.org/api/stats/time_series_all_years.json\"\n",
      "args = { 'population_type_code' : 'RF',  'country_of_origin' : country}\n",
      "country_list = get_json(time_series_all_years_url, args)\n"
     ],
     "language": "python",
     "metadata": {},
     "outputs": [],
     "prompt_number": 108
    },
    {
     "cell_type": "code",
     "collapsed": false,
     "input": [
      "refugee_counts = {}\n",
      "for val in country_list:\n",
      "    if not refugee_counts.has_key(val['country_of_residence']):\n",
      "        refugee_counts[val['country_of_residence']] = 0\n",
      "    refugee_counts[val['country_of_residence']] = max(refugee_counts[val['country_of_residence']], 0 if val['value'] == None else float(val['value']))"
     ],
     "language": "python",
     "metadata": {},
     "outputs": [],
     "prompt_number": 109
    },
    {
     "cell_type": "code",
     "collapsed": false,
     "input": [
      "for val in country_list:\n",
      "    cor = val['country_of_residence']\n",
      "    if refugee_counts[cor] > 10000:\n",
      "        if not geojson.has_key(cor):\n",
      "            filename = \"capture/%s/%s_adm0.geojson\" % (cor, cor)\n",
      "            with open(filename) as f:\n",
      "                geojson[cor] = json.load(f)\n",
      "                polys[cor] = shape(geojson[cor]['features'][0]['geometry'])\n",
      "                centroids[cor] = polys[cor].centroid.__geo_interface__['coordinates']\n",
      "\n",
      "        year = int(val['year'])\n",
      "        points += LonLatToPixelXY(centroids[country])\n",
      "        points.append(YearMonthDayToEpoch(year, 1, 1))        \n",
      "        points += LonLatToPixelXY(centroids[cor])\n",
      "        points.append(YearMonthDayToEpoch(year, 1, 1))"
     ],
     "language": "python",
     "metadata": {},
     "outputs": [],
     "prompt_number": 110
    },
    {
     "cell_type": "code",
     "collapsed": false,
     "input": [
      "array.array('f', points).tofile(open(\"syr-lines.bin\", 'w'))"
     ],
     "language": "python",
     "metadata": {},
     "outputs": [],
     "prompt_number": 112
    },
    {
     "cell_type": "code",
     "collapsed": false,
     "input": [
      "def process_country(country):\n",
      "    points = []\n",
      "    if not geojson.has_key(country):\n",
      "        filename = \"capture/%s/%s_adm0.geojson\" % (country, country)\n",
      "        with open(filename) as f:\n",
      "            geojson[country] = json.load(f)\n",
      "            polys[country] = shape(geojson[country]['features'][0]['geometry'])\n",
      "            centroids[country] = polys[country].centroid.__geo_interface__['coordinates']\n",
      "\n",
      "    time_series_all_years_url = \"http://data.unhcr.org/api/stats/time_series_all_years.json\"\n",
      "    args = { 'population_type_code' : 'RF',  'country_of_origin' : country}\n",
      "    country_list = get_json(time_series_all_years_url, args)\n",
      "\n",
      "    refugee_counts = {}\n",
      "    for val in country_list:\n",
      "        if not refugee_counts.has_key(val['country_of_residence']):\n",
      "            refugee_counts[val['country_of_residence']] = 0\n",
      "        refugee_counts[val['country_of_residence']] = max(refugee_counts[val['country_of_residence']], 0 if val['value'] == None else float(val['value']))\n",
      "\n",
      "    for val in country_list:\n",
      "        cor = val['country_of_residence']\n",
      "        if refugee_counts[cor] > 5000 and cor != \"SCG\" and cor != \"YUG\":\n",
      "            if not geojson.has_key(cor):\n",
      "                filename = \"capture/%s/%s_adm0.geojson\" % (cor, cor)\n",
      "                with open(filename) as f:\n",
      "                    geojson[cor] = json.load(f)\n",
      "                    polys[cor] = shape(geojson[cor]['features'][0]['geometry'])\n",
      "                    centroids[cor] = polys[cor].centroid.__geo_interface__['coordinates']\n",
      "\n",
      "            year = int(val['year'])\n",
      "            points += LonLatToPixelXY(centroids[country])\n",
      "            points.append(YearMonthDayToEpoch(year, 1, 1))        \n",
      "            points += LonLatToPixelXY(centroids[cor])\n",
      "            points.append(YearMonthDayToEpoch(year, 1, 1))\n",
      "    return points"
     ],
     "language": "python",
     "metadata": {},
     "outputs": [],
     "prompt_number": 127
    },
    {
     "cell_type": "code",
     "collapsed": false,
     "input": [
      "points = []\n",
      "for country in origin_countries:\n",
      "    if country != \"XXX\" and country != \"SCG\" and country != \"YUG\":\n",
      "        points += process_country(country)"
     ],
     "language": "python",
     "metadata": {},
     "outputs": [],
     "prompt_number": 128
    },
    {
     "cell_type": "code",
     "collapsed": false,
     "input": [
      "array.array('f', points).tofile(open(\"country-lines.bin\", 'w'))"
     ],
     "language": "python",
     "metadata": {},
     "outputs": [],
     "prompt_number": 130
    },
    {
     "cell_type": "code",
     "collapsed": false,
     "input": [
      "len(points)"
     ],
     "language": "python",
     "metadata": {},
     "outputs": [
      {
       "metadata": {},
       "output_type": "pyout",
       "prompt_number": 125,
       "text": [
        "10344"
       ]
      }
     ],
     "prompt_number": 125
    },
    {
     "cell_type": "code",
     "collapsed": false,
     "input": [
      "len(points)"
     ],
     "language": "python",
     "metadata": {},
     "outputs": [
      {
       "metadata": {},
       "output_type": "pyout",
       "prompt_number": 129,
       "text": [
        "13200"
       ]
      }
     ],
     "prompt_number": 129
    },
    {
     "cell_type": "code",
     "collapsed": false,
     "input": [
      "origin_url = \"http://data.unhcr.org/api/stats/origin.json\"\n",
      "origin_list = get_json(origin_url)\n",
      "print origin_list[0]"
     ],
     "language": "python",
     "metadata": {},
     "outputs": [
      {
       "output_type": "stream",
       "stream": "stdout",
       "text": [
        "{u'origin': u'AFG', u'origin_en': u'Afghanistan'}\n"
       ]
      }
     ],
     "prompt_number": 3
    },
    {
     "cell_type": "code",
     "collapsed": false,
     "input": [
      "countries_of_residence_url = \"http://data.unhcr.org/api/stats/country_of_residence.json\"\n",
      "countries_of_residence_list = get_json(countries_of_residence_url)\n",
      "print countries_of_residence_list[0]"
     ],
     "language": "python",
     "metadata": {},
     "outputs": [
      {
       "output_type": "stream",
       "stream": "stdout",
       "text": [
        "{u'country_of_residence_en': u'Afghanistan', u'country_of_residence': u'AFG'}\n"
       ]
      }
     ],
     "prompt_number": 4
    },
    {
     "cell_type": "code",
     "collapsed": false,
     "input": [
      "time_series_all_years_url = \"http://data.unhcr.org/api/stats/time_series_all_years.json\"\n",
      "args = { 'population_type_code' : 'RF'}\n",
      "time_series_all_years_list = get_json(time_series_all_years_url, args)\n",
      "print time_series_all_years_list[0]"
     ],
     "language": "python",
     "metadata": {},
     "outputs": [
      {
       "output_type": "stream",
       "stream": "stdout",
       "text": [
        "{u'country_of_origin': u'YUG', u'value': u'507', u'country_of_residence': u'ALB', u'country_of_residence_en': u'Albania', u'year': 2000, u'country_of_origin_en': u'Federal Republic of Yugoslavia'}\n"
       ]
      }
     ],
     "prompt_number": 18
    },
    {
     "cell_type": "code",
     "collapsed": false,
     "input": [
      "origins = {}\n",
      "i = 0\n",
      "for origin in origin_list:\n",
      "    coo = origin['origin']\n",
      "    origins[coo] = {}\n",
      "    print \"%s: %s\" % (i, coo)\n",
      "    i += 1\n",
      "    for country_of_residence in countries_of_residence_list:\n",
      "        cor = country_of_residence['country_of_residence']        \n",
      "        if coo != cor:\n",
      "            origins[coo][cor] = {'time_series':[]}\n",
      "            for year in range(2000,2014):\n",
      "                found = False\n",
      "                for time_series in time_series_all_years_list:\n",
      "                    if time_series['country_of_origin'] == coo and time_series['country_of_residence'] == cor and year == time_series['year']:\n",
      "                        origins[coo][cor]['time_series'].append(time_series)\n",
      "                        found = True\n",
      "                        break\n",
      "                if not found:\n",
      "                    value = {'country_of_origin': coo, 'value': u'0', 'country_of_residence': cor, 'year': year}\n",
      "                    origins[coo][cor]['time_series'].append(value)\n",
      "                            \n"
     ],
     "language": "python",
     "metadata": {},
     "outputs": [
      {
       "output_type": "stream",
       "stream": "stdout",
       "text": [
        "0: AFG\n",
        "1: ALB"
       ]
      },
      {
       "output_type": "stream",
       "stream": "stdout",
       "text": [
        "\n",
        "2: DZA"
       ]
      },
      {
       "output_type": "stream",
       "stream": "stdout",
       "text": [
        "\n",
        "3: AND"
       ]
      },
      {
       "output_type": "stream",
       "stream": "stdout",
       "text": [
        "\n",
        "4: AGO"
       ]
      },
      {
       "output_type": "stream",
       "stream": "stdout",
       "text": [
        "\n",
        "5: ATG"
       ]
      },
      {
       "output_type": "stream",
       "stream": "stdout",
       "text": [
        "\n",
        "6: ARG"
       ]
      },
      {
       "output_type": "stream",
       "stream": "stdout",
       "text": [
        "\n",
        "7: ARM"
       ]
      },
      {
       "output_type": "stream",
       "stream": "stdout",
       "text": [
        "\n",
        "8: ABW"
       ]
      },
      {
       "output_type": "stream",
       "stream": "stdout",
       "text": [
        "\n",
        "9: AUS"
       ]
      },
      {
       "output_type": "stream",
       "stream": "stdout",
       "text": [
        "\n",
        "10: AUT"
       ]
      },
      {
       "output_type": "stream",
       "stream": "stdout",
       "text": [
        "\n",
        "11: AZE"
       ]
      },
      {
       "output_type": "stream",
       "stream": "stdout",
       "text": [
        "\n",
        "12: BHS"
       ]
      },
      {
       "output_type": "stream",
       "stream": "stdout",
       "text": [
        "\n",
        "13: BHR"
       ]
      },
      {
       "output_type": "stream",
       "stream": "stdout",
       "text": [
        "\n",
        "14: BGD"
       ]
      },
      {
       "output_type": "stream",
       "stream": "stdout",
       "text": [
        "\n",
        "15: BRB"
       ]
      },
      {
       "output_type": "stream",
       "stream": "stdout",
       "text": [
        "\n",
        "16: BLR"
       ]
      },
      {
       "output_type": "stream",
       "stream": "stdout",
       "text": [
        "\n",
        "17: BEL"
       ]
      },
      {
       "output_type": "stream",
       "stream": "stdout",
       "text": [
        "\n",
        "18: BLZ"
       ]
      },
      {
       "output_type": "stream",
       "stream": "stdout",
       "text": [
        "\n",
        "19: BEN"
       ]
      },
      {
       "output_type": "stream",
       "stream": "stdout",
       "text": [
        "\n",
        "20: BMU"
       ]
      },
      {
       "output_type": "stream",
       "stream": "stdout",
       "text": [
        "\n",
        "21: BTN"
       ]
      },
      {
       "output_type": "stream",
       "stream": "stdout",
       "text": [
        "\n",
        "22: VEN"
       ]
      },
      {
       "output_type": "stream",
       "stream": "stdout",
       "text": [
        "\n",
        "23: BIH"
       ]
      },
      {
       "output_type": "stream",
       "stream": "stdout",
       "text": [
        "\n",
        "24: BWA"
       ]
      },
      {
       "output_type": "stream",
       "stream": "stdout",
       "text": [
        "\n",
        "25: BRA"
       ]
      },
      {
       "output_type": "stream",
       "stream": "stdout",
       "text": [
        "\n",
        "26: BRN"
       ]
      },
      {
       "output_type": "stream",
       "stream": "stdout",
       "text": [
        "\n",
        "27: BGR"
       ]
      },
      {
       "output_type": "stream",
       "stream": "stdout",
       "text": [
        "\n",
        "28: BFA"
       ]
      },
      {
       "output_type": "stream",
       "stream": "stdout",
       "text": [
        "\n",
        "29: BDI"
       ]
      },
      {
       "output_type": "stream",
       "stream": "stdout",
       "text": [
        "\n",
        "30: KHM"
       ]
      },
      {
       "output_type": "stream",
       "stream": "stdout",
       "text": [
        "\n",
        "31: CMR"
       ]
      },
      {
       "output_type": "stream",
       "stream": "stdout",
       "text": [
        "\n",
        "32: CAN"
       ]
      },
      {
       "output_type": "stream",
       "stream": "stdout",
       "text": [
        "\n",
        "33: CPV"
       ]
      },
      {
       "output_type": "stream",
       "stream": "stdout",
       "text": [
        "\n",
        "34: CYM"
       ]
      },
      {
       "output_type": "stream",
       "stream": "stdout",
       "text": [
        "\n",
        "35: CAF"
       ]
      },
      {
       "output_type": "stream",
       "stream": "stdout",
       "text": [
        "\n",
        "36: TCD"
       ]
      },
      {
       "output_type": "stream",
       "stream": "stdout",
       "text": [
        "\n",
        "37: CHL"
       ]
      },
      {
       "output_type": "stream",
       "stream": "stdout",
       "text": [
        "\n",
        "38: CHN"
       ]
      },
      {
       "output_type": "stream",
       "stream": "stdout",
       "text": [
        "\n",
        "39: COL"
       ]
      },
      {
       "output_type": "stream",
       "stream": "stdout",
       "text": [
        "\n",
        "40: COM"
       ]
      },
      {
       "output_type": "stream",
       "stream": "stdout",
       "text": [
        "\n",
        "41: COG"
       ]
      },
      {
       "output_type": "stream",
       "stream": "stdout",
       "text": [
        "\n",
        "42: COK"
       ]
      },
      {
       "output_type": "stream",
       "stream": "stdout",
       "text": [
        "\n",
        "43: CRI"
       ]
      },
      {
       "output_type": "stream",
       "stream": "stdout",
       "text": [
        "\n",
        "44: HRV"
       ]
      },
      {
       "output_type": "stream",
       "stream": "stdout",
       "text": [
        "\n",
        "45: CUB"
       ]
      },
      {
       "output_type": "stream",
       "stream": "stdout",
       "text": [
        "\n",
        "46: CUW"
       ]
      },
      {
       "output_type": "stream",
       "stream": "stdout",
       "text": [
        "\n",
        "47: CYP"
       ]
      },
      {
       "output_type": "stream",
       "stream": "stdout",
       "text": [
        "\n",
        "48: CZE"
       ]
      },
      {
       "output_type": "stream",
       "stream": "stdout",
       "text": [
        "\n",
        "49: CIV"
       ]
      },
      {
       "output_type": "stream",
       "stream": "stdout",
       "text": [
        "\n",
        "50: PRK"
       ]
      },
      {
       "output_type": "stream",
       "stream": "stdout",
       "text": [
        "\n",
        "51: COD"
       ]
      },
      {
       "output_type": "stream",
       "stream": "stdout",
       "text": [
        "\n",
        "52: DNK"
       ]
      },
      {
       "output_type": "stream",
       "stream": "stdout",
       "text": [
        "\n",
        "53: DJI"
       ]
      },
      {
       "output_type": "stream",
       "stream": "stdout",
       "text": [
        "\n",
        "54: DMA"
       ]
      },
      {
       "output_type": "stream",
       "stream": "stdout",
       "text": [
        "\n",
        "55: DOM"
       ]
      },
      {
       "output_type": "stream",
       "stream": "stdout",
       "text": [
        "\n",
        "56: ECU"
       ]
      },
      {
       "output_type": "stream",
       "stream": "stdout",
       "text": [
        "\n",
        "57: EGY"
       ]
      },
      {
       "output_type": "stream",
       "stream": "stdout",
       "text": [
        "\n",
        "58: SLV"
       ]
      },
      {
       "output_type": "stream",
       "stream": "stdout",
       "text": [
        "\n",
        "59: GNQ"
       ]
      },
      {
       "output_type": "stream",
       "stream": "stdout",
       "text": [
        "\n",
        "60: ERI"
       ]
      },
      {
       "output_type": "stream",
       "stream": "stdout",
       "text": [
        "\n",
        "61: EST"
       ]
      },
      {
       "output_type": "stream",
       "stream": "stdout",
       "text": [
        "\n",
        "62: ETH"
       ]
      },
      {
       "output_type": "stream",
       "stream": "stdout",
       "text": [
        "\n",
        "63: YUG"
       ]
      },
      {
       "output_type": "stream",
       "stream": "stdout",
       "text": [
        "\n",
        "64: FSM"
       ]
      },
      {
       "output_type": "stream",
       "stream": "stdout",
       "text": [
        "\n",
        "65: FJI"
       ]
      },
      {
       "output_type": "stream",
       "stream": "stdout",
       "text": [
        "\n",
        "66: FIN"
       ]
      },
      {
       "output_type": "stream",
       "stream": "stdout",
       "text": [
        "\n",
        "67: FRA"
       ]
      },
      {
       "output_type": "stream",
       "stream": "stdout",
       "text": [
        "\n",
        "68: GUF"
       ]
      },
      {
       "output_type": "stream",
       "stream": "stdout",
       "text": [
        "\n",
        "69: PYF"
       ]
      },
      {
       "output_type": "stream",
       "stream": "stdout",
       "text": [
        "\n",
        "70: GAB"
       ]
      },
      {
       "output_type": "stream",
       "stream": "stdout",
       "text": [
        "\n",
        "71: GMB"
       ]
      },
      {
       "output_type": "stream",
       "stream": "stdout",
       "text": [
        "\n",
        "72: GEO"
       ]
      },
      {
       "output_type": "stream",
       "stream": "stdout",
       "text": [
        "\n",
        "73: DEU"
       ]
      },
      {
       "output_type": "stream",
       "stream": "stdout",
       "text": [
        "\n",
        "74: GHA"
       ]
      },
      {
       "output_type": "stream",
       "stream": "stdout",
       "text": [
        "\n",
        "75: GIB"
       ]
      },
      {
       "output_type": "stream",
       "stream": "stdout",
       "text": [
        "\n",
        "76: GRC"
       ]
      },
      {
       "output_type": "stream",
       "stream": "stdout",
       "text": [
        "\n",
        "77: GRD"
       ]
      },
      {
       "output_type": "stream",
       "stream": "stdout",
       "text": [
        "\n",
        "78: GTM"
       ]
      },
      {
       "output_type": "stream",
       "stream": "stdout",
       "text": [
        "\n",
        "79: GIN"
       ]
      },
      {
       "output_type": "stream",
       "stream": "stdout",
       "text": [
        "\n",
        "80: GNB"
       ]
      },
      {
       "output_type": "stream",
       "stream": "stdout",
       "text": [
        "\n",
        "81: GUY"
       ]
      },
      {
       "output_type": "stream",
       "stream": "stdout",
       "text": [
        "\n",
        "82: HTI"
       ]
      },
      {
       "output_type": "stream",
       "stream": "stdout",
       "text": [
        "\n",
        "83: VAT"
       ]
      },
      {
       "output_type": "stream",
       "stream": "stdout",
       "text": [
        "\n",
        "84: HND"
       ]
      },
      {
       "output_type": "stream",
       "stream": "stdout",
       "text": [
        "\n",
        "85: HKG"
       ]
      },
      {
       "output_type": "stream",
       "stream": "stdout",
       "text": [
        "\n",
        "86: HUN"
       ]
      },
      {
       "output_type": "stream",
       "stream": "stdout",
       "text": [
        "\n",
        "87: ISL"
       ]
      },
      {
       "output_type": "stream",
       "stream": "stdout",
       "text": [
        "\n",
        "88: IND"
       ]
      },
      {
       "output_type": "stream",
       "stream": "stdout",
       "text": [
        "\n",
        "89: IDN"
       ]
      },
      {
       "output_type": "stream",
       "stream": "stdout",
       "text": [
        "\n",
        "90: IRQ"
       ]
      },
      {
       "output_type": "stream",
       "stream": "stdout",
       "text": [
        "\n",
        "91: IRL"
       ]
      },
      {
       "output_type": "stream",
       "stream": "stdout",
       "text": [
        "\n",
        "92: IRN"
       ]
      },
      {
       "output_type": "stream",
       "stream": "stdout",
       "text": [
        "\n",
        "93: ISR"
       ]
      },
      {
       "output_type": "stream",
       "stream": "stdout",
       "text": [
        "\n",
        "94: ITA"
       ]
      },
      {
       "output_type": "stream",
       "stream": "stdout",
       "text": [
        "\n",
        "95: JAM"
       ]
      },
      {
       "output_type": "stream",
       "stream": "stdout",
       "text": [
        "\n",
        "96: JPN"
       ]
      },
      {
       "output_type": "stream",
       "stream": "stdout",
       "text": [
        "\n",
        "97: JOR"
       ]
      },
      {
       "output_type": "stream",
       "stream": "stdout",
       "text": [
        "\n",
        "98: KAZ"
       ]
      },
      {
       "output_type": "stream",
       "stream": "stdout",
       "text": [
        "\n",
        "99: KEN"
       ]
      },
      {
       "output_type": "stream",
       "stream": "stdout",
       "text": [
        "\n",
        "100: KIR"
       ]
      },
      {
       "output_type": "stream",
       "stream": "stdout",
       "text": [
        "\n",
        "101: KWT"
       ]
      },
      {
       "output_type": "stream",
       "stream": "stdout",
       "text": [
        "\n",
        "102: KGZ"
       ]
      },
      {
       "output_type": "stream",
       "stream": "stdout",
       "text": [
        "\n",
        "103: LAO"
       ]
      },
      {
       "output_type": "stream",
       "stream": "stdout",
       "text": [
        "\n",
        "104: LVA"
       ]
      },
      {
       "output_type": "stream",
       "stream": "stdout",
       "text": [
        "\n",
        "105: LBN"
       ]
      },
      {
       "output_type": "stream",
       "stream": "stdout",
       "text": [
        "\n",
        "106: LSO"
       ]
      },
      {
       "output_type": "stream",
       "stream": "stdout",
       "text": [
        "\n",
        "107: LBR"
       ]
      },
      {
       "output_type": "stream",
       "stream": "stdout",
       "text": [
        "\n",
        "108: LBY"
       ]
      },
      {
       "output_type": "stream",
       "stream": "stdout",
       "text": [
        "\n",
        "109: LBY"
       ]
      },
      {
       "output_type": "stream",
       "stream": "stdout",
       "text": [
        "\n",
        "110: LIE"
       ]
      },
      {
       "output_type": "stream",
       "stream": "stdout",
       "text": [
        "\n",
        "111: LTU"
       ]
      },
      {
       "output_type": "stream",
       "stream": "stdout",
       "text": [
        "\n",
        "112: LUX"
       ]
      },
      {
       "output_type": "stream",
       "stream": "stdout",
       "text": [
        "\n",
        "113: MAC"
       ]
      },
      {
       "output_type": "stream",
       "stream": "stdout",
       "text": [
        "\n",
        "114: MDG"
       ]
      },
      {
       "output_type": "stream",
       "stream": "stdout",
       "text": [
        "\n",
        "115: MWI"
       ]
      },
      {
       "output_type": "stream",
       "stream": "stdout",
       "text": [
        "\n",
        "116: MYS"
       ]
      },
      {
       "output_type": "stream",
       "stream": "stdout",
       "text": [
        "\n",
        "117: MDV"
       ]
      },
      {
       "output_type": "stream",
       "stream": "stdout",
       "text": [
        "\n",
        "118: MLI"
       ]
      },
      {
       "output_type": "stream",
       "stream": "stdout",
       "text": [
        "\n",
        "119: MLT"
       ]
      },
      {
       "output_type": "stream",
       "stream": "stdout",
       "text": [
        "\n",
        "120: MHL"
       ]
      },
      {
       "output_type": "stream",
       "stream": "stdout",
       "text": [
        "\n",
        "121: MRT"
       ]
      },
      {
       "output_type": "stream",
       "stream": "stdout",
       "text": [
        "\n",
        "122: MUS"
       ]
      },
      {
       "output_type": "stream",
       "stream": "stdout",
       "text": [
        "\n",
        "123: MEX"
       ]
      },
      {
       "output_type": "stream",
       "stream": "stdout",
       "text": [
        "\n",
        "124: MCO"
       ]
      },
      {
       "output_type": "stream",
       "stream": "stdout",
       "text": [
        "\n",
        "125: MNG"
       ]
      },
      {
       "output_type": "stream",
       "stream": "stdout",
       "text": [
        "\n",
        "126: MNE"
       ]
      },
      {
       "output_type": "stream",
       "stream": "stdout",
       "text": [
        "\n",
        "127: MAR"
       ]
      },
      {
       "output_type": "stream",
       "stream": "stdout",
       "text": [
        "\n",
        "128: MOZ"
       ]
      },
      {
       "output_type": "stream",
       "stream": "stdout",
       "text": [
        "\n",
        "129: MMR"
       ]
      },
      {
       "output_type": "stream",
       "stream": "stdout",
       "text": [
        "\n",
        "130: NAM"
       ]
      },
      {
       "output_type": "stream",
       "stream": "stdout",
       "text": [
        "\n",
        "131: NRU"
       ]
      },
      {
       "output_type": "stream",
       "stream": "stdout",
       "text": [
        "\n",
        "132: NPL"
       ]
      },
      {
       "output_type": "stream",
       "stream": "stdout",
       "text": [
        "\n",
        "133: NLD"
       ]
      },
      {
       "output_type": "stream",
       "stream": "stdout",
       "text": [
        "\n",
        "134: NCL"
       ]
      },
      {
       "output_type": "stream",
       "stream": "stdout",
       "text": [
        "\n",
        "135: NZL"
       ]
      },
      {
       "output_type": "stream",
       "stream": "stdout",
       "text": [
        "\n",
        "136: NIC"
       ]
      },
      {
       "output_type": "stream",
       "stream": "stdout",
       "text": [
        "\n",
        "137: NER"
       ]
      },
      {
       "output_type": "stream",
       "stream": "stdout",
       "text": [
        "\n",
        "138: NGA"
       ]
      },
      {
       "output_type": "stream",
       "stream": "stdout",
       "text": [
        "\n",
        "139: NIU"
       ]
      },
      {
       "output_type": "stream",
       "stream": "stdout",
       "text": [
        "\n",
        "140: NOR"
       ]
      },
      {
       "output_type": "stream",
       "stream": "stdout",
       "text": [
        "\n",
        "141: PSE"
       ]
      },
      {
       "output_type": "stream",
       "stream": "stdout",
       "text": [
        "\n",
        "142: OMN"
       ]
      },
      {
       "output_type": "stream",
       "stream": "stdout",
       "text": [
        "\n",
        "143: PAK"
       ]
      },
      {
       "output_type": "stream",
       "stream": "stdout",
       "text": [
        "\n",
        "144: PLW"
       ]
      },
      {
       "output_type": "stream",
       "stream": "stdout",
       "text": [
        "\n",
        "145: PSE"
       ]
      },
      {
       "output_type": "stream",
       "stream": "stdout",
       "text": [
        "\n",
        "146: PAN"
       ]
      },
      {
       "output_type": "stream",
       "stream": "stdout",
       "text": [
        "\n",
        "147: PNG"
       ]
      },
      {
       "output_type": "stream",
       "stream": "stdout",
       "text": [
        "\n",
        "148: PRY"
       ]
      },
      {
       "output_type": "stream",
       "stream": "stdout",
       "text": [
        "\n",
        "149: PER"
       ]
      },
      {
       "output_type": "stream",
       "stream": "stdout",
       "text": [
        "\n",
        "150: PHL"
       ]
      },
      {
       "output_type": "stream",
       "stream": "stdout",
       "text": [
        "\n",
        "151: BOL"
       ]
      },
      {
       "output_type": "stream",
       "stream": "stdout",
       "text": [
        "\n",
        "152: POL"
       ]
      },
      {
       "output_type": "stream",
       "stream": "stdout",
       "text": [
        "\n",
        "153: PRT"
       ]
      },
      {
       "output_type": "stream",
       "stream": "stdout",
       "text": [
        "\n",
        "154: QAT"
       ]
      },
      {
       "output_type": "stream",
       "stream": "stdout",
       "text": [
        "\n",
        "155: KOR"
       ]
      },
      {
       "output_type": "stream",
       "stream": "stdout",
       "text": [
        "\n",
        "156: MDA"
       ]
      },
      {
       "output_type": "stream",
       "stream": "stdout",
       "text": [
        "\n",
        "157: ROU"
       ]
      },
      {
       "output_type": "stream",
       "stream": "stdout",
       "text": [
        "\n",
        "158: RUS"
       ]
      },
      {
       "output_type": "stream",
       "stream": "stdout",
       "text": [
        "\n",
        "159: RWA"
       ]
      },
      {
       "output_type": "stream",
       "stream": "stdout",
       "text": [
        "\n",
        "160: KNA"
       ]
      },
      {
       "output_type": "stream",
       "stream": "stdout",
       "text": [
        "\n",
        "161: LCA"
       ]
      },
      {
       "output_type": "stream",
       "stream": "stdout",
       "text": [
        "\n",
        "162: VCT"
       ]
      },
      {
       "output_type": "stream",
       "stream": "stdout",
       "text": [
        "\n",
        "163: WSM"
       ]
      },
      {
       "output_type": "stream",
       "stream": "stdout",
       "text": [
        "\n",
        "164: SMR"
       ]
      },
      {
       "output_type": "stream",
       "stream": "stdout",
       "text": [
        "\n",
        "165: STP"
       ]
      },
      {
       "output_type": "stream",
       "stream": "stdout",
       "text": [
        "\n",
        "166: SAU"
       ]
      },
      {
       "output_type": "stream",
       "stream": "stdout",
       "text": [
        "\n",
        "167: SEN"
       ]
      },
      {
       "output_type": "stream",
       "stream": "stdout",
       "text": [
        "\n",
        "168: SRB"
       ]
      },
      {
       "output_type": "stream",
       "stream": "stdout",
       "text": [
        "\n",
        "169: SCG"
       ]
      },
      {
       "output_type": "stream",
       "stream": "stdout",
       "text": [
        "\n",
        "170: SYC"
       ]
      },
      {
       "output_type": "stream",
       "stream": "stdout",
       "text": [
        "\n",
        "171: SLE"
       ]
      },
      {
       "output_type": "stream",
       "stream": "stdout",
       "text": [
        "\n",
        "172: SGP"
       ]
      },
      {
       "output_type": "stream",
       "stream": "stdout",
       "text": [
        "\n",
        "173: SVK"
       ]
      },
      {
       "output_type": "stream",
       "stream": "stdout",
       "text": [
        "\n",
        "174: SVN"
       ]
      },
      {
       "output_type": "stream",
       "stream": "stdout",
       "text": [
        "\n",
        "175: SLB"
       ]
      },
      {
       "output_type": "stream",
       "stream": "stdout",
       "text": [
        "\n",
        "176: SOM"
       ]
      },
      {
       "output_type": "stream",
       "stream": "stdout",
       "text": [
        "\n",
        "177: ZAF"
       ]
      },
      {
       "output_type": "stream",
       "stream": "stdout",
       "text": [
        "\n",
        "178: SSD"
       ]
      },
      {
       "output_type": "stream",
       "stream": "stdout",
       "text": [
        "\n",
        "179: ESP"
       ]
      },
      {
       "output_type": "stream",
       "stream": "stdout",
       "text": [
        "\n",
        "180: LKA"
       ]
      },
      {
       "output_type": "stream",
       "stream": "stdout",
       "text": [
        "\n",
        "181: XXA"
       ]
      },
      {
       "output_type": "stream",
       "stream": "stdout",
       "text": [
        "\n",
        "182: SDN"
       ]
      },
      {
       "output_type": "stream",
       "stream": "stdout",
       "text": [
        "\n",
        "183: SUR"
       ]
      },
      {
       "output_type": "stream",
       "stream": "stdout",
       "text": [
        "\n",
        "184: SWZ"
       ]
      },
      {
       "output_type": "stream",
       "stream": "stdout",
       "text": [
        "\n",
        "185: SWE"
       ]
      },
      {
       "output_type": "stream",
       "stream": "stdout",
       "text": [
        "\n",
        "186: CHE"
       ]
      },
      {
       "output_type": "stream",
       "stream": "stdout",
       "text": [
        "\n",
        "187: SYR"
       ]
      },
      {
       "output_type": "stream",
       "stream": "stdout",
       "text": [
        "\n",
        "188: TJK"
       ]
      },
      {
       "output_type": "stream",
       "stream": "stdout",
       "text": [
        "\n",
        "189: THA"
       ]
      },
      {
       "output_type": "stream",
       "stream": "stdout",
       "text": [
        "\n",
        "190: MKD"
       ]
      },
      {
       "output_type": "stream",
       "stream": "stdout",
       "text": [
        "\n",
        "191: XTB"
       ]
      },
      {
       "output_type": "stream",
       "stream": "stdout",
       "text": [
        "\n",
        "192: TLS"
       ]
      },
      {
       "output_type": "stream",
       "stream": "stdout",
       "text": [
        "\n",
        "193: TGO"
       ]
      },
      {
       "output_type": "stream",
       "stream": "stdout",
       "text": [
        "\n",
        "194: TON"
       ]
      },
      {
       "output_type": "stream",
       "stream": "stdout",
       "text": [
        "\n",
        "195: TTO"
       ]
      },
      {
       "output_type": "stream",
       "stream": "stdout",
       "text": [
        "\n",
        "196: TUN"
       ]
      },
      {
       "output_type": "stream",
       "stream": "stdout",
       "text": [
        "\n",
        "197: TUR"
       ]
      },
      {
       "output_type": "stream",
       "stream": "stdout",
       "text": [
        "\n",
        "198: TKM"
       ]
      },
      {
       "output_type": "stream",
       "stream": "stdout",
       "text": [
        "\n",
        "199: TCA"
       ]
      },
      {
       "output_type": "stream",
       "stream": "stdout",
       "text": [
        "\n",
        "200: TUV"
       ]
      },
      {
       "output_type": "stream",
       "stream": "stdout",
       "text": [
        "\n",
        "201: UGA"
       ]
      },
      {
       "output_type": "stream",
       "stream": "stdout",
       "text": [
        "\n",
        "202: UKR"
       ]
      },
      {
       "output_type": "stream",
       "stream": "stdout",
       "text": [
        "\n",
        "203: ARE"
       ]
      },
      {
       "output_type": "stream",
       "stream": "stdout",
       "text": [
        "\n",
        "204: GBR"
       ]
      },
      {
       "output_type": "stream",
       "stream": "stdout",
       "text": [
        "\n",
        "205: TZA"
       ]
      },
      {
       "output_type": "stream",
       "stream": "stdout",
       "text": [
        "\n",
        "206: USA"
       ]
      },
      {
       "output_type": "stream",
       "stream": "stdout",
       "text": [
        "\n",
        "207: URY"
       ]
      },
      {
       "output_type": "stream",
       "stream": "stdout",
       "text": [
        "\n",
        "208: UZB"
       ]
      },
      {
       "output_type": "stream",
       "stream": "stdout",
       "text": [
        "\n",
        "209: VUT"
       ]
      },
      {
       "output_type": "stream",
       "stream": "stdout",
       "text": [
        "\n",
        "210: XXX"
       ]
      },
      {
       "output_type": "stream",
       "stream": "stdout",
       "text": [
        "\n",
        "211: VNM"
       ]
      },
      {
       "output_type": "stream",
       "stream": "stdout",
       "text": [
        "\n",
        "212: ESH"
       ]
      },
      {
       "output_type": "stream",
       "stream": "stdout",
       "text": [
        "\n",
        "213: YEM"
       ]
      },
      {
       "output_type": "stream",
       "stream": "stdout",
       "text": [
        "\n",
        "214: ZMB"
       ]
      },
      {
       "output_type": "stream",
       "stream": "stdout",
       "text": [
        "\n",
        "215: ZWE"
       ]
      },
      {
       "output_type": "stream",
       "stream": "stdout",
       "text": [
        "\n"
       ]
      }
     ],
     "prompt_number": 38
    },
    {
     "cell_type": "code",
     "collapsed": false,
     "input": [
      "coo = 'AFG'\n",
      "for country_of_residence in countries_of_residence_list:\n",
      "    cor = country_of_residence['country_of_residence']        \n",
      "    if coo != cor:\n",
      "        origins[coo][cor] = {'time_series':[]}\n",
      "        for year in range(2000,2014):\n",
      "            found = False\n",
      "            for time_series in time_series_all_years_list:\n",
      "                if time_series['country_of_origin'] == coo and time_series['country_of_residence'] == cor and year == time_series['year']:\n",
      "                    origins[coo][cor]['time_series'].append(time_series)\n",
      "                    found = True\n",
      "                    break\n",
      "            if not found:\n",
      "                value = {'country_of_origin': coo, 'value': u'0', 'country_of_residence': cor, 'year': year}\n",
      "                origins[coo][cor]['time_series'].append(value)\n"
     ],
     "language": "python",
     "metadata": {},
     "outputs": [],
     "prompt_number": 44
    },
    {
     "cell_type": "code",
     "collapsed": false,
     "input": [
      "i = 0\n",
      "for origin in origin_list:\n",
      "    coo = origin['origin']\n",
      "    print \"%s: %s\" % (i, coo)\n",
      "    i += 1\n",
      "    for country_of_residence in countries_of_residence_list:\n",
      "        cor = country_of_residence['country_of_residence']        \n",
      "        if coo != cor:\n",
      "            for val in origins[coo][cor]['time_series']:\n",
      "                if val['value'] == None:\n",
      "                    val['value'] = 0\n"
     ],
     "language": "python",
     "metadata": {},
     "outputs": [
      {
       "output_type": "stream",
       "stream": "stdout",
       "text": [
        "0: AFG\n",
        "1: ALB\n",
        "2: DZA\n",
        "3: AND\n",
        "4: AGO\n",
        "5: ATG\n",
        "6: ARG\n",
        "7: ARM\n",
        "8: ABW\n",
        "9: AUS\n",
        "10: AUT\n",
        "11: AZE\n",
        "12: BHS\n",
        "13: BHR\n",
        "14: BGD"
       ]
      },
      {
       "output_type": "stream",
       "stream": "stdout",
       "text": [
        "\n",
        "15: BRB\n",
        "16: BLR\n",
        "17: BEL\n",
        "18: BLZ\n",
        "19: BEN\n",
        "20: BMU\n",
        "21: BTN\n",
        "22: VEN\n",
        "23: BIH\n",
        "24: BWA\n",
        "25: BRA\n",
        "26: BRN"
       ]
      },
      {
       "output_type": "stream",
       "stream": "stdout",
       "text": [
        "\n",
        "27: BGR\n",
        "28: BFA\n",
        "29: BDI\n",
        "30: KHM\n",
        "31: CMR\n",
        "32: CAN\n",
        "33: CPV\n",
        "34: CYM\n",
        "35: CAF\n",
        "36: TCD\n",
        "37: CHL\n",
        "38: CHN\n",
        "39: COL"
       ]
      },
      {
       "output_type": "stream",
       "stream": "stdout",
       "text": [
        "\n",
        "40: COM\n",
        "41: COG\n",
        "42: COK\n",
        "43: CRI\n",
        "44: HRV\n",
        "45: CUB\n",
        "46: CUW\n",
        "47: CYP\n",
        "48: CZE\n",
        "49: CIV\n",
        "50: PRK\n",
        "51: COD\n",
        "52: DNK\n",
        "53: DJI\n",
        "54: DMA"
       ]
      },
      {
       "output_type": "stream",
       "stream": "stdout",
       "text": [
        "\n",
        "55: DOM\n",
        "56: ECU\n",
        "57: EGY\n",
        "58: SLV\n",
        "59: GNQ\n",
        "60: ERI\n",
        "61: EST\n",
        "62: ETH\n",
        "63: YUG\n",
        "64: FSM\n",
        "65: FJI\n",
        "66: FIN\n",
        "67: FRA\n",
        "68: GUF\n",
        "69: PYF"
       ]
      },
      {
       "output_type": "stream",
       "stream": "stdout",
       "text": [
        "\n",
        "70: GAB\n",
        "71: GMB\n",
        "72: GEO\n",
        "73: DEU\n",
        "74: GHA\n",
        "75: GIB\n",
        "76: GRC\n",
        "77: GRD\n",
        "78: GTM\n",
        "79: GIN\n",
        "80: GNB\n",
        "81: GUY\n",
        "82: HTI\n",
        "83: VAT\n",
        "84: HND"
       ]
      },
      {
       "output_type": "stream",
       "stream": "stdout",
       "text": [
        "\n",
        "85: HKG\n",
        "86: HUN\n",
        "87: ISL\n",
        "88: IND\n",
        "89: IDN\n",
        "90: IRQ\n",
        "91: IRL\n",
        "92: IRN\n",
        "93: ISR\n",
        "94: ITA\n",
        "95: JAM\n",
        "96: JPN\n",
        "97: JOR\n",
        "98: KAZ\n",
        "99: KEN\n",
        "100: KIR"
       ]
      },
      {
       "output_type": "stream",
       "stream": "stdout",
       "text": [
        "\n",
        "101: KWT\n",
        "102: KGZ\n",
        "103: LAO\n",
        "104: LVA\n",
        "105: LBN\n",
        "106: LSO\n",
        "107: LBR\n",
        "108: LBY\n",
        "109: LBY\n",
        "110: LIE\n",
        "111: LTU\n",
        "112: LUX\n",
        "113: MAC\n",
        "114: MDG\n",
        "115: MWI\n",
        "116: MYS"
       ]
      },
      {
       "output_type": "stream",
       "stream": "stdout",
       "text": [
        "\n",
        "117: MDV\n",
        "118: MLI\n",
        "119: MLT\n",
        "120: MHL\n",
        "121: MRT\n",
        "122: MUS\n",
        "123: MEX\n",
        "124: MCO\n",
        "125: MNG\n",
        "126: MNE\n",
        "127: MAR\n",
        "128: MOZ\n",
        "129: MMR\n",
        "130: NAM\n",
        "131: NRU\n",
        "132: NPL"
       ]
      },
      {
       "output_type": "stream",
       "stream": "stdout",
       "text": [
        "\n",
        "133: NLD\n",
        "134: NCL\n",
        "135: NZL\n",
        "136: NIC\n",
        "137: NER\n",
        "138: NGA\n",
        "139: NIU\n",
        "140: NOR\n",
        "141: PSE\n",
        "142: OMN\n",
        "143: PAK\n",
        "144: PLW\n",
        "145: PSE\n",
        "146: PAN\n",
        "147: PNG"
       ]
      },
      {
       "output_type": "stream",
       "stream": "stdout",
       "text": [
        "\n",
        "148: PRY\n",
        "149: PER\n",
        "150: PHL\n",
        "151: BOL\n",
        "152: POL\n",
        "153: PRT\n",
        "154: QAT\n",
        "155: KOR\n",
        "156: MDA\n",
        "157: ROU\n",
        "158: RUS\n",
        "159: RWA\n",
        "160: KNA\n",
        "161: LCA\n",
        "162: VCT"
       ]
      },
      {
       "output_type": "stream",
       "stream": "stdout",
       "text": [
        "\n",
        "163: WSM\n",
        "164: SMR\n",
        "165: STP\n",
        "166: SAU\n",
        "167: SEN\n",
        "168: SRB\n",
        "169: SCG\n",
        "170: SYC\n",
        "171: SLE\n",
        "172: SGP\n",
        "173: SVK\n",
        "174: SVN\n",
        "175: SLB\n",
        "176: SOM\n",
        "177: ZAF"
       ]
      },
      {
       "output_type": "stream",
       "stream": "stdout",
       "text": [
        "\n",
        "178: SSD\n",
        "179: ESP\n",
        "180: LKA\n",
        "181: XXA\n",
        "182: SDN\n",
        "183: SUR\n",
        "184: SWZ\n",
        "185: SWE\n",
        "186: CHE\n",
        "187: SYR\n",
        "188: TJK\n",
        "189: THA\n",
        "190: MKD\n",
        "191: XTB\n",
        "192: TLS"
       ]
      },
      {
       "output_type": "stream",
       "stream": "stdout",
       "text": [
        "\n",
        "193: TGO\n",
        "194: TON\n",
        "195: TTO\n",
        "196: TUN\n",
        "197: TUR\n",
        "198: TKM\n",
        "199: TCA\n",
        "200: TUV\n",
        "201: UGA\n",
        "202: UKR\n",
        "203: ARE\n",
        "204: GBR\n",
        "205: TZA\n",
        "206: USA\n",
        "207: URY"
       ]
      },
      {
       "output_type": "stream",
       "stream": "stdout",
       "text": [
        "\n",
        "208: UZB\n",
        "209: VUT\n",
        "210: XXX\n",
        "211: VNM\n",
        "212: ESH\n",
        "213: YEM\n",
        "214: ZMB\n",
        "215: ZWE\n"
       ]
      }
     ],
     "prompt_number": 46
    },
    {
     "cell_type": "code",
     "collapsed": false,
     "input": [
      "i = 0\n",
      "for origin in origin_list:\n",
      "    coo = origin['origin']\n",
      "    print \"%s: %s\" % (i, coo)\n",
      "    i += 1\n",
      "    for country_of_residence in countries_of_residence_list:\n",
      "        cor = country_of_residence['country_of_residence']        \n",
      "        if coo != cor:\n",
      "            for val in origins[coo][cor]['time_series']:\n",
      "                val['value'] = int(val['value'])\n"
     ],
     "language": "python",
     "metadata": {},
     "outputs": [
      {
       "output_type": "stream",
       "stream": "stdout",
       "text": [
        "0: AFG\n",
        "1: ALB\n",
        "2: DZA\n",
        "3: AND\n",
        "4: AGO\n",
        "5: ATG\n",
        "6: ARG\n",
        "7: ARM\n",
        "8: ABW\n",
        "9: AUS\n",
        "10: AUT\n",
        "11: AZE\n",
        "12: BHS"
       ]
      },
      {
       "output_type": "stream",
       "stream": "stdout",
       "text": [
        "\n",
        "13: BHR\n",
        "14: BGD\n",
        "15: BRB\n",
        "16: BLR\n",
        "17: BEL\n",
        "18: BLZ\n",
        "19: BEN\n",
        "20: BMU\n",
        "21: BTN\n",
        "22: VEN\n",
        "23: BIH\n",
        "24: BWA\n",
        "25: BRA\n",
        "26: BRN\n",
        "27: BGR\n",
        "28: BFA"
       ]
      },
      {
       "output_type": "stream",
       "stream": "stdout",
       "text": [
        "\n",
        "29: BDI\n",
        "30: KHM\n",
        "31: CMR\n",
        "32: CAN\n",
        "33: CPV\n",
        "34: CYM\n",
        "35: CAF\n",
        "36: TCD\n",
        "37: CHL\n",
        "38: CHN\n",
        "39: COL\n",
        "40: COM\n",
        "41: COG\n",
        "42: COK\n",
        "43: CRI\n",
        "44: HRV"
       ]
      },
      {
       "output_type": "stream",
       "stream": "stdout",
       "text": [
        "\n",
        "45: CUB\n",
        "46: CUW\n",
        "47: CYP\n",
        "48: CZE\n",
        "49: CIV\n",
        "50: PRK\n",
        "51: COD\n",
        "52: DNK\n",
        "53: DJI\n",
        "54: DMA\n",
        "55: DOM\n",
        "56: ECU\n",
        "57: EGY\n",
        "58: SLV\n",
        "59: GNQ\n",
        "60: ERI"
       ]
      },
      {
       "output_type": "stream",
       "stream": "stdout",
       "text": [
        "\n",
        "61: EST\n",
        "62: ETH\n",
        "63: YUG\n",
        "64: FSM\n",
        "65: FJI\n",
        "66: FIN\n",
        "67: FRA\n",
        "68: GUF\n",
        "69: PYF\n",
        "70: GAB\n",
        "71: GMB\n",
        "72: GEO\n",
        "73: DEU\n",
        "74: GHA\n",
        "75: GIB\n",
        "76: GRC\n",
        "77: GRD"
       ]
      },
      {
       "output_type": "stream",
       "stream": "stdout",
       "text": [
        "\n",
        "78: GTM\n",
        "79: GIN\n",
        "80: GNB\n",
        "81: GUY\n",
        "82: HTI\n",
        "83: VAT\n",
        "84: HND\n",
        "85: HKG\n",
        "86: HUN\n",
        "87: ISL\n",
        "88: IND\n",
        "89: IDN\n",
        "90: IRQ\n",
        "91: IRL\n",
        "92: IRN\n",
        "93: ISR\n",
        "94: ITA"
       ]
      },
      {
       "output_type": "stream",
       "stream": "stdout",
       "text": [
        "\n",
        "95: JAM\n",
        "96: JPN\n",
        "97: JOR\n",
        "98: KAZ\n",
        "99: KEN\n",
        "100: KIR\n",
        "101: KWT\n",
        "102: KGZ\n",
        "103: LAO\n",
        "104: LVA\n",
        "105: LBN\n",
        "106: LSO\n",
        "107: LBR\n",
        "108: LBY\n",
        "109: LBY\n",
        "110: LIE\n",
        "111: LTU"
       ]
      },
      {
       "output_type": "stream",
       "stream": "stdout",
       "text": [
        "\n",
        "112: LUX\n",
        "113: MAC\n",
        "114: MDG\n",
        "115: MWI\n",
        "116: MYS\n",
        "117: MDV\n",
        "118: MLI\n",
        "119: MLT\n",
        "120: MHL\n",
        "121: MRT\n",
        "122: MUS\n",
        "123: MEX\n",
        "124: MCO\n",
        "125: MNG\n",
        "126: MNE\n",
        "127: MAR\n",
        "128: MOZ"
       ]
      },
      {
       "output_type": "stream",
       "stream": "stdout",
       "text": [
        "\n",
        "129: MMR\n",
        "130: NAM\n",
        "131: NRU\n",
        "132: NPL\n",
        "133: NLD\n",
        "134: NCL\n",
        "135: NZL\n",
        "136: NIC\n",
        "137: NER\n",
        "138: NGA\n",
        "139: NIU\n",
        "140: NOR\n",
        "141: PSE\n",
        "142: OMN\n",
        "143: PAK\n",
        "144: PLW\n",
        "145: PSE"
       ]
      },
      {
       "output_type": "stream",
       "stream": "stdout",
       "text": [
        "\n",
        "146: PAN\n",
        "147: PNG\n",
        "148: PRY\n",
        "149: PER\n",
        "150: PHL\n",
        "151: BOL\n",
        "152: POL\n",
        "153: PRT\n",
        "154: QAT\n",
        "155: KOR\n",
        "156: MDA\n",
        "157: ROU\n",
        "158: RUS\n",
        "159: RWA\n",
        "160: KNA\n",
        "161: LCA\n",
        "162: VCT"
       ]
      },
      {
       "output_type": "stream",
       "stream": "stdout",
       "text": [
        "\n",
        "163: WSM\n",
        "164: SMR\n",
        "165: STP\n",
        "166: SAU\n",
        "167: SEN\n",
        "168: SRB\n",
        "169: SCG\n",
        "170: SYC\n",
        "171: SLE\n",
        "172: SGP\n",
        "173: SVK\n",
        "174: SVN\n",
        "175: SLB\n",
        "176: SOM\n",
        "177: ZAF\n",
        "178: SSD\n",
        "179: ESP"
       ]
      },
      {
       "output_type": "stream",
       "stream": "stdout",
       "text": [
        "\n",
        "180: LKA\n",
        "181: XXA\n",
        "182: SDN\n",
        "183: SUR\n",
        "184: SWZ\n",
        "185: SWE\n",
        "186: CHE\n",
        "187: SYR\n",
        "188: TJK\n",
        "189: THA\n",
        "190: MKD\n",
        "191: XTB\n",
        "192: TLS\n",
        "193: TGO\n",
        "194: TON\n",
        "195: TTO\n",
        "196: TUN"
       ]
      },
      {
       "output_type": "stream",
       "stream": "stdout",
       "text": [
        "\n",
        "197: TUR\n",
        "198: TKM\n",
        "199: TCA\n",
        "200: TUV\n",
        "201: UGA\n",
        "202: UKR\n",
        "203: ARE\n",
        "204: GBR\n",
        "205: TZA\n",
        "206: USA\n",
        "207: URY\n",
        "208: UZB\n",
        "209: VUT\n",
        "210: XXX\n",
        "211: VNM\n",
        "212: ESH"
       ]
      },
      {
       "output_type": "stream",
       "stream": "stdout",
       "text": [
        "\n",
        "213: YEM\n",
        "214: ZMB\n",
        "215: ZWE\n"
       ]
      }
     ],
     "prompt_number": 47
    },
    {
     "cell_type": "code",
     "collapsed": false,
     "input": [
      "origins['IRN']['DEU']"
     ],
     "language": "python",
     "metadata": {},
     "outputs": [
      {
       "metadata": {},
       "output_type": "pyout",
       "prompt_number": 51,
       "text": [
        "{'time_series': [{'country_of_origin': u'IRN',\n",
        "   'country_of_residence': u'DEU',\n",
        "   'value': 0,\n",
        "   'year': 2000},\n",
        "  {'country_of_origin': u'IRN',\n",
        "   'country_of_residence': u'DEU',\n",
        "   'value': 0,\n",
        "   'year': 2001},\n",
        "  {u'country_of_origin': u'IRN',\n",
        "   u'country_of_origin_en': u'Islamic Republic of Iran',\n",
        "   u'country_of_residence': u'DEU',\n",
        "   u'country_of_residence_en': u'Germany',\n",
        "   u'value': 51538,\n",
        "   u'year': 2002},\n",
        "  {u'country_of_origin': u'IRN',\n",
        "   u'country_of_origin_en': u'Islamic Republic of Iran',\n",
        "   u'country_of_residence': u'DEU',\n",
        "   u'country_of_residence_en': u'Germany',\n",
        "   u'value': 47131,\n",
        "   u'year': 2003},\n",
        "  {u'country_of_origin': u'IRN',\n",
        "   u'country_of_origin_en': u'Islamic Republic of Iran',\n",
        "   u'country_of_residence': u'DEU',\n",
        "   u'country_of_residence_en': u'Germany',\n",
        "   u'value': 39904,\n",
        "   u'year': 2004},\n",
        "  {u'country_of_origin': u'IRN',\n",
        "   u'country_of_origin_en': u'Islamic Republic of Iran',\n",
        "   u'country_of_residence': u'DEU',\n",
        "   u'country_of_residence_en': u'Germany',\n",
        "   u'value': 24016,\n",
        "   u'year': 2005},\n",
        "  {u'country_of_origin': u'IRN',\n",
        "   u'country_of_origin_en': u'Islamic Republic of Iran',\n",
        "   u'country_of_residence': u'DEU',\n",
        "   u'country_of_residence_en': u'Germany',\n",
        "   u'value': 13213,\n",
        "   u'year': 2006},\n",
        "  {u'country_of_origin': u'IRN',\n",
        "   u'country_of_origin_en': u'Islamic Republic of Iran',\n",
        "   u'country_of_residence': u'DEU',\n",
        "   u'country_of_residence_en': u'Germany',\n",
        "   u'value': 15123,\n",
        "   u'year': 2007},\n",
        "  {u'country_of_origin': u'IRN',\n",
        "   u'country_of_origin_en': u'Islamic Republic of Iran',\n",
        "   u'country_of_residence': u'DEU',\n",
        "   u'country_of_residence_en': u'Germany',\n",
        "   u'value': 15816,\n",
        "   u'year': 2008},\n",
        "  {u'country_of_origin': u'IRN',\n",
        "   u'country_of_origin_en': u'Islamic Republic of Iran',\n",
        "   u'country_of_residence': u'DEU',\n",
        "   u'country_of_residence_en': u'Germany',\n",
        "   u'value': 20226,\n",
        "   u'year': 2009},\n",
        "  {u'country_of_origin': u'IRN',\n",
        "   u'country_of_origin_en': u'Islamic Republic of Iran',\n",
        "   u'country_of_residence': u'DEU',\n",
        "   u'country_of_residence_en': u'Germany',\n",
        "   u'value': 20444,\n",
        "   u'year': 2010},\n",
        "  {u'country_of_origin': u'IRN',\n",
        "   u'country_of_origin_en': u'Islamic Republic of Iran',\n",
        "   u'country_of_residence': u'DEU',\n",
        "   u'country_of_residence_en': u'Germany',\n",
        "   u'value': 20462,\n",
        "   u'year': 2011},\n",
        "  {u'country_of_origin': u'IRN',\n",
        "   u'country_of_origin_en': u'Islamic Republic of Iran',\n",
        "   u'country_of_residence': u'DEU',\n",
        "   u'country_of_residence_en': u'Germany',\n",
        "   u'value': 21629,\n",
        "   u'year': 2012},\n",
        "  {u'country_of_origin': u'IRN',\n",
        "   u'country_of_origin_en': u'Islamic Republic of Iran',\n",
        "   u'country_of_residence': u'DEU',\n",
        "   u'country_of_residence_en': u'Germany',\n",
        "   u'value': 17150,\n",
        "   u'year': 2013}]}"
       ]
      }
     ],
     "prompt_number": 51
    },
    {
     "cell_type": "code",
     "collapsed": false,
     "input": [
      "i = 0\n",
      "for origin in origin_list:\n",
      "    coo = origin['origin']\n",
      "    origins[coo]['sum_time_series'] = [0,0,0,0,0,0,0,0,0,0,0,0,0,0]\n",
      "    print \"%s: %s\" % (i, coo)\n",
      "    i += 1\n",
      "    for country_of_residence in countries_of_residence_list:\n",
      "        cor = country_of_residence['country_of_residence']        \n",
      "        if coo != cor:\n",
      "            for j in range(0,len(origins[coo][cor]['time_series'])):\n",
      "                origins[coo]['sum_time_series'][j] += origins[coo][cor]['time_series'][j]['value']\n",
      "                "
     ],
     "language": "python",
     "metadata": {},
     "outputs": [
      {
       "output_type": "stream",
       "stream": "stdout",
       "text": [
        "0: AFG\n",
        "1: ALB\n",
        "2: DZA\n",
        "3: AND\n",
        "4: AGO\n",
        "5: ATG\n",
        "6: ARG\n",
        "7: ARM\n",
        "8: ABW\n",
        "9: AUS\n",
        "10: AUT\n",
        "11: AZE\n",
        "12: BHS\n",
        "13: BHR\n",
        "14: BGD\n",
        "15: BRB\n",
        "16: BLR\n",
        "17: BEL\n",
        "18: BLZ\n",
        "19: BEN\n",
        "20: BMU\n",
        "21: BTN\n",
        "22: VEN\n",
        "23: BIH\n",
        "24: BWA\n",
        "25: BRA"
       ]
      },
      {
       "output_type": "stream",
       "stream": "stdout",
       "text": [
        "\n",
        "26: BRN\n",
        "27: BGR\n",
        "28: BFA\n",
        "29: BDI\n",
        "30: KHM\n",
        "31: CMR\n",
        "32: CAN\n",
        "33: CPV\n",
        "34: CYM\n",
        "35: CAF\n",
        "36: TCD\n",
        "37: CHL\n",
        "38: CHN\n",
        "39: COL\n",
        "40: COM\n",
        "41: COG\n",
        "42: COK\n",
        "43: CRI\n",
        "44: HRV\n",
        "45: CUB\n",
        "46: CUW\n",
        "47: CYP\n",
        "48: CZE\n",
        "49: CIV\n",
        "50: PRK\n",
        "51: COD\n",
        "52: DNK"
       ]
      },
      {
       "output_type": "stream",
       "stream": "stdout",
       "text": [
        "\n",
        "53: DJI\n",
        "54: DMA\n",
        "55: DOM\n",
        "56: ECU\n",
        "57: EGY\n",
        "58: SLV\n",
        "59: GNQ\n",
        "60: ERI\n",
        "61: EST\n",
        "62: ETH\n",
        "63: YUG\n",
        "64: FSM\n",
        "65: FJI\n",
        "66: FIN\n",
        "67: FRA\n",
        "68: GUF\n",
        "69: PYF\n",
        "70: GAB\n",
        "71: GMB\n",
        "72: GEO\n",
        "73: DEU\n",
        "74: GHA\n",
        "75: GIB\n",
        "76: GRC\n",
        "77: GRD\n",
        "78: GTM\n",
        "79: GIN\n",
        "80: GNB"
       ]
      },
      {
       "output_type": "stream",
       "stream": "stdout",
       "text": [
        "\n",
        "81: GUY\n",
        "82: HTI\n",
        "83: VAT\n",
        "84: HND\n",
        "85: HKG\n",
        "86: HUN\n",
        "87: ISL\n",
        "88: IND\n",
        "89: IDN\n",
        "90: IRQ\n",
        "91: IRL\n",
        "92: IRN\n",
        "93: ISR\n",
        "94: ITA\n",
        "95: JAM\n",
        "96: JPN\n",
        "97: JOR\n",
        "98: KAZ\n",
        "99: KEN\n",
        "100: KIR\n",
        "101: KWT\n",
        "102: KGZ\n",
        "103: LAO\n",
        "104: LVA\n",
        "105: LBN\n",
        "106: LSO\n",
        "107: LBR\n",
        "108: LBY\n",
        "109: LBY"
       ]
      },
      {
       "output_type": "stream",
       "stream": "stdout",
       "text": [
        "\n",
        "110: LIE\n",
        "111: LTU\n",
        "112: LUX\n",
        "113: MAC\n",
        "114: MDG\n",
        "115: MWI\n",
        "116: MYS\n",
        "117: MDV\n",
        "118: MLI\n",
        "119: MLT\n",
        "120: MHL\n",
        "121: MRT\n",
        "122: MUS\n",
        "123: MEX\n",
        "124: MCO\n",
        "125: MNG\n",
        "126: MNE\n",
        "127: MAR\n",
        "128: MOZ\n",
        "129: MMR\n",
        "130: NAM\n",
        "131: NRU\n",
        "132: NPL\n",
        "133: NLD\n",
        "134: NCL\n",
        "135: NZL\n",
        "136: NIC\n",
        "137: NER\n",
        "138: NGA\n",
        "139: NIU"
       ]
      },
      {
       "output_type": "stream",
       "stream": "stdout",
       "text": [
        "\n",
        "140: NOR\n",
        "141: PSE\n",
        "142: OMN\n",
        "143: PAK\n",
        "144: PLW\n",
        "145: PSE\n",
        "146: PAN\n",
        "147: PNG\n",
        "148: PRY\n",
        "149: PER\n",
        "150: PHL\n",
        "151: BOL\n",
        "152: POL\n",
        "153: PRT\n",
        "154: QAT\n",
        "155: KOR\n",
        "156: MDA\n",
        "157: ROU\n",
        "158: RUS\n",
        "159: RWA\n",
        "160: KNA\n",
        "161: LCA\n",
        "162: VCT\n",
        "163: WSM\n",
        "164: SMR\n",
        "165: STP\n",
        "166: SAU\n",
        "167: SEN\n",
        "168: SRB"
       ]
      },
      {
       "output_type": "stream",
       "stream": "stdout",
       "text": [
        "\n",
        "169: SCG\n",
        "170: SYC\n",
        "171: SLE\n",
        "172: SGP\n",
        "173: SVK\n",
        "174: SVN\n",
        "175: SLB\n",
        "176: SOM\n",
        "177: ZAF\n",
        "178: SSD\n",
        "179: ESP\n",
        "180: LKA\n",
        "181: XXA\n",
        "182: SDN\n",
        "183: SUR\n",
        "184: SWZ\n",
        "185: SWE\n",
        "186: CHE\n",
        "187: SYR\n",
        "188: TJK\n",
        "189: THA\n",
        "190: MKD\n",
        "191: XTB\n",
        "192: TLS\n",
        "193: TGO\n",
        "194: TON\n",
        "195: TTO"
       ]
      },
      {
       "output_type": "stream",
       "stream": "stdout",
       "text": [
        "\n",
        "196: TUN\n",
        "197: TUR\n",
        "198: TKM\n",
        "199: TCA\n",
        "200: TUV\n",
        "201: UGA\n",
        "202: UKR\n",
        "203: ARE\n",
        "204: GBR\n",
        "205: TZA\n",
        "206: USA\n",
        "207: URY\n",
        "208: UZB\n",
        "209: VUT\n",
        "210: XXX\n",
        "211: VNM\n",
        "212: ESH\n",
        "213: YEM\n",
        "214: ZMB\n",
        "215: ZWE\n"
       ]
      }
     ],
     "prompt_number": 60
    },
    {
     "cell_type": "code",
     "collapsed": false,
     "input": [
      "origins['AFG']['sum_time_series']"
     ],
     "language": "python",
     "metadata": {},
     "outputs": [
      {
       "metadata": {},
       "output_type": "pyout",
       "prompt_number": 62,
       "text": [
        "[3587336,\n",
        " 3809767,\n",
        " 2510285,\n",
        " 2136043,\n",
        " 2414468,\n",
        " 2166149,\n",
        " 2107519,\n",
        " 1909911,\n",
        " 2833128,\n",
        " 2887124,\n",
        " 3054709,\n",
        " 2664436,\n",
        " 2586152,\n",
        " 2556522]"
       ]
      }
     ],
     "prompt_number": 62
    },
    {
     "cell_type": "code",
     "collapsed": false,
     "input": [
      "totals_2000 = {}\n",
      "for origin in origin_list:\n",
      "    coo = origin['origin']\n",
      "    totals_2000[coo] = origins[coo]['sum_time_series'][0]\n",
      "sorted_totals_2000 = sorted(totals_2000.items(), key=operator.itemgetter(1))\n",
      "sorted_totals_2000[len(sorted_totals_2000) - 20:len(sorted_totals_2000)]"
     ],
     "language": "python",
     "metadata": {},
     "outputs": [
      {
       "metadata": {},
       "output_type": "pyout",
       "prompt_number": 74,
       "text": [
        "[(u'TLS', 122202),\n",
        " (u'LKA', 124160),\n",
        " (u'MMR', 137128),\n",
        " (u'YUG', 146748),\n",
        " (u'ESH', 165810),\n",
        " (u'LBR', 266930),\n",
        " (u'AZE', 284277),\n",
        " (u'HRV', 335199),\n",
        " (u'VNM', 370758),\n",
        " (u'COD', 371713),\n",
        " (u'ERI', 376851),\n",
        " (u'SLE', 402909),\n",
        " (u'AGO', 433760),\n",
        " (u'BIH', 474981),\n",
        " (u'SOM', 478546),\n",
        " (u'SDN', 494373),\n",
        " (u'IRQ', 526208),\n",
        " (u'BDI', 568084),\n",
        " (u'XXX', 1084270),\n",
        " (u'AFG', 3587336)]"
       ]
      }
     ],
     "prompt_number": 74
    },
    {
     "cell_type": "code",
     "collapsed": false,
     "input": [
      "totals_2001 = {}\n",
      "for origin in origin_list:\n",
      "    coo = origin['origin']\n",
      "    totals_2001[coo] = origins[coo]['sum_time_series'][1]\n",
      "sorted_totals_2001 = sorted(totals_2001.items(), key=operator.itemgetter(1))\n",
      "sorted_totals_2001[len(sorted_totals_2001) - 20:len(sorted_totals_2001)]"
     ],
     "language": "python",
     "metadata": {},
     "outputs": [
      {
       "metadata": {},
       "output_type": "pyout",
       "prompt_number": 75,
       "text": [
        "[(u'LKA', 122420),\n",
        " (u'YUG', 144231),\n",
        " (u'MMR', 145856),\n",
        " (u'ESH', 165910),\n",
        " (u'SLE', 179220),\n",
        " (u'LBR', 244608),\n",
        " (u'AZE', 268759),\n",
        " (u'HRV', 290279),\n",
        " (u'ERI', 333229),\n",
        " (u'VNM', 353224),\n",
        " (u'PSE', 357745),\n",
        " (u'COD', 392146),\n",
        " (u'SOM', 443040),\n",
        " (u'BIH', 447321),\n",
        " (u'AGO', 470625),\n",
        " (u'SDN', 489960),\n",
        " (u'IRQ', 530566),\n",
        " (u'BDI', 553999),\n",
        " (u'XXX', 1014701),\n",
        " (u'AFG', 3809767)]"
       ]
      }
     ],
     "prompt_number": 75
    },
    {
     "cell_type": "code",
     "collapsed": false,
     "input": [
      "top_20_totals = []\n",
      "for i in range(0,14):\n",
      "    totals = {}\n",
      "    for origin in origin_list:\n",
      "        coo = origin['origin']\n",
      "        if coo != \"XXX\" and coo != \"SCG\" and coo != \"YUG\":\n",
      "            totals[coo] = origins[coo]['sum_time_series'][i]\n",
      "    sorted_totals = sorted(totals.items(), key=operator.itemgetter(1))\n",
      "    top_20_totals.append(sorted_totals[len(sorted_totals) - 20:len(sorted_totals)])"
     ],
     "language": "python",
     "metadata": {},
     "outputs": [],
     "prompt_number": 94
    },
    {
     "cell_type": "code",
     "collapsed": false,
     "input": [
      "total_sums = []\n",
      "for top_20 in top_20_totals:\n",
      "    total = 0\n",
      "    for value in top_20:\n",
      "        total += value[1]\n",
      "    total_sums.append(total)\n",
      "total_sums"
     ],
     "language": "python",
     "metadata": {},
     "outputs": [
      {
       "metadata": {},
       "output_type": "pyout",
       "prompt_number": 99,
       "text": [
        "[9759423,\n",
        " 9826928,\n",
        " 8574472,\n",
        " 7693480,\n",
        " 7760012,\n",
        " 6938257,\n",
        " 8234376,\n",
        " 8329666,\n",
        " 9119830,\n",
        " 9041688,\n",
        " 9228738,\n",
        " 9077468,\n",
        " 9072763,\n",
        " 10517823]"
       ]
      }
     ],
     "prompt_number": 99
    },
    {
     "cell_type": "code",
     "collapsed": false,
     "input": [
      "geojson = {}\n",
      "polys = {}\n",
      "centroids = {}\n",
      "for totals in top_20_totals:\n",
      "    for value in totals:\n",
      "        coo = value[0]\n",
      "        if not geojson.has_key(coo):\n",
      "            filename = \"capture/%s/%s_adm0.geojson\" % (coo, coo)\n",
      "            with open(filename) as f:\n",
      "                geojson[coo] = json.load(f)\n",
      "                polys[coo] = shape(geojson[coo]['features'][0]['geometry'])\n",
      "                centroids[coo] = polys[coo].centroid.__geo_interface__['coordinates']\n"
     ],
     "language": "python",
     "metadata": {},
     "outputs": [],
     "prompt_number": 102
    },
    {
     "cell_type": "code",
     "collapsed": false,
     "input": [
      "for coo in geojson.keys():\n",
      "    for country_of_residence in countries_of_residence_list:\n",
      "        cor = country_of_residence['country_of_residence']\n",
      "        if coo != cor:\n",
      "            time_series = origins[coo][cor]['time_series']\n",
      "            sum_time_series = 0\n",
      "            for i in range(0,14):\n",
      "                sum_time_series += time_series[i]['value']\n",
      "            origins[coo][cor]['sum_time_series'] = sum_time_series\n"
     ],
     "language": "python",
     "metadata": {},
     "outputs": [],
     "prompt_number": 131
    },
    {
     "cell_type": "code",
     "collapsed": false,
     "input": [
      "for coo in geojson.keys():\n",
      "    for country_of_residence in countries_of_residence_list:\n",
      "        cor = country_of_residence['country_of_residence']\n",
      "        if coo != cor and cor != \"XXX\" and cor != \"SCG\" and cor != \"YUG\":\n",
      "            sum_time_series = origins[coo][cor]['sum_time_series']\n",
      "            if sum_time_series > 100:\n",
      "                if not geojson.has_key(cor):\n",
      "                    filename = \"capture/%s/%s_adm0.geojson\" % (cor, cor)\n",
      "                    with open(filename) as f:\n",
      "                        geojson[cor] = json.load(f)\n",
      "                        polys[cor] = shape(geojson[cor]['features'][0]['geometry'])\n",
      "                        centroids[cor] = polys[cor].centroid.__geo_interface__['coordinates']\n"
     ],
     "language": "python",
     "metadata": {},
     "outputs": [],
     "prompt_number": 134
    },
    {
     "cell_type": "code",
     "collapsed": false,
     "input": [
      "top_20_coo = {}\n",
      "for top_20 in top_20_totals:\n",
      "    for value in top_20:\n",
      "        coo = value[0]\n",
      "        if not top_20_coo.has_key(coo):\n",
      "            top_20_coo[coo] = True\n"
     ],
     "language": "python",
     "metadata": {},
     "outputs": [],
     "prompt_number": 147
    },
    {
     "cell_type": "code",
     "collapsed": false,
     "input": [],
     "language": "python",
     "metadata": {},
     "outputs": [],
     "prompt_number": 323
    },
    {
     "cell_type": "code",
     "collapsed": false,
     "input": [
      "import json\n",
      "with open('origins.json', 'w') as outfile:\n",
      "    json.dump(origins, outfile)"
     ],
     "language": "python",
     "metadata": {},
     "outputs": [],
     "prompt_number": 172
    },
    {
     "cell_type": "code",
     "collapsed": false,
     "input": [
      "points = randomMercatorPoints(polys['AFG'], 100)"
     ],
     "language": "python",
     "metadata": {},
     "outputs": [],
     "prompt_number": 188
    },
    {
     "cell_type": "code",
     "collapsed": false,
     "input": [
      "random_points = {}\n",
      "for coo in top_20_coo.keys():\n",
      "    print coo\n",
      "    random_mid_points[coo] = []\n",
      "    print \"Generating 10 random points in %s\" % coo\n",
      "    random_points[coo] = randomMercatorPoints(coo, 10, False)\n"
     ],
     "language": "python",
     "metadata": {},
     "outputs": [
      {
       "output_type": "stream",
       "stream": "stdout",
       "text": [
        "AGO\n",
        "Generating 10 random points in AGO\n",
        "SRB\n",
        "Generating 10 random points in SRB\n",
        "AZE\n",
        "Generating 10 random points in AZE\n",
        "LKA\n",
        "Generating 10 random points in LKA\n",
        "COD\n",
        "Generating 10 random points in COD\n",
        "ETH\n",
        "Generating 10 random points in ETH\n",
        "MMR\n",
        "Generating 10 random points in MMR\n",
        "ERI\n",
        "Generating 10 random points in ERI\n",
        "LBR\n",
        "Generating 10 random points in LBR\n",
        "BIH\n",
        "Generating 10 random points in BIH\n",
        "VNM\n",
        "Generating 10 random points in VNM\n",
        "SOM\n",
        "Generating 10 random points in SOM\n",
        "MLI\n",
        "Generating 10 random points in MLI\n",
        "CAF\n",
        "Generating 10 random points in CAF\n",
        "TLS\n",
        "Generating 10 random points in TLS\n",
        "AFG\n",
        "Generating 10 random points in AFG\n",
        "IRQ\n",
        "Generating 10 random points in IRQ\n",
        "HRV\n",
        "Generating 10 random points in HRV\n",
        "BDI\n",
        "Generating 10 random points in BDI\n",
        "CHN\n",
        "Generating 10 random points in CHN\n",
        "COL"
       ]
      },
      {
       "output_type": "stream",
       "stream": "stdout",
       "text": [
        "\n",
        "Generating 10 random points in COL\n",
        "IRN\n",
        "Generating 10 random points in IRN\n",
        "SSD\n",
        "Generating 10 random points in SSD\n",
        "SLE\n",
        "Generating 10 random points in SLE\n",
        "ESH\n",
        "Generating 10 random points in ESH\n",
        "RWA\n",
        "Generating 10 random points in RWA\n",
        "TUR\n",
        "Generating 10 random points in TUR\n",
        "PSE\n",
        "Generating 10 random points in PSE\n",
        "SYR\n",
        "Generating 10 random points in SYR\n",
        "RUS\n",
        "Generating 10 random points in RUS\n",
        "SDN"
       ]
      },
      {
       "output_type": "stream",
       "stream": "stdout",
       "text": [
        "\n",
        "Generating 10 random points in SDN\n",
        "BTN\n",
        "Generating 10 random points in BTN\n",
        "CIV\n",
        "Generating 10 random points in CIV\n"
       ]
      }
     ],
     "prompt_number": 328
    },
    {
     "cell_type": "code",
     "collapsed": false,
     "input": [
      "len(random_points.keys())"
     ],
     "language": "python",
     "metadata": {},
     "outputs": [
      {
       "metadata": {},
       "output_type": "pyout",
       "prompt_number": 329,
       "text": [
        "33"
       ]
      }
     ],
     "prompt_number": 329
    },
    {
     "cell_type": "code",
     "collapsed": false,
     "input": [
      "for coo in top_20_coo.keys():\n",
      "    print \"Working on %s\" % coo\n",
      "    for country_of_residence in countries_of_residence_list:\n",
      "        cor = country_of_residence['country_of_residence']\n",
      "        if coo != cor and cor != \"XXX\" and cor != \"SCG\" and cor != \"YUG\" and not random_points.has_key(cor):\n",
      "            sum_time_series = origins[coo][cor]['sum_time_series']\n",
      "            if sum_time_series > 100:\n",
      "                random_points[cor] = []\n",
      "                print \"Generating 10 random points in %s\" % cor\n",
      "                random_points[cor] = randomMercatorPoints(cor, 10, False)\n"
     ],
     "language": "python",
     "metadata": {},
     "outputs": [
      {
       "output_type": "stream",
       "stream": "stdout",
       "text": [
        "Working on AGO\n",
        "Generating 10 random points in ARG\n",
        "Generating 10 random points in AUT"
       ]
      },
      {
       "output_type": "stream",
       "stream": "stdout",
       "text": [
        "\n",
        "Generating 10 random points in BEL\n",
        "Generating 10 random points in BWA\n",
        "Generating 10 random points in BRA\n",
        "Generating 10 random points in CMR"
       ]
      },
      {
       "output_type": "stream",
       "stream": "stdout",
       "text": [
        "\n",
        "Generating 10 random points in CAN\n",
        "Generating 10 random points in COG"
       ]
      },
      {
       "output_type": "stream",
       "stream": "stdout",
       "text": [
        "\n",
        "Generating 10 random points in CZE\n",
        "Generating 10 random points in DNK\n",
        "Generating 10 random points in FIN\n",
        "Generating 10 random points in FRA\n",
        "Generating 10 random points in GAB\n",
        "Generating 10 random points in DEU\n",
        "Generating 10 random points in HUN\n",
        "Generating 10 random points in IRL\n",
        "Generating 10 random points in ITA\n",
        "Generating 10 random points in NAM\n",
        "Generating 10 random points in NLD\n",
        "Generating 10 random points in NGA\n",
        "Generating 10 random points in NOR\n",
        "Generating 10 random points in PRT\n",
        "Generating 10 random points in SVK\n",
        "Generating 10 random points in ZAF\n",
        "Generating 10 random points in ESP\n",
        "Generating 10 random points in SWZ\n",
        "Generating 10 random points in SWE\n",
        "Generating 10 random points in CHE\n",
        "Generating 10 random points in UKR\n",
        "Generating 10 random points in GBR\n",
        "Generating 10 random points in USA\n",
        "Generating 10 random points in ZMB"
       ]
      },
      {
       "output_type": "stream",
       "stream": "stdout",
       "text": [
        "\n",
        "Generating 10 random points in ZWE\n",
        "Working on SRB\n",
        "Generating 10 random points in ALB\n",
        "Generating 10 random points in AUS\n",
        "Generating 10 random points in BGR"
       ]
      },
      {
       "output_type": "stream",
       "stream": "stdout",
       "text": [
        "\n",
        "Generating 10 random points in CYP\n",
        "Generating 10 random points in GRC\n",
        "Generating 10 random points in ISL\n",
        "Generating 10 random points in LIE\n",
        "Generating 10 random points in LUX\n",
        "Generating 10 random points in MLT\n",
        "Generating 10 random points in MNE\n",
        "Generating 10 random points in PER\n",
        "Generating 10 random points in ROU\n",
        "Generating 10 random points in SVN\n",
        "Generating 10 random points in MKD\n",
        "Working on AZE\n",
        "Generating 10 random points in ARM\n",
        "Generating 10 random points in BLR\n",
        "Generating 10 random points in TKM\n",
        "Working on LKA\n",
        "Generating 10 random points in ECU\n",
        "Generating 10 random points in HKG\n",
        "Generating 10 random points in IND\n",
        "Generating 10 random points in IDN"
       ]
      },
      {
       "output_type": "stream",
       "stream": "stdout",
       "text": [
        "\n",
        "Generating 10 random points in JPN\n",
        "Generating 10 random points in MYS\n",
        "Generating 10 random points in MEX\n",
        "Generating 10 random points in NZL\n",
        "Generating 10 random points in PHL\n",
        "Generating 10 random points in POL\n",
        "Generating 10 random points in THA\n",
        "Working on COD\n",
        "Generating 10 random points in DZA\n",
        "Generating 10 random points in BEN"
       ]
      },
      {
       "output_type": "stream",
       "stream": "stdout",
       "text": [
        "\n",
        "Generating 10 random points in BFA\n",
        "Generating 10 random points in TCD\n",
        "Generating 10 random points in EGY\n",
        "Generating 10 random points in GMB\n",
        "Generating 10 random points in GHA\n",
        "Generating 10 random points in GIN\n",
        "Generating 10 random points in ISR\n",
        "Generating 10 random points in KEN\n",
        "Generating 10 random points in LBY\n",
        "Generating 10 random points in MWI\n",
        "Generating 10 random points in MRT\n",
        "Generating 10 random points in MAR\n",
        "Generating 10 random points in MOZ\n",
        "Generating 10 random points in NER\n",
        "Generating 10 random points in KOR\n",
        "Generating 10 random points in SEN\n",
        "Generating 10 random points in TGO\n",
        "Generating 10 random points in UGA\n",
        "Generating 10 random points in TZA\n",
        "Working on ETH\n",
        "Generating 10 random points in CUB\n",
        "Generating 10 random points in DJI\n",
        "Generating 10 random points in LBN\n",
        "Generating 10 random points in TUN\n",
        "Generating 10 random points in YEM\n",
        "Working on MMR\n",
        "Generating 10 random points in BGD\n",
        "Generating 10 random points in NPL\n",
        "Generating 10 random points in PAK\n",
        "Working on ERI\n",
        "Generating 10 random points in SAU\n",
        "Working on LBR\n",
        "Generating 10 random points in GNB\n",
        "Working on BIH\n",
        "Generating 10 random points in JOR\n",
        "Working on VNM\n",
        "Generating 10 random points in KHM\n",
        "Working on SOM\n",
        "Generating 10 random points in KWT\n",
        "Generating 10 random points in LTU\n",
        "Generating 10 random points in ARE\n",
        "Working on MLI\n",
        "Working on CAF\n",
        "Working on TLS\n",
        "Working on AFG\n",
        "Generating 10 random points in CHL\n",
        "Generating 10 random points in EST\n",
        "Generating 10 random points in KAZ\n",
        "Generating 10 random points in KGZ"
       ]
      },
      {
       "output_type": "stream",
       "stream": "stdout",
       "text": [
        "\n",
        "Generating 10 random points in LVA\n",
        "Generating 10 random points in QAT\n",
        "Generating 10 random points in MDA\n",
        "Generating 10 random points in TJK\n",
        "Generating 10 random points in UZB\n",
        "Working on IRQ\n",
        "Generating 10 random points in BHR\n",
        "Generating 10 random points in OMN\n",
        "Generating 10 random points in BOL\n",
        "Working on HRV\n",
        "Working on BDI\n",
        "Working on CHN\n",
        "Working on COL\n",
        "Generating 10 random points in VEN\n",
        "Generating 10 random points in CRI\n",
        "Generating 10 random points in PAN\n",
        "Generating 10 random points in PRY\n",
        "Generating 10 random points in URY\n",
        "Working on IRN\n",
        "Working on SSD\n",
        "Working on SLE\n",
        "Working on ESH\n",
        "Working on RWA\n",
        "Working on TUR\n",
        "Working on PSE\n",
        "Working on SYR\n",
        "Generating 10 random points in GEO\n",
        "Working on RUS\n",
        "Working on SDN\n",
        "Working on BTN\n",
        "Working on CIV\n"
       ]
      }
     ],
     "prompt_number": 330
    },
    {
     "cell_type": "code",
     "collapsed": false,
     "input": [
      "len(random_points.keys())"
     ],
     "language": "python",
     "metadata": {},
     "outputs": [
      {
       "metadata": {},
       "output_type": "pyout",
       "prompt_number": 331,
       "text": [
        "148"
       ]
      }
     ],
     "prompt_number": 331
    },
    {
     "cell_type": "code",
     "collapsed": false,
     "input": [
      "random_points['GBR']"
     ],
     "language": "python",
     "metadata": {},
     "outputs": [
      {
       "metadata": {},
       "output_type": "pyout",
       "prompt_number": 334,
       "text": [
        "[[123.9584914352148, 83.36948066725623],\n",
        " [118.74154214296173, 74.87713155029942],\n",
        " [120.4616701482142, 77.74875526219682],\n",
        " [118.38408936038802, 83.31943989035915],\n",
        " [118.85361746226292, 80.16204854784354],\n",
        " [128.93958858583662, 82.63677572281665],\n",
        " [120.46137535133957, 77.7194580167343],\n",
        " [122.2936613016353, 81.75924317800533],\n",
        " [126.7526265384534, 78.27616913737853],\n",
        " [125.02468080850295, 75.7746288441634]]"
       ]
      }
     ],
     "prompt_number": 334
    },
    {
     "cell_type": "code",
     "collapsed": false,
     "input": [
      "random.choice(random_points['GBR'])"
     ],
     "language": "python",
     "metadata": {},
     "outputs": [
      {
       "metadata": {},
       "output_type": "pyout",
       "prompt_number": 335,
       "text": [
        "[120.4616701482142, 77.74875526219682]"
       ]
      }
     ],
     "prompt_number": 335
    },
    {
     "cell_type": "code",
     "collapsed": false,
     "input": [
      "points = []\n",
      "for coo in top_20_coo.keys():\n",
      "    print coo\n",
      "    for country_of_residence in countries_of_residence_list:\n",
      "        cor = country_of_residence['country_of_residence']\n",
      "        if coo != cor and cor != \"XXX\" and cor != \"SCG\" and cor != \"YUG\":\n",
      "            sum_time_series = origins[coo][cor]['sum_time_series']\n",
      "            if sum_time_series > 100:\n",
      "                start_point = LngLatToPixelXY(centroids[coo])\n",
      "                end_point = LngLatToPixelXY(centroids[cor])\n",
      "                coo_ison = geojson[coo]['features'][0]['properties']['ISON']\n",
      "                cor_ison = geojson[cor]['features'][0]['properties']['ISON']\n",
      "                time_series = origins[coo][cor]['time_series']\n",
      "                for val in time_series:\n",
      "                    year = val['year']\n",
      "                    value = val['value']\n",
      "                    scaled_range = int(value/10)\n",
      "                    for i in range(0, scaled_range):\n",
      "                        if i % 10 == 0:\n",
      "                            p1 = start_point\n",
      "                            p2 = end_point\n",
      "                            mid = [(p2[0] + p1[0])/2.0, (p2[1] + p1[1])/2.0]\n",
      "                        else:\n",
      "                            p1 = random.choice(random_points[coo])\n",
      "                            p2 = random.choice(random_points[cor])\n",
      "                            mid = [(p2[0] + p1[0])/2.0, (p2[1] + p1[1])/2.0]\n",
      "                        month, day = random_month_day()\n",
      "                        epoch = YearMonthDayToEpoch(year, month, day)\n",
      "                        points += start_point\n",
      "                        points += end_point\n",
      "                        points += mid\n",
      "                        points.append(epoch)\n",
      "                        points.append(coo_ison)\n",
      "                        points.append(cor_ison)\n",
      "\n"
     ],
     "language": "python",
     "metadata": {},
     "outputs": [
      {
       "output_type": "stream",
       "stream": "stdout",
       "text": [
        "AGO\n",
        "SRB"
       ]
      },
      {
       "output_type": "stream",
       "stream": "stdout",
       "text": [
        "\n",
        "AZE"
       ]
      },
      {
       "output_type": "stream",
       "stream": "stdout",
       "text": [
        "\n",
        "LKA"
       ]
      },
      {
       "output_type": "stream",
       "stream": "stdout",
       "text": [
        "\n",
        "COD"
       ]
      },
      {
       "output_type": "stream",
       "stream": "stdout",
       "text": [
        "\n",
        "ETH"
       ]
      },
      {
       "output_type": "stream",
       "stream": "stdout",
       "text": [
        "\n",
        "MMR"
       ]
      },
      {
       "output_type": "stream",
       "stream": "stdout",
       "text": [
        "\n",
        "ERI"
       ]
      },
      {
       "output_type": "stream",
       "stream": "stdout",
       "text": [
        "\n",
        "LBR"
       ]
      },
      {
       "output_type": "stream",
       "stream": "stdout",
       "text": [
        "\n",
        "BIH"
       ]
      },
      {
       "output_type": "stream",
       "stream": "stdout",
       "text": [
        "\n",
        "VNM"
       ]
      },
      {
       "output_type": "stream",
       "stream": "stdout",
       "text": [
        "\n",
        "SOM"
       ]
      },
      {
       "output_type": "stream",
       "stream": "stdout",
       "text": [
        "\n",
        "MLI"
       ]
      },
      {
       "output_type": "stream",
       "stream": "stdout",
       "text": [
        "\n",
        "CAF"
       ]
      },
      {
       "output_type": "stream",
       "stream": "stdout",
       "text": [
        "\n",
        "TLS"
       ]
      },
      {
       "output_type": "stream",
       "stream": "stdout",
       "text": [
        "\n",
        "AFG"
       ]
      },
      {
       "output_type": "stream",
       "stream": "stdout",
       "text": [
        "\n",
        "IRQ"
       ]
      },
      {
       "output_type": "stream",
       "stream": "stdout",
       "text": [
        "\n",
        "HRV"
       ]
      },
      {
       "output_type": "stream",
       "stream": "stdout",
       "text": [
        "\n",
        "BDI"
       ]
      },
      {
       "output_type": "stream",
       "stream": "stdout",
       "text": [
        "\n",
        "CHN"
       ]
      },
      {
       "output_type": "stream",
       "stream": "stdout",
       "text": [
        "\n",
        "COL"
       ]
      },
      {
       "output_type": "stream",
       "stream": "stdout",
       "text": [
        "\n",
        "IRN"
       ]
      },
      {
       "output_type": "stream",
       "stream": "stdout",
       "text": [
        "\n",
        "SSD"
       ]
      },
      {
       "output_type": "stream",
       "stream": "stdout",
       "text": [
        "\n",
        "SLE"
       ]
      },
      {
       "output_type": "stream",
       "stream": "stdout",
       "text": [
        "\n",
        "ESH"
       ]
      },
      {
       "output_type": "stream",
       "stream": "stdout",
       "text": [
        "\n",
        "RWA"
       ]
      },
      {
       "output_type": "stream",
       "stream": "stdout",
       "text": [
        "\n",
        "TUR"
       ]
      },
      {
       "output_type": "stream",
       "stream": "stdout",
       "text": [
        "\n",
        "PSE"
       ]
      },
      {
       "output_type": "stream",
       "stream": "stdout",
       "text": [
        "\n",
        "SYR"
       ]
      },
      {
       "output_type": "stream",
       "stream": "stdout",
       "text": [
        "\n",
        "RUS"
       ]
      },
      {
       "output_type": "stream",
       "stream": "stdout",
       "text": [
        "\n",
        "SDN"
       ]
      },
      {
       "output_type": "stream",
       "stream": "stdout",
       "text": [
        "\n",
        "BTN"
       ]
      },
      {
       "output_type": "stream",
       "stream": "stdout",
       "text": [
        "\n",
        "CIV"
       ]
      },
      {
       "output_type": "stream",
       "stream": "stdout",
       "text": [
        "\n"
       ]
      }
     ],
     "prompt_number": 337
    },
    {
     "cell_type": "code",
     "collapsed": false,
     "input": [
      "len(points)/9"
     ],
     "language": "python",
     "metadata": {},
     "outputs": [
      {
       "metadata": {},
       "output_type": "pyout",
       "prompt_number": 343,
       "text": [
        "12868593"
       ]
      }
     ],
     "prompt_number": 343
    },
    {
     "cell_type": "code",
     "collapsed": false,
     "input": [
      "array.array('f', points).tofile(open(\"animated-points.bin\", 'w'))"
     ],
     "language": "python",
     "metadata": {},
     "outputs": [],
     "prompt_number": 342
    },
    {
     "cell_type": "code",
     "collapsed": false,
     "input": [
      "points = []\n",
      "for coo in top_20_coo.keys():\n",
      "    print coo\n",
      "    for country_of_residence in countries_of_residence_list:\n",
      "        cor = country_of_residence['country_of_residence']\n",
      "        if coo != cor and cor != \"XXX\" and cor != \"SCG\" and cor != \"YUG\":\n",
      "            sum_time_series = origins[coo][cor]['sum_time_series']\n",
      "            if sum_time_series > 100:\n",
      "                start_point = LngLatToPixelXY(centroids[coo])\n",
      "                end_point = LngLatToPixelXY(centroids[cor])\n",
      "                coo_ison = geojson[coo]['features'][0]['properties']['ISON']\n",
      "                cor_ison = geojson[cor]['features'][0]['properties']['ISON']\n",
      "                time_series = origins[coo][cor]['time_series']\n",
      "                for i in range(0,13):\n",
      "                    val_0 = time_series[i]\n",
      "                    val_1 = time_series[i+1]\n",
      "                    year = val_1['year']\n",
      "                    value = val_1['value'] - val_0['value']\n",
      "                    scaled_range = int(value)\n",
      "                    for j in range(0, scaled_range):\n",
      "                        if j % 10 == 0:\n",
      "                            p1 = start_point\n",
      "                            p2 = end_point\n",
      "                            mid = [(p2[0] + p1[0])/2.0, (p2[1] + p1[1])/2.0]\n",
      "                        else:\n",
      "                            p1 = random.choice(random_points[coo])\n",
      "                            p2 = random.choice(random_points[cor])\n",
      "                            mid = [(p2[0] + p1[0])/2.0, (p2[1] + p1[1])/2.0]\n",
      "                        month, day = random_month_day()\n",
      "                        epoch = YearMonthDayToEpoch(year, month, day)\n",
      "                        points += start_point\n",
      "                        points += end_point\n",
      "                        points += mid\n",
      "                        points.append(epoch)\n",
      "                        points.append(coo_ison)\n",
      "                        points.append(cor_ison)\n",
      "\n"
     ],
     "language": "python",
     "metadata": {},
     "outputs": [
      {
       "output_type": "stream",
       "stream": "stdout",
       "text": [
        "AGO\n",
        "SRB"
       ]
      },
      {
       "output_type": "stream",
       "stream": "stdout",
       "text": [
        "\n",
        "AZE"
       ]
      },
      {
       "output_type": "stream",
       "stream": "stdout",
       "text": [
        "\n",
        "LKA"
       ]
      },
      {
       "output_type": "stream",
       "stream": "stdout",
       "text": [
        "\n",
        "COD"
       ]
      },
      {
       "output_type": "stream",
       "stream": "stdout",
       "text": [
        "\n",
        "ETH"
       ]
      },
      {
       "output_type": "stream",
       "stream": "stdout",
       "text": [
        "\n",
        "MMR"
       ]
      },
      {
       "output_type": "stream",
       "stream": "stdout",
       "text": [
        "\n",
        "ERI"
       ]
      },
      {
       "output_type": "stream",
       "stream": "stdout",
       "text": [
        "\n",
        "LBR"
       ]
      },
      {
       "output_type": "stream",
       "stream": "stdout",
       "text": [
        "\n",
        "BIH"
       ]
      },
      {
       "output_type": "stream",
       "stream": "stdout",
       "text": [
        "\n",
        "VNM"
       ]
      },
      {
       "output_type": "stream",
       "stream": "stdout",
       "text": [
        "\n",
        "SOM"
       ]
      },
      {
       "output_type": "stream",
       "stream": "stdout",
       "text": [
        "\n",
        "MLI"
       ]
      },
      {
       "output_type": "stream",
       "stream": "stdout",
       "text": [
        "\n",
        "CAF"
       ]
      },
      {
       "output_type": "stream",
       "stream": "stdout",
       "text": [
        "\n",
        "TLS"
       ]
      },
      {
       "output_type": "stream",
       "stream": "stdout",
       "text": [
        "\n",
        "AFG\n",
        "IRQ"
       ]
      },
      {
       "output_type": "stream",
       "stream": "stdout",
       "text": [
        "\n",
        "HRV"
       ]
      },
      {
       "output_type": "stream",
       "stream": "stdout",
       "text": [
        "\n",
        "BDI"
       ]
      },
      {
       "output_type": "stream",
       "stream": "stdout",
       "text": [
        "\n",
        "CHN"
       ]
      },
      {
       "output_type": "stream",
       "stream": "stdout",
       "text": [
        "\n",
        "COL"
       ]
      },
      {
       "output_type": "stream",
       "stream": "stdout",
       "text": [
        "\n",
        "IRN"
       ]
      },
      {
       "output_type": "stream",
       "stream": "stdout",
       "text": [
        "\n",
        "SSD"
       ]
      },
      {
       "output_type": "stream",
       "stream": "stdout",
       "text": [
        "\n",
        "SLE"
       ]
      },
      {
       "output_type": "stream",
       "stream": "stdout",
       "text": [
        "\n",
        "ESH"
       ]
      },
      {
       "output_type": "stream",
       "stream": "stdout",
       "text": [
        "\n",
        "RWA"
       ]
      },
      {
       "output_type": "stream",
       "stream": "stdout",
       "text": [
        "\n",
        "TUR"
       ]
      },
      {
       "output_type": "stream",
       "stream": "stdout",
       "text": [
        "\n",
        "PSE"
       ]
      },
      {
       "output_type": "stream",
       "stream": "stdout",
       "text": [
        "\n",
        "SYR"
       ]
      },
      {
       "output_type": "stream",
       "stream": "stdout",
       "text": [
        "\n",
        "RUS"
       ]
      },
      {
       "output_type": "stream",
       "stream": "stdout",
       "text": [
        "\n",
        "SDN"
       ]
      },
      {
       "output_type": "stream",
       "stream": "stdout",
       "text": [
        "\n",
        "BTN"
       ]
      },
      {
       "output_type": "stream",
       "stream": "stdout",
       "text": [
        "\n",
        "CIV"
       ]
      },
      {
       "output_type": "stream",
       "stream": "stdout",
       "text": [
        "\n"
       ]
      }
     ],
     "prompt_number": 363
    },
    {
     "cell_type": "code",
     "collapsed": false,
     "input": [
      "def split_list(alist, wanted_parts=1):\n",
      "    length = len(alist)\n",
      "    return [ alist[i*length // wanted_parts: (i+1)*length // wanted_parts] \n",
      "             for i in range(wanted_parts) ]"
     ],
     "language": "python",
     "metadata": {},
     "outputs": [],
     "prompt_number": 365
    },
    {
     "cell_type": "code",
     "collapsed": false,
     "input": [
      "split = split_list(points,len(points)/9)\n",
      "print split[0]"
     ],
     "language": "python",
     "metadata": {},
     "outputs": [
      {
       "output_type": "stream",
       "stream": "stdout",
       "text": [
        "[140.47950062296715, 136.81240894781038, 81.65902387405613, 154.93829380159596, 111.06926224851165, 145.87535137470317, 1058832000.0, 24, 32]\n"
       ]
      }
     ],
     "prompt_number": 366
    },
    {
     "cell_type": "code",
     "collapsed": false,
     "input": [
      "from operator import itemgetter\n",
      "ordered_split = sorted(split, key=itemgetter(6))"
     ],
     "language": "python",
     "metadata": {},
     "outputs": [],
     "prompt_number": 369
    },
    {
     "cell_type": "code",
     "collapsed": false,
     "input": [
      "print split[0]\n",
      "print ordered_split[0]"
     ],
     "language": "python",
     "metadata": {},
     "outputs": [
      {
       "output_type": "stream",
       "stream": "stdout",
       "text": [
        "[140.47950062296715, 136.81240894781038, 81.65902387405613, 154.93829380159596, 111.06926224851165, 145.87535137470317, 1058832000.0, 24, 32]\n",
        "[140.47950062296715, 136.81240894781038, 90.25664871764965, 135.68510544281168, 115.3680746703084, 136.24875719531104, 978307200.0, 24, 76]\n"
       ]
      }
     ],
     "prompt_number": 370
    },
    {
     "cell_type": "code",
     "collapsed": false,
     "input": [
      "datetime.datetime.utcfromtimestamp(ordered_split[0][6]).year"
     ],
     "language": "python",
     "metadata": {},
     "outputs": [
      {
       "metadata": {},
       "output_type": "pyout",
       "prompt_number": 379,
       "text": [
        "2001"
       ]
      }
     ],
     "prompt_number": 379
    },
    {
     "cell_type": "code",
     "collapsed": false,
     "input": [
      "datetime.datetime.utcfromtimestamp(ordered_split[len(ordered_split) - 1][6])"
     ],
     "language": "python",
     "metadata": {},
     "outputs": [
      {
       "metadata": {},
       "output_type": "pyout",
       "prompt_number": 381,
       "text": [
        "datetime.datetime(2013, 12, 31, 0, 0)"
       ]
      }
     ],
     "prompt_number": 381
    },
    {
     "cell_type": "code",
     "collapsed": false,
     "input": [
      "year_totals = {}\n",
      "for row in ordered_split:\n",
      "    year = datetime.datetime.utcfromtimestamp(row[6]).year\n",
      "    if year_totals.has_key(year):\n",
      "        year_totals[year] += 1\n",
      "    else:\n",
      "        year_totals[year] = 1\n",
      "year_totals"
     ],
     "language": "python",
     "metadata": {},
     "outputs": [
      {
       "metadata": {},
       "output_type": "pyout",
       "prompt_number": 385,
       "text": [
        "{2001: 756932,\n",
        " 2002: 941857,\n",
        " 2003: 354892,\n",
        " 2004: 592040,\n",
        " 2005: 233373,\n",
        " 2006: 2172593,\n",
        " 2007: 1133828,\n",
        " 2008: 1638846,\n",
        " 2009: 851353,\n",
        " 2010: 457101,\n",
        " 2011: 703067,\n",
        " 2012: 1305917,\n",
        " 2013: 2219588}"
       ]
      }
     ],
     "prompt_number": 385
    },
    {
     "cell_type": "code",
     "collapsed": false,
     "input": [
      "year_idx = {}\n",
      "years = range(2001,2014)"
     ],
     "language": "python",
     "metadata": {},
     "outputs": [],
     "prompt_number": 386
    },
    {
     "cell_type": "code",
     "collapsed": false,
     "input": [
      "for i in range(0,len(years)):\n",
      "    year = years[i]\n",
      "    year_idx[year] = {}\n",
      "    year_idx[year]['count'] = year_totals[year]\n",
      "    year_idx[year]['start'] = 0\n",
      "    for j in range(0,i):\n",
      "        year_x = years[j]\n",
      "        year_idx[year]['start'] += year_idx[year_x]['count']\n",
      "year_idx\n",
      "\n",
      "            \n",
      "        "
     ],
     "language": "python",
     "metadata": {},
     "outputs": [
      {
       "metadata": {},
       "output_type": "pyout",
       "prompt_number": 394,
       "text": [
        "{2001: {'count': 756932, 'start': 0},\n",
        " 2002: {'count': 941857, 'start': 756932},\n",
        " 2003: {'count': 354892, 'start': 1698789},\n",
        " 2004: {'count': 592040, 'start': 2053681},\n",
        " 2005: {'count': 233373, 'start': 2645721},\n",
        " 2006: {'count': 2172593, 'start': 2879094},\n",
        " 2007: {'count': 1133828, 'start': 5051687},\n",
        " 2008: {'count': 1638846, 'start': 6185515},\n",
        " 2009: {'count': 851353, 'start': 7824361},\n",
        " 2010: {'count': 457101, 'start': 8675714},\n",
        " 2011: {'count': 703067, 'start': 9132815},\n",
        " 2012: {'count': 1305917, 'start': 9835882},\n",
        " 2013: {'count': 2219588, 'start': 11141799}}"
       ]
      }
     ],
     "prompt_number": 394
    },
    {
     "cell_type": "code",
     "collapsed": false,
     "input": [
      "points = []\n",
      "for x in ordered_split:\n",
      "    for y in x:\n",
      "        points += [y]\n",
      "array.array('f', points).tofile(open('animated-points-3.bin', 'w'))"
     ],
     "language": "python",
     "metadata": {},
     "outputs": [],
     "prompt_number": 395
    },
    {
     "cell_type": "code",
     "collapsed": false,
     "input": [
      "def cubic_bezeier_curve(t, P0, P1, P2):\n",
      "    x = (1.0-t)*(1.0-t)*P0[0] + 2.0*(1.0-t)*t*P1[0] + t*t*P2[0]\n",
      "    y = (1.0-t)*(1.0-t)*P0[1] + 2.0*(1.0-t)*t*P1[1] + t*t*P2[1]\n",
      "    return [x,y]"
     ],
     "language": "python",
     "metadata": {},
     "outputs": [],
     "prompt_number": 415
    },
    {
     "cell_type": "code",
     "collapsed": false,
     "input": [
      "points = []\n",
      "for coo in top_20_coo.keys():\n",
      "    print coo\n",
      "    for country_of_residence in countries_of_residence_list:\n",
      "        cor = country_of_residence['country_of_residence']\n",
      "        if coo != cor and cor != \"XXX\" and cor != \"SCG\" and cor != \"YUG\":\n",
      "            sum_time_series = origins[coo][cor]['sum_time_series']\n",
      "            if sum_time_series > 100:\n",
      "                start_point = LngLatToPixelXY(centroids[coo])\n",
      "                end_point = LngLatToPixelXY(centroids[cor])\n",
      "                coo_ison = geojson[coo]['features'][0]['properties']['ISON']\n",
      "                cor_ison = geojson[cor]['features'][0]['properties']['ISON']\n",
      "                time_series = origins[coo][cor]['time_series']\n",
      "                for i in range(0,13):\n",
      "                    val_0 = time_series[i]\n",
      "                    val_1 = time_series[i+1]\n",
      "                    year = val_1['year']\n",
      "                    value = val_1['value'] - val_0['value']\n",
      "                    scaled_range = int(value)\n",
      "                    for j in range(0, scaled_range):\n",
      "                        choice = random.randint(1,10)\n",
      "                        if choice == 1:\n",
      "                            # Linear\n",
      "                            p1 = start_point\n",
      "                            p2 = end_point\n",
      "                            mid_1 = [p2[0]*(1.0/3.0) + p1[0]*(2.0/3.0), p2[1]*(1.0/3.0) + p1[1]*(2.0/3.0)]\n",
      "                            mid_2 = [p2[0]*(2.0/3.0) + p1[0]*(1.0/3.0), p2[1]*(2.0/3.0) + p1[1]*(1.0/3.0)]\n",
      "                            #mid_1 = [(p2[0] + p1[0])/2.0, (p2[1] + p1[1])/2.0]\n",
      "                            #mid_2 = [(p2[0] + p1[0])/2.0, (p2[1] + p1[1])/2.0]\n",
      "\n",
      "                        if choice > 1 and choice < 8:\n",
      "                            # Quadratic\n",
      "                            p1 = random.choice(random_points[coo])\n",
      "                            p2 = random.choice(random_points[cor])\n",
      "                            mid = [(p2[0] + p1[0])/2.0, (p2[1] + p1[1])/2.0]\n",
      "                            mid_1 = cubic_bezeier_curve(1.0/3.0,start_point,mid,end_point)\n",
      "                            mid_2 = cubic_bezeier_curve(2.0/3.0,start_point,mid,end_point)\n",
      "\n",
      "                        if choice > 7 and choice <= 10:\n",
      "                            # Cubic\n",
      "                            p1 = random.choice(random_points[coo])\n",
      "                            p2 = random.choice(random_points[cor])\n",
      "                            mid_1 = [p2[0]*(1.0/3.0) + p1[0]*(2.0/3.0), p2[1]*(1.0/3.0) + p1[1]*(2.0/3.0)]\n",
      "                            p1 = random.choice(random_points[coo])\n",
      "                            p2 = random.choice(random_points[cor])\n",
      "                            mid_2 = [p2[0]*(2.0/3.0) + p1[0]*(1.0/3.0), p2[1]*(2.0/3.0) + p1[1]*(1.0/3.0)]\n",
      "                            \n",
      "                        month, day = random_month_day()\n",
      "                        epoch = YearMonthDayToEpoch(year, month, day)\n",
      "                        points += start_point\n",
      "                        points += end_point\n",
      "                        points += mid_1\n",
      "                        points += mid_2\n",
      "                        points.append(epoch)\n",
      "                        points.append(coo_ison)\n",
      "                        points.append(cor_ison)\n",
      "\n"
     ],
     "language": "python",
     "metadata": {},
     "outputs": [
      {
       "output_type": "stream",
       "stream": "stdout",
       "text": [
        "AGO\n",
        "SRB"
       ]
      },
      {
       "output_type": "stream",
       "stream": "stdout",
       "text": [
        "\n",
        "AZE"
       ]
      },
      {
       "output_type": "stream",
       "stream": "stdout",
       "text": [
        "\n",
        "LKA"
       ]
      },
      {
       "output_type": "stream",
       "stream": "stdout",
       "text": [
        "\n",
        "COD"
       ]
      },
      {
       "output_type": "stream",
       "stream": "stdout",
       "text": [
        "\n",
        "ETH"
       ]
      },
      {
       "output_type": "stream",
       "stream": "stdout",
       "text": [
        "\n",
        "MMR"
       ]
      },
      {
       "output_type": "stream",
       "stream": "stdout",
       "text": [
        "\n",
        "ERI"
       ]
      },
      {
       "output_type": "stream",
       "stream": "stdout",
       "text": [
        "\n",
        "LBR"
       ]
      },
      {
       "output_type": "stream",
       "stream": "stdout",
       "text": [
        "\n",
        "BIH"
       ]
      },
      {
       "output_type": "stream",
       "stream": "stdout",
       "text": [
        "\n",
        "VNM"
       ]
      },
      {
       "output_type": "stream",
       "stream": "stdout",
       "text": [
        "\n",
        "SOM"
       ]
      },
      {
       "output_type": "stream",
       "stream": "stdout",
       "text": [
        "\n",
        "MLI"
       ]
      },
      {
       "output_type": "stream",
       "stream": "stdout",
       "text": [
        "\n",
        "CAF"
       ]
      },
      {
       "output_type": "stream",
       "stream": "stdout",
       "text": [
        "\n",
        "TLS"
       ]
      },
      {
       "output_type": "stream",
       "stream": "stdout",
       "text": [
        "\n",
        "AFG\n",
        "IRQ"
       ]
      },
      {
       "output_type": "stream",
       "stream": "stdout",
       "text": [
        "\n",
        "HRV"
       ]
      },
      {
       "output_type": "stream",
       "stream": "stdout",
       "text": [
        "\n",
        "BDI"
       ]
      },
      {
       "output_type": "stream",
       "stream": "stdout",
       "text": [
        "\n",
        "CHN"
       ]
      },
      {
       "output_type": "stream",
       "stream": "stdout",
       "text": [
        "\n",
        "COL"
       ]
      },
      {
       "output_type": "stream",
       "stream": "stdout",
       "text": [
        "\n",
        "IRN"
       ]
      },
      {
       "output_type": "stream",
       "stream": "stdout",
       "text": [
        "\n",
        "SSD"
       ]
      },
      {
       "output_type": "stream",
       "stream": "stdout",
       "text": [
        "\n",
        "SLE"
       ]
      },
      {
       "output_type": "stream",
       "stream": "stdout",
       "text": [
        "\n",
        "ESH"
       ]
      },
      {
       "output_type": "stream",
       "stream": "stdout",
       "text": [
        "\n",
        "RWA"
       ]
      },
      {
       "output_type": "stream",
       "stream": "stdout",
       "text": [
        "\n",
        "TUR"
       ]
      },
      {
       "output_type": "stream",
       "stream": "stdout",
       "text": [
        "\n",
        "PSE"
       ]
      },
      {
       "output_type": "stream",
       "stream": "stdout",
       "text": [
        "\n",
        "SYR"
       ]
      },
      {
       "output_type": "stream",
       "stream": "stdout",
       "text": [
        "\n",
        "RUS"
       ]
      },
      {
       "output_type": "stream",
       "stream": "stdout",
       "text": [
        "\n",
        "SDN"
       ]
      },
      {
       "output_type": "stream",
       "stream": "stdout",
       "text": [
        "\n",
        "BTN"
       ]
      },
      {
       "output_type": "stream",
       "stream": "stdout",
       "text": [
        "\n",
        "CIV"
       ]
      },
      {
       "output_type": "stream",
       "stream": "stdout",
       "text": [
        "\n"
       ]
      }
     ],
     "prompt_number": 420
    },
    {
     "cell_type": "code",
     "collapsed": false,
     "input": [
      "split = split_list(points,len(points)/11)\n",
      "ordered_split = sorted(split, key=itemgetter(8))\n",
      "points = []\n",
      "for x in ordered_split:\n",
      "    for y in x:\n",
      "        points += [y]\n",
      "array.array('f', points).tofile(open('cubic-animated-points.bin', 'w'))\n"
     ],
     "language": "python",
     "metadata": {},
     "outputs": [],
     "prompt_number": 421
    },
    {
     "cell_type": "code",
     "collapsed": false,
     "input": [
      "import csv\n",
      "cow = {}\n",
      "with open('cow.csv') as csvfile:\n",
      "    reader = csv.DictReader(csvfile, delimiter=\";\")\n",
      "    for row in reader:\n",
      "        key = row['ISO3166A3'].strip()\n",
      "        if not cow.has_key(key):\n",
      "            cow[key] = (float(row['longitude']), float(row['latitude']))\n",
      "#print \"ISO:%s LNG: %s LAT %s\" %  (cow[0]['ISO3166A3'], cow[0]['longitude'], cow[0]['latitude'])\n"
     ],
     "language": "python",
     "metadata": {},
     "outputs": [],
     "prompt_number": 429
    },
    {
     "cell_type": "code",
     "collapsed": false,
     "input": [
      "centroids['RUS']"
     ],
     "language": "python",
     "metadata": {},
     "outputs": [
      {
       "metadata": {},
       "output_type": "pyout",
       "prompt_number": 434,
       "text": [
        "(96.72319943338846, 61.98072099598323)"
       ]
      }
     ],
     "prompt_number": 434
    },
    {
     "cell_type": "code",
     "collapsed": false,
     "input": [
      "cow['RUS']"
     ],
     "language": "python",
     "metadata": {},
     "outputs": [
      {
       "metadata": {},
       "output_type": "pyout",
       "prompt_number": 435,
       "text": [
        "(100.0, 60.0)"
       ]
      }
     ],
     "prompt_number": 435
    },
    {
     "cell_type": "code",
     "collapsed": false,
     "input": [
      "centroids['CAN']"
     ],
     "language": "python",
     "metadata": {},
     "outputs": [
      {
       "metadata": {},
       "output_type": "pyout",
       "prompt_number": 436,
       "text": [
        "(-98.26930282222769, 61.36744035315515)"
       ]
      }
     ],
     "prompt_number": 436
    },
    {
     "cell_type": "code",
     "collapsed": false,
     "input": [
      "cow['CAN']"
     ],
     "language": "python",
     "metadata": {},
     "outputs": [
      {
       "metadata": {},
       "output_type": "pyout",
       "prompt_number": 437,
       "text": [
        "(-95.0, 60.0)"
       ]
      }
     ],
     "prompt_number": 437
    },
    {
     "cell_type": "code",
     "collapsed": false,
     "input": [
      "centroids['USA']"
     ],
     "language": "python",
     "metadata": {},
     "outputs": [
      {
       "metadata": {},
       "output_type": "pyout",
       "prompt_number": 438,
       "text": [
        "(-112.47083697893079, 45.67625945129364)"
       ]
      }
     ],
     "prompt_number": 438
    },
    {
     "cell_type": "code",
     "collapsed": false,
     "input": [
      "cow['USA']"
     ],
     "language": "python",
     "metadata": {},
     "outputs": [
      {
       "metadata": {},
       "output_type": "pyout",
       "prompt_number": 440,
       "text": [
        "(-97.0, 38.0)"
       ]
      }
     ],
     "prompt_number": 440
    },
    {
     "cell_type": "code",
     "collapsed": false,
     "input": [
      "centroid_points = {}\n",
      "cow_points = {}\n",
      "for coo in top_20_coo.keys():\n",
      "    print coo\n",
      "    if not centroid_points.has_key(coo):\n",
      "        centroid_points[coo] = centroids[coo]\n",
      "        cow_points[coo] = cow[coo]\n",
      "    for country_of_residence in countries_of_residence_list:\n",
      "        cor = country_of_residence['country_of_residence']\n",
      "        if coo != cor and cor != \"XXX\" and cor != \"SCG\" and cor != \"YUG\":\n",
      "            sum_time_series = origins[coo][cor]['sum_time_series']\n",
      "            if sum_time_series > 100:\n",
      "                if not centroid_points.has_key(cor):\n",
      "                    centroid_points[cor] = centroids[cor]\n",
      "                    cow_points[cor] = cow[cor]\n"
     ],
     "language": "python",
     "metadata": {},
     "outputs": [
      {
       "output_type": "stream",
       "stream": "stdout",
       "text": [
        "AGO\n",
        "SRB\n",
        "AZE\n",
        "LKA\n",
        "COD\n",
        "ETH\n",
        "MMR\n",
        "ERI\n",
        "LBR\n",
        "BIH\n",
        "VNM\n",
        "SOM\n",
        "MLI\n",
        "CAF\n",
        "TLS\n",
        "AFG\n",
        "IRQ\n",
        "HRV\n",
        "BDI\n",
        "CHN\n",
        "COL\n",
        "IRN\n",
        "SSD\n",
        "SLE\n",
        "ESH\n",
        "RWA\n",
        "TUR\n",
        "PSE\n",
        "SYR\n",
        "RUS\n",
        "SDN\n",
        "BTN\n",
        "CIV\n"
       ]
      }
     ],
     "prompt_number": 443
    },
    {
     "cell_type": "code",
     "collapsed": false,
     "input": [
      "centroids_data = []\n",
      "for key in centroid_points.keys():\n",
      "    centroids_data += LngLatToPixelXY(centroid_points[key])\n",
      "    \n",
      "cow_data = []\n",
      "for key in cow_points.keys():\n",
      "    cow_data += LngLatToPixelXY(cow_points[key])"
     ],
     "language": "python",
     "metadata": {},
     "outputs": [],
     "prompt_number": 452
    },
    {
     "cell_type": "code",
     "collapsed": false,
     "input": [
      "len(centroids_data) == len(cow_data)"
     ],
     "language": "python",
     "metadata": {},
     "outputs": [
      {
       "metadata": {},
       "output_type": "pyout",
       "prompt_number": 454,
       "text": [
        "True"
       ]
      }
     ],
     "prompt_number": 454
    },
    {
     "cell_type": "code",
     "collapsed": false,
     "input": [
      "array.array('f', centroids_data).tofile(open('centroids-points.bin', 'w'))\n",
      "array.array('f', cow_data).tofile(open('cow-points.bin', 'w'))\n",
      "\n"
     ],
     "language": "python",
     "metadata": {},
     "outputs": [],
     "prompt_number": 455
    },
    {
     "cell_type": "code",
     "collapsed": false,
     "input": [
      "#Manual correction for centroids\n",
      "amended_centroids = {}\n",
      "for key in centroids.keys():\n",
      "    if key == \"USA\" or key == \"GBR\" or key == \"HRV\" or key == \"GRC\" or key == \"NOR\" or key == \"SWE\" \\\n",
      "        or key == \"ISR\" or key == \"JOR\" or key == \"SOM\" or key == \"TJK\" or key == \"JPN\" \\\n",
      "        or key == \"MYS\" or key == \"VNM\" or key == \"IDN\":\n",
      "        amended_centroids[key] = cow_points[key]\n",
      "    else:\n",
      "        amended_centroids[key] = centroids[key]\n",
      "    "
     ],
     "language": "python",
     "metadata": {},
     "outputs": [],
     "prompt_number": 460
    },
    {
     "cell_type": "code",
     "collapsed": false,
     "input": [
      "points = []\n",
      "for coo in top_20_coo.keys():\n",
      "    print coo\n",
      "    for country_of_residence in countries_of_residence_list:\n",
      "        cor = country_of_residence['country_of_residence']\n",
      "        if coo != cor and cor != \"XXX\" and cor != \"SCG\" and cor != \"YUG\":\n",
      "            sum_time_series = origins[coo][cor]['sum_time_series']\n",
      "            if sum_time_series > 100:\n",
      "                start_point = LngLatToPixelXY(amended_centroids[coo])\n",
      "                end_point = LngLatToPixelXY(amended_centroids[cor])\n",
      "                coo_ison = geojson[coo]['features'][0]['properties']['ISON']\n",
      "                cor_ison = geojson[cor]['features'][0]['properties']['ISON']\n",
      "                time_series = origins[coo][cor]['time_series']\n",
      "                for i in range(0,13):\n",
      "                    val_0 = time_series[i]\n",
      "                    val_1 = time_series[i+1]\n",
      "                    year = val_1['year']\n",
      "                    value = val_1['value'] - val_0['value']\n",
      "                    scaled_range = int(value)\n",
      "                    for j in range(0, scaled_range):\n",
      "                        if j % 10 == 0:\n",
      "                            p1 = start_point\n",
      "                            p2 = end_point\n",
      "                            mid = [(p2[0] + p1[0])/2.0, (p2[1] + p1[1])/2.0]\n",
      "                        else:\n",
      "                            p1 = random.choice(random_points[coo])\n",
      "                            p2 = random.choice(random_points[cor])\n",
      "                            mid = [(p2[0] + p1[0])/2.0, (p2[1] + p1[1])/2.0]\n",
      "                        month, day = random_month_day()\n",
      "                        epoch = YearMonthDayToEpoch(year, month, day)\n",
      "                        points += start_point\n",
      "                        points += end_point\n",
      "                        points += mid\n",
      "                        points.append(epoch)\n",
      "                        points.append(coo_ison)\n",
      "                        points.append(cor_ison)\n"
     ],
     "language": "python",
     "metadata": {},
     "outputs": [
      {
       "output_type": "stream",
       "stream": "stdout",
       "text": [
        "AGO\n",
        "SRB"
       ]
      },
      {
       "output_type": "stream",
       "stream": "stdout",
       "text": [
        "\n",
        "AZE"
       ]
      },
      {
       "output_type": "stream",
       "stream": "stdout",
       "text": [
        "\n",
        "LKA"
       ]
      },
      {
       "output_type": "stream",
       "stream": "stdout",
       "text": [
        "\n",
        "COD"
       ]
      },
      {
       "output_type": "stream",
       "stream": "stdout",
       "text": [
        "\n",
        "ETH"
       ]
      },
      {
       "output_type": "stream",
       "stream": "stdout",
       "text": [
        "\n",
        "MMR"
       ]
      },
      {
       "output_type": "stream",
       "stream": "stdout",
       "text": [
        "\n",
        "ERI"
       ]
      },
      {
       "output_type": "stream",
       "stream": "stdout",
       "text": [
        "\n",
        "LBR"
       ]
      },
      {
       "output_type": "stream",
       "stream": "stdout",
       "text": [
        "\n",
        "BIH"
       ]
      },
      {
       "output_type": "stream",
       "stream": "stdout",
       "text": [
        "\n",
        "VNM"
       ]
      },
      {
       "output_type": "stream",
       "stream": "stdout",
       "text": [
        "\n",
        "SOM"
       ]
      },
      {
       "output_type": "stream",
       "stream": "stdout",
       "text": [
        "\n",
        "MLI"
       ]
      },
      {
       "output_type": "stream",
       "stream": "stdout",
       "text": [
        "\n",
        "CAF"
       ]
      },
      {
       "output_type": "stream",
       "stream": "stdout",
       "text": [
        "\n",
        "TLS"
       ]
      },
      {
       "output_type": "stream",
       "stream": "stdout",
       "text": [
        "\n",
        "AFG\n",
        "IRQ"
       ]
      },
      {
       "output_type": "stream",
       "stream": "stdout",
       "text": [
        "\n",
        "HRV"
       ]
      },
      {
       "output_type": "stream",
       "stream": "stdout",
       "text": [
        "\n",
        "BDI"
       ]
      },
      {
       "output_type": "stream",
       "stream": "stdout",
       "text": [
        "\n",
        "CHN"
       ]
      },
      {
       "output_type": "stream",
       "stream": "stdout",
       "text": [
        "\n",
        "COL"
       ]
      },
      {
       "output_type": "stream",
       "stream": "stdout",
       "text": [
        "\n",
        "IRN"
       ]
      },
      {
       "output_type": "stream",
       "stream": "stdout",
       "text": [
        "\n",
        "SSD"
       ]
      },
      {
       "output_type": "stream",
       "stream": "stdout",
       "text": [
        "\n",
        "SLE"
       ]
      },
      {
       "output_type": "stream",
       "stream": "stdout",
       "text": [
        "\n",
        "ESH"
       ]
      },
      {
       "output_type": "stream",
       "stream": "stdout",
       "text": [
        "\n",
        "RWA"
       ]
      },
      {
       "output_type": "stream",
       "stream": "stdout",
       "text": [
        "\n",
        "TUR"
       ]
      },
      {
       "output_type": "stream",
       "stream": "stdout",
       "text": [
        "\n",
        "PSE"
       ]
      },
      {
       "output_type": "stream",
       "stream": "stdout",
       "text": [
        "\n",
        "SYR"
       ]
      },
      {
       "output_type": "stream",
       "stream": "stdout",
       "text": [
        "\n",
        "RUS"
       ]
      },
      {
       "output_type": "stream",
       "stream": "stdout",
       "text": [
        "\n",
        "SDN"
       ]
      },
      {
       "output_type": "stream",
       "stream": "stdout",
       "text": [
        "\n",
        "BTN"
       ]
      },
      {
       "output_type": "stream",
       "stream": "stdout",
       "text": [
        "\n",
        "CIV"
       ]
      },
      {
       "output_type": "stream",
       "stream": "stdout",
       "text": [
        "\n"
       ]
      }
     ],
     "prompt_number": 465
    },
    {
     "cell_type": "code",
     "collapsed": false,
     "input": [
      "split = split_list(points,len(points)/9)\n",
      "ordered_split = sorted(split, key=itemgetter(6))\n",
      "points = []\n",
      "for x in ordered_split:\n",
      "    for y in x:\n",
      "        points += [y]\n",
      "array.array('f', points).tofile(open('animated-points-4.bin', 'w'))\n"
     ],
     "language": "python",
     "metadata": {},
     "outputs": [],
     "prompt_number": 466
    },
    {
     "cell_type": "code",
     "collapsed": false,
     "input": [
      "hex_colors = [\n",
      "'#ff0000','#fe0000','#fc0000','#fb0000','#fa0000','#f80000','#f80000','#f60000','#f60000','#f40001',\n",
      "'#f30001','#f20001','#f00001','#ef0001','#ed0001','#ed0001','#ec0001','#eb0001','#e90001','#e70001',\n",
      "'#e70001','#e50001','#e50001','#e20001','#e20001','#e10001','#e00001','#de0001','#dd0001','#dc0001',\n",
      "'#db0001','#d90001','#d90001','#d60002','#d50002','#d50002','#d40002','#d30002','#d10002','#d00002',\n",
      "'#ce0002','#cd0002','#cd0002','#cb0002','#c90002','#c90002','#c70002','#c60002','#c50002','#c40002',\n",
      "'#c30002','#c10002','#c00002','#bf0002','#be0002','#bc0002','#bc0002','#ba0002','#ba0002','#b80002',\n",
      "'#b70002','#b60002','#b50002','#b30002','#b20002','#b10002','#b10002','#af0002','#ad0002','#ad0002',\n",
      "'#ab0002','#ab0002','#aa0002','#a80002','#a70002','#a50002','#a50002','#a30002','#a30002','#a20002',\n",
      "'#a00002','#9f0002','#9e0002','#9d0002','#9c0002','#9b0001','#990001','#980001','#970001','#960001',\n",
      "'#950001','#940001','#920001','#910001','#900001','#8f0000','#8e0000','#8e0000','#8d0000','#8b0000'\n",
      "]"
     ],
     "language": "python",
     "metadata": {},
     "outputs": [],
     "prompt_number": 467
    },
    {
     "cell_type": "code",
     "collapsed": false,
     "input": [
      "import matplotlib.colors as colors\n",
      "def hex_to_rgb(hex_string):\n",
      "    rgb = colors.hex2color(hex_string)\n",
      "    r,g,b = tuple([int(255*x) for x in rgb])\n",
      "    return (r,g,b)"
     ],
     "language": "python",
     "metadata": {},
     "outputs": [],
     "prompt_number": 470
    },
    {
     "cell_type": "code",
     "collapsed": false,
     "input": [
      "rgb_colors = []\n",
      "for hex_color in hex_colors:\n",
      "    rgb_colors.append(hex_to_rgb(hex_color))"
     ],
     "language": "python",
     "metadata": {},
     "outputs": [],
     "prompt_number": 471
    },
    {
     "cell_type": "code",
     "collapsed": false,
     "input": [
      "def pack_color(color):\n",
      "    return color[0] + color[1] * 256.0 + color[2] * 256.0 * 256.0;\n"
     ],
     "language": "python",
     "metadata": {},
     "outputs": [],
     "prompt_number": 474
    },
    {
     "cell_type": "code",
     "collapsed": false,
     "input": [
      "pack_color(random.choice(rgb_colors))"
     ],
     "language": "python",
     "metadata": {},
     "outputs": [
      {
       "metadata": {},
       "output_type": "pyout",
       "prompt_number": 476,
       "text": [
        "131239.0"
       ]
      }
     ],
     "prompt_number": 476
    },
    {
     "cell_type": "code",
     "collapsed": false,
     "input": [
      "points = []\n",
      "for coo in top_20_coo.keys():\n",
      "    print coo\n",
      "    for country_of_residence in countries_of_residence_list:\n",
      "        cor = country_of_residence['country_of_residence']\n",
      "        if coo != cor and cor != \"XXX\" and cor != \"SCG\" and cor != \"YUG\":\n",
      "            sum_time_series = origins[coo][cor]['sum_time_series']\n",
      "            if sum_time_series > 100:\n",
      "                start_point = LngLatToPixelXY(amended_centroids[coo])\n",
      "                end_point = LngLatToPixelXY(amended_centroids[cor])\n",
      "                coo_ison = geojson[coo]['features'][0]['properties']['ISON']\n",
      "                cor_ison = geojson[cor]['features'][0]['properties']['ISON']\n",
      "                time_series = origins[coo][cor]['time_series']\n",
      "                for i in range(0,13):\n",
      "                    val_0 = time_series[i]\n",
      "                    val_1 = time_series[i+1]\n",
      "                    year = val_1['year']\n",
      "                    value = val_1['value'] - val_0['value']\n",
      "                    scaled_range = int(value)\n",
      "                    for j in range(0, scaled_range):\n",
      "                        if j % 10 == 0:\n",
      "                            p1 = start_point\n",
      "                            p2 = end_point\n",
      "                            mid = [(p2[0] + p1[0])/2.0, (p2[1] + p1[1])/2.0]\n",
      "                        else:\n",
      "                            p1 = random.choice(random_points[coo])\n",
      "                            p2 = random.choice(random_points[cor])\n",
      "                            mid = [(p2[0] + p1[0])/2.0, (p2[1] + p1[1])/2.0]\n",
      "                        month, day = random_month_day()\n",
      "                        epoch = YearMonthDayToEpoch(year, month, day)\n",
      "                        points += start_point\n",
      "                        points += end_point\n",
      "                        points += mid\n",
      "                        points.append(epoch)\n",
      "                        points.append(coo_ison)\n",
      "                        points.append(cor_ison)\n",
      "                        points.append(pack_color(random.choice(rgb_colors)))"
     ],
     "language": "python",
     "metadata": {},
     "outputs": [
      {
       "output_type": "stream",
       "stream": "stdout",
       "text": [
        "AGO\n",
        "SRB"
       ]
      },
      {
       "output_type": "stream",
       "stream": "stdout",
       "text": [
        "\n",
        "AZE"
       ]
      },
      {
       "output_type": "stream",
       "stream": "stdout",
       "text": [
        "\n",
        "LKA"
       ]
      },
      {
       "output_type": "stream",
       "stream": "stdout",
       "text": [
        "\n",
        "COD"
       ]
      },
      {
       "output_type": "stream",
       "stream": "stdout",
       "text": [
        "\n",
        "ETH"
       ]
      },
      {
       "output_type": "stream",
       "stream": "stdout",
       "text": [
        "\n",
        "MMR"
       ]
      },
      {
       "output_type": "stream",
       "stream": "stdout",
       "text": [
        "\n",
        "ERI"
       ]
      },
      {
       "output_type": "stream",
       "stream": "stdout",
       "text": [
        "\n",
        "LBR"
       ]
      },
      {
       "output_type": "stream",
       "stream": "stdout",
       "text": [
        "\n",
        "BIH"
       ]
      },
      {
       "output_type": "stream",
       "stream": "stdout",
       "text": [
        "\n",
        "VNM"
       ]
      },
      {
       "output_type": "stream",
       "stream": "stdout",
       "text": [
        "\n",
        "SOM"
       ]
      },
      {
       "output_type": "stream",
       "stream": "stdout",
       "text": [
        "\n",
        "MLI"
       ]
      },
      {
       "output_type": "stream",
       "stream": "stdout",
       "text": [
        "\n",
        "CAF"
       ]
      },
      {
       "output_type": "stream",
       "stream": "stdout",
       "text": [
        "\n",
        "TLS"
       ]
      },
      {
       "output_type": "stream",
       "stream": "stdout",
       "text": [
        "\n",
        "AFG\n",
        "IRQ"
       ]
      },
      {
       "output_type": "stream",
       "stream": "stdout",
       "text": [
        "\n",
        "HRV"
       ]
      },
      {
       "output_type": "stream",
       "stream": "stdout",
       "text": [
        "\n",
        "BDI"
       ]
      },
      {
       "output_type": "stream",
       "stream": "stdout",
       "text": [
        "\n",
        "CHN"
       ]
      },
      {
       "output_type": "stream",
       "stream": "stdout",
       "text": [
        "\n",
        "COL"
       ]
      },
      {
       "output_type": "stream",
       "stream": "stdout",
       "text": [
        "\n",
        "IRN"
       ]
      },
      {
       "output_type": "stream",
       "stream": "stdout",
       "text": [
        "\n",
        "SSD"
       ]
      },
      {
       "output_type": "stream",
       "stream": "stdout",
       "text": [
        "\n",
        "SLE"
       ]
      },
      {
       "output_type": "stream",
       "stream": "stdout",
       "text": [
        "\n",
        "ESH"
       ]
      },
      {
       "output_type": "stream",
       "stream": "stdout",
       "text": [
        "\n",
        "RWA"
       ]
      },
      {
       "output_type": "stream",
       "stream": "stdout",
       "text": [
        "\n",
        "TUR"
       ]
      },
      {
       "output_type": "stream",
       "stream": "stdout",
       "text": [
        "\n",
        "PSE"
       ]
      },
      {
       "output_type": "stream",
       "stream": "stdout",
       "text": [
        "\n",
        "SYR"
       ]
      },
      {
       "output_type": "stream",
       "stream": "stdout",
       "text": [
        "\n",
        "RUS"
       ]
      },
      {
       "output_type": "stream",
       "stream": "stdout",
       "text": [
        "\n",
        "SDN"
       ]
      },
      {
       "output_type": "stream",
       "stream": "stdout",
       "text": [
        "\n",
        "BTN"
       ]
      },
      {
       "output_type": "stream",
       "stream": "stdout",
       "text": [
        "\n",
        "CIV"
       ]
      },
      {
       "output_type": "stream",
       "stream": "stdout",
       "text": [
        "\n"
       ]
      }
     ],
     "prompt_number": 477
    },
    {
     "cell_type": "code",
     "collapsed": false,
     "input": [
      "split = split_list(points,len(points)/10)\n",
      "ordered_split = sorted(split, key=itemgetter(6))\n",
      "points = []\n",
      "for x in ordered_split:\n",
      "    for y in x:\n",
      "        points += [y]\n",
      "array.array('f', points).tofile(open('animated-points-5.bin', 'w'))\n"
     ],
     "language": "python",
     "metadata": {},
     "outputs": [],
     "prompt_number": 478
    },
    {
     "cell_type": "code",
     "collapsed": false,
     "input": [
      "len(random_points)"
     ],
     "language": "python",
     "metadata": {},
     "outputs": [
      {
       "metadata": {},
       "output_type": "pyout",
       "prompt_number": 482,
       "text": [
        "148"
       ]
      }
     ],
     "prompt_number": 482
    },
    {
     "cell_type": "code",
     "collapsed": false,
     "input": [
      "len(random_points[0])"
     ],
     "language": "python",
     "metadata": {},
     "outputs": [
      {
       "ename": "KeyError",
       "evalue": "0",
       "output_type": "pyerr",
       "traceback": [
        "\u001b[0;31m---------------------------------------------------------------------------\u001b[0m\n\u001b[0;31mKeyError\u001b[0m                                  Traceback (most recent call last)",
        "\u001b[0;32m<ipython-input-483-ba18c35de0e0>\u001b[0m in \u001b[0;36m<module>\u001b[0;34m()\u001b[0m\n\u001b[0;32m----> 1\u001b[0;31m \u001b[0mlen\u001b[0m\u001b[0;34m(\u001b[0m\u001b[0mrandom_points\u001b[0m\u001b[0;34m[\u001b[0m\u001b[0;36m0\u001b[0m\u001b[0;34m]\u001b[0m\u001b[0;34m)\u001b[0m\u001b[0;34m\u001b[0m\u001b[0m\n\u001b[0m",
        "\u001b[0;31mKeyError\u001b[0m: 0"
       ]
      }
     ],
     "prompt_number": 483
    },
    {
     "cell_type": "code",
     "collapsed": false,
     "input": [
      "with open('random_points.json', 'w') as outfile:\n",
      "    json.dump(random_points, outfile)"
     ],
     "language": "python",
     "metadata": {},
     "outputs": [],
     "prompt_number": 484
    },
    {
     "cell_type": "code",
     "collapsed": false,
     "input": [
      "with open('amended_centroids.json', 'w') as outfile:\n",
      "    json.dump(amended_centroids, outfile)"
     ],
     "language": "python",
     "metadata": {},
     "outputs": [],
     "prompt_number": 485
    },
    {
     "cell_type": "code",
     "collapsed": false,
     "input": [
      "with open('countries_of_residence_list.json', 'w') as outfile:\n",
      "    json.dump(countries_of_residence_list, outfile)"
     ],
     "language": "python",
     "metadata": {},
     "outputs": [],
     "prompt_number": 486
    },
    {
     "cell_type": "code",
     "collapsed": false,
     "input": [
      "#top_20_coo\n",
      "with open('top_20_coo.json', 'w') as outfile:\n",
      "    json.dump(top_20_coo, outfile)"
     ],
     "language": "python",
     "metadata": {},
     "outputs": [],
     "prompt_number": 487
    },
    {
     "cell_type": "code",
     "collapsed": false,
     "input": [
      "with open('geojson.json', 'w') as outfile:\n",
      "    json.dump(geojson, outfile)"
     ],
     "language": "python",
     "metadata": {},
     "outputs": [],
     "prompt_number": 488
    },
    {
     "cell_type": "code",
     "collapsed": false,
     "input": [
      "with open('top_20_coo.json', 'r') as f:\n",
      "    top_20_coo = json.load(f)\n",
      "\n",
      "with open('countries_of_residence_list.json', 'r') as f:\n",
      "    countries_of_residence_list = json.load(f)    \n",
      "\n",
      "with open('origins.json', 'r') as f:\n",
      "    origins = json.load(f)\n",
      "\n",
      "with open('amended_centroids.json', 'r') as f:\n",
      "    amended_centroids = json.load(f)\n",
      "\n",
      "with open('random_points.json', 'r') as f:\n",
      "    random_points = json.load(f)\n",
      "    \n",
      "points = []\n",
      "for coo in top_20_coo.keys():\n",
      "    print coo\n",
      "    for country_of_residence in countries_of_residence_list:\n",
      "        cor = country_of_residence['country_of_residence']\n",
      "        if coo != cor and cor != \"XXX\" and cor != \"SCG\" and cor != \"YUG\":\n",
      "            sum_time_series = origins[coo][cor]['sum_time_series']\n",
      "            if sum_time_series > 100:\n",
      "                start_point = LngLatToPixelXY(amended_centroids[coo])\n",
      "                end_point = LngLatToPixelXY(amended_centroids[cor])\n",
      "                time_series = origins[coo][cor]['time_series']\n",
      "                for i in range(0,13):\n",
      "                    val_0 = time_series[i]\n",
      "                    val_1 = time_series[i+1]\n",
      "                    year = val_1['year']\n",
      "                    value = val_1['value'] - val_0['value']\n",
      "                    scaled_range = int(value)\n",
      "                    for j in range(0, scaled_range):\n",
      "                        if j % 10 == 0:\n",
      "                            p1 = start_point\n",
      "                            p2 = end_point\n",
      "                            mid = [(p2[0] + p1[0])/2.0, (p2[1] + p1[1])/2.0]\n",
      "                        else:\n",
      "                            p1 = random.choice(random_points[coo])\n",
      "                            p2 = random.choice(random_points[cor])\n",
      "                            mid = [(p2[0] + p1[0])/2.0, (p2[1] + p1[1])/2.0]\n",
      "                        month, day = random_month_day()\n",
      "                        epoch = YearMonthDayToEpoch(year, month, day)\n",
      "                        points += start_point\n",
      "                        points += end_point\n",
      "                        points += mid\n",
      "                        points.append(epoch)\n",
      "\n",
      "split = split_list(points,len(points)/7)\n",
      "ordered_split = sorted(split, key=itemgetter(6))\n",
      "points = []\n",
      "for x in ordered_split:\n",
      "    for y in x:\n",
      "        points += [y]\n",
      "array.array('f', points).tofile(open('animated-points-6.bin', 'w'))\n"
     ],
     "language": "python",
     "metadata": {},
     "outputs": [
      {
       "output_type": "stream",
       "stream": "stdout",
       "text": [
        "AGO\n",
        "TLS"
       ]
      },
      {
       "output_type": "stream",
       "stream": "stdout",
       "text": [
        "\n",
        "AZE\n",
        "LKA"
       ]
      },
      {
       "output_type": "stream",
       "stream": "stdout",
       "text": [
        "\n",
        "COD"
       ]
      },
      {
       "output_type": "stream",
       "stream": "stdout",
       "text": [
        "\n",
        "ETH"
       ]
      },
      {
       "output_type": "stream",
       "stream": "stdout",
       "text": [
        "\n",
        "PSE"
       ]
      },
      {
       "output_type": "stream",
       "stream": "stdout",
       "text": [
        "\n",
        "COL"
       ]
      },
      {
       "output_type": "stream",
       "stream": "stdout",
       "text": [
        "\n",
        "LBR"
       ]
      },
      {
       "output_type": "stream",
       "stream": "stdout",
       "text": [
        "\n",
        "BIH"
       ]
      },
      {
       "output_type": "stream",
       "stream": "stdout",
       "text": [
        "\n",
        "VNM"
       ]
      },
      {
       "output_type": "stream",
       "stream": "stdout",
       "text": [
        "\n",
        "SOM"
       ]
      },
      {
       "output_type": "stream",
       "stream": "stdout",
       "text": [
        "\n",
        "CAF"
       ]
      },
      {
       "output_type": "stream",
       "stream": "stdout",
       "text": [
        "\n",
        "ERI"
       ]
      },
      {
       "output_type": "stream",
       "stream": "stdout",
       "text": [
        "\n",
        "SRB"
       ]
      },
      {
       "output_type": "stream",
       "stream": "stdout",
       "text": [
        "\n",
        "MLI"
       ]
      },
      {
       "output_type": "stream",
       "stream": "stdout",
       "text": [
        "\n",
        "IRQ"
       ]
      },
      {
       "output_type": "stream",
       "stream": "stdout",
       "text": [
        "\n",
        "HRV"
       ]
      },
      {
       "output_type": "stream",
       "stream": "stdout",
       "text": [
        "\n",
        "BDI"
       ]
      },
      {
       "output_type": "stream",
       "stream": "stdout",
       "text": [
        "\n",
        "CHN"
       ]
      },
      {
       "output_type": "stream",
       "stream": "stdout",
       "text": [
        "\n",
        "IRN"
       ]
      },
      {
       "output_type": "stream",
       "stream": "stdout",
       "text": [
        "\n",
        "RUS"
       ]
      },
      {
       "output_type": "stream",
       "stream": "stdout",
       "text": [
        "\n",
        "SLE"
       ]
      },
      {
       "output_type": "stream",
       "stream": "stdout",
       "text": [
        "\n",
        "ESH"
       ]
      },
      {
       "output_type": "stream",
       "stream": "stdout",
       "text": [
        "\n",
        "RWA"
       ]
      },
      {
       "output_type": "stream",
       "stream": "stdout",
       "text": [
        "\n",
        "AFG"
       ]
      },
      {
       "output_type": "stream",
       "stream": "stdout",
       "text": [
        "\n",
        "TUR"
       ]
      },
      {
       "output_type": "stream",
       "stream": "stdout",
       "text": [
        "\n",
        "MMR"
       ]
      },
      {
       "output_type": "stream",
       "stream": "stdout",
       "text": [
        "\n",
        "SYR"
       ]
      },
      {
       "output_type": "stream",
       "stream": "stdout",
       "text": [
        "\n",
        "SSD"
       ]
      },
      {
       "output_type": "stream",
       "stream": "stdout",
       "text": [
        "\n",
        "SDN"
       ]
      },
      {
       "output_type": "stream",
       "stream": "stdout",
       "text": [
        "\n",
        "BTN"
       ]
      },
      {
       "output_type": "stream",
       "stream": "stdout",
       "text": [
        "\n",
        "CIV"
       ]
      },
      {
       "output_type": "stream",
       "stream": "stdout",
       "text": [
        "\n"
       ]
      }
     ],
     "prompt_number": 18
    },
    {
     "cell_type": "code",
     "collapsed": false,
     "input": [
      "points = []\n",
      "for coo in top_20_coo.keys():\n",
      "    print coo\n",
      "    for country_of_residence in countries_of_residence_list:\n",
      "        cor = country_of_residence['country_of_residence']\n",
      "        if coo != cor and cor != \"XXX\" and cor != \"SCG\" and cor != \"YUG\":\n",
      "            sum_time_series = origins[coo][cor]['sum_time_series']\n",
      "            if sum_time_series > 100:\n",
      "                start_point = LngLatToPixelXY(amended_centroids[coo])\n",
      "                end_point = LngLatToPixelXY(amended_centroids[cor])\n",
      "                time_series = origins[coo][cor]['time_series']\n",
      "                for i in range(0,13):\n",
      "                    val_0 = time_series[i]\n",
      "                    val_1 = time_series[i+1]\n",
      "                    year = val_1['year']\n",
      "                    value = val_1['value'] - val_0['value']\n",
      "                    if value > 10:\n",
      "                        scaled_range = int(int(value) / 8)\n",
      "                    else:\n",
      "                        scaled_range = int(value)\n",
      "                    for j in range(0, scaled_range):\n",
      "                        if j % 10 == 0:\n",
      "                            p1 = start_point\n",
      "                            p2 = end_point\n",
      "                            mid = [(p2[0] + p1[0])/2.0, (p2[1] + p1[1])/2.0]\n",
      "                        else:\n",
      "                            p1 = random.choice(random_points[coo])\n",
      "                            p2 = random.choice(random_points[cor])\n",
      "                            mid = [(p2[0] + p1[0])/2.0, (p2[1] + p1[1])/2.0]\n",
      "                        month, day = random_month_day()\n",
      "                        epoch = YearMonthDayToEpoch(year, month, day)\n",
      "                        points += start_point\n",
      "                        points += end_point\n",
      "                        points += mid\n",
      "                        points.append(epoch)\n",
      "\n",
      "split = split_list(points,len(points)/7)\n",
      "ordered_split = sorted(split, key=itemgetter(6))\n",
      "points = []\n",
      "for x in ordered_split:\n",
      "    for y in x:\n",
      "        points += [y]\n",
      "array.array('f', points).tofile(open('animated-points-7.bin', 'w'))\n"
     ],
     "language": "python",
     "metadata": {},
     "outputs": [
      {
       "output_type": "stream",
       "stream": "stdout",
       "text": [
        "AGO\n",
        "TLS"
       ]
      },
      {
       "output_type": "stream",
       "stream": "stdout",
       "text": [
        "\n",
        "AZE\n",
        "LKA\n",
        "COD"
       ]
      },
      {
       "output_type": "stream",
       "stream": "stdout",
       "text": [
        "\n",
        "ETH"
       ]
      },
      {
       "output_type": "stream",
       "stream": "stdout",
       "text": [
        "\n",
        "PSE"
       ]
      },
      {
       "output_type": "stream",
       "stream": "stdout",
       "text": [
        "\n",
        "COL"
       ]
      },
      {
       "output_type": "stream",
       "stream": "stdout",
       "text": [
        "\n",
        "LBR"
       ]
      },
      {
       "output_type": "stream",
       "stream": "stdout",
       "text": [
        "\n",
        "BIH"
       ]
      },
      {
       "output_type": "stream",
       "stream": "stdout",
       "text": [
        "\n",
        "VNM"
       ]
      },
      {
       "output_type": "stream",
       "stream": "stdout",
       "text": [
        "\n",
        "SOM"
       ]
      },
      {
       "output_type": "stream",
       "stream": "stdout",
       "text": [
        "\n",
        "CAF"
       ]
      },
      {
       "output_type": "stream",
       "stream": "stdout",
       "text": [
        "\n",
        "ERI"
       ]
      },
      {
       "output_type": "stream",
       "stream": "stdout",
       "text": [
        "\n",
        "SRB"
       ]
      },
      {
       "output_type": "stream",
       "stream": "stdout",
       "text": [
        "\n",
        "MLI"
       ]
      },
      {
       "output_type": "stream",
       "stream": "stdout",
       "text": [
        "\n",
        "IRQ"
       ]
      },
      {
       "output_type": "stream",
       "stream": "stdout",
       "text": [
        "\n",
        "HRV"
       ]
      },
      {
       "output_type": "stream",
       "stream": "stdout",
       "text": [
        "\n",
        "BDI"
       ]
      },
      {
       "output_type": "stream",
       "stream": "stdout",
       "text": [
        "\n",
        "CHN"
       ]
      },
      {
       "output_type": "stream",
       "stream": "stdout",
       "text": [
        "\n",
        "IRN"
       ]
      },
      {
       "output_type": "stream",
       "stream": "stdout",
       "text": [
        "\n",
        "RUS"
       ]
      },
      {
       "output_type": "stream",
       "stream": "stdout",
       "text": [
        "\n",
        "SLE"
       ]
      },
      {
       "output_type": "stream",
       "stream": "stdout",
       "text": [
        "\n",
        "ESH"
       ]
      },
      {
       "output_type": "stream",
       "stream": "stdout",
       "text": [
        "\n",
        "RWA\n",
        "AFG"
       ]
      },
      {
       "output_type": "stream",
       "stream": "stdout",
       "text": [
        "\n",
        "TUR"
       ]
      },
      {
       "output_type": "stream",
       "stream": "stdout",
       "text": [
        "\n",
        "MMR"
       ]
      },
      {
       "output_type": "stream",
       "stream": "stdout",
       "text": [
        "\n",
        "SYR"
       ]
      },
      {
       "output_type": "stream",
       "stream": "stdout",
       "text": [
        "\n",
        "SSD"
       ]
      },
      {
       "output_type": "stream",
       "stream": "stdout",
       "text": [
        "\n",
        "SDN"
       ]
      },
      {
       "output_type": "stream",
       "stream": "stdout",
       "text": [
        "\n",
        "BTN"
       ]
      },
      {
       "output_type": "stream",
       "stream": "stdout",
       "text": [
        "\n",
        "CIV\n"
       ]
      }
     ],
     "prompt_number": 20
    },
    {
     "cell_type": "code",
     "collapsed": false,
     "input": [
      "# Download new dataset from http://popstats.unhcr.org/en/overview\n",
      "# Years 1951 - 2016\n",
      "csv_filename = 'capture/unhcr_popstats_export_time_series_2016_10_18_171000.csv'\n",
      "import csv\n",
      "popstats = []\n",
      "with open(csv_filename) as csvfile:\n",
      "     reader = csv.DictReader(csvfile)\n",
      "     for row in reader:\n",
      "            popstats.append(row)\n"
     ],
     "language": "python",
     "metadata": {},
     "outputs": [],
     "prompt_number": 144
    },
    {
     "cell_type": "code",
     "collapsed": false,
     "input": [
      "total = 0\n",
      "total_by_year = {}\n",
      "for val in range(1984,2016):\n",
      "    total_by_year[str(val)] = 0\n",
      "    \n",
      "for row in popstats:\n",
      "    if int(row['Year']) >= 1984:\n",
      "        value = random.randint(1, 4) if row['Value'] == \"*\" else int(row['Value'])\n",
      "        total += value\n",
      "        total_by_year[row['Year']] += value"
     ],
     "language": "python",
     "metadata": {},
     "outputs": [],
     "prompt_number": 145
    },
    {
     "cell_type": "code",
     "collapsed": false,
     "input": [
      "total_by_year"
     ],
     "language": "python",
     "metadata": {},
     "outputs": [
      {
       "metadata": {},
       "output_type": "pyout",
       "prompt_number": 146,
       "text": [
        "{'1984': 10557306,\n",
        " '1985': 11699562,\n",
        " '1986': 12028574,\n",
        " '1987': 12668947,\n",
        " '1988': 14341431,\n",
        " '1989': 14726576,\n",
        " '1990': 17390695,\n",
        " '1991': 16848803,\n",
        " '1992': 17819063,\n",
        " '1993': 16325525,\n",
        " '1994': 15753691,\n",
        " '1995': 14896087,\n",
        " '1996': 13357087,\n",
        " '1997': 12015350,\n",
        " '1998': 11480860,\n",
        " '1999': 11687226,\n",
        " '2000': 12129572,\n",
        " '2001': 12116835,\n",
        " '2002': 10594055,\n",
        " '2003': 9592795,\n",
        " '2004': 9573397,\n",
        " '2005': 8661994,\n",
        " '2006': 9877703,\n",
        " '2007': 11390930,\n",
        " '2008': 10489812,\n",
        " '2009': 10396538,\n",
        " '2010': 10549681,\n",
        " '2011': 10404804,\n",
        " '2012': 10497957,\n",
        " '2013': 11699279,\n",
        " '2014': 14381247,\n",
        " '2015': 16122505}"
       ]
      }
     ],
     "prompt_number": 146
    },
    {
     "cell_type": "code",
     "collapsed": false,
     "input": [
      "displacement_totals = []\n",
      "for year in range(1984,2015):\n",
      "    curr_year = year\n",
      "    next_year = year + 1\n",
      "    displacement_totals.append(total_by_year[str(next_year)] - total_by_year[str(curr_year)])"
     ],
     "language": "python",
     "metadata": {},
     "outputs": [],
     "prompt_number": 147
    },
    {
     "cell_type": "code",
     "collapsed": false,
     "input": [
      "displacement_totals"
     ],
     "language": "python",
     "metadata": {},
     "outputs": [
      {
       "metadata": {},
       "output_type": "pyout",
       "prompt_number": 148,
       "text": [
        "[1142256,\n",
        " 329012,\n",
        " 640373,\n",
        " 1672484,\n",
        " 385145,\n",
        " 2664119,\n",
        " -541892,\n",
        " 970260,\n",
        " -1493538,\n",
        " -571834,\n",
        " -857604,\n",
        " -1539000,\n",
        " -1341737,\n",
        " -534490,\n",
        " 206366,\n",
        " 442346,\n",
        " -12737,\n",
        " -1522780,\n",
        " -1001260,\n",
        " -19398,\n",
        " -911403,\n",
        " 1215709,\n",
        " 1513227,\n",
        " -901118,\n",
        " -93274,\n",
        " 153143,\n",
        " -144877,\n",
        " 93153,\n",
        " 1201322,\n",
        " 2681968,\n",
        " 1741258]"
       ]
      }
     ],
     "prompt_number": 148
    },
    {
     "cell_type": "code",
     "collapsed": false,
     "input": [
      "popstats[0]"
     ],
     "language": "python",
     "metadata": {},
     "outputs": [
      {
       "metadata": {},
       "output_type": "pyout",
       "prompt_number": 149,
       "text": [
        "{'Country / territory of asylum/residence': 'Australia',\n",
        " 'Origin': 'Various/Unknown',\n",
        " 'Population type': 'Refugees (incl. refugee-like situations)',\n",
        " 'Value': '180000',\n",
        " 'Year': '1951'}"
       ]
      }
     ],
     "prompt_number": 149
    },
    {
     "cell_type": "code",
     "collapsed": false,
     "input": [
      "import csv\n",
      "cow = []\n",
      "with open('cow.csv') as csvfile:\n",
      "     reader = csv.DictReader(csvfile, delimiter=\";\")\n",
      "     for row in reader:\n",
      "            cow.append(row)\n",
      "print \"ISO:%s LNG: %s LAT %s\" %  (cow[0]['ISO3166A3'], cow[0]['longitude'], cow[0]['latitude'])\n"
     ],
     "language": "python",
     "metadata": {},
     "outputs": [
      {
       "output_type": "stream",
       "stream": "stdout",
       "text": [
        "ISO: AFG LNG:  65 LAT  33\n"
       ]
      }
     ],
     "prompt_number": 150
    },
    {
     "cell_type": "code",
     "collapsed": false,
     "input": [
      "cow[0]"
     ],
     "language": "python",
     "metadata": {},
     "outputs": [
      {
       "metadata": {},
       "output_type": "pyout",
       "prompt_number": 151,
       "text": [
        "{'BGN_capital': ' Kabul',\n",
        " 'BGN_demomyn_adj': ' Afghan',\n",
        " 'BGN_demonym': ' Afghan(s)',\n",
        " 'BGN_longname': ' Islamic Republic of Afghanistan',\n",
        " 'BGN_name': ' Afghanistan',\n",
        " 'BGN_proper': ' Afghanistan',\n",
        " 'BGNc_latitude': ' 34.5166666667',\n",
        " 'BGNc_longitude': ' 69.1833333333',\n",
        " 'BGNlc_longname': ' Afghanestan',\n",
        " 'BGNlc_name': ' Jomhuri-ye Eslami-ye Afghanestan',\n",
        " 'EKI_capital': ' Kabul',\n",
        " 'EKI_longname': ' Afganistani Islamivabariik',\n",
        " 'EKI_name': ' Afganistan',\n",
        " 'FAOit_longname': \" la Repubblica islamica dell'Afghanistan\",\n",
        " 'FAOit_name': ' Afghanistan',\n",
        " 'FAOit_proper': ' Afghanistan',\n",
        " 'FIPS104': ' AF',\n",
        " 'HasCapital': ' 1',\n",
        " 'ISO3166A3': ' AFG',\n",
        " 'ISO3166N3': ' 4',\n",
        " 'ISOen_name': ' Afghanistan',\n",
        " 'ISOen_proper': ' Afghanistan',\n",
        " 'ISOen_ro_name': ' Afghanistan',\n",
        " 'ISOen_ro_proper': ' Afghanistan',\n",
        " 'ISOes_name': ' Afganist\\xc3\\xa1n',\n",
        " 'ISOfr_name': ' Afghanistan',\n",
        " 'ISOfr_proper': ' Afghanistan',\n",
        " 'ISOregion': ' 142',\n",
        " 'ISOsubregion': ' 34',\n",
        " 'ITU': ' 93',\n",
        " 'IVC': ' AFG',\n",
        " 'PCGN_longname': ' Islamic Republic of Afghanistan',\n",
        " 'PCGN_name': ' Afghanistan',\n",
        " 'PCGN_proper': ' Afghanistan',\n",
        " 'UNGEGNen_longname': ' the Islamic Republic of Afghanistan',\n",
        " 'UNGEGNen_name': ' Afghanistan',\n",
        " 'UNGEGNes_longname': ' Rep\\xc3\\xbablica Isl\\xc3\\xa1mica del Afganist\\xc3\\xa1n (la)',\n",
        " 'UNGEGNes_name': ' Afganist\\xc3\\xa1n (el)',\n",
        " 'UNGEGNfr_longname': \" R\\xc3\\xa9publique islamique d'Afghanistan\",\n",
        " 'UNGEGNfr_name': \" Afghanistan (l')\",\n",
        " 'UNGEGNlc_capital': ' K\\xc4\\x81bul',\n",
        " 'UNGEGNlc_ro_longname': ' Jomh\\xc5\\xabr\\xc4\\xab-ye Esl\\xc4\\x81\\xcc\\x84m\\xc4\\xab\\xcc\\x84-ye Afgh\\xc4\\x81\\xcc\\x84nest\\xc4\\x81\\xcc\\x84n[fa]/Afgh\\xc4\\x81nist\\xc4\\x81n Isl\\xc4\\x81m\\xc4\\xab Jumh\\xc5\\xabr\\xc4\\xabyat[ps]',\n",
        " 'UNGEGNlc_ro_name': ' Afgh\\xc4\\x81\\xcc\\x84nest\\xc4\\x81\\xcc\\x84n[fa]/Afgh\\xc4\\x81\\xcc\\x84nista\\xcc\\x84n[ps]',\n",
        " 'UNGEGNru_longname': ' \\xd0\\x98\\xd1\\x81\\xd0\\xbb\\xd0\\xb0\\xd0\\xbc\\xd1\\x81\\xd0\\xba\\xd0\\xb0\\xd1\\x8f \\xd0\\xa0\\xd0\\xb5\\xd1\\x81\\xd0\\xbf\\xd1\\x83\\xd0\\xb1\\xd0\\xbb\\xd0\\xb8\\xd0\\xba\\xd0\\xb0 \\xd0\\x90\\xd1\\x84\\xd0\\xb3\\xd0\\xb0\\xd0\\xbd\\xd0\\xb8\\xd1\\x81\\xd1\\x82\\xd0\\xb0\\xd0\\xbd',\n",
        " 'UNGEGNru_name': ' \\xd0\\x90\\xd1\\x84\\xd0\\xb3\\xd0\\xb0\\xd0\\xbd\\xd0\\xb8\\xd1\\x81\\xd1\\x82\\xd0\\xb0\\xd0\\xbd',\n",
        " 'UNc_latitude': ' 34.49',\n",
        " 'UNc_longitude': ' 69.17',\n",
        " 'UNen_capital': ' Kabul',\n",
        " 'UNes_capital': ' Kabul',\n",
        " 'UNfr_capital': ' Kaboul',\n",
        " 'UNru_capital': ' \\xd0\\x9a\\xd0\\xb0\\xd0\\xb1\\xd1\\x83\\xd0\\xbb',\n",
        " 'conabbr': ' ',\n",
        " 'continent': ' AS',\n",
        " 'land': ' 652230',\n",
        " 'land_total': ' 652230',\n",
        " 'language': ' fa,ps',\n",
        " 'latitude': ' 33',\n",
        " 'longitude': ' 65',\n",
        " 'maxlatitude': ' 38.48',\n",
        " 'maxlongitude': ' 74.88',\n",
        " 'minlatitude': ' 29.38',\n",
        " 'minlongitude': ' 60.48',\n",
        " 'population': ' 30419928',\n",
        " 'subcontinent': ' ',\n",
        " 'url_gis': ' ',\n",
        " 'url_gov': ' president.gov.af',\n",
        " 'url_post': ' afghanpost.gov.af/',\n",
        " 'url_stats': ' cso.gov.af',\n",
        " 'water': ' ',\n",
        " 'year': ' 2012',\n",
        " '\\xef\\xbb\\xbfISO3166A2': 'AF'}"
       ]
      }
     ],
     "prompt_number": 151
    },
    {
     "cell_type": "code",
     "collapsed": false,
     "input": [
      "identifiers = {}\n",
      "for row in popstats:\n",
      "    res = row['Country / territory of asylum/residence']\n",
      "    org = row['Origin']\n",
      "    if not identifiers.has_key(res):\n",
      "        identifiers[res] = None\n",
      "    if not identifiers.has_key(org):\n",
      "        identifiers[org] = None\n",
      "len(identifiers.keys())        \n",
      "         "
     ],
     "language": "python",
     "metadata": {},
     "outputs": [
      {
       "metadata": {},
       "output_type": "pyout",
       "prompt_number": 152,
       "text": [
        "217"
       ]
      }
     ],
     "prompt_number": 152
    },
    {
     "cell_type": "code",
     "collapsed": false,
     "input": [
      "# Normalize country names\n",
      "mismatches = {}\n",
      "for key in identifiers.keys():\n",
      "    match = False\n",
      "    for row in cow: \n",
      "        if row['ISOen_name'].strip() == key:\n",
      "            #print key\n",
      "            match = True\n",
      "            break\n",
      "    if not match:\n",
      "        if not mismatches.has_key(key):\n",
      "            mismatches[key] = None\n",
      "mismatches"
     ],
     "language": "python",
     "metadata": {},
     "outputs": [
      {
       "metadata": {},
       "output_type": "pyout",
       "prompt_number": 153,
       "text": [
        "{'Bolivia (Plurinational State of)': None,\n",
        " 'British Virgin Islands': None,\n",
        " 'Cabo Verde': None,\n",
        " 'Central African Rep.': None,\n",
        " 'China, Hong Kong SAR': None,\n",
        " 'China, Macao SAR': None,\n",
        " 'Cura\\xc3\\xa7ao': None,\n",
        " 'Czech Rep.': None,\n",
        " \"C\\xc3\\xb4te d'Ivoire\": None,\n",
        " \"Dem. People's Rep. of Korea\": None,\n",
        " 'Dem. Rep. of the Congo': None,\n",
        " 'Dominican Rep.': None,\n",
        " 'Holy See (the)': None,\n",
        " 'Iran (Islamic Rep. of)': None,\n",
        " \"Lao People's Dem. Rep.\": None,\n",
        " 'Libya': None,\n",
        " 'Micronesia (Federated States of)': None,\n",
        " 'Palestinian': None,\n",
        " 'Rep. of Korea': None,\n",
        " 'Rep. of Moldova': None,\n",
        " 'Saint Vincent and the Grenadines': None,\n",
        " 'Serbia and Kosovo (S/RES/1244 (1999))': None,\n",
        " 'Stateless': None,\n",
        " 'Syrian Arab Rep.': None,\n",
        " 'The former Yugoslav Republic of Macedonia': None,\n",
        " 'Tibetan': None,\n",
        " 'United Rep. of Tanzania': None,\n",
        " 'United States of America': None,\n",
        " 'Various/Unknown': None,\n",
        " 'Venezuela (Bolivarian Republic of)': None}"
       ]
      }
     ],
     "prompt_number": 153
    },
    {
     "cell_type": "code",
     "collapsed": false,
     "input": [
      "mismatches['Bolivia (Plurinational State of)'] = cow[26]['ISOen_name'].strip()\n",
      "mismatches['British Virgin Islands'] = cow[242]['ISOen_name'].strip()\n",
      "mismatches['Cabo Verde'] = cow[40]['ISOen_name'].strip()\n",
      "mismatches['Central African Rep.'] = cow[42]['ISOen_name'].strip()\n",
      "mismatches['China, Hong Kong SAR'] = cow[99]['ISOen_name'].strip()\n",
      "mismatches['China, Macao SAR'] = cow[130]['ISOen_name'].strip()\n",
      "mismatches['Cura\\xc3\\xa7ao'] = cow[57]['ISOen_name'].strip()\n",
      "mismatches['Czech Rep.'] = cow[59]['ISOen_name'].strip()\n",
      "mismatches['C\\xc3\\xb4te d\\'Ivoire'] = cow[54]['ISOen_name'].strip()\n",
      "mismatches['Dem. People\\'s Rep. of Korea'] = cow[117]['ISOen_name'].strip()\n",
      "mismatches['Dem. Rep. of the Congo'] = cow[51]['ISOen_name'].strip()\n",
      "mismatches['Dominican Rep.'] = cow[63]['ISOen_name'].strip()\n",
      "mismatches['Holy See (the)'] = cow[97]['ISOen_name'].strip()\n",
      "mismatches['Iran (Islamic Rep. of)'] = cow[104]['ISOen_name'].strip()\n",
      "mismatches['Lao People\\'s Dem. Rep.'] = cow[121]['ISOen_name'].strip()\n",
      "mismatches['Libya'] = cow[126]['ISOen_name'].strip()\n",
      "mismatches['Micronesia (Federated States of)'] = cow[144]['ISOen_name'].strip()\n",
      "mismatches['Palestinian'] = cow[166]['ISOen_name'].strip()\n",
      "mismatches['Rep. of Korea'] = cow[118]['ISOen_name'].strip()\n",
      "mismatches['Rep. of Moldova'] = cow[145]['ISOen_name'].strip()\n",
      "mismatches['Saint Vincent and the Grenadines'] = cow[190]['ISOen_name'].strip()\n",
      "mismatches['Serbia and Kosovo (S/RES/1244 (1999))'] = cow[196]['ISOen_name'].strip()\n",
      "#mismatches['Stateless'] \n",
      "mismatches['Syrian Arab Rep.'] = cow[216]['ISOen_name'].strip()\n",
      "mismatches['The former Yugoslav Republic of Macedonia'] = cow[131]['ISOen_name'].strip()\n",
      "#mismatches['Tibetan'] = cow[]['ISOen_name'].strip()\n",
      "mismatches['United Rep. of Tanzania'] = cow[219]['ISOen_name'].strip()\n",
      "mismatches['United States of America'] = cow[235]['ISOen_name'].strip()\n",
      "#mismatches['Various/Unknown'] = cow[]['ISOen_name'].strip()\n",
      "mismatches['Venezuela (Bolivarian Republic of)'] = cow[240]['ISOen_name'].strip()\n",
      "mismatches          "
     ],
     "language": "python",
     "metadata": {},
     "outputs": [
      {
       "metadata": {},
       "output_type": "pyout",
       "prompt_number": 154,
       "text": [
        "{'Bolivia (Plurinational State of)': 'Bolivia, Plurinational State of',\n",
        " 'British Virgin Islands': 'Virgin Islands, British',\n",
        " 'Cabo Verde': 'Cape Verde',\n",
        " 'Central African Rep.': 'Central African Republic',\n",
        " 'China, Hong Kong SAR': 'Hong Kong',\n",
        " 'China, Macao SAR': 'Macao',\n",
        " 'Cura\\xc3\\xa7ao': 'Curacao',\n",
        " 'Czech Rep.': 'Czech Republic',\n",
        " \"C\\xc3\\xb4te d'Ivoire\": \"Cote d'Ivoire\",\n",
        " \"Dem. People's Rep. of Korea\": \"Korea, Democratic People's Republic of\",\n",
        " 'Dem. Rep. of the Congo': 'Congo, The Democratic Republic of the',\n",
        " 'Dominican Rep.': 'Dominican Republic',\n",
        " 'Holy See (the)': 'Holy See (Vatican City State)',\n",
        " 'Iran (Islamic Rep. of)': 'Iran, Islamic Republic of',\n",
        " \"Lao People's Dem. Rep.\": \"Lao People's Democratic Republic\",\n",
        " 'Libya': 'Libyan Arab Jamahiriya',\n",
        " 'Micronesia (Federated States of)': 'Micronesia, Federated States of',\n",
        " 'Palestinian': 'Occupied Palestinian Territory',\n",
        " 'Rep. of Korea': 'Korea, Republic of',\n",
        " 'Rep. of Moldova': 'Moldova, Republic of',\n",
        " 'Saint Vincent and the Grenadines': 'Saint Vincent and The Grenadines',\n",
        " 'Serbia and Kosovo (S/RES/1244 (1999))': 'Serbia',\n",
        " 'Stateless': None,\n",
        " 'Syrian Arab Rep.': 'Syrian Arab Republic',\n",
        " 'The former Yugoslav Republic of Macedonia': 'Macedonia, The Former Yugoslav Republic of',\n",
        " 'Tibetan': None,\n",
        " 'United Rep. of Tanzania': 'Tanzania, United Republic of',\n",
        " 'United States of America': 'United States',\n",
        " 'Various/Unknown': None,\n",
        " 'Venezuela (Bolivarian Republic of)': 'Venezuela, Bolivarian Republic of'}"
       ]
      }
     ],
     "prompt_number": 154
    },
    {
     "cell_type": "code",
     "collapsed": false,
     "input": [
      "for row in popstats:\n",
      "    if mismatches.has_key(row['Origin']) and mismatches[row['Origin']] != None:\n",
      "        row['Origin'] = mismatches[row['Origin']]\n",
      "    if mismatches.has_key(row['Country / territory of asylum/residence'])  and mismatches[row['Country / territory of asylum/residence']] != None:\n",
      "        row['Country / territory of asylum/residence'] = mismatches[row['Country / territory of asylum/residence']]\n",
      "        \n",
      "    "
     ],
     "language": "python",
     "metadata": {},
     "outputs": [],
     "prompt_number": 155
    },
    {
     "cell_type": "code",
     "collapsed": false,
     "input": [
      "identifiers = {}\n",
      "for row in popstats:\n",
      "    res = row['Country / territory of asylum/residence']\n",
      "    org = row['Origin']\n",
      "    if not identifiers.has_key(res):\n",
      "        identifiers[res] = None\n",
      "    if not identifiers.has_key(org):\n",
      "        identifiers[org] = None\n",
      "print len(identifiers.keys())        \n",
      "mismatches = {}\n",
      "for key in identifiers.keys():\n",
      "    match = False\n",
      "    for row in cow: \n",
      "        if row['ISOen_name'].strip() == key:\n",
      "            #print key\n",
      "            match = True\n",
      "            break\n",
      "    if not match:\n",
      "        if not mismatches.has_key(key):\n",
      "            mismatches[key] = None\n",
      "mismatches         "
     ],
     "language": "python",
     "metadata": {},
     "outputs": [
      {
       "output_type": "stream",
       "stream": "stdout",
       "text": [
        "217\n"
       ]
      },
      {
       "metadata": {},
       "output_type": "pyout",
       "prompt_number": 157,
       "text": [
        "{'Stateless': None, 'Tibetan': None, 'Various/Unknown': None}"
       ]
      }
     ],
     "prompt_number": 157
    },
    {
     "cell_type": "code",
     "collapsed": false,
     "input": [
      "#Add country['ISO3166A3'] to popstats\n",
      "name_to_iso = {}\n",
      "for country in cow:\n",
      "    name = country['ISOen_name'].strip()\n",
      "    iso = country['ISO3166A3'].strip()\n",
      "    if not name_to_iso.has_key(name):\n",
      "        name_to_iso[name] = iso\n"
     ],
     "language": "python",
     "metadata": {},
     "outputs": [],
     "prompt_number": 160
    },
    {
     "cell_type": "code",
     "collapsed": false,
     "input": [
      "popstats[0]"
     ],
     "language": "python",
     "metadata": {},
     "outputs": [
      {
       "metadata": {},
       "output_type": "pyout",
       "prompt_number": 166,
       "text": [
        "{'Country / territory of asylum/residence': 'Australia',\n",
        " 'Origin': 'Various/Unknown',\n",
        " 'Population type': 'Refugees (incl. refugee-like situations)',\n",
        " 'Value': '180000',\n",
        " 'Year': '1951'}"
       ]
      }
     ],
     "prompt_number": 166
    },
    {
     "cell_type": "code",
     "collapsed": false,
     "input": [
      "for row in popstats:\n",
      "    coo = row['Origin']\n",
      "    cor = row['Country / territory of asylum/residence']\n",
      "    if name_to_iso.has_key(coo):\n",
      "        row['coo'] = name_to_iso[coo]\n",
      "    else:\n",
      "        row['coo'] = None\n",
      "    if name_to_iso.has_key(cor):\n",
      "        row['cor'] = name_to_iso[cor]\n",
      "    else:\n",
      "        row['cor'] = None\n"
     ],
     "language": "python",
     "metadata": {},
     "outputs": [],
     "prompt_number": 172
    },
    {
     "cell_type": "code",
     "collapsed": false,
     "input": [
      "popstats[10000]\n",
      "[0] * 16\n",
      "2015 % 2000"
     ],
     "language": "python",
     "metadata": {},
     "outputs": [
      {
       "metadata": {},
       "output_type": "pyout",
       "prompt_number": 181,
       "text": [
        "15"
       ]
      }
     ],
     "prompt_number": 181
    },
    {
     "cell_type": "code",
     "collapsed": false,
     "input": [
      "refugees = {}\n",
      "for row in popstats:\n",
      "    year = int(row['Year'])\n",
      "    coo = row['coo']\n",
      "    cor = row['cor']\n",
      "    value = random.randint(1, 4) if row['Value'] == \"*\" else int(row['Value'])\n",
      "    if year > 1999 and coo != None and cor != None:\n",
      "        if not refugees.has_key(coo):\n",
      "            refugees[coo] = {}\n",
      "        if not refugees[coo].has_key(cor):\n",
      "            refugees[coo][cor] = {}\n",
      "            refugees[coo][cor]['values'] = [0] * 16\n",
      "        idx = year % 2000\n",
      "        refugees[coo][cor]['values'][idx] = value\n"
     ],
     "language": "python",
     "metadata": {},
     "outputs": [],
     "prompt_number": 185
    },
    {
     "cell_type": "code",
     "collapsed": false,
     "input": [
      "for coo in refugees.keys():\n",
      "    for cor in refugees[coo].keys():\n",
      "        refugees[coo][cor]['diff'] = [0] * 15\n",
      "        for i in range(0, len(refugees[coo][cor]['values']) - 1):\n",
      "            year_0 = refugees[coo][cor]['values'][i]\n",
      "            year_1 = refugees[coo][cor]['values'][i+1]\n",
      "            diff = year_1 - year_0\n",
      "            refugees[coo][cor]['diff'][i] = diff\n",
      "            \n",
      "            \n",
      "            "
     ],
     "language": "python",
     "metadata": {},
     "outputs": [],
     "prompt_number": 190
    },
    {
     "cell_type": "code",
     "collapsed": false,
     "input": [
      "refugees['AGO']"
     ],
     "language": "python",
     "metadata": {},
     "outputs": [
      {
       "metadata": {},
       "output_type": "pyout",
       "prompt_number": 191,
       "text": [
        "{'ARG': {'diff': [0, 0, 2, 0, 0, 2, 0, 0, -1, 0, -1, 0, 0, 0, 1],\n",
        "  'values': [11, 11, 11, 13, 13, 13, 15, 15, 15, 14, 14, 13, 13, 13, 13, 14]},\n",
        " 'AUS': {'diff': [0, -1, -2, -5, -2, 1, 9, -1, -5, -2, 0, -1, 0, 0, 2],\n",
        "  'values': [11, 11, 10, 8, 3, 1, 2, 11, 10, 5, 3, 3, 2, 2, 2, 4]},\n",
        " 'AUT': {'diff': [6, 10, 21, 25, 15, 18, 19, 13, 14, 15, 6, -6, -16, 0, -36],\n",
        "  'values': [17,\n",
        "   23,\n",
        "   33,\n",
        "   54,\n",
        "   79,\n",
        "   94,\n",
        "   112,\n",
        "   131,\n",
        "   144,\n",
        "   158,\n",
        "   173,\n",
        "   179,\n",
        "   173,\n",
        "   157,\n",
        "   157,\n",
        "   121]},\n",
        " 'BDI': {'diff': [0, 0, 0, 0, 0, 0, 0, 0, 0, 0, 0, 0, 0, 0, 0],\n",
        "  'values': [0, 0, 0, 0, 0, 0, 0, 0, 0, 0, 0, 0, 0, 0, 0, 0]},\n",
        " 'BEL': {'diff': [-29,\n",
        "   -96,\n",
        "   -47,\n",
        "   -32,\n",
        "   -12,\n",
        "   4,\n",
        "   7,\n",
        "   -5,\n",
        "   -19,\n",
        "   8,\n",
        "   3,\n",
        "   -19,\n",
        "   -34,\n",
        "   -4,\n",
        "   37],\n",
        "  'values': [338,\n",
        "   309,\n",
        "   213,\n",
        "   166,\n",
        "   134,\n",
        "   122,\n",
        "   126,\n",
        "   133,\n",
        "   128,\n",
        "   109,\n",
        "   117,\n",
        "   120,\n",
        "   101,\n",
        "   67,\n",
        "   63,\n",
        "   100]},\n",
        " 'BEN': {'diff': [0, 0, 0, 0, 4, -2, 0, 0, 0, 0, 0, -4, -1, 0, 0],\n",
        "  'values': [3, 3, 3, 3, 3, 7, 5, 5, 5, 5, 5, 5, 1, 0, 0, 0]},\n",
        " 'BFA': {'diff': [-2, 0, 0, 0, 0, 0, 0, 0, 0, 0, 0, 0, 0, 0, 0],\n",
        "  'values': [2, 0, 0, 0, 0, 0, 0, 0, 0, 0, 0, 0, 0, 0, 0, 0]},\n",
        " 'BGR': {'diff': [0, -3, 1, 2, -2, 0, 0, 0, 0, 0, 0, -4, -1, 0, 0],\n",
        "  'values': [7, 7, 4, 5, 7, 5, 5, 5, 5, 5, 5, 5, 1, 0, 0, 0]},\n",
        " 'BLZ': {'diff': [1, -1, 0, 0, 0, 0, 0, 0, 0, 0, 0, 0, 0, 0, 0],\n",
        "  'values': [0, 1, 0, 0, 0, 0, 0, 0, 0, 0, 0, 0, 0, 0, 0, 0]},\n",
        " 'BOL': {'diff': [0, 0, 0, 0, 0, 0, 1, 0, 0, 0, 0, 0, 0, 0, 1],\n",
        "  'values': [0, 0, 0, 0, 0, 0, 0, 1, 1, 1, 1, 1, 1, 1, 1, 2]},\n",
        " 'BRA': {'diff': [125,\n",
        "   204,\n",
        "   44,\n",
        "   53,\n",
        "   -254,\n",
        "   -77,\n",
        "   -5,\n",
        "   -3,\n",
        "   17,\n",
        "   3,\n",
        "   0,\n",
        "   -2,\n",
        "   -622,\n",
        "   8,\n",
        "   13],\n",
        "  'values': [1579,\n",
        "   1704,\n",
        "   1908,\n",
        "   1952,\n",
        "   2005,\n",
        "   1751,\n",
        "   1674,\n",
        "   1669,\n",
        "   1666,\n",
        "   1683,\n",
        "   1686,\n",
        "   1686,\n",
        "   1684,\n",
        "   1062,\n",
        "   1070,\n",
        "   1083]},\n",
        " 'BWA': {'diff': [-1,\n",
        "   13,\n",
        "   30,\n",
        "   -34,\n",
        "   97,\n",
        "   11,\n",
        "   -218,\n",
        "   -153,\n",
        "   15,\n",
        "   10,\n",
        "   -15,\n",
        "   -497,\n",
        "   0,\n",
        "   0,\n",
        "   3],\n",
        "  'values': [742,\n",
        "   741,\n",
        "   754,\n",
        "   784,\n",
        "   750,\n",
        "   847,\n",
        "   858,\n",
        "   640,\n",
        "   487,\n",
        "   502,\n",
        "   512,\n",
        "   497,\n",
        "   0,\n",
        "   0,\n",
        "   0,\n",
        "   3]},\n",
        " 'CAF': {'diff': [6, 0, 2, -17, 5, -33, 0, 6, 0, 0, -4, 2, 0, 6, 0],\n",
        "  'values': [42, 48, 48, 50, 33, 38, 5, 5, 11, 11, 11, 7, 9, 9, 15, 15]},\n",
        " 'CAN': {'diff': [156,\n",
        "   137,\n",
        "   84,\n",
        "   183,\n",
        "   192,\n",
        "   -56,\n",
        "   249,\n",
        "   -5,\n",
        "   -13,\n",
        "   -37,\n",
        "   -137,\n",
        "   -140,\n",
        "   -103,\n",
        "   -205,\n",
        "   -219],\n",
        "  'values': [140,\n",
        "   296,\n",
        "   433,\n",
        "   517,\n",
        "   700,\n",
        "   892,\n",
        "   836,\n",
        "   1085,\n",
        "   1080,\n",
        "   1067,\n",
        "   1030,\n",
        "   893,\n",
        "   753,\n",
        "   650,\n",
        "   445,\n",
        "   226]},\n",
        " 'CHE': {'diff': [118,\n",
        "   158,\n",
        "   62,\n",
        "   27,\n",
        "   92,\n",
        "   -61,\n",
        "   -193,\n",
        "   -124,\n",
        "   -199,\n",
        "   -204,\n",
        "   -172,\n",
        "   -92,\n",
        "   -121,\n",
        "   -80,\n",
        "   -57],\n",
        "  'values': [1764,\n",
        "   1882,\n",
        "   2040,\n",
        "   2102,\n",
        "   2129,\n",
        "   2221,\n",
        "   2160,\n",
        "   1967,\n",
        "   1843,\n",
        "   1644,\n",
        "   1440,\n",
        "   1268,\n",
        "   1176,\n",
        "   1055,\n",
        "   975,\n",
        "   918]},\n",
        " 'CHL': {'diff': [0, 0, 0, 0, 0, 0, 0, 0, -6, 0, 0, 0, 0, 0, 0],\n",
        "  'values': [6, 6, 6, 6, 6, 6, 6, 6, 6, 0, 0, 0, 0, 0, 0, 0]},\n",
        " 'CHN': {'diff': [0, 0, 0, 0, 0, 0, 0, 0, 0, 0, 0, 0, 0, 0, 0],\n",
        "  'values': [0, 0, 0, 0, 0, 0, 0, 0, 0, 0, 0, 0, 0, 0, 0, 0]},\n",
        " 'CIV': {'diff': [0, 0, 0, 0, -1, 1, -5, 0, 0, 0, 5, 0, 0, 0, 0],\n",
        "  'values': [5, 5, 5, 5, 5, 4, 5, 0, 0, 0, 0, 5, 5, 5, 5, 5]},\n",
        " 'CMR': {'diff': [0, 0, 0, 0, 0, 13, 3, 1, 1, 1, -7, 0, 0, 0, 0],\n",
        "  'values': [0, 0, 0, 0, 0, 0, 13, 16, 17, 18, 19, 12, 12, 12, 12, 12]},\n",
        " 'COD': {'diff': [11459,\n",
        "   -2678,\n",
        "   -60487,\n",
        "   -25331,\n",
        "   8389,\n",
        "   25523,\n",
        "   -19615,\n",
        "   -1091,\n",
        "   -27215,\n",
        "   -4757,\n",
        "   -1473,\n",
        "   -78144,\n",
        "   558,\n",
        "   0,\n",
        "   3],\n",
        "  'values': [175420,\n",
        "   186879,\n",
        "   184201,\n",
        "   123714,\n",
        "   98383,\n",
        "   106772,\n",
        "   132295,\n",
        "   112680,\n",
        "   111589,\n",
        "   84374,\n",
        "   79617,\n",
        "   78144,\n",
        "   0,\n",
        "   558,\n",
        "   558,\n",
        "   561]},\n",
        " 'COG': {'diff': [-770,\n",
        "   1,\n",
        "   -13865,\n",
        "   -249,\n",
        "   -657,\n",
        "   -309,\n",
        "   -1,\n",
        "   -13,\n",
        "   -1839,\n",
        "   15,\n",
        "   90,\n",
        "   -596,\n",
        "   4,\n",
        "   141,\n",
        "   -164],\n",
        "  'values': [18515,\n",
        "   17745,\n",
        "   17746,\n",
        "   3881,\n",
        "   3632,\n",
        "   2975,\n",
        "   2666,\n",
        "   2665,\n",
        "   2652,\n",
        "   813,\n",
        "   828,\n",
        "   918,\n",
        "   322,\n",
        "   326,\n",
        "   467,\n",
        "   303]},\n",
        " 'COL': {'diff': [0, 0, 0, 0, 1, 0, 0, 0, 1, 0, 0, 0, 0, -3, 0],\n",
        "  'values': [3, 3, 3, 3, 3, 4, 4, 4, 4, 5, 5, 5, 5, 5, 2, 2]},\n",
        " 'CRI': {'diff': [0, 0, 0, 0, 0, 0, 2, 0, 0, 0, 0, 0, 0, -1, -1],\n",
        "  'values': [0, 0, 0, 0, 0, 0, 0, 2, 2, 2, 2, 2, 2, 2, 1, 0]},\n",
        " 'CYP': {'diff': [0, 0, 0, 0, 0, 0, 0, 0, 0, 0, 0, 0, 0, 0, 0],\n",
        "  'values': [0, 0, 0, 0, 0, 0, 0, 0, 0, 0, 0, 0, 0, 0, 0, 0]},\n",
        " 'CZE': {'diff': [0, 0, 2, 0, 0, 0, 1, 0, 1, 0, 0, 0, -1, -4, 1],\n",
        "  'values': [19, 19, 19, 21, 21, 21, 21, 22, 22, 23, 23, 23, 23, 22, 18, 19]},\n",
        " 'DEU': {'diff': [0,\n",
        "   3334,\n",
        "   -46,\n",
        "   -16,\n",
        "   481,\n",
        "   -1747,\n",
        "   402,\n",
        "   55,\n",
        "   970,\n",
        "   -112,\n",
        "   -203,\n",
        "   -77,\n",
        "   -2191,\n",
        "   -50,\n",
        "   -4],\n",
        "  'values': [0,\n",
        "   0,\n",
        "   3334,\n",
        "   3288,\n",
        "   3272,\n",
        "   3753,\n",
        "   2006,\n",
        "   2408,\n",
        "   2463,\n",
        "   3433,\n",
        "   3321,\n",
        "   3118,\n",
        "   3041,\n",
        "   850,\n",
        "   800,\n",
        "   796]},\n",
        " 'DNK': {'diff': [-8, 4, 3, 1, 0, -2, -14, 1, -1, -7, 0, -4, -3, 1, 0],\n",
        "  'values': [32, 24, 28, 31, 32, 32, 30, 16, 17, 16, 9, 9, 5, 2, 3, 3]},\n",
        " 'DZA': {'diff': [0, 0, 0, 0, 0, 0, 0, 0, 3, 1, 0, 0, 0, -4, 0],\n",
        "  'values': [0, 0, 0, 0, 0, 0, 0, 0, 0, 3, 4, 4, 4, 4, 0, 0]},\n",
        " 'ECU': {'diff': [0, 0, 0, 0, 0, 0, 1, 0, 0, 0, 0, 0, 0, 2, 0],\n",
        "  'values': [1, 1, 1, 1, 1, 1, 1, 2, 2, 2, 2, 2, 2, 2, 4, 4]},\n",
        " 'EGY': {'diff': [1, 0, 0, 1, -1, 0, 0, 0, 0, 0, 0, 0, 0, -1, 0],\n",
        "  'values': [0, 1, 1, 1, 2, 1, 1, 1, 1, 1, 1, 1, 1, 1, 0, 0]},\n",
        " 'ESP': {'diff': [27,\n",
        "   2,\n",
        "   -33,\n",
        "   -51,\n",
        "   -45,\n",
        "   0,\n",
        "   -7,\n",
        "   -1,\n",
        "   -13,\n",
        "   -26,\n",
        "   -10,\n",
        "   -2,\n",
        "   -5,\n",
        "   0,\n",
        "   0],\n",
        "  'values': [176,\n",
        "   203,\n",
        "   205,\n",
        "   172,\n",
        "   121,\n",
        "   76,\n",
        "   76,\n",
        "   69,\n",
        "   68,\n",
        "   55,\n",
        "   29,\n",
        "   19,\n",
        "   17,\n",
        "   12,\n",
        "   12,\n",
        "   12]},\n",
        " 'ETH': {'diff': [1, 0, 0, 0, -4, 0, 0, 0, 0, 0, 0, 0, 0, 0, 0],\n",
        "  'values': [3, 4, 4, 4, 4, 0, 0, 0, 0, 0, 0, 0, 0, 0, 0, 0]},\n",
        " 'FIN': {'diff': [6, 8, 18, 14, 14, 6, 12, 16, 4, 14, 25, -8, -7, -36, -23],\n",
        "  'values': [94,\n",
        "   100,\n",
        "   108,\n",
        "   126,\n",
        "   140,\n",
        "   154,\n",
        "   160,\n",
        "   172,\n",
        "   188,\n",
        "   192,\n",
        "   206,\n",
        "   231,\n",
        "   223,\n",
        "   216,\n",
        "   180,\n",
        "   157]},\n",
        " 'FRA': {'diff': [131,\n",
        "   101,\n",
        "   59,\n",
        "   310,\n",
        "   324,\n",
        "   124,\n",
        "   128,\n",
        "   92,\n",
        "   195,\n",
        "   88,\n",
        "   65,\n",
        "   96,\n",
        "   91,\n",
        "   -11,\n",
        "   11],\n",
        "  'values': [1545,\n",
        "   1676,\n",
        "   1777,\n",
        "   1836,\n",
        "   2146,\n",
        "   2470,\n",
        "   2594,\n",
        "   2722,\n",
        "   2814,\n",
        "   3009,\n",
        "   3097,\n",
        "   3162,\n",
        "   3258,\n",
        "   3349,\n",
        "   3338,\n",
        "   3349]},\n",
        " 'GAB': {'diff': [0, 87, 8, 0, -79, 7, 4, 5, 3, -1, -1, 0, 0, -65, -3],\n",
        "  'values': [37, 37, 124, 132, 132, 53, 60, 64, 69, 72, 71, 70, 70, 70, 5, 2]},\n",
        " 'GBR': {'diff': [565,\n",
        "   875,\n",
        "   702,\n",
        "   102,\n",
        "   96,\n",
        "   7,\n",
        "   -34,\n",
        "   -40,\n",
        "   -305,\n",
        "   -483,\n",
        "   -569,\n",
        "   -865,\n",
        "   -555,\n",
        "   -227,\n",
        "   -80],\n",
        "  'values': [1105,\n",
        "   1670,\n",
        "   2545,\n",
        "   3247,\n",
        "   3349,\n",
        "   3445,\n",
        "   3452,\n",
        "   3418,\n",
        "   3378,\n",
        "   3073,\n",
        "   2590,\n",
        "   2021,\n",
        "   1156,\n",
        "   601,\n",
        "   374,\n",
        "   294]},\n",
        " 'GHA': {'diff': [0, 0, -1, 0, 0, 0, 0, 0, 0, 0, 0, 0, 0, 0, 0],\n",
        "  'values': [1, 1, 1, 0, 0, 0, 0, 0, 0, 0, 0, 0, 0, 0, 0, 0]},\n",
        " 'GIN': {'diff': [0, 0, 0, 1, -1, 1, 0, 0, 0, 0, 0, 0, 0, 3, -3],\n",
        "  'values': [0, 0, 0, 0, 1, 0, 1, 1, 1, 1, 1, 1, 1, 1, 4, 1]},\n",
        " 'GRC': {'diff': [1, 0, 0, 0, 0, 0, 0, 0, 0, -1, 0, 0, 0, 3, 1],\n",
        "  'values': [0, 1, 1, 1, 1, 1, 1, 1, 1, 1, 0, 0, 0, 0, 3, 4]},\n",
        " 'GTM': {'diff': [0, 0, 0, -1, 0, 0, 0, 0, 0, 0, 0, 0, 0, 0, 0],\n",
        "  'values': [1, 1, 1, 1, 0, 0, 0, 0, 0, 0, 0, 0, 0, 0, 0, 0]},\n",
        " 'HUN': {'diff': [0, 3, 4, 2, 5, 0, 2, 0, -5, -2, 0, -3, -9, 0, 0],\n",
        "  'values': [8, 8, 11, 15, 17, 22, 22, 24, 24, 19, 17, 17, 14, 5, 5, 5]},\n",
        " 'IDN': {'diff': [0, -1, 0, 0, 0, 0, 0, 0, 0, 0, 0, 0, 0, 0, 0],\n",
        "  'values': [1, 1, 0, 0, 0, 0, 0, 0, 0, 0, 0, 0, 0, 0, 0, 0]},\n",
        " 'IND': {'diff': [0, 0, 0, 0, 0, 0, 0, 0, 0, 0, 0, 1, 0, 2, 0],\n",
        "  'values': [0, 0, 0, 0, 0, 0, 0, 0, 0, 0, 0, 0, 1, 1, 3, 3]},\n",
        " 'IRL': {'diff': [89,\n",
        "   114,\n",
        "   5,\n",
        "   24,\n",
        "   25,\n",
        "   2,\n",
        "   84,\n",
        "   -2,\n",
        "   -2,\n",
        "   -6,\n",
        "   -87,\n",
        "   -129,\n",
        "   126,\n",
        "   -21,\n",
        "   5],\n",
        "  'values': [22,\n",
        "   111,\n",
        "   225,\n",
        "   230,\n",
        "   254,\n",
        "   279,\n",
        "   281,\n",
        "   365,\n",
        "   363,\n",
        "   361,\n",
        "   355,\n",
        "   268,\n",
        "   139,\n",
        "   265,\n",
        "   244,\n",
        "   249]},\n",
        " 'ITA': {'diff': [18, 17, 5, 14, -8, -4, 5, 7, -9, -31, -21, -20, -7, -11, 4],\n",
        "  'values': [81,\n",
        "   99,\n",
        "   116,\n",
        "   121,\n",
        "   135,\n",
        "   127,\n",
        "   123,\n",
        "   128,\n",
        "   135,\n",
        "   126,\n",
        "   95,\n",
        "   74,\n",
        "   54,\n",
        "   47,\n",
        "   36,\n",
        "   40]},\n",
        " 'JPN': {'diff': [0, 0, 0, 0, 0, 0, 0, 0, 0, 0, 0, 0, 0, 0, 0],\n",
        "  'values': [0, 0, 0, 0, 0, 0, 0, 0, 0, 0, 0, 0, 0, 0, 0, 0]},\n",
        " 'KEN': {'diff': [0, 0, 2, -2, 0, 0, 0, 0, 0, 0, 0, 0, 0, 0, 0],\n",
        "  'values': [0, 0, 0, 2, 0, 0, 0, 0, 0, 0, 0, 0, 0, 0, 0, 0]},\n",
        " 'KHM': {'diff': [0, 0, 0, 0, 0, 1, -1, 0, 0, 0, 0, 0, 0, 0, 0],\n",
        "  'values': [0, 0, 0, 0, 0, 0, 1, 0, 0, 0, 0, 0, 0, 0, 0, 0]},\n",
        " 'KOR': {'diff': [0, 0, 0, 0, 0, 0, 0, 0, 0, 0, 2, 1, 0, 0, 1],\n",
        "  'values': [0, 0, 0, 0, 0, 0, 0, 0, 0, 0, 0, 2, 3, 3, 3, 4]},\n",
        " 'LUX': {'diff': [0, 0, 0, 0, 0, 0, 0, 0, 0, 0, 0, 0, 14, -1, 2],\n",
        "  'values': [0, 0, 0, 0, 0, 0, 0, 0, 0, 0, 0, 0, 0, 14, 13, 15]},\n",
        " 'MAR': {'diff': [0, 1, 0, -7, 0, 0, 2, 0, -1, 0, -3, 0, 0, 0, 3],\n",
        "  'values': [8, 8, 9, 9, 2, 2, 2, 4, 4, 3, 3, 0, 0, 0, 0, 3]},\n",
        " 'MDA': {'diff': [-1, 0, 0, 0, 0, 1, 0, 0, 0, 0, 0, 0, 0, 3, 0],\n",
        "  'values': [1, 0, 0, 0, 0, 0, 1, 1, 1, 1, 1, 1, 1, 1, 4, 4]},\n",
        " 'MDG': {'diff': [1, -1, 0, 0, 0, 0, 0, 0, 0, 0, 0, 0, 0, 0, 0],\n",
        "  'values': [0, 1, 0, 0, 0, 0, 0, 0, 0, 0, 0, 0, 0, 0, 0, 0]},\n",
        " 'MEX': {'diff': [0, 0, -7, 0, 0, 1, 0, 1, 0, -1, 0, 0, 0, 1, -3],\n",
        "  'values': [9, 9, 9, 2, 2, 2, 3, 3, 4, 4, 3, 3, 3, 3, 4, 1]},\n",
        " 'MLI': {'diff': [0, 0, 0, 0, 0, 0, 0, 0, 0, 0, 0, 0, 0, 0, 0],\n",
        "  'values': [0, 0, 0, 0, 0, 0, 0, 0, 0, 0, 0, 0, 0, 0, 0, 0]},\n",
        " 'MOZ': {'diff': [0, 0, 0, 1, 0, -1, 1, 0, 5, 0, 0, -3, 0, 0, 0],\n",
        "  'values': [0, 0, 0, 0, 1, 1, 0, 1, 1, 6, 6, 6, 3, 3, 3, 3]},\n",
        " 'MRT': {'diff': [1, 0, 0, 0, -1, 0, 1, 1, 0, 0, -1, -1, 0, 0, 2],\n",
        "  'values': [0, 1, 1, 1, 1, 0, 0, 1, 2, 2, 2, 1, 0, 0, 0, 2]},\n",
        " 'MWI': {'diff': [0, 0, 0, 0, 0, 0, 0, 0, 0, 0, 0, 0, 0, 0, 3],\n",
        "  'values': [0, 0, 0, 0, 0, 0, 0, 0, 0, 0, 0, 0, 0, 0, 0, 3]},\n",
        " 'MYS': {'diff': [0, 0, 0, 0, 0, 0, 0, 0, 0, 0, 0, 0, 0, 0, 0],\n",
        "  'values': [0, 0, 0, 0, 0, 0, 0, 0, 0, 0, 0, 0, 0, 0, 0, 0]},\n",
        " 'NAM': {'diff': [3618,\n",
        "   -9245,\n",
        "   -3822,\n",
        "   -5196,\n",
        "   -7952,\n",
        "   72,\n",
        "   967,\n",
        "   211,\n",
        "   8,\n",
        "   -20,\n",
        "   -1582,\n",
        "   -4322,\n",
        "   0,\n",
        "   0,\n",
        "   0],\n",
        "  'values': [27263,\n",
        "   30881,\n",
        "   21636,\n",
        "   17814,\n",
        "   12618,\n",
        "   4666,\n",
        "   4738,\n",
        "   5705,\n",
        "   5916,\n",
        "   5924,\n",
        "   5904,\n",
        "   4322,\n",
        "   0,\n",
        "   0,\n",
        "   0,\n",
        "   0]},\n",
        " 'NGA': {'diff': [0, 0, -1, 0, -5, 0, 0, 0, 0, -1, 0, 0, -7, 0, 0],\n",
        "  'values': [14, 14, 14, 13, 13, 8, 8, 8, 8, 8, 7, 7, 7, 0, 0, 0]},\n",
        " 'NLD': {'diff': [283,\n",
        "   881,\n",
        "   237,\n",
        "   -274,\n",
        "   -175,\n",
        "   -152,\n",
        "   -178,\n",
        "   -128,\n",
        "   -171,\n",
        "   -562,\n",
        "   -289,\n",
        "   -919,\n",
        "   -237,\n",
        "   -126,\n",
        "   -176],\n",
        "  'values': [2169,\n",
        "   2452,\n",
        "   3333,\n",
        "   3570,\n",
        "   3296,\n",
        "   3121,\n",
        "   2969,\n",
        "   2791,\n",
        "   2663,\n",
        "   2492,\n",
        "   1930,\n",
        "   1641,\n",
        "   722,\n",
        "   485,\n",
        "   359,\n",
        "   183]},\n",
        " 'NOR': {'diff': [5, 3, 20, 70, 18, 10, 11, 21, -4, 3, -3, 0, -19, -70, -18],\n",
        "  'values': [11,\n",
        "   16,\n",
        "   19,\n",
        "   39,\n",
        "   109,\n",
        "   127,\n",
        "   137,\n",
        "   148,\n",
        "   169,\n",
        "   165,\n",
        "   168,\n",
        "   165,\n",
        "   165,\n",
        "   146,\n",
        "   76,\n",
        "   58]},\n",
        " 'NZL': {'diff': [0, 1, 0, 0, 1, 0, 0, 0, 0, 0, 0, -1, 0, 0, -1],\n",
        "  'values': [0, 0, 1, 1, 1, 2, 2, 2, 2, 2, 2, 2, 1, 1, 1, 0]},\n",
        " 'POL': {'diff': [1, 1, 0, 0, -1, 0, 0, 0, 0, -1, 0, -1, 0, 0, 0],\n",
        "  'values': [1, 2, 3, 3, 3, 2, 2, 2, 2, 2, 1, 1, 0, 0, 0, 0]},\n",
        " 'PRT': {'diff': [3, 0, 1, 0, -5, 0, -4, 0, -2, -5, -1, 0, -1, -1, 2],\n",
        "  'values': [16, 19, 19, 20, 20, 15, 15, 11, 11, 9, 4, 3, 3, 2, 1, 3]},\n",
        " 'PRY': {'diff': [0, 0, 0, 0, 0, 0, 0, 0, 0, 0, 0, 0, 0, 0, 0],\n",
        "  'values': [0, 0, 0, 0, 0, 0, 0, 0, 0, 0, 0, 0, 0, 0, 0, 0]},\n",
        " 'ROU': {'diff': [2, 0, 0, 0, 0, 0, 0, 0, 0, 0, -2, 0, 2, 0, -1],\n",
        "  'values': [0, 2, 2, 2, 2, 2, 2, 2, 2, 2, 2, 0, 0, 2, 2, 1]},\n",
        " 'RUS': {'diff': [0, 0, 0, 0, 0, 0, 8, 8, -1, 3, 0, -7, -11, 0, 9],\n",
        "  'values': [0, 0, 0, 0, 0, 0, 0, 8, 16, 15, 18, 18, 11, 0, 0, 9]},\n",
        " 'RWA': {'diff': [3, -3, 0, 0, 0, 0, 0, 3, 0, 0, 0, 1, 1, 1, -1],\n",
        "  'values': [0, 3, 0, 0, 0, 0, 0, 0, 3, 3, 3, 3, 4, 5, 6, 5]},\n",
        " 'SEN': {'diff': [0, -3, 0, 0, 0, 0, 0, 0, 0, 0, 0, 0, 0, 0, 3],\n",
        "  'values': [4, 4, 1, 1, 1, 1, 1, 1, 1, 1, 1, 1, 1, 1, 1, 4]},\n",
        " 'SOM': {'diff': [2, 0, 0, -2, 0, 0, 0, 0, 0, 0, 0, 0, 0, 0, 0],\n",
        "  'values': [0, 2, 2, 2, 0, 0, 0, 0, 0, 0, 0, 0, 0, 0, 0, 0]},\n",
        " 'SVK': {'diff': [0, -3, 0, -14, 0, -3, 0, 0, 0, -1, 0, 0, 0, -1, 0],\n",
        "  'values': [22, 22, 19, 19, 5, 5, 2, 2, 2, 2, 1, 1, 1, 1, 0, 0]},\n",
        " 'SWE': {'diff': [-40, 7, 5, -8, -2, -5, 28, 5, 5, 1, -6, -22, -4, -6, -2],\n",
        "  'values': [112,\n",
        "   72,\n",
        "   79,\n",
        "   84,\n",
        "   76,\n",
        "   74,\n",
        "   69,\n",
        "   97,\n",
        "   102,\n",
        "   107,\n",
        "   108,\n",
        "   102,\n",
        "   80,\n",
        "   76,\n",
        "   70,\n",
        "   68]},\n",
        " 'SWZ': {'diff': [0, -6, 2, 0, 0, 0, 0, 0, 0, 0, 0, -83, 0, -4, 1],\n",
        "  'values': [99, 99, 93, 95, 95, 95, 95, 95, 95, 95, 95, 95, 12, 12, 8, 9]},\n",
        " 'TCD': {'diff': [-1, 0, 0, 0, 0, 0, 0, 0, 0, 0, 0, 0, 0, 0, 0],\n",
        "  'values': [1, 0, 0, 0, 0, 0, 0, 0, 0, 0, 0, 0, 0, 0, 0, 0]},\n",
        " 'THA': {'diff': [0, 0, 0, 0, 0, 0, 0, 0, 0, 0, 0, 0, 0, 0, 0],\n",
        "  'values': [0, 0, 0, 0, 0, 0, 0, 0, 0, 0, 0, 0, 0, 0, 0, 0]},\n",
        " 'TUR': {'diff': [0, 0, 0, 0, 0, 0, 0, 1, 0, 0, 0, -1, 0, 0, 0],\n",
        "  'values': [0, 0, 0, 0, 0, 0, 0, 0, 1, 1, 1, 1, 0, 0, 0, 0]},\n",
        " 'UGA': {'diff': [0, 0, 0, 1, -1, 0, 0, 0, 0, 0, 0, 0, 0, 0, 0],\n",
        "  'values': [0, 0, 0, 0, 1, 0, 0, 0, 0, 0, 0, 0, 0, 0, 0, 0]},\n",
        " 'UKR': {'diff': [-2, 1, -4, -3, -1, 1, 0, 0, 0, 1, 0, -2, 1, 0, -1],\n",
        "  'values': [38, 36, 37, 33, 30, 29, 30, 30, 30, 30, 31, 31, 29, 30, 30, 29]},\n",
        " 'URY': {'diff': [0, 0, 0, 0, 0, 0, 0, 0, 0, 0, 0, 0, 0, 0, 0],\n",
        "  'values': [0, 0, 0, 0, 0, 0, 0, 0, 0, 0, 0, 0, 0, 0, 0, 0]},\n",
        " 'USA': {'diff': [83,\n",
        "   49,\n",
        "   -58,\n",
        "   24,\n",
        "   22,\n",
        "   118,\n",
        "   -119,\n",
        "   -5,\n",
        "   2,\n",
        "   -49,\n",
        "   -38,\n",
        "   -29,\n",
        "   -9,\n",
        "   -3,\n",
        "   11],\n",
        "  'values': [134,\n",
        "   217,\n",
        "   266,\n",
        "   208,\n",
        "   232,\n",
        "   254,\n",
        "   372,\n",
        "   253,\n",
        "   248,\n",
        "   250,\n",
        "   201,\n",
        "   163,\n",
        "   134,\n",
        "   125,\n",
        "   122,\n",
        "   133]},\n",
        " 'YEM': {'diff': [0, 0, 0, 0, 0, 0, 0, 0, -2, 0, 0, 0, 0, 0, 0],\n",
        "  'values': [2, 2, 2, 2, 2, 2, 2, 2, 2, 0, 0, 0, 0, 0, 0, 0]},\n",
        " 'ZAF': {'diff': [855,\n",
        "   539,\n",
        "   482,\n",
        "   1,\n",
        "   -10,\n",
        "   -5,\n",
        "   -7,\n",
        "   -1,\n",
        "   7,\n",
        "   50,\n",
        "   0,\n",
        "   -3,\n",
        "   -5805,\n",
        "   0,\n",
        "   3042],\n",
        "  'values': [3897,\n",
        "   4752,\n",
        "   5291,\n",
        "   5773,\n",
        "   5774,\n",
        "   5764,\n",
        "   5759,\n",
        "   5752,\n",
        "   5751,\n",
        "   5758,\n",
        "   5808,\n",
        "   5808,\n",
        "   5805,\n",
        "   0,\n",
        "   0,\n",
        "   3042]},\n",
        " 'ZMB': {'diff': [20000,\n",
        "   -29718,\n",
        "   -29542,\n",
        "   -70052,\n",
        "   -13374,\n",
        "   -32793,\n",
        "   -1918,\n",
        "   -13626,\n",
        "   -1802,\n",
        "   -64,\n",
        "   -1765,\n",
        "   -23500,\n",
        "   0,\n",
        "   0,\n",
        "   0],\n",
        "  'values': [198154,\n",
        "   218154,\n",
        "   188436,\n",
        "   158894,\n",
        "   88842,\n",
        "   75468,\n",
        "   42675,\n",
        "   40757,\n",
        "   27131,\n",
        "   25329,\n",
        "   25265,\n",
        "   23500,\n",
        "   0,\n",
        "   0,\n",
        "   0,\n",
        "   0]},\n",
        " 'ZWE': {'diff': [152, 4, 276, -294, -212, 0, 26, -11, -8, -3, 0, 0, 0, -1, 1],\n",
        "  'values': [74, 226, 230, 506, 212, 0, 0, 26, 15, 7, 4, 4, 4, 4, 3, 4]}}"
       ]
      }
     ],
     "prompt_number": 191
    },
    {
     "cell_type": "code",
     "collapsed": false,
     "input": [
      "with open('amended_centroids.json', 'r') as f:\n",
      "    amended_centroids = json.load(f)\n"
     ],
     "language": "python",
     "metadata": {},
     "outputs": [],
     "prompt_number": 243
    },
    {
     "cell_type": "code",
     "collapsed": false,
     "input": [
      "for coo in refugees.keys():\n",
      "    if not amended_centroids.has_key(coo):\n",
      "        for row in cow:\n",
      "            if row['ISO3166A3'].strip() == coo:\n",
      "                latitude = float(row['latitude'])\n",
      "                longitude = float(row['longitude'])\n",
      "                print \"%s, %s, %s\" % (coo, longitude, latitude)\n",
      "                amended_centroids[coo] = [longitude, latitude]\n",
      "                break\n",
      "    for cor in refugees[coo].keys():\n",
      "        if not amended_centroids.has_key(cor):\n",
      "            for row in cow:\n",
      "                if row['ISO3166A3'].strip() == cor:\n",
      "                    latitude = float(row['latitude'])\n",
      "                    longitude = float(row['longitude'])\n",
      "                    print \"%s, %s, %s\" % (cor, longitude, latitude)\n",
      "                    amended_centroids[cor] = [longitude, latitude]\n",
      "                    break\n",
      "            \n",
      "            \n"
     ],
     "language": "python",
     "metadata": {},
     "outputs": [
      {
       "output_type": "stream",
       "stream": "stdout",
       "text": [
        "AIA, -63.1666666667, 18.25\n",
        "VGB, -64.5, 18.5\n",
        "ABW, -69.9666666667, 12.5\n"
       ]
      }
     ],
     "prompt_number": 247
    },
    {
     "cell_type": "code",
     "collapsed": false,
     "input": [
      "#Save updated amended_centroids\n",
      "with open('amended_centroids.json', 'w') as outfile:\n",
      "    json.dump(amended_centroids, outfile)"
     ],
     "language": "python",
     "metadata": {},
     "outputs": [],
     "prompt_number": 248
    },
    {
     "cell_type": "code",
     "collapsed": false,
     "input": [
      "with open('random_points.json', 'r') as f:\n",
      "    random_points = json.load(f)\n"
     ],
     "language": "python",
     "metadata": {},
     "outputs": [],
     "prompt_number": 250
    },
    {
     "cell_type": "code",
     "collapsed": false,
     "input": [
      "# Generate random points for new countries\n",
      "geojson = {}\n",
      "polys = {}\n",
      "for coo in refugees.keys():\n",
      "    if not random_points.has_key(coo):\n",
      "        print \"%s\" % coo\n",
      "        filename = \"capture/%s/%s_adm0.geojson\" % (coo, coo)\n",
      "        with open(filename) as f:\n",
      "            print filename\n",
      "            geojson[coo] = json.load(f)\n",
      "            polys[coo] = shape(geojson[coo]['features'][0]['geometry'])\n",
      "            random_points[coo] = randomMercatorPoints(coo, 10, False)         \n",
      "            \n",
      "    for cor in refugees[coo].keys():\n",
      "        if not random_points.has_key(cor):\n",
      "            print \"%s\" % cor\n",
      "            filename = \"capture/%s/%s_adm0.geojson\" % (cor, cor)\n",
      "            with open(filename) as f:\n",
      "                print filename\n",
      "                geojson[cor] = json.load(f)\n",
      "                polys[cor] = shape(geojson[cor]['features'][0]['geometry'])\n",
      "                random_points[cor] = randomMercatorPoints(cor, 10, False)         \n",
      "            \n"
     ],
     "language": "python",
     "metadata": {},
     "outputs": [
      {
       "output_type": "stream",
       "stream": "stdout",
       "text": [
        "LSO\n",
        "capture/LSO/LSO_adm0.geojson\n",
        "SLV"
       ]
      },
      {
       "output_type": "stream",
       "stream": "stdout",
       "text": [
        "\n",
        "capture/SLV/SLV_adm0.geojson\n",
        "BLZ"
       ]
      },
      {
       "output_type": "stream",
       "stream": "stdout",
       "text": [
        "\n",
        "capture/BLZ/BLZ_adm0.geojson\n",
        "MDG"
       ]
      },
      {
       "output_type": "stream",
       "stream": "stdout",
       "text": [
        "\n",
        "capture/MDG/MDG_adm0.geojson\n",
        "GTM"
       ]
      },
      {
       "output_type": "stream",
       "stream": "stdout",
       "text": [
        "\n",
        "capture/GTM/GTM_adm0.geojson\n",
        "KNA"
       ]
      },
      {
       "output_type": "stream",
       "stream": "stdout",
       "text": [
        "\n",
        "capture/KNA/KNA_adm0.geojson\n",
        "TTO\n",
        "capture/TTO/TTO_adm0.geojson\n",
        "PNG"
       ]
      },
      {
       "output_type": "stream",
       "stream": "stdout",
       "text": [
        "\n",
        "capture/PNG/PNG_adm0.geojson\n",
        "NRU"
       ]
      },
      {
       "output_type": "stream",
       "stream": "stdout",
       "text": [
        "\n",
        "capture/NRU/NRU_adm0.geojson\n",
        "SUR\n",
        "capture/SUR/SUR_adm0.geojson\n",
        "JAM"
       ]
      },
      {
       "output_type": "stream",
       "stream": "stdout",
       "text": [
        "\n",
        "capture/JAM/JAM_adm0.geojson\n",
        "HND"
       ]
      },
      {
       "output_type": "stream",
       "stream": "stdout",
       "text": [
        "\n",
        "capture/HND/HND_adm0.geojson\n",
        "NIC"
       ]
      },
      {
       "output_type": "stream",
       "stream": "stdout",
       "text": [
        "\n",
        "capture/NIC/NIC_adm0.geojson\n",
        "FJI"
       ]
      },
      {
       "output_type": "stream",
       "stream": "stdout",
       "text": [
        "\n",
        "capture/FJI/FJI_adm0.geojson\n",
        "PLW"
       ]
      },
      {
       "output_type": "stream",
       "stream": "stdout",
       "text": [
        "\n",
        "capture/PLW/PLW_adm0.geojson\n",
        "MAC"
       ]
      },
      {
       "output_type": "stream",
       "stream": "stdout",
       "text": [
        "\n",
        "capture/MAC/MAC_adm0.geojson\n",
        "CPV\n",
        "capture/CPV/CPV_adm0.geojson\n",
        "BHS"
       ]
      },
      {
       "output_type": "stream",
       "stream": "stdout",
       "text": [
        "\n",
        "capture/BHS/BHS_adm0.geojson\n",
        "DOM"
       ]
      },
      {
       "output_type": "stream",
       "stream": "stdout",
       "text": [
        "\n",
        "capture/DOM/DOM_adm0.geojson\n",
        "HTI"
       ]
      },
      {
       "output_type": "stream",
       "stream": "stdout",
       "text": [
        "\n",
        "capture/HTI/HTI_adm0.geojson\n",
        "PRK"
       ]
      },
      {
       "output_type": "stream",
       "stream": "stdout",
       "text": [
        "\n",
        "capture/PRK/PRK_adm0.geojson\n",
        "SGP"
       ]
      },
      {
       "output_type": "stream",
       "stream": "stdout",
       "text": [
        "\n",
        "capture/SGP/SGP_adm0.geojson\n",
        "MNG\n",
        "capture/MNG/MNG_adm0.geojson\n",
        "GUY"
       ]
      },
      {
       "output_type": "stream",
       "stream": "stdout",
       "text": [
        "\n",
        "capture/GUY/GUY_adm0.geojson\n",
        "GIB"
       ]
      },
      {
       "output_type": "stream",
       "stream": "stdout",
       "text": [
        "\n",
        "capture/GIB/GIB_adm0.geojson\n",
        "SYC\n",
        "capture/SYC/SYC_adm0.geojson\n",
        "FSM"
       ]
      },
      {
       "output_type": "stream",
       "stream": "stdout",
       "text": [
        "\n",
        "capture/FSM/FSM_adm0.geojson\n",
        "LAO"
       ]
      },
      {
       "output_type": "stream",
       "stream": "stdout",
       "text": [
        "\n",
        "capture/LAO/LAO_adm0.geojson\n",
        "SXM"
       ]
      },
      {
       "output_type": "stream",
       "stream": "stdout",
       "text": [
        "\n",
        "capture/SXM/SXM_adm0.geojson\n",
        "GRD\n",
        "capture/GRD/GRD_adm0.geojson\n",
        "LCA\n",
        "capture/LCA/LCA_adm0.geojson\n",
        "ATG"
       ]
      },
      {
       "output_type": "stream",
       "stream": "stdout",
       "text": [
        "\n",
        "capture/ATG/ATG_adm0.geojson\n",
        "BRB\n",
        "capture/BRB/BRB_adm0.geojson\n",
        "CUW"
       ]
      },
      {
       "output_type": "stream",
       "stream": "stdout",
       "text": [
        "\n",
        "capture/CUW/CUW_adm0.geojson\n",
        "AIA\n",
        "capture/AIA/AIA_adm0.geojson\n",
        "CYM\n",
        "capture/CYM/CYM_adm0.geojson\n",
        "COK"
       ]
      },
      {
       "output_type": "stream",
       "stream": "stdout",
       "text": [
        "\n",
        "capture/COK/COK_adm0.geojson\n",
        "TCA\n",
        "capture/TCA/TCA_adm0.geojson\n",
        "PYF"
       ]
      },
      {
       "output_type": "stream",
       "stream": "stdout",
       "text": [
        "\n",
        "capture/PYF/PYF_adm0.geojson\n",
        "DMA"
       ]
      },
      {
       "output_type": "stream",
       "stream": "stdout",
       "text": [
        "\n",
        "capture/DMA/DMA_adm0.geojson\n",
        "VGB\n",
        "capture/VGB/VGB_adm0.geojson\n",
        "VUT"
       ]
      },
      {
       "output_type": "stream",
       "stream": "stdout",
       "text": [
        "\n",
        "capture/VUT/VUT_adm0.geojson\n",
        "WSM"
       ]
      },
      {
       "output_type": "stream",
       "stream": "stdout",
       "text": [
        "\n",
        "capture/WSM/WSM_adm0.geojson\n",
        "COM\n",
        "capture/COM/COM_adm0.geojson\n",
        "BMU"
       ]
      },
      {
       "output_type": "stream",
       "stream": "stdout",
       "text": [
        "\n",
        "capture/BMU/BMU_adm0.geojson\n",
        "MHL\n",
        "capture/MHL/MHL_adm0.geojson\n",
        "NIU"
       ]
      },
      {
       "output_type": "stream",
       "stream": "stdout",
       "text": [
        "\n",
        "capture/NIU/NIU_adm0.geojson\n",
        "VCT\n",
        "capture/VCT/VCT_adm0.geojson\n",
        "SLB\n",
        "capture/SLB/SLB_adm0.geojson\n",
        "MUS"
       ]
      },
      {
       "output_type": "stream",
       "stream": "stdout",
       "text": [
        "\n",
        "capture/MUS/MUS_adm0.geojson\n",
        "SMR"
       ]
      },
      {
       "output_type": "stream",
       "stream": "stdout",
       "text": [
        "\n",
        "capture/SMR/SMR_adm0.geojson\n",
        "GNQ\n",
        "capture/GNQ/GNQ_adm0.geojson\n",
        "TON"
       ]
      },
      {
       "output_type": "stream",
       "stream": "stdout",
       "text": [
        "\n",
        "capture/TON/TON_adm0.geojson\n",
        "GLP"
       ]
      },
      {
       "output_type": "stream",
       "stream": "stdout",
       "text": [
        "\n",
        "capture/GLP/GLP_adm0.geojson\n",
        "ABW"
       ]
      },
      {
       "output_type": "stream",
       "stream": "stdout",
       "text": [
        "\n",
        "capture/ABW/ABW_adm0.geojson\n",
        "STP"
       ]
      },
      {
       "output_type": "stream",
       "stream": "stdout",
       "text": [
        "\n",
        "capture/STP/STP_adm0.geojson\n",
        "KIR\n",
        "capture/KIR/KIR_adm0.geojson\n",
        "MDV"
       ]
      },
      {
       "output_type": "stream",
       "stream": "stdout",
       "text": [
        "\n",
        "capture/MDV/MDV_adm0.geojson\n",
        "AND"
       ]
      },
      {
       "output_type": "stream",
       "stream": "stdout",
       "text": [
        "\n",
        "capture/AND/AND_adm0.geojson\n",
        "VAT\n",
        "capture/VAT/VAT_adm0.geojson\n",
        "TUV\n",
        "capture/TUV/TUV_adm0.geojson\n",
        "BRN\n",
        "capture/BRN/BRN_adm0.geojson\n",
        "MCO"
       ]
      },
      {
       "output_type": "stream",
       "stream": "stdout",
       "text": [
        "\n",
        "capture/MCO/MCO_adm0.geojson\n"
       ]
      }
     ],
     "prompt_number": 251
    },
    {
     "cell_type": "code",
     "collapsed": false,
     "input": [
      "#Save updated random_points\n",
      "with open('random_points.json', 'w') as outfile:\n",
      "    json.dump(random_points, outfile)"
     ],
     "language": "python",
     "metadata": {},
     "outputs": [],
     "prompt_number": 252
    },
    {
     "cell_type": "code",
     "collapsed": false,
     "input": [
      "len(random_points.keys())\n",
      "refugees['AFG']['AUS']['diff']\n",
      "print len(refugees['AFG']['AUS']['diff'])\n",
      "for i in range(0, 15):\n",
      "    print 2000 + i\n",
      "refugees['AFG']['AUS']['diff'][15]"
     ],
     "language": "python",
     "metadata": {},
     "outputs": [
      {
       "output_type": "stream",
       "stream": "stdout",
       "text": [
        "15\n",
        "2000\n",
        "2001\n",
        "2002\n",
        "2003\n",
        "2004\n",
        "2005\n",
        "2006\n",
        "2007\n",
        "2008\n",
        "2009\n",
        "2010\n",
        "2011\n",
        "2012\n",
        "2013\n",
        "2014\n"
       ]
      },
      {
       "ename": "IndexError",
       "evalue": "list index out of range",
       "output_type": "pyerr",
       "traceback": [
        "\u001b[0;31m---------------------------------------------------------------------------\u001b[0m\n\u001b[0;31mIndexError\u001b[0m                                Traceback (most recent call last)",
        "\u001b[0;32m<ipython-input-241-bfe4def832a0>\u001b[0m in \u001b[0;36m<module>\u001b[0;34m()\u001b[0m\n\u001b[1;32m      4\u001b[0m \u001b[0;32mfor\u001b[0m \u001b[0mi\u001b[0m \u001b[0;32min\u001b[0m \u001b[0mrange\u001b[0m\u001b[0;34m(\u001b[0m\u001b[0;36m0\u001b[0m\u001b[0;34m,\u001b[0m \u001b[0;36m15\u001b[0m\u001b[0;34m)\u001b[0m\u001b[0;34m:\u001b[0m\u001b[0;34m\u001b[0m\u001b[0m\n\u001b[1;32m      5\u001b[0m     \u001b[0;32mprint\u001b[0m \u001b[0;36m2000\u001b[0m \u001b[0;34m+\u001b[0m \u001b[0mi\u001b[0m\u001b[0;34m\u001b[0m\u001b[0m\n\u001b[0;32m----> 6\u001b[0;31m \u001b[0mrefugees\u001b[0m\u001b[0;34m[\u001b[0m\u001b[0;34m'AFG'\u001b[0m\u001b[0;34m]\u001b[0m\u001b[0;34m[\u001b[0m\u001b[0;34m'AUS'\u001b[0m\u001b[0;34m]\u001b[0m\u001b[0;34m[\u001b[0m\u001b[0;34m'diff'\u001b[0m\u001b[0;34m]\u001b[0m\u001b[0;34m[\u001b[0m\u001b[0;36m15\u001b[0m\u001b[0;34m]\u001b[0m\u001b[0;34m\u001b[0m\u001b[0m\n\u001b[0m",
        "\u001b[0;31mIndexError\u001b[0m: list index out of range"
       ]
      }
     ],
     "prompt_number": 241
    },
    {
     "cell_type": "code",
     "collapsed": false,
     "input": [
      "points = []\n",
      "for coo in refugees.keys():\n",
      "    for cor in refugees[coo].keys():\n",
      "        start_point = LngLatToPixelXY(amended_centroids[coo])\n",
      "        end_point = LngLatToPixelXY(amended_centroids[cor])\n",
      "        diff = refugees[coo][cor]['diff']\n",
      "        for i in range(0,15):\n",
      "            year = 2000 + i + 1\n",
      "            value = diff[i]\n",
      "            scaled_range = int(value)\n",
      "            if scaled_range > 0:\n",
      "                for j in range(0, scaled_range):\n",
      "                    if j % 10 == 0:\n",
      "                        p1 = start_point\n",
      "                        p2 = end_point\n",
      "                        mid = [(p2[0] + p1[0])/2.0, (p2[1] + p1[1])/2.0]\n",
      "                    else:\n",
      "                        p1 = random.choice(random_points[coo])\n",
      "                        p2 = random.choice(random_points[cor])\n",
      "                        mid = [(p2[0] + p1[0])/2.0, (p2[1] + p1[1])/2.0]\n",
      "                    month, day = random_month_day()\n",
      "                    epoch = YearMonthDayToEpoch(year, month, day)\n",
      "                    points += start_point\n",
      "                    points += end_point\n",
      "                    points += mid\n",
      "                    points.append(epoch)\n",
      "\n",
      "split = split_list(points,len(points)/7)\n",
      "ordered_split = sorted(split, key=itemgetter(6))\n",
      "points = []\n",
      "for x in ordered_split:\n",
      "    for y in x:\n",
      "        points += [y]\n",
      "array.array('f', points).tofile(open('animated-points-8.bin', 'w'))\n"
     ],
     "language": "python",
     "metadata": {},
     "outputs": [],
     "prompt_number": 253
    },
    {
     "cell_type": "code",
     "collapsed": false,
     "input": [
      "year_totals = {}\n",
      "for row in ordered_split:\n",
      "    year = datetime.datetime.utcfromtimestamp(row[6]).year\n",
      "    if year_totals.has_key(year):\n",
      "        year_totals[year] += 1\n",
      "    else:\n",
      "        year_totals[year] = 1\n",
      "year_totals\n",
      "\n",
      "year_idx = {}\n",
      "years = range(2001,2016)\n",
      "for i in range(0,len(years)):\n",
      "    year = years[i]\n",
      "    year_idx[year] = {}\n",
      "    year_idx[year]['count'] = year_totals[year]\n",
      "    year_idx[year]['start'] = 0\n",
      "    for j in range(0,i):\n",
      "        year_x = years[j]\n",
      "        year_idx[year]['start'] += year_idx[year_x]['count']\n",
      "year_idx"
     ],
     "language": "python",
     "metadata": {},
     "outputs": [
      {
       "metadata": {},
       "output_type": "pyout",
       "prompt_number": 254,
       "text": [
        "{2001: {'count': 798896, 'start': 0},\n",
        " 2002: {'count': 1377803, 'start': 798896},\n",
        " 2003: {'count': 402155, 'start': 2176699},\n",
        " 2004: {'count': 640155, 'start': 2578854},\n",
        " 2005: {'count': 375991, 'start': 3219009},\n",
        " 2006: {'count': 2073718, 'start': 3595000},\n",
        " 2007: {'count': 2766365, 'start': 5668718},\n",
        " 2008: {'count': 431865, 'start': 8435083},\n",
        " 2009: {'count': 900246, 'start': 8866948},\n",
        " 2010: {'count': 492341, 'start': 9767194},\n",
        " 2011: {'count': 742046, 'start': 10259535},\n",
        " 2012: {'count': 1356451, 'start': 11001581},\n",
        " 2013: {'count': 2260887, 'start': 12358032},\n",
        " 2014: {'count': 3107155, 'start': 14618919},\n",
        " 2015: {'count': 2331362, 'start': 17726074}}"
       ]
      }
     ],
     "prompt_number": 254
    },
    {
     "cell_type": "code",
     "collapsed": false,
     "input": [
      "points = []\n",
      "for coo in refugees.keys():\n",
      "    for cor in refugees[coo].keys():\n",
      "        start_point = LngLatToPixelXY(amended_centroids[coo])\n",
      "        end_point = LngLatToPixelXY(amended_centroids[cor])\n",
      "        diff = refugees[coo][cor]['diff']\n",
      "        for i in range(0,15):\n",
      "            year = 2000 + i + 1\n",
      "            value = diff[i]\n",
      "            scaled_range = int(value *.06)\n",
      "            if scaled_range > 0:\n",
      "                for j in range(0, scaled_range):\n",
      "                    if j % 10 == 0:\n",
      "                        p1 = start_point\n",
      "                        p2 = end_point\n",
      "                        mid = [(p2[0] + p1[0])/2.0, (p2[1] + p1[1])/2.0]\n",
      "                    else:\n",
      "                        p1 = random.choice(random_points[coo])\n",
      "                        p2 = random.choice(random_points[cor])\n",
      "                        mid = [(p2[0] + p1[0])/2.0, (p2[1] + p1[1])/2.0]\n",
      "                    month, day = random_month_day()\n",
      "                    epoch = YearMonthDayToEpoch(year, month, day)\n",
      "                    points += start_point\n",
      "                    points += end_point\n",
      "                    points += mid\n",
      "                    points.append(epoch)\n",
      "\n",
      "split = split_list(points,len(points)/7)\n",
      "ordered_split = sorted(split, key=itemgetter(6))\n",
      "points = []\n",
      "for x in ordered_split:\n",
      "    for y in x:\n",
      "        points += [y]\n",
      "array.array('f', points).tofile(open('animated-points-subsampled.bin', 'w'))\n"
     ],
     "language": "python",
     "metadata": {},
     "outputs": [],
     "prompt_number": 255
    },
    {
     "cell_type": "code",
     "collapsed": false,
     "input": [
      "def hex_to_rgb(value):\n",
      "    value = value.lstrip('#')\n",
      "    lv = len(value)\n",
      "    return tuple(int(value[i:i + lv // 3], 16) for i in range(0, lv, lv // 3))\n",
      "\n",
      "hex_colors = ['#ff0000','#ff0000','#fe0000','#fe0000','#fc0000','#fd0000','#fb0000','#fc0000','#fa0000','#fb0000','#f90000',\n",
      "              '#f90000','#f80000','#f90000','#f70000','#f70000','#f60000','#f60000','#f50000','#f50000','#f50000','#f40000',\n",
      "              '#f40001','#f20001','#f20001','#f10001','#f20001','#f10001','#f10001','#f00001','#f00001','#ef0001','#ee0001',\n",
      "              '#ed0001','#ed0001','#ec0001','#ed0001','#ec0001','#ec0001','#ea0001','#eb0001','#e90001','#e90001','#e90001',\n",
      "              '#e80001','#e70001','#e60001','#e60001','#e50001','#e60001','#e50001','#e40001','#e30001','#e30001','#e30001',\n",
      "              '#e30001','#e20001','#e20001','#e00001','#e10001','#e00001','#e00001','#de0001','#df0001','#dd0001','#dd0001',\n",
      "              '#dc0001','#dc0001','#dc0001','#db0001','#db0001','#da0001','#d90001','#d90002','#d90002','#d80002','#d80002',\n",
      "              '#d70002','#d60002','#d60002','#d50002','#d50002','#d50002','#d40002','#d40002','#d30002','#d30002','#d10002',\n",
      "              '#d20002','#d10002','#d10002','#cf0002','#d00002','#cf0002','#cf0002','#cd0002','#ce0002','#cc0002','#cd0002',\n",
      "              '#cc0002','#cc0002','#cb0002','#cb0002','#c90002','#c90002','#c90002','#c80002','#c80002','#c80002','#c60002',\n",
      "              '#c70002','#c60002','#c60002','#c50002','#c50002','#c40002','#c30002','#c30002','#c20002','#c10002','#c10002',\n",
      "              '#c10002','#c00002','#bf0002','#c00002','#be0002','#be0002','#be0002','#be0002','#bd0002','#bc0002','#bb0002',\n",
      "              '#bc0002','#ba0002','#bb0002','#b90002','#ba0002','#b80002','#b80002','#b80002','#b80002','#b70002','#b60002',\n",
      "              '#b50002','#b60002','#b40002','#b40002','#b30002','#b30002','#b20002','#b30002','#b10002','#b10002','#b00002',\n",
      "              '#b00002','#af0002','#af0002','#af0002','#ae0002','#ad0002','#ad0002','#ad0002','#ad0002','#ab0002','#ab0002',\n",
      "              '#aa0002','#aa0002','#a90002','#aa0002','#a90002','#a90002','#a80002','#a70002','#a70002','#a60002','#a60002',\n",
      "              '#a60002','#a60002','#a40002','#a40002','#a40002','#a30002','#a20002','#a30002','#a10002','#a20002','#a00002',\n",
      "              '#a10002','#a00002','#a00002','#9e0002','#9e0002','#9e0002','#9d0002','#9d0002','#9d0002','#9c0002','#9b0002',\n",
      "              '#9b0002','#9a0002','#9a0002','#9a0002','#990002','#990002','#980002','#980002','#970002','#960002','#960002',\n",
      "              '#950002','#950002','#950002','#950002','#930002','#940002','#920001','#920001','#910001','#920001','#900001',\n",
      "              '#910001','#900001','#8f0001','#8f0001','#8f0001','#8e0001','#8e0001','#8e0001','#8d0001','#8d0001','#8c0001',\n",
      "              '#8c0001','#8a0001','#8b0001','#890001','#890001','#880001','#880001','#880001','#880001','#870000','#860000',\n",
      "              '#860000','#860000','#850000','#840000','#850000','#840000','#830000','#820000','#820000','#810000','#810000',\n",
      "              '#800000','#810000','#800000']"
     ],
     "language": "python",
     "metadata": {},
     "outputs": [],
     "prompt_number": 256
    },
    {
     "cell_type": "code",
     "collapsed": false,
     "input": [
      "from PIL import Image\n",
      "\n",
      "img = Image.new( 'RGB', (255,255), \"white\") # create a new black image\n",
      "pixels = img.load() # create the pixel map\n",
      "for i in range(img.size[0]):    # for every pixel:\n",
      "    for j in range(img.size[1]):\n",
      "        pixels[i,j] = hex_to_rgb(hex_colors[i]) # set the colour accordingly\n",
      "img.show\n",
      "img.save(\"color-map.png\")"
     ],
     "language": "python",
     "metadata": {},
     "outputs": [],
     "prompt_number": 257
    },
    {
     "cell_type": "code",
     "collapsed": false,
     "input": [
      "hex_colors = ['#ffa500','#ffa500','#ffa400','#ffa200','#ffa100','#ffa000','#ffa000','#ff9f00','#ff9e00','#ff9e00','#ff9c00',\n",
      "              '#ff9b00','#ff9a00','#ff9900','#ff9800','#ff9700','#ff9800','#ff9700','#ff9500','#ff9500','#ff9300','#ff9300',\n",
      "              '#ff9200','#ff9100','#ff9000','#ff8f00','#fe8e00','#fe8d00','#fe8d00','#fe8b00','#fe8a00','#fe8a00','#fe8900',\n",
      "              '#fd8900','#fd8700','#fd8700','#fd8500','#fd8500','#fd8400','#fc8300','#fc8200','#fc8100','#fc8100','#fb8000',\n",
      "              '#fb7f00','#fb7f00','#fb7e00','#fb7d00','#fa7d00','#fa7b00','#fa7a00','#fa7a00','#f97900','#f97800','#f97800',\n",
      "              '#f87700','#f87600','#f87500','#f87400','#f77400','#f77300','#f77100','#f77100','#f67000','#f67000','#f56f00',\n",
      "              '#f56e00','#f56d00','#f46c00','#f46b00','#f46b00','#f36a00','#f36a00','#f36900','#f26800','#f26700','#f26600',\n",
      "              '#f16500','#f16400','#f16400','#f06400','#f06200','#ef6200','#ee6100','#ee6000','#ee6000','#ed5f00','#ed5f00',\n",
      "              '#ed5d00','#ec5d00','#ec5c00','#ec5b00','#eb5b00','#eb5a00','#ea5900','#ea5800','#e95800','#e95700','#e85600',\n",
      "              '#e85500','#e75500','#e75400','#e65300','#e65200','#e55200','#e55100','#e45000','#e44f00','#e44f00','#e34f00',\n",
      "              '#e24e00','#e24c00','#e14c00','#e14b00','#e04b00','#e04a00','#df4900','#df4900','#de4800','#de4700','#dd4700',\n",
      "              '#dd4600','#dc4600','#dc4400','#db4400','#da4300','#da4300','#da4200','#d94100','#d84000','#d74000','#d73f00',\n",
      "              '#d73e00','#d63e00','#d53d00','#d53c01','#d43c01','#d33b01','#d33b01','#d33a01','#d23901','#d23901','#d03801',\n",
      "              '#d03701','#cf3701','#cf3601','#ce3501','#ce3501','#cd3401','#cd3301','#cc3201','#cb3201','#cb3101','#ca3101',\n",
      "              '#c93001','#c93001','#c82f01','#c72e01','#c72e01','#c72d01','#c52c01','#c52c02','#c42b02','#c42a02','#c32a02',\n",
      "              '#c32902','#c22902','#c12802','#c12802','#bf2702','#bf2702','#bf2602','#be2502','#bd2502','#bc2402','#bc2302',\n",
      "              '#bb2202','#ba2202','#ba2102','#b92102','#b82002','#b81f02','#b71f02','#b71f02','#b61e02','#b51d02','#b51d02',\n",
      "              '#b31c02','#b31b02','#b31b02','#b21a02','#b11902','#b11902','#af1902','#af1802','#ae1702','#ae1702','#ad1602',\n",
      "              '#ac1503','#ab1503','#ab1403','#aa1403','#a91303','#a81303','#a81203','#a61103','#a61103','#a61003','#a41003',\n",
      "              '#a40f03','#a30f03','#a20e03','#a10d02','#a10d02','#a00d02','#a00c02','#9f0b02','#9e0a02','#9e0a02','#9d0a02',\n",
      "              '#9c0902','#9b0802','#9a0802','#990702','#980702','#970602','#970602','#960602','#960502','#940502','#940402',\n",
      "              '#940402','#930402','#920302','#910301','#900301','#900301','#8f0201','#8d0201','#8c0201','#8c0201','#8c0101',\n",
      "              '#8b0101','#890101','#890101','#880101','#870101','#870001','#860000','#850000','#850000','#840000','#830000',\n",
      "              '#820000','#810000','#800000'\n",
      "]"
     ],
     "language": "python",
     "metadata": {},
     "outputs": [],
     "prompt_number": 258
    },
    {
     "cell_type": "code",
     "collapsed": false,
     "input": [
      "img = Image.new( 'RGB', (255,255), \"white\") # create a new black image\n",
      "pixels = img.load() # create the pixel map\n",
      "for i in range(img.size[0]):    # for every pixel:\n",
      "    for j in range(img.size[1]):\n",
      "        pixels[i,j] = hex_to_rgb(hex_colors[i]) # set the colour accordingly\n",
      "img.show\n",
      "img.save(\"color-map.png\")"
     ],
     "language": "python",
     "metadata": {},
     "outputs": [],
     "prompt_number": 259
    },
    {
     "cell_type": "code",
     "collapsed": false,
     "input": [
      "hex_colors = ['#ff8c00','#ff8b00','#ff8b00','#ff8a00','#ff8a00','#ff8800','#ff8800','#ff8700','#ff8700','#ff8700','#ff8600','#ff8500','#ff8500','#ff8300','#ff8400','#ff8300','#ff8200','#ff8100','#ff8000','#ff8000','#ff7f00','#ff7f00','#ff7f00','#ff7d00','#ff7d00','#ff7d00','#ff7c00','#ff7a00','#ff7b00','#ff7a00','#ff7900','#ff7800','#ff7700','#ff7700','#ff7700','#ff7600','#ff7400','#ff7400','#ff7400','#ff7200','#ff7200','#ff7200','#ff7000','#ff7000','#ff6f00','#ff6e00','#ff6e00','#ff6c00','#ff6c00','#ff6c00','#ff6b00','#ff6a00','#ff6a00','#ff6900','#ff6800','#ff6700','#ff6600','#ff6600','#ff6400','#ff6300','#ff6300','#ff6300','#ff6200','#ff6100','#ff6000','#ff5f00','#ff5e00','#ff5d00','#ff5d00','#ff5c00','#ff5b00','#ff5b00','#ff5900','#ff5800','#ff5800','#ff5700','#ff5600','#ff5500','#ff5400','#ff5300','#ff5200','#ff5100','#ff5000','#ff4f00','#ff4f00','#ff4d00','#ff4d00','#ff4c00','#ff4a00','#ff4a00','#ff4800','#ff4700','#ff4600','#ff4500','#ff4400','#ff4300','#ff4200','#ff4100','#ff4000','#ff3f00','#ff3d00','#ff3d00','#ff3b00','#ff3900','#ff3800','#ff3700','#ff3600','#ff3500','#ff3300','#ff3200','#ff3000','#ff2e00','#ff2d00','#ff2b00','#ff2a00','#ff2800','#ff2600','#ff2400','#ff2200','#ff2000','#ff1e00','#ff1b00','#ff1800','#ff1500','#ff1100','#ff0d00','#ff0800','#ff0300','#ff0000','#fe0000','#fc0000','#fb0000','#fb0000','#f90000','#f80000','#f80000','#f60000','#f50000','#f50000','#f40000','#f30001','#f20001','#f10001','#f00001','#f00001','#ef0001','#ed0001','#ed0001','#eb0001','#eb0001','#e90001','#e80001','#e70001','#e60001','#e60001','#e40001','#e40001','#e30001','#e30001','#e10001','#e10001','#df0001','#de0001','#de0001','#dc0001','#dc0001','#da0001','#d90001','#d80001','#d70001','#d60002','#d60002','#d50002','#d50002','#d30002','#d20002','#d10002','#d10002','#d00002','#cf0002','#cd0002','#cc0002','#cc0002','#ca0002','#ca0002','#ca0002','#c90002','#c80002','#c70002','#c50002','#c40002','#c40002','#c20002','#c20002','#c10002','#c00002','#bf0002','#bf0002','#be0002','#bd0002','#bc0002','#bb0002','#ba0002','#b90002','#b80002','#b70002','#b60002','#b50002','#b50002','#b40002','#b20002','#b10002','#b10002','#af0002','#af0002','#ae0002','#ad0002','#ad0002','#ab0002','#ab0002','#a90002','#a80002','#a70002','#a60002','#a60002','#a60002','#a50002','#a30002','#a30002','#a20002','#a10002','#a00002','#9f0002','#9e0002','#9d0002','#9d0002','#9b0002','#9b0001','#9a0001','#990001','#980001','#980001','#970001','#950001','#940001','#940001','#930001','#920001','#910001','#910001','#900000','#8e0000','#8e0000','#8d0000','#8b0000','#8b0000']"
     ],
     "language": "python",
     "metadata": {},
     "outputs": [],
     "prompt_number": 260
    },
    {
     "cell_type": "code",
     "collapsed": false,
     "input": [
      "img = Image.new( 'RGB', (255,255), \"white\") # create a new black image\n",
      "pixels = img.load() # create the pixel map\n",
      "for i in range(img.size[0]):    # for every pixel:\n",
      "    for j in range(img.size[1]):\n",
      "        pixels[i,j] = hex_to_rgb(hex_colors[i]) # set the colour accordingly\n",
      "img.show\n",
      "img.save(\"color-map.png\")"
     ],
     "language": "python",
     "metadata": {},
     "outputs": [],
     "prompt_number": 261
    },
    {
     "cell_type": "code",
     "collapsed": false,
     "input": [
      "# Add explicit end date for refugee arrivals\n",
      "points = []\n",
      "for coo in refugees.keys():\n",
      "    for cor in refugees[coo].keys():\n",
      "        start_point = LngLatToPixelXY(amended_centroids[coo])\n",
      "        end_point = LngLatToPixelXY(amended_centroids[cor])\n",
      "        diff = refugees[coo][cor]['diff']\n",
      "        for i in range(0,15):\n",
      "            start_year = random.choice([2000 + i, 2000 + i + 1])\n",
      "            end_year = 2000 + i + 1\n",
      "            value = diff[i]\n",
      "            scaled_range = int(value)\n",
      "            if scaled_range > 0:\n",
      "                for j in range(0, scaled_range):\n",
      "                    if j % 10 == 0:\n",
      "                        p1 = start_point\n",
      "                        p2 = end_point\n",
      "                        mid = [(p2[0] + p1[0])/2.0, (p2[1] + p1[1])/2.0]\n",
      "                    else:\n",
      "                        p1 = random.choice(random_points[coo])\n",
      "                        p2 = random.choice(random_points[cor])\n",
      "                        mid = [(p2[0] + p1[0])/2.0, (p2[1] + p1[1])/2.0]\n",
      "                    start_month = None\n",
      "                    if start_year == end_year:\n",
      "                        start_month = random.choice([1,2,3,4,5,6,7,8,9,10,11])\n",
      "                    else:\n",
      "                        start_month = random.choice([1,2,3,4,5,6,7,8,9,10,11,12])\n",
      "                    start_month, start_day = random_month_day(start_month) \n",
      "                    start_epoch = YearMonthDayToEpoch(start_year, start_month, start_day)\n",
      "                    if start_year < end_year:\n",
      "                        end_month = random.choice([1,2,3,4,5,6,7,8,9,10,11,12])\n",
      "                    else:\n",
      "                        end_month = random.choice(range(start_month + 1, max(start_month+1,12) + 1))\n",
      "                    end_month, end_day = random_month_day(end_month)\n",
      "                    end_epoch = YearMonthDayToEpoch(end_year, end_month, end_day)\n",
      "                    points += start_point\n",
      "                    points += end_point\n",
      "                    points += mid\n",
      "                    points.append(start_epoch)\n",
      "                    points.append(end_epoch)\n",
      "\n",
      "split = split_list(points,len(points)/8)\n",
      "ordered_split = sorted(split, key=itemgetter(7))\n",
      "points = []\n",
      "for x in ordered_split:\n",
      "    for y in x:\n",
      "        points += [y]\n",
      "array.array('f', points).tofile(open('animated-points-9.bin', 'w'))\n"
     ],
     "language": "python",
     "metadata": {},
     "outputs": [],
     "prompt_number": 281
    },
    {
     "cell_type": "code",
     "collapsed": false,
     "input": [
      "year_totals = {}\n",
      "for row in ordered_split:\n",
      "    year = datetime.datetime.utcfromtimestamp(row[7]).year\n",
      "    if year_totals.has_key(year):\n",
      "        year_totals[year] += 1\n",
      "    else:\n",
      "        year_totals[year] = 1\n",
      "year_totals\n",
      "\n",
      "year_idx = {}\n",
      "years = range(2001,2016)\n",
      "for i in range(0,len(years)):\n",
      "    year = years[i]\n",
      "    year_idx[year] = {}\n",
      "    year_idx[year]['count'] = year_totals[year]\n",
      "    year_idx[year]['start'] = 0\n",
      "    for j in range(0,i):\n",
      "        year_x = years[j]\n",
      "        year_idx[year]['start'] += year_idx[year_x]['count']\n",
      "year_idx"
     ],
     "language": "python",
     "metadata": {},
     "outputs": [
      {
       "metadata": {},
       "output_type": "pyout",
       "prompt_number": 263,
       "text": [
        "{2001: {'count': 798896, 'start': 0},\n",
        " 2002: {'count': 1377803, 'start': 798896},\n",
        " 2003: {'count': 402155, 'start': 2176699},\n",
        " 2004: {'count': 640155, 'start': 2578854},\n",
        " 2005: {'count': 375991, 'start': 3219009},\n",
        " 2006: {'count': 2073718, 'start': 3595000},\n",
        " 2007: {'count': 2766365, 'start': 5668718},\n",
        " 2008: {'count': 431865, 'start': 8435083},\n",
        " 2009: {'count': 900246, 'start': 8866948},\n",
        " 2010: {'count': 492341, 'start': 9767194},\n",
        " 2011: {'count': 742046, 'start': 10259535},\n",
        " 2012: {'count': 1356451, 'start': 11001581},\n",
        " 2013: {'count': 2260887, 'start': 12358032},\n",
        " 2014: {'count': 3107155, 'start': 14618919},\n",
        " 2015: {'count': 2331362, 'start': 17726074}}"
       ]
      }
     ],
     "prompt_number": 263
    },
    {
     "cell_type": "code",
     "collapsed": false,
     "input": [
      "with open('amended_centroids.json', 'r') as f:\n",
      "    amended_centroids = json.load(f)"
     ],
     "language": "python",
     "metadata": {},
     "outputs": [],
     "prompt_number": 2
    },
    {
     "cell_type": "code",
     "collapsed": false,
     "input": [
      "len(amended_centroids.keys())"
     ],
     "language": "python",
     "metadata": {},
     "outputs": [
      {
       "metadata": {},
       "output_type": "pyout",
       "prompt_number": 4,
       "text": [
        "211"
       ]
      }
     ],
     "prompt_number": 4
    },
    {
     "cell_type": "code",
     "collapsed": false,
     "input": [
      "with open('random_points.json', 'r') as f:\n",
      "    random_points = json.load(f)"
     ],
     "language": "python",
     "metadata": {},
     "outputs": [],
     "prompt_number": 5
    },
    {
     "cell_type": "code",
     "collapsed": false,
     "input": [
      "random_points['AFG']"
     ],
     "language": "python",
     "metadata": {},
     "outputs": [
      {
       "metadata": {},
       "output_type": "pyout",
       "prompt_number": 7,
       "text": [
        "[[175.91817399289556, 100.69253923778729],\n",
        " [179.31379565915176, 101.37555903332736],\n",
        " [171.17582679300938, 104.61885373768621],\n",
        " [174.60238759309533, 101.5012554227722],\n",
        " [177.4677028781339, 99.33654160549291],\n",
        " [171.22288891599428, 105.96181153710593],\n",
        " [178.22771225103222, 98.91667233226501],\n",
        " [177.87162776057949, 101.31999975634551],\n",
        " [177.77394373073741, 98.37762310675555],\n",
        " [172.14965090234855, 104.6702472660638]]"
       ]
      }
     ],
     "prompt_number": 7
    },
    {
     "cell_type": "heading",
     "level": 1,
     "metadata": {},
     "source": [
      "Process and save popstats"
     ]
    },
    {
     "cell_type": "code",
     "collapsed": false,
     "input": [
      "# Init popstats\n",
      "csv_filename = 'capture/unhcr_popstats_export_time_series_2016_10_18_171000.csv'\n",
      "import csv\n",
      "popstats = []\n",
      "with open(csv_filename) as csvfile:\n",
      "     reader = csv.DictReader(csvfile)\n",
      "     for row in reader:\n",
      "            popstats.append(row)"
     ],
     "language": "python",
     "metadata": {},
     "outputs": [],
     "prompt_number": 9
    },
    {
     "cell_type": "code",
     "collapsed": false,
     "input": [
      "# Init cow\n",
      "cow = []\n",
      "with open('cow.csv') as csvfile:\n",
      "     reader = csv.DictReader(csvfile, delimiter=\";\")\n",
      "     for row in reader:\n",
      "            cow.append(row)\n",
      "print \"ISO:%s LNG: %s LAT %s\" %  (cow[0]['ISO3166A3'], cow[0]['longitude'], cow[0]['latitude'])\n"
     ],
     "language": "python",
     "metadata": {},
     "outputs": [
      {
       "output_type": "stream",
       "stream": "stdout",
       "text": [
        "ISO: AFG LNG:  65 LAT  33\n"
       ]
      }
     ],
     "prompt_number": 10
    },
    {
     "cell_type": "code",
     "collapsed": false,
     "input": [
      "# Init identifiers\n",
      "identifiers = {}\n",
      "for row in popstats:\n",
      "    res = row['Country / territory of asylum/residence']\n",
      "    org = row['Origin']\n",
      "    if not identifiers.has_key(res):\n",
      "        identifiers[res] = None\n",
      "    if not identifiers.has_key(org):\n",
      "        identifiers[org] = None\n",
      "len(identifiers.keys())       "
     ],
     "language": "python",
     "metadata": {},
     "outputs": [
      {
       "metadata": {},
       "output_type": "pyout",
       "prompt_number": 11,
       "text": [
        "217"
       ]
      }
     ],
     "prompt_number": 11
    },
    {
     "cell_type": "code",
     "collapsed": false,
     "input": [
      "# Normalize country names\n",
      "# Find mismatches\n",
      "mismatches = {}\n",
      "for key in identifiers.keys():\n",
      "    match = False\n",
      "    for row in cow: \n",
      "        if row['ISOen_name'].strip() == key:\n",
      "            #print key\n",
      "            match = True\n",
      "            break\n",
      "    if not match:\n",
      "        if not mismatches.has_key(key):\n",
      "            mismatches[key] = None\n",
      "mismatches"
     ],
     "language": "python",
     "metadata": {},
     "outputs": [
      {
       "metadata": {},
       "output_type": "pyout",
       "prompt_number": 13,
       "text": [
        "{'Bolivia (Plurinational State of)': None,\n",
        " 'British Virgin Islands': None,\n",
        " 'Cabo Verde': None,\n",
        " 'Central African Rep.': None,\n",
        " 'China, Hong Kong SAR': None,\n",
        " 'China, Macao SAR': None,\n",
        " 'Cura\\xc3\\xa7ao': None,\n",
        " 'Czech Rep.': None,\n",
        " \"C\\xc3\\xb4te d'Ivoire\": None,\n",
        " \"Dem. People's Rep. of Korea\": None,\n",
        " 'Dem. Rep. of the Congo': None,\n",
        " 'Dominican Rep.': None,\n",
        " 'Holy See (the)': None,\n",
        " 'Iran (Islamic Rep. of)': None,\n",
        " \"Lao People's Dem. Rep.\": None,\n",
        " 'Libya': None,\n",
        " 'Micronesia (Federated States of)': None,\n",
        " 'Palestinian': None,\n",
        " 'Rep. of Korea': None,\n",
        " 'Rep. of Moldova': None,\n",
        " 'Saint Vincent and the Grenadines': None,\n",
        " 'Serbia and Kosovo (S/RES/1244 (1999))': None,\n",
        " 'Stateless': None,\n",
        " 'Syrian Arab Rep.': None,\n",
        " 'The former Yugoslav Republic of Macedonia': None,\n",
        " 'Tibetan': None,\n",
        " 'United Rep. of Tanzania': None,\n",
        " 'United States of America': None,\n",
        " 'Various/Unknown': None,\n",
        " 'Venezuela (Bolivarian Republic of)': None}"
       ]
      }
     ],
     "prompt_number": 13
    },
    {
     "cell_type": "code",
     "collapsed": false,
     "input": [
      "# Normalize country names\n",
      "# Correct mismatches\n",
      "mismatches['Bolivia (Plurinational State of)'] = cow[26]['ISOen_name'].strip()\n",
      "mismatches['British Virgin Islands'] = cow[242]['ISOen_name'].strip()\n",
      "mismatches['Cabo Verde'] = cow[40]['ISOen_name'].strip()\n",
      "mismatches['Central African Rep.'] = cow[42]['ISOen_name'].strip()\n",
      "mismatches['China, Hong Kong SAR'] = cow[99]['ISOen_name'].strip()\n",
      "mismatches['China, Macao SAR'] = cow[130]['ISOen_name'].strip()\n",
      "mismatches['Cura\\xc3\\xa7ao'] = cow[57]['ISOen_name'].strip()\n",
      "mismatches['Czech Rep.'] = cow[59]['ISOen_name'].strip()\n",
      "mismatches['C\\xc3\\xb4te d\\'Ivoire'] = cow[54]['ISOen_name'].strip()\n",
      "mismatches['Dem. People\\'s Rep. of Korea'] = cow[117]['ISOen_name'].strip()\n",
      "mismatches['Dem. Rep. of the Congo'] = cow[51]['ISOen_name'].strip()\n",
      "mismatches['Dominican Rep.'] = cow[63]['ISOen_name'].strip()\n",
      "mismatches['Holy See (the)'] = cow[97]['ISOen_name'].strip()\n",
      "mismatches['Iran (Islamic Rep. of)'] = cow[104]['ISOen_name'].strip()\n",
      "mismatches['Lao People\\'s Dem. Rep.'] = cow[121]['ISOen_name'].strip()\n",
      "mismatches['Libya'] = cow[126]['ISOen_name'].strip()\n",
      "mismatches['Micronesia (Federated States of)'] = cow[144]['ISOen_name'].strip()\n",
      "mismatches['Palestinian'] = cow[166]['ISOen_name'].strip()\n",
      "mismatches['Rep. of Korea'] = cow[118]['ISOen_name'].strip()\n",
      "mismatches['Rep. of Moldova'] = cow[145]['ISOen_name'].strip()\n",
      "mismatches['Saint Vincent and the Grenadines'] = cow[190]['ISOen_name'].strip()\n",
      "mismatches['Serbia and Kosovo (S/RES/1244 (1999))'] = cow[196]['ISOen_name'].strip()\n",
      "#mismatches['Stateless'] \n",
      "mismatches['Syrian Arab Rep.'] = cow[216]['ISOen_name'].strip()\n",
      "mismatches['The former Yugoslav Republic of Macedonia'] = cow[131]['ISOen_name'].strip()\n",
      "#mismatches['Tibetan'] = cow[]['ISOen_name'].strip()\n",
      "mismatches['United Rep. of Tanzania'] = cow[219]['ISOen_name'].strip()\n",
      "mismatches['United States of America'] = cow[235]['ISOen_name'].strip()\n",
      "#mismatches['Various/Unknown'] = cow[]['ISOen_name'].strip()\n",
      "mismatches['Venezuela (Bolivarian Republic of)'] = cow[240]['ISOen_name'].strip()\n",
      "mismatches"
     ],
     "language": "python",
     "metadata": {},
     "outputs": [
      {
       "metadata": {},
       "output_type": "pyout",
       "prompt_number": 14,
       "text": [
        "{'Bolivia (Plurinational State of)': 'Bolivia, Plurinational State of',\n",
        " 'British Virgin Islands': 'Virgin Islands, British',\n",
        " 'Cabo Verde': 'Cape Verde',\n",
        " 'Central African Rep.': 'Central African Republic',\n",
        " 'China, Hong Kong SAR': 'Hong Kong',\n",
        " 'China, Macao SAR': 'Macao',\n",
        " 'Cura\\xc3\\xa7ao': 'Curacao',\n",
        " 'Czech Rep.': 'Czech Republic',\n",
        " \"C\\xc3\\xb4te d'Ivoire\": \"Cote d'Ivoire\",\n",
        " \"Dem. People's Rep. of Korea\": \"Korea, Democratic People's Republic of\",\n",
        " 'Dem. Rep. of the Congo': 'Congo, The Democratic Republic of the',\n",
        " 'Dominican Rep.': 'Dominican Republic',\n",
        " 'Holy See (the)': 'Holy See (Vatican City State)',\n",
        " 'Iran (Islamic Rep. of)': 'Iran, Islamic Republic of',\n",
        " \"Lao People's Dem. Rep.\": \"Lao People's Democratic Republic\",\n",
        " 'Libya': 'Libyan Arab Jamahiriya',\n",
        " 'Micronesia (Federated States of)': 'Micronesia, Federated States of',\n",
        " 'Palestinian': 'Occupied Palestinian Territory',\n",
        " 'Rep. of Korea': 'Korea, Republic of',\n",
        " 'Rep. of Moldova': 'Moldova, Republic of',\n",
        " 'Saint Vincent and the Grenadines': 'Saint Vincent and The Grenadines',\n",
        " 'Serbia and Kosovo (S/RES/1244 (1999))': 'Serbia',\n",
        " 'Stateless': None,\n",
        " 'Syrian Arab Rep.': 'Syrian Arab Republic',\n",
        " 'The former Yugoslav Republic of Macedonia': 'Macedonia, The Former Yugoslav Republic of',\n",
        " 'Tibetan': None,\n",
        " 'United Rep. of Tanzania': 'Tanzania, United Republic of',\n",
        " 'United States of America': 'United States',\n",
        " 'Various/Unknown': None,\n",
        " 'Venezuela (Bolivarian Republic of)': 'Venezuela, Bolivarian Republic of'}"
       ]
      }
     ],
     "prompt_number": 14
    },
    {
     "cell_type": "code",
     "collapsed": false,
     "input": [
      "# Fix country names\n",
      "# Update names in popstats\n",
      "for row in popstats:\n",
      "    if mismatches.has_key(row['Origin']) and mismatches[row['Origin']] != None:\n",
      "        row['Origin'] = mismatches[row['Origin']]\n",
      "    if mismatches.has_key(row['Country / territory of asylum/residence'])  and mismatches[row['Country / territory of asylum/residence']] != None:\n",
      "        row['Country / territory of asylum/residence'] = mismatches[row['Country / territory of asylum/residence']]\n",
      "  "
     ],
     "language": "python",
     "metadata": {},
     "outputs": [],
     "prompt_number": 15
    },
    {
     "cell_type": "code",
     "collapsed": false,
     "input": [
      "# Fix country names\n",
      "# Scane for mismatches\n",
      "identifiers = {}\n",
      "for row in popstats:\n",
      "    res = row['Country / territory of asylum/residence']\n",
      "    org = row['Origin']\n",
      "    if not identifiers.has_key(res):\n",
      "        identifiers[res] = None\n",
      "    if not identifiers.has_key(org):\n",
      "        identifiers[org] = None\n",
      "print len(identifiers.keys())        \n",
      "mismatches = {}\n",
      "for key in identifiers.keys():\n",
      "    match = False\n",
      "    for row in cow: \n",
      "        if row['ISOen_name'].strip() == key:\n",
      "            #print key\n",
      "            match = True\n",
      "            break\n",
      "    if not match:\n",
      "        if not mismatches.has_key(key):\n",
      "            mismatches[key] = None\n",
      "mismatches    \n"
     ],
     "language": "python",
     "metadata": {},
     "outputs": [
      {
       "output_type": "stream",
       "stream": "stdout",
       "text": [
        "217\n"
       ]
      },
      {
       "metadata": {},
       "output_type": "pyout",
       "prompt_number": 16,
       "text": [
        "{'Stateless': None, 'Tibetan': None, 'Various/Unknown': None}"
       ]
      }
     ],
     "prompt_number": 16
    },
    {
     "cell_type": "code",
     "collapsed": false,
     "input": [
      "# Add country['ISO3166A3'] to popstats\n",
      "name_to_iso = {}\n",
      "for country in cow:\n",
      "    name = country['ISOen_name'].strip()\n",
      "    iso = country['ISO3166A3'].strip()\n",
      "    if not name_to_iso.has_key(name):\n",
      "        name_to_iso[name] = iso\n",
      "for row in popstats:\n",
      "    coo = row['Origin']\n",
      "    cor = row['Country / territory of asylum/residence']\n",
      "    if name_to_iso.has_key(coo):\n",
      "        row['coo'] = name_to_iso[coo]\n",
      "    else:\n",
      "        row['coo'] = None\n",
      "    if name_to_iso.has_key(cor):\n",
      "        row['cor'] = name_to_iso[cor]\n",
      "    else:\n",
      "        row['cor'] = None\n",
      "\n"
     ],
     "language": "python",
     "metadata": {},
     "outputs": [],
     "prompt_number": 17
    },
    {
     "cell_type": "code",
     "collapsed": false,
     "input": [
      "# Create refugees and list oy differences\n",
      "refugees = {}\n",
      "for row in popstats:\n",
      "    year = int(row['Year'])\n",
      "    coo = row['coo']\n",
      "    cor = row['cor']\n",
      "    value = random.randint(1, 4) if row['Value'] == \"*\" else int(row['Value'])\n",
      "    if year > 1999 and coo != None and cor != None:\n",
      "        if not refugees.has_key(coo):\n",
      "            refugees[coo] = {}\n",
      "        if not refugees[coo].has_key(cor):\n",
      "            refugees[coo][cor] = {}\n",
      "            refugees[coo][cor]['values'] = [0] * 16\n",
      "        idx = year % 2000\n",
      "        refugees[coo][cor]['values'][idx] = value\n",
      "\n",
      "for coo in refugees.keys():\n",
      "    for cor in refugees[coo].keys():\n",
      "        refugees[coo][cor]['diff'] = [0] * 15\n",
      "        for i in range(0, len(refugees[coo][cor]['values']) - 1):\n",
      "            year_0 = refugees[coo][cor]['values'][i]\n",
      "            year_1 = refugees[coo][cor]['values'][i+1]\n",
      "            diff = year_1 - year_0\n",
      "            refugees[coo][cor]['diff'][i] = diff\n",
      "          "
     ],
     "language": "python",
     "metadata": {},
     "outputs": [],
     "prompt_number": 18
    },
    {
     "cell_type": "code",
     "collapsed": false,
     "input": [
      "#Save refugees\n",
      "with open('refugees.json', 'w') as outfile:\n",
      "    json.dump(refugees, outfile)\n"
     ],
     "language": "python",
     "metadata": {},
     "outputs": [],
     "prompt_number": 19
    },
    {
     "cell_type": "code",
     "collapsed": false,
     "input": [
      "with open('refugees.json', 'r') as f:\n",
      "    refugees = json.load(f)\n",
      "\n",
      "with open('amended_centroids.json', 'r') as f:\n",
      "    amended_centroids = json.load(f)\n",
      "\n",
      "with open('random_points.json', 'r') as f:\n",
      "    random_points = json.load(f)\n"
     ],
     "language": "python",
     "metadata": {},
     "outputs": [],
     "prompt_number": 26
    },
    {
     "cell_type": "code",
     "collapsed": false,
     "input": [
      "points = []\n",
      "idx = []\n",
      "for key in amended_centroids:\n",
      "    points += LngLatToPixelXY(amended_centroids[key])"
     ],
     "language": "python",
     "metadata": {},
     "outputs": [],
     "prompt_number": 32
    },
    {
     "cell_type": "code",
     "collapsed": false,
     "input": [
      "points"
     ],
     "language": "python",
     "metadata": {},
     "outputs": [
      {
       "metadata": {},
       "output_type": "pyout",
       "prompt_number": 33,
       "text": [
        "[140.47950062296715,\n",
        " 136.81240894781038,\n",
        " 134.79381673126045,\n",
        " 89.89317011488002,\n",
        " 149.17949094705918,\n",
        " 108.38989152957492,\n",
        " 192.2000524734685,\n",
        " 110.53533970057559,\n",
        " 164.4020225867653,\n",
        " 109.40799042789686,\n",
        " 140.24569658832166,\n",
        " 144.1507746925331,\n",
        " 145.9375304619321,\n",
        " 94.30387277003868,\n",
        " 82.02186162039857,\n",
        " 140.05726783994837,\n",
        " 127.13904978049771,\n",
        " 122.31639250314905,\n",
        " 177.34991264342756,\n",
        " 105.64904483752663,\n",
        " 71.03358453003905,\n",
        " 121.9238419175461,\n",
        " 153.6,\n",
        " 104.793926550227,\n",
        " 121.3814979106604,\n",
        " 123.4069871644857,\n",
        " 140.82216603499583,\n",
        " 108.01501292093778,\n",
        " 208.0,\n",
        " 126.22165784724601,\n",
        " 83.15259022222222,\n",
        " 114.95293894311463,\n",
        " 218.3111111111111,\n",
        " 96.91626438171672,\n",
        " 152.76493226421874,\n",
        " 132.46488602827802,\n",
        " 121.94490618771468,\n",
        " 97.28968553031689,\n",
        " 202.60753925105092,\n",
        " 118.88739698370742,\n",
        " 86.47623995057614,\n",
        " 145.00125915096083,\n",
        " 209.16264168980507,\n",
        " 111.66362776416742,\n",
        " 159.66320397866698,\n",
        " 110.33777396523683,\n",
        " 153.52298803686256,\n",
        " 102.33289271664366,\n",
        " 138.53731613351226,\n",
        " 90.947463975049,\n",
        " 126.75864163986003,\n",
        " 119.20407701288964,\n",
        " 133.85262330582634,\n",
        " 90.24895328880237,\n",
        " 120.6491783519766,\n",
        " 113.2790124580812,\n",
        " 139.0222222222222,\n",
        " 91.92175446336987,\n",
        " 77.23243029885126,\n",
        " 157.27796139808015,\n",
        " 201.85451713600446,\n",
        " 100.03279090907247,\n",
        " 83.37777777777778,\n",
        " 115.48164183725639,\n",
        " 72.88888888888889,\n",
        " 114.79703971346581,\n",
        " 124.19555555555556,\n",
        " 100.41024868134585,\n",
        " 158.27311076956883,\n",
        " 119.59117947001654,\n",
        " 120.22260654226002,\n",
        " 120.53728352718772,\n",
        " 146.66396637307977,\n",
        " 67.47862314208345,\n",
        " 88.16512556795824,\n",
        " 152.7081592405816,\n",
        " 199.83274821294347,\n",
        " 117.1280771404277,\n",
        " 167.5851851852089,\n",
        " 131.26274087460277,\n",
        " 187.6949918835685,\n",
        " 107.03661179054096,\n",
        " 123.53696805100087,\n",
        " 104.08845441227848,\n",
        " 161.83662834541096,\n",
        " 116.54177689615935,\n",
        " 215.37120486607034,\n",
        " 119.59543083453305,\n",
        " 145.83957583504053,\n",
        " 149.5606793877102,\n",
        " 67.55555555555556,\n",
        " 118.67520134718035,\n",
        " 141.67971654698462,\n",
        " 94.28308976834658,\n",
        " 155.3968161262825,\n",
        " 101.37968482342784,\n",
        " 208.74666666666667,\n",
        " 111.82842538194103,\n",
        " 251.0222222222222,\n",
        " 126.99248993043945,\n",
        " 138.2392984206227,\n",
        " 100.5949925756396,\n",
        " 175.82589591259133,\n",
        " 88.82178204009787,\n",
        " 14.388148147911105,\n",
        " 143.45723805644727,\n",
        " 77.09629629631999,\n",
        " 112.1478983829176,\n",
        " 28.444444444444443,\n",
        " 138.79064393490916,\n",
        " 7.205925925688886,\n",
        " 141.79084532935244,\n",
        " 84.38518518520888,\n",
        " 116.90230560576742,\n",
        " 129.66379589838775,\n",
        " 121.10205632346508,\n",
        " 133.75827556106435,\n",
        " 121.14674241495509,\n",
        " 131.31532145145698,\n",
        " 86.10720736152928,\n",
        " 128.6946668342797,\n",
        " 121.91156968597748,\n",
        " 135.38922483649634,\n",
        " 85.5814822172434,\n",
        " 185.38515078616987,\n",
        " 122.56408926353646,\n",
        " 126.57777777777778,\n",
        " 82.19689963785999,\n",
        " 152.39145396459477,\n",
        " 137.48183376946395,\n",
        " 68.12759201323986,\n",
        " 120.8732753098659,\n",
        " 137.06062485121384,\n",
        " 123.94427088081515,\n",
        " 148.26666666666668,\n",
        " 149.97121120261593,\n",
        " 141.80554229955325,\n",
        " 89.86717356187998,\n",
        " 170.0828558638142,\n",
        " 97.66137700696274,\n",
        " 84.62222222222222,\n",
        " 120.12927735600724,\n",
        " 110.93333333333334,\n",
        " 116.47139523891636,\n",
        " 159.46666666666667,\n",
        " 136.71761589338396,\n",
        " 81.95555555555555,\n",
        " 103.67987737824224,\n",
        " 141.2740673432213,\n",
        " 116.94057909085411,\n",
        " 158.94703789918938,\n",
        " 94.8619771815314,\n",
        " 145.76752927273222,\n",
        " 91.23886393443496,\n",
        " 202.66666666666666,\n",
        " 91.07501474058921,\n",
        " 247.46666666666667,\n",
        " 121.57351753373084,\n",
        " 64.88888888888889,\n",
        " 115.5437061592924,\n",
        " 174.954372562016,\n",
        " 102.41096224953034,\n",
        " 149.2549315927508,\n",
        " 130.39614056851065,\n",
        " 82.13333333333334,\n",
        " 114.60971053218607,\n",
        " 147.9541305345099,\n",
        " 82.74297993629591,\n",
        " 84.14814814812445,\n",
        " 119.31875322087633,\n",
        " 143.64444444444445,\n",
        " 97.83786851383917,\n",
        " 129.06666666666666,\n",
        " 94.55121820158486,\n",
        " 149.28070750724171,\n",
        " 129.42246016476096,\n",
        " 178.48888888888888,\n",
        " 97.83786851383917,\n",
        " 76.50370370368,\n",
        " 114.23422671061515,\n",
        " 153.0376364959418,\n",
        " 104.03024696189007,\n",
        " 84.64592592590222,\n",
        " 118.0293546462143,\n",
        " 184.61925938153638,\n",
        " 111.27724563411013,\n",
        " 149.56191294595902,\n",
        " 122.80362821918536,\n",
        " 192.30464526378952,\n",
        " 107.73085616529742,\n",
        " 84.48,\n",
        " 118.49265474435288,\n",
        " 204.68148148124445,\n",
        " 116.34804886766639,\n",
        " 135.11111111111111,\n",
        " 71.40762039505364,\n",
        " 138.90039343205126,\n",
        " 87.10772807530114,\n",
        " 84.05333333333334,\n",
        " 115.69254649643912,\n",
        " 252.44444444444446,\n",
        " 141.01590044362635,\n",
        " 66.4888888888889,\n",
        " 117.20935606509084,\n",
        " 168.92444444444445,\n",
        " 142.73477274216862,\n",
        " 77.74814814812444,\n",
        " 114.23422671061515,\n",
        " 132.33364564950222,\n",
        " 87.0677475859372,\n",
        " 152.7111111111111,\n",
        " 104.37802693898524,\n",
        " 136.82962962965334,\n",
        " 93.15251452466143,\n",
        " 75.1242538182048,\n",
        " 134.5513439934298,\n",
        " 213.33333333333334,\n",
        " 131.5600770171016,\n",
        " 246.75555555555556,\n",
        " 139.52860476108364,\n",
        " 135.11111111111111,\n",
        " 126.57748886732382,\n",
        " 88.17777777777778,\n",
        " 125.15324215665274,\n",
        " 138.84090486346125,\n",
        " 128.59197679662378,\n",
        " 114.78659709289776,\n",
        " 66.64984339569008,\n",
        " 84.2074074074311,\n",
        " 116.28633673628092,\n",
        " 156.17862787451537,\n",
        " 121.8399435508724,\n",
        " 134.68532902349443,\n",
        " 115.41380795822882,\n",
        " 76.02762768776265,\n",
        " 125.22206110775053,\n",
        " 144.93406813992794,\n",
        " 144.1880035495373,\n",
        " 148.24428545530392,\n",
        " 89.82868028391732,\n",
        " 132.9777777777778,\n",
        " 127.28885278333395,\n",
        " 161.42222222222222,\n",
        " 142.52016656348022,\n",
        " 71.98375815345364,\n",
        " 129.01587881570768,\n",
        " 117.7099637391589,\n",
        " 117.68048215817187,\n",
        " 249.9148181723972,\n",
        " 160.79501309853,\n",
        " 179.9111111111111,\n",
        " 125.68764854944071,\n",
        " 217.4948306103156,\n",
        " 134.29709652436068,\n",
        " 129.8158595779529,\n",
        " 90.49994247602939,\n",
        " 144.9990866481779,\n",
        " 80.55533612968145,\n",
        " 153.28102215942764,\n",
        " 140.46342788235833,\n",
        " 147.7648526495344,\n",
        " 137.65895058111815,\n",
        " 117.06815300308152,\n",
        " 118.34539868439533,\n",
        " 136.85333333333332,\n",
        " 95.12717551105925,\n",
        " 63.82222222222222,\n",
        " 116.84082214812342,\n",
        " 135.15087123877314,\n",
        " 79.77036678564187,\n",
        " 149.24006256500718,\n",
        " 141.76619703468347,\n",
        " 131.96410054578544,\n",
        " 84.25578064294648,\n",
        " 223.63813915873726,\n",
        " 146.94618896499284,\n",
        " 138.05727207452358,\n",
        " 89.42527181684005,\n",
        " 80.96289012302744,\n",
        " 122.91471261083586,\n",
        " 232.53333333333333,\n",
        " 132.27448632017592,\n",
        " 223.64444444444445,\n",
        " 122.65137022496212,\n",
        " 154.91247500951255,\n",
        " 127.6069336973159,\n",
        " 202.66666666666666,\n",
        " 114.98409955637366,\n",
        " 5.45185185208888,\n",
        " 137.75103329557305,\n",
        " 153.0141967964219,\n",
        " 97.78302999633334,\n",
        " 226.13333333333333,\n",
        " 100.52754553089113,\n",
        " 142.26690999964455,\n",
        " 95.8484418690148,\n",
        " 167.89007764866813,\n",
        " 113.03522129512704,\n",
        " 254.57777777777778,\n",
        " 133.70746413042787,\n",
        " 196.6296739599449,\n",
        " 112.6313815895891,\n",
        " 209.54074074097778,\n",
        " 124.79670504936792,\n",
        " 134.8116529140043,\n",
        " 102.16859949531397,\n",
        " 196.78094181929845,\n",
        " 71.43681317101783,\n",
        " 55.07763797956791,\n",
        " 110.44967196114801,\n",
        " 90.25664871764965,\n",
        " 135.68510544281168,\n",
        " 124.05017189138815,\n",
        " 122.56131518128151,\n",
        " 78.93333333333334,\n",
        " 119.28238410661602,\n",
        " 143.42540513337295,\n",
        " 95.41981491395967,\n",
        " 59.022222222222226,\n",
        " 98.74653724307433,\n",
        " 138.66666666666666,\n",
        " 71.40762039505364,\n",
        " 150.3342745199076,\n",
        " 87.90665190479922,\n",
        " 117.34588738722219,\n",
        " 119.39295624901295,\n",
        " 150.39872034327482,\n",
        " 147.60664632177938,\n",
        " 3.5555555555555554,\n",
        " 142.52016656348022,\n",
        " 58.11960688197142,\n",
        " 72.35596918868828,\n",
        " 218.8765955184726,\n",
        " 100.2146514609341,\n",
        " 83.08148148145779,\n",
        " 114.79703971346581,\n",
        " 86.04444444444445,\n",
        " 124.43992298289838,\n",
        " 141.85494023065223,\n",
        " 88.23007274785041,\n",
        " 151.468826301181,\n",
        " 101.4646297136211,\n",
        " 140.6497841472218,\n",
        " 92.91275937362929,\n",
        " 201.81333333333333,\n",
        " 127.02805597794472,\n",
        " 162.84444444444443,\n",
        " 120.85250868861858,\n",
        " 172.92187237921397,\n",
        " 95.2697098187729,\n",
        " 155.6318373235102,\n",
        " 116.9279379444089,\n",
        " 142.77831774117783,\n",
        " 92.8627109068328,\n",
        " 161.79929145095315,\n",
        " 96.6488315860375,\n",
        " 141.79859079692596,\n",
        " 84.41742362940926,\n",
        " 161.85812720380486,\n",
        " 106.1479561516698,\n",
        " 136.38043654226968,\n",
        " 128.4432847929142,\n",
        " 70.75555555555556,\n",
        " 113.85761290484892,\n",
        " 146.16867762038572,\n",
        " 76.19612229239952,\n",
        " 145.72912705601675,\n",
        " 78.61937044184839,\n",
        " 125.40652994252909,\n",
        " 96.70528805452643,\n",
        " 159.1145293068525,\n",
        " 103.11683397292828,\n",
        " 64.77037037034667,\n",
        " 118.06597622331964,\n",
        " 125.49535828223355,\n",
        " 115.46457585072935,\n",
        " 122.20206317310094,\n",
        " 83.17902035830717,\n",
        " 166.6162009265855,\n",
        " 103.49119699518579,\n",
        " 78.24592592590223,\n",
        " 119.0397469962624,\n",
        " 119.61582144023033,\n",
        " 121.89265159073061,\n",
        " 73.95555555555555,\n",
        " 110.2163825912846,\n",
        " 241.06666666666666,\n",
        " 133.70746413042787,\n",
        " 118.65974592689543,\n",
        " 109.88120610148508,\n",
        " 133.27624675555555,\n",
        " 93.3502201631702,\n",
        " 136.58894223064763,\n",
        " 94.27112200196558,\n",
        " 144.82379122769868,\n",
        " 130.04801780296148,\n",
        " 85.6651851852089,\n",
        " 118.55352427131405,\n",
        " 181.02072098953153,\n",
        " 95.54132186481718,\n",
        " 151.03368097554437,\n",
        " 127.08945240436056,\n",
        " 240.53333333333333,\n",
        " 123.06949152632481,\n",
        " 166.54327279705905,\n",
        " 110.53041814515402,\n",
        " 81.65902387405613,\n",
        " 154.93829380159596,\n",
        " 142.56756498134533,\n",
        " 123.3146366712156,\n",
        " 149.3373485050368,\n",
        " 116.43485685929487,\n",
        " 163.9541927892818,\n",
        " 108.81106528012191,\n",
        " 129.90374828386425,\n",
        " 107.11784548179105,\n",
        " 159.95646584981336,\n",
        " 96.64244651489315,\n",
        " 246.6962962965333,\n",
        " 128.37926473630696,\n",
        " 71.80103357632517,\n",
        " 112.24319415385195]"
       ]
      }
     ],
     "prompt_number": 33
    },
    {
     "cell_type": "code",
     "collapsed": false,
     "input": [
      "points[0]"
     ],
     "language": "python",
     "metadata": {},
     "outputs": [
      {
       "metadata": {},
       "output_type": "pyout",
       "prompt_number": 34,
       "text": [
        "140.47950062296715"
       ]
      }
     ],
     "prompt_number": 34
    },
    {
     "cell_type": "code",
     "collapsed": false,
     "input": [
      "def float_to_rgba(float):\n",
      "    a = math.floor(f / 256.0 / 256.0 / 256.0)\n",
      "    b = math.floor(f / 256.0 / 256.0)\n",
      "    g = math.floor((f - b * 256.0 * 256.0) / 256.0)\n",
      "    r = math.floor(f - b * 256.0 * 256.0 - g * 256.0)    \n",
      "    return [r,g,b,a]\n",
      "\n",
      "def rgba_to_float(rgba):\n",
      "    return rgba['r'] + rgba['g'] * 256.0 + rgba['b'] * 256.0 * 256.0 + rgba['a'] * 256.0 * 256.0 * 256.0;"
     ],
     "language": "python",
     "metadata": {},
     "outputs": [],
     "prompt_number": 35
    },
    {
     "cell_type": "code",
     "collapsed": false,
     "input": [
      "def pack_color(color):\n",
      "    return color['r'] + color['g'] * 256.0 + color['b'] * 256.0 * 256.0;\n",
      "\n",
      "def unpack_color(f):\n",
      "    b = f / 256.0 / 256.0\n",
      "    g = (f - b * 256.0 * 256.0) / 256.0\n",
      "    r = f - b * 256.0 * 256.0 - g * 256.0\n",
      "    return {'r':r,'g':g,'b':b}\n"
     ],
     "language": "python",
     "metadata": {},
     "outputs": [],
     "prompt_number": 51
    },
    {
     "cell_type": "code",
     "collapsed": false,
     "input": [
      "unpack_color(180./256.)"
     ],
     "language": "python",
     "metadata": {},
     "outputs": [
      {
       "metadata": {},
       "output_type": "pyout",
       "prompt_number": 52,
       "text": [
        "{'b': 1.0728836059570312e-05, 'g': 0.0, 'r': 0.0}"
       ]
      }
     ],
     "prompt_number": 52
    },
    {
     "cell_type": "code",
     "collapsed": false,
     "input": [
      "def float2int(val):\n",
      "    "
     ],
     "language": "python",
     "metadata": {},
     "outputs": [
      {
       "ename": "IndentationError",
       "evalue": "expected an indented block (<ipython-input-53-3d473a7e752b>, line 2)",
       "output_type": "pyerr",
       "traceback": [
        "\u001b[0;36m  File \u001b[0;32m\"<ipython-input-53-3d473a7e752b>\"\u001b[0;36m, line \u001b[0;32m2\u001b[0m\n\u001b[0;31m    \u001b[0m\n\u001b[0m    ^\u001b[0m\n\u001b[0;31mIndentationError\u001b[0m\u001b[0;31m:\u001b[0m expected an indented block\n"
       ]
      }
     ],
     "prompt_number": 53
    },
    {
     "cell_type": "code",
     "collapsed": false,
     "input": [
      "def load(v):\n",
      "    r,g,b,a = v\n",
      "    return r/255.0, g/255.0, b/255.0, a/255.0\n",
      "\n",
      "def store(v):\n",
      "    r,g,b,a = v\n",
      "    return int(r*255), int(g*255), int(b*255), int(a*255)\n",
      "\n",
      "def frac(f):\n",
      "    return f - int(f)\n",
      "\n",
      "def floatToFixed(f):\n",
      "    toFixed = 255.0/256\n",
      "    return frac(f*toFixed*1), frac(f*toFixed*255), frac(f*toFixed*255*255), frac(f*toFixed*255*255*255)\n",
      "\n",
      "def fixedToFloat(v):\n",
      "    r,g,b,a = v\n",
      "    fromFixed = 256.0/255\n",
      "    return r*fromFixed/1 + g*fromFixed/(255) + b*fromFixed/(255*255) + a*fromFixed/(255*255*255)"
     ],
     "language": "python",
     "metadata": {},
     "outputs": [],
     "prompt_number": 55
    },
    {
     "cell_type": "code",
     "collapsed": false,
     "input": [
      "floatToFixed(254.01)"
     ],
     "language": "python",
     "metadata": {},
     "outputs": [
      {
       "metadata": {},
       "output_type": "pyout",
       "prompt_number": 58,
       "text": [
        "(0.017773437499982947,\n",
        " 0.532226562492724,\n",
        " 0.7177734356373549,\n",
        " 0.0322260856628418)"
       ]
      }
     ],
     "prompt_number": 58
    },
    {
     "cell_type": "code",
     "collapsed": false,
     "input": [
      "floatToFixed(188.01/256.)"
     ],
     "language": "python",
     "metadata": {},
     "outputs": [
      {
       "metadata": {},
       "output_type": "pyout",
       "prompt_number": 61,
       "text": [
        "(0.7315452575683593,\n",
        " 0.5440406799316122,\n",
        " 0.7303733825610834,\n",
        " 0.24521255306899548)"
       ]
      }
     ],
     "prompt_number": 61
    },
    {
     "cell_type": "code",
     "collapsed": false,
     "input": [
      "fixedToFloat((0.7315452575683593,\n",
      " 0.5440406799316122,\n",
      " 0.7303733825610834,\n",
      " 0.24521255306899548))"
     ],
     "language": "python",
     "metadata": {},
     "outputs": [
      {
       "metadata": {},
       "output_type": "pyout",
       "prompt_number": 62,
       "text": [
        "0.7365672130889013"
       ]
      }
     ],
     "prompt_number": 62
    },
    {
     "cell_type": "code",
     "collapsed": false,
     "input": [
      "0.7365672130889013 * 256."
     ],
     "language": "python",
     "metadata": {},
     "outputs": [
      {
       "metadata": {},
       "output_type": "pyout",
       "prompt_number": 63,
       "text": [
        "188.56120655075873"
       ]
      }
     ],
     "prompt_number": 63
    },
    {
     "cell_type": "code",
     "collapsed": false,
     "input": [
      "us_2006 = []\n",
      "with open('unhcr_popstats_export_time_series_2017_01_10_161804.csv') as csvfile:\n",
      "     reader = csv.DictReader(csvfile)\n",
      "     for row in reader:\n",
      "            us_2006.append(row)\n",
      "us_2006[0]"
     ],
     "language": "python",
     "metadata": {},
     "outputs": [
      {
       "metadata": {},
       "output_type": "pyout",
       "prompt_number": 4,
       "text": [
        "{'Country / territory of asylum/residence': 'United States of America',\n",
        " 'Origin': 'Afghanistan',\n",
        " 'Population type': 'Refugees (incl. refugee-like situations)',\n",
        " 'Value': '13242',\n",
        " 'Year': '2006'}"
       ]
      }
     ],
     "prompt_number": 4
    },
    {
     "cell_type": "code",
     "collapsed": false,
     "input": [
      "total = 0\n",
      "for row in us_2006:\n",
      "    total += int(row['Value'])\n",
      "total"
     ],
     "language": "python",
     "metadata": {},
     "outputs": [
      {
       "metadata": {},
       "output_type": "pyout",
       "prompt_number": 5,
       "text": [
        "843490"
       ]
      }
     ],
     "prompt_number": 5
    },
    {
     "cell_type": "code",
     "collapsed": false,
     "input": [
      "corrected_total = 330278.0\n",
      "ratio = corrected_total/total\n",
      "print ratio"
     ],
     "language": "python",
     "metadata": {},
     "outputs": [
      {
       "output_type": "stream",
       "stream": "stdout",
       "text": [
        "0.391561251467\n"
       ]
      }
     ],
     "prompt_number": 9
    },
    {
     "cell_type": "code",
     "collapsed": false,
     "input": [
      "total = 0\n",
      "for row in us_2006:\n",
      "    row['Corrected_Value'] = int(float(row['Value']) * ratio)\n",
      "    total += float(row['Value']) * ratio\n",
      "print int(total)\n",
      "us_2006[0]"
     ],
     "language": "python",
     "metadata": {},
     "outputs": [
      {
       "output_type": "stream",
       "stream": "stdout",
       "text": [
        "330278\n"
       ]
      },
      {
       "metadata": {},
       "output_type": "pyout",
       "prompt_number": 17,
       "text": [
        "{'Corrected_Value': 5185,\n",
        " 'Country / territory of asylum/residence': 'United States of America',\n",
        " 'Origin': 'Afghanistan',\n",
        " 'Population type': 'Refugees (incl. refugee-like situations)',\n",
        " 'Value': '13242',\n",
        " 'Year': '2006'}"
       ]
      }
     ],
     "prompt_number": 17
    },
    {
     "cell_type": "code",
     "collapsed": false,
     "input": [
      "# Init popstats\n",
      "csv_filename = 'capture/unhcr_popstats_export_time_series_2016_10_18_171000.csv'\n",
      "import csv\n",
      "popstats = []\n",
      "with open(csv_filename) as csvfile:\n",
      "     reader = csv.DictReader(csvfile)\n",
      "     for row in reader:\n",
      "            popstats.append(row)"
     ],
     "language": "python",
     "metadata": {},
     "outputs": [],
     "prompt_number": 19
    },
    {
     "cell_type": "code",
     "collapsed": false,
     "input": [
      "# Update popstats to show ammended totals for US 2006\n",
      "for row in popstats:\n",
      "    if row['Country / territory of asylum/residence'] == 'United States of America' and \\\n",
      "        row['Year'] == '2006':\n",
      "        for updated_row in us_2006:\n",
      "            match = False\n",
      "            if updated_row['Origin'] == row['Origin']:\n",
      "                match = True\n",
      "                row['Value'] = updated_row['Corrected_Value']\n",
      "                break;\n",
      "        if not match:\n",
      "            print row['Origin']"
     ],
     "language": "python",
     "metadata": {},
     "outputs": [],
     "prompt_number": 23
    },
    {
     "cell_type": "code",
     "collapsed": false,
     "input": [
      "#Load Countries of the World CSV\n",
      "cow = []\n",
      "with open('cow.csv') as csvfile:\n",
      "     reader = csv.DictReader(csvfile, delimiter=\";\")\n",
      "     for row in reader:\n",
      "            cow.append(row)\n",
      "print \"ISO:%s LNG: %s LAT %s\" %  (cow[0]['ISO3166A3'], cow[0]['longitude'], cow[0]['latitude'])\n"
     ],
     "language": "python",
     "metadata": {},
     "outputs": [
      {
       "output_type": "stream",
       "stream": "stdout",
       "text": [
        "ISO: AFG LNG:  65 LAT  33\n"
       ]
      }
     ],
     "prompt_number": 24
    },
    {
     "cell_type": "code",
     "collapsed": false,
     "input": [
      "#Load unique identifiers\n",
      "identifiers = {}\n",
      "for row in popstats:\n",
      "    res = row['Country / territory of asylum/residence']\n",
      "    org = row['Origin']\n",
      "    if not identifiers.has_key(res):\n",
      "        identifiers[res] = None\n",
      "    if not identifiers.has_key(org):\n",
      "        identifiers[org] = None\n",
      "len(identifiers.keys())        \n",
      "         "
     ],
     "language": "python",
     "metadata": {},
     "outputs": [
      {
       "metadata": {},
       "output_type": "pyout",
       "prompt_number": 25,
       "text": [
        "217"
       ]
      }
     ],
     "prompt_number": 25
    },
    {
     "cell_type": "code",
     "collapsed": false,
     "input": [
      "#Find mismatches\n",
      "mismatches = {}\n",
      "for key in identifiers.keys():\n",
      "    match = False\n",
      "    for row in cow: \n",
      "        if row['ISOen_name'].strip() == key:\n",
      "            #print key\n",
      "            match = True\n",
      "            break\n",
      "    if not match:\n",
      "        if not mismatches.has_key(key):\n",
      "            mismatches[key] = None\n",
      "mismatches"
     ],
     "language": "python",
     "metadata": {},
     "outputs": [
      {
       "metadata": {},
       "output_type": "pyout",
       "prompt_number": 26,
       "text": [
        "{'Bolivia (Plurinational State of)': None,\n",
        " 'British Virgin Islands': None,\n",
        " 'Cabo Verde': None,\n",
        " 'Central African Rep.': None,\n",
        " 'China, Hong Kong SAR': None,\n",
        " 'China, Macao SAR': None,\n",
        " 'Cura\\xc3\\xa7ao': None,\n",
        " 'Czech Rep.': None,\n",
        " \"C\\xc3\\xb4te d'Ivoire\": None,\n",
        " \"Dem. People's Rep. of Korea\": None,\n",
        " 'Dem. Rep. of the Congo': None,\n",
        " 'Dominican Rep.': None,\n",
        " 'Holy See (the)': None,\n",
        " 'Iran (Islamic Rep. of)': None,\n",
        " \"Lao People's Dem. Rep.\": None,\n",
        " 'Libya': None,\n",
        " 'Micronesia (Federated States of)': None,\n",
        " 'Palestinian': None,\n",
        " 'Rep. of Korea': None,\n",
        " 'Rep. of Moldova': None,\n",
        " 'Saint Vincent and the Grenadines': None,\n",
        " 'Serbia and Kosovo (S/RES/1244 (1999))': None,\n",
        " 'Stateless': None,\n",
        " 'Syrian Arab Rep.': None,\n",
        " 'The former Yugoslav Republic of Macedonia': None,\n",
        " 'Tibetan': None,\n",
        " 'United Rep. of Tanzania': None,\n",
        " 'United States of America': None,\n",
        " 'Various/Unknown': None,\n",
        " 'Venezuela (Bolivarian Republic of)': None}"
       ]
      }
     ],
     "prompt_number": 26
    },
    {
     "cell_type": "code",
     "collapsed": false,
     "input": [
      "#Manually correct mismatches\n",
      "mismatches['Bolivia (Plurinational State of)'] = cow[26]['ISOen_name'].strip()\n",
      "mismatches['British Virgin Islands'] = cow[242]['ISOen_name'].strip()\n",
      "mismatches['Cabo Verde'] = cow[40]['ISOen_name'].strip()\n",
      "mismatches['Central African Rep.'] = cow[42]['ISOen_name'].strip()\n",
      "mismatches['China, Hong Kong SAR'] = cow[99]['ISOen_name'].strip()\n",
      "mismatches['China, Macao SAR'] = cow[130]['ISOen_name'].strip()\n",
      "mismatches['Cura\\xc3\\xa7ao'] = cow[57]['ISOen_name'].strip()\n",
      "mismatches['Czech Rep.'] = cow[59]['ISOen_name'].strip()\n",
      "mismatches['C\\xc3\\xb4te d\\'Ivoire'] = cow[54]['ISOen_name'].strip()\n",
      "mismatches['Dem. People\\'s Rep. of Korea'] = cow[117]['ISOen_name'].strip()\n",
      "mismatches['Dem. Rep. of the Congo'] = cow[51]['ISOen_name'].strip()\n",
      "mismatches['Dominican Rep.'] = cow[63]['ISOen_name'].strip()\n",
      "mismatches['Holy See (the)'] = cow[97]['ISOen_name'].strip()\n",
      "mismatches['Iran (Islamic Rep. of)'] = cow[104]['ISOen_name'].strip()\n",
      "mismatches['Lao People\\'s Dem. Rep.'] = cow[121]['ISOen_name'].strip()\n",
      "mismatches['Libya'] = cow[126]['ISOen_name'].strip()\n",
      "mismatches['Micronesia (Federated States of)'] = cow[144]['ISOen_name'].strip()\n",
      "mismatches['Palestinian'] = cow[166]['ISOen_name'].strip()\n",
      "mismatches['Rep. of Korea'] = cow[118]['ISOen_name'].strip()\n",
      "mismatches['Rep. of Moldova'] = cow[145]['ISOen_name'].strip()\n",
      "mismatches['Saint Vincent and the Grenadines'] = cow[190]['ISOen_name'].strip()\n",
      "mismatches['Serbia and Kosovo (S/RES/1244 (1999))'] = cow[196]['ISOen_name'].strip()\n",
      "#mismatches['Stateless'] \n",
      "mismatches['Syrian Arab Rep.'] = cow[216]['ISOen_name'].strip()\n",
      "mismatches['The former Yugoslav Republic of Macedonia'] = cow[131]['ISOen_name'].strip()\n",
      "#mismatches['Tibetan'] = cow[]['ISOen_name'].strip()\n",
      "mismatches['United Rep. of Tanzania'] = cow[219]['ISOen_name'].strip()\n",
      "mismatches['United States of America'] = cow[235]['ISOen_name'].strip()\n",
      "#mismatches['Various/Unknown'] = cow[]['ISOen_name'].strip()\n",
      "mismatches['Venezuela (Bolivarian Republic of)'] = cow[240]['ISOen_name'].strip()\n",
      "mismatches  "
     ],
     "language": "python",
     "metadata": {},
     "outputs": [
      {
       "metadata": {},
       "output_type": "pyout",
       "prompt_number": 27,
       "text": [
        "{'Bolivia (Plurinational State of)': 'Bolivia, Plurinational State of',\n",
        " 'British Virgin Islands': 'Virgin Islands, British',\n",
        " 'Cabo Verde': 'Cape Verde',\n",
        " 'Central African Rep.': 'Central African Republic',\n",
        " 'China, Hong Kong SAR': 'Hong Kong',\n",
        " 'China, Macao SAR': 'Macao',\n",
        " 'Cura\\xc3\\xa7ao': 'Curacao',\n",
        " 'Czech Rep.': 'Czech Republic',\n",
        " \"C\\xc3\\xb4te d'Ivoire\": \"Cote d'Ivoire\",\n",
        " \"Dem. People's Rep. of Korea\": \"Korea, Democratic People's Republic of\",\n",
        " 'Dem. Rep. of the Congo': 'Congo, The Democratic Republic of the',\n",
        " 'Dominican Rep.': 'Dominican Republic',\n",
        " 'Holy See (the)': 'Holy See (Vatican City State)',\n",
        " 'Iran (Islamic Rep. of)': 'Iran, Islamic Republic of',\n",
        " \"Lao People's Dem. Rep.\": \"Lao People's Democratic Republic\",\n",
        " 'Libya': 'Libyan Arab Jamahiriya',\n",
        " 'Micronesia (Federated States of)': 'Micronesia, Federated States of',\n",
        " 'Palestinian': 'Occupied Palestinian Territory',\n",
        " 'Rep. of Korea': 'Korea, Republic of',\n",
        " 'Rep. of Moldova': 'Moldova, Republic of',\n",
        " 'Saint Vincent and the Grenadines': 'Saint Vincent and The Grenadines',\n",
        " 'Serbia and Kosovo (S/RES/1244 (1999))': 'Serbia',\n",
        " 'Stateless': None,\n",
        " 'Syrian Arab Rep.': 'Syrian Arab Republic',\n",
        " 'The former Yugoslav Republic of Macedonia': 'Macedonia, The Former Yugoslav Republic of',\n",
        " 'Tibetan': None,\n",
        " 'United Rep. of Tanzania': 'Tanzania, United Republic of',\n",
        " 'United States of America': 'United States',\n",
        " 'Various/Unknown': None,\n",
        " 'Venezuela (Bolivarian Republic of)': 'Venezuela, Bolivarian Republic of'}"
       ]
      }
     ],
     "prompt_number": 27
    },
    {
     "cell_type": "code",
     "collapsed": false,
     "input": [
      "#Update popstats to correct for mismatches\n",
      "for row in popstats:\n",
      "    if mismatches.has_key(row['Origin']) and mismatches[row['Origin']] != None:\n",
      "        row['Origin'] = mismatches[row['Origin']]\n",
      "    if mismatches.has_key(row['Country / territory of asylum/residence'])  and mismatches[row['Country / territory of asylum/residence']] != None:\n",
      "        row['Country / territory of asylum/residence'] = mismatches[row['Country / territory of asylum/residence']]\n",
      "        "
     ],
     "language": "python",
     "metadata": {},
     "outputs": [],
     "prompt_number": 28
    },
    {
     "cell_type": "code",
     "collapsed": false,
     "input": [
      "#Verify mismatches left\n",
      "identifiers = {}\n",
      "for row in popstats:\n",
      "    res = row['Country / territory of asylum/residence']\n",
      "    org = row['Origin']\n",
      "    if not identifiers.has_key(res):\n",
      "        identifiers[res] = None\n",
      "    if not identifiers.has_key(org):\n",
      "        identifiers[org] = None\n",
      "print len(identifiers.keys())        \n",
      "mismatches = {}\n",
      "for key in identifiers.keys():\n",
      "    match = False\n",
      "    for row in cow: \n",
      "        if row['ISOen_name'].strip() == key:\n",
      "            #print key\n",
      "            match = True\n",
      "            break\n",
      "    if not match:\n",
      "        if not mismatches.has_key(key):\n",
      "            mismatches[key] = None\n",
      "mismatches "
     ],
     "language": "python",
     "metadata": {},
     "outputs": [
      {
       "output_type": "stream",
       "stream": "stdout",
       "text": [
        "217\n"
       ]
      },
      {
       "metadata": {},
       "output_type": "pyout",
       "prompt_number": 29,
       "text": [
        "{'Stateless': None, 'Tibetan': None, 'Various/Unknown': None}"
       ]
      }
     ],
     "prompt_number": 29
    },
    {
     "cell_type": "code",
     "collapsed": false,
     "input": [
      "#Add country['ISO3166A3'] to popstats\n",
      "name_to_iso = {}\n",
      "for country in cow:\n",
      "    name = country['ISOen_name'].strip()\n",
      "    iso = country['ISO3166A3'].strip()\n",
      "    if not name_to_iso.has_key(name):\n",
      "        name_to_iso[name] = iso\n",
      "for row in popstats:\n",
      "    coo = row['Origin']\n",
      "    cor = row['Country / territory of asylum/residence']\n",
      "    if name_to_iso.has_key(coo):\n",
      "        row['coo'] = name_to_iso[coo]\n",
      "    else:\n",
      "        row['coo'] = None\n",
      "    if name_to_iso.has_key(cor):\n",
      "        row['cor'] = name_to_iso[cor]\n",
      "    else:\n",
      "        row['cor'] = None\n",
      "popstats[4000]"
     ],
     "language": "python",
     "metadata": {},
     "outputs": [
      {
       "metadata": {},
       "output_type": "pyout",
       "prompt_number": 34,
       "text": [
        "{'Country / territory of asylum/residence': 'Italy',\n",
        " 'Origin': 'Congo, The Democratic Republic of the',\n",
        " 'Population type': 'Refugees (incl. refugee-like situations)',\n",
        " 'Value': '48',\n",
        " 'Year': '1988',\n",
        " 'coo': 'COD',\n",
        " 'cor': 'ITA'}"
       ]
      }
     ],
     "prompt_number": 34
    },
    {
     "cell_type": "code",
     "collapsed": false,
     "input": [
      "# Save popstats\n",
      "with open('popstats.json', 'w') as outfile:\n",
      "    json.dump(popstats, outfile)\n"
     ],
     "language": "python",
     "metadata": {},
     "outputs": [],
     "prompt_number": 35
    },
    {
     "cell_type": "code",
     "collapsed": false,
     "input": [
      "# Generate refugees\n",
      "refugees = {}\n",
      "for row in popstats:\n",
      "    year = int(row['Year'])\n",
      "    coo = row['coo']\n",
      "    cor = row['cor']\n",
      "    value = random.randint(1, 4) if row['Value'] == \"*\" else int(row['Value'])\n",
      "    if year > 1999 and coo != None and cor != None:\n",
      "        if not refugees.has_key(coo):\n",
      "            refugees[coo] = {}\n",
      "        if not refugees[coo].has_key(cor):\n",
      "            refugees[coo][cor] = {}\n",
      "            refugees[coo][cor]['values'] = [0] * 16\n",
      "        idx = year % 2000\n",
      "        refugees[coo][cor]['values'][idx] = value\n",
      "\n",
      "for coo in refugees.keys():\n",
      "    for cor in refugees[coo].keys():\n",
      "        refugees[coo][cor]['diff'] = [0] * 15\n",
      "        for i in range(0, len(refugees[coo][cor]['values']) - 1):\n",
      "            year_0 = refugees[coo][cor]['values'][i]\n",
      "            year_1 = refugees[coo][cor]['values'][i+1]\n",
      "            diff = year_1 - year_0\n",
      "            refugees[coo][cor]['diff'][i] = diff\n",
      "            "
     ],
     "language": "python",
     "metadata": {},
     "outputs": [],
     "prompt_number": 36
    },
    {
     "cell_type": "code",
     "collapsed": false,
     "input": [
      "#Save refugees\n",
      "with open('refugees.json', 'w') as outfile:\n",
      "    json.dump(refugees, outfile)"
     ],
     "language": "python",
     "metadata": {},
     "outputs": [],
     "prompt_number": 38
    },
    {
     "cell_type": "code",
     "collapsed": false,
     "input": [
      "# Load amended centroids and random_points\n",
      "with open('amended_centroids.json', 'r') as f:\n",
      "    amended_centroids = json.load(f)\n",
      "\n",
      "with open('random_points.json', 'r') as f:\n",
      "    random_points = json.load(f)\n"
     ],
     "language": "python",
     "metadata": {},
     "outputs": [],
     "prompt_number": 39
    },
    {
     "cell_type": "code",
     "collapsed": false,
     "input": [
      "# Generate points\n",
      "points = []\n",
      "for coo in refugees.keys():\n",
      "    for cor in refugees[coo].keys():\n",
      "        start_point = LngLatToPixelXY(amended_centroids[coo])\n",
      "        end_point = LngLatToPixelXY(amended_centroids[cor])\n",
      "        diff = refugees[coo][cor]['diff']\n",
      "        for i in range(0,15):\n",
      "            year = 2000 + i + 1\n",
      "            value = diff[i]\n",
      "            scaled_range = int(value)\n",
      "            if scaled_range > 0:\n",
      "                for j in range(0, scaled_range):\n",
      "                    if j % 10 == 0:\n",
      "                        p1 = start_point\n",
      "                        p2 = end_point\n",
      "                        mid = [(p2[0] + p1[0])/2.0, (p2[1] + p1[1])/2.0]\n",
      "                    else:\n",
      "                        p1 = random.choice(random_points[coo])\n",
      "                        p2 = random.choice(random_points[cor])\n",
      "                        mid = [(p2[0] + p1[0])/2.0, (p2[1] + p1[1])/2.0]\n",
      "                    month, day = random_month_day()\n",
      "                    epoch = YearMonthDayToEpoch(year, month, day)\n",
      "                    points += start_point\n",
      "                    points += end_point\n",
      "                    points += mid\n",
      "                    points.append(epoch)\n",
      "\n",
      "split = split_list(points,len(points)/7)\n",
      "ordered_split = sorted(split, key=itemgetter(6))\n",
      "points = []\n",
      "for x in ordered_split:\n",
      "    for y in x:\n",
      "        points += [y]\n",
      "array.array('f', points).tofile(open('animated-points-10.bin', 'w'))\n"
     ],
     "language": "python",
     "metadata": {},
     "outputs": [],
     "prompt_number": 40
    },
    {
     "cell_type": "code",
     "collapsed": false,
     "input": [
      "year_totals = {}\n",
      "for row in ordered_split:\n",
      "    year = datetime.datetime.utcfromtimestamp(row[6]).year\n",
      "    if year_totals.has_key(year):\n",
      "        year_totals[year] += 1\n",
      "    else:\n",
      "        year_totals[year] = 1\n",
      "year_totals\n",
      "\n",
      "year_idx = {}\n",
      "years = range(2001,2016)\n",
      "for i in range(0,len(years)):\n",
      "    year = years[i]\n",
      "    year_idx[year] = {}\n",
      "    year_idx[year]['count'] = year_totals[year]\n",
      "    year_idx[year]['start'] = 0\n",
      "    for j in range(0,i):\n",
      "        year_x = years[j]\n",
      "        year_idx[year]['start'] += year_idx[year_x]['count']\n",
      "year_idx\n"
     ],
     "language": "python",
     "metadata": {},
     "outputs": [
      {
       "metadata": {},
       "output_type": "pyout",
       "prompt_number": 41,
       "text": [
        "{2001: {'count': 798896, 'start': 0},\n",
        " 2002: {'count': 1377803, 'start': 798896},\n",
        " 2003: {'count': 402155, 'start': 2176699},\n",
        " 2004: {'count': 640155, 'start': 2578854},\n",
        " 2005: {'count': 375991, 'start': 3219009},\n",
        " 2006: {'count': 1666399, 'start': 3595000},\n",
        " 2007: {'count': 2881204, 'start': 5261399},\n",
        " 2008: {'count': 431865, 'start': 8142603},\n",
        " 2009: {'count': 900246, 'start': 8574468},\n",
        " 2010: {'count': 492341, 'start': 9474714},\n",
        " 2011: {'count': 742046, 'start': 9967055},\n",
        " 2012: {'count': 1356451, 'start': 10709101},\n",
        " 2013: {'count': 2260887, 'start': 12065552},\n",
        " 2014: {'count': 3107100, 'start': 14326439},\n",
        " 2015: {'count': 2331430, 'start': 17433539}}"
       ]
      }
     ],
     "prompt_number": 41
    },
    {
     "cell_type": "code",
     "collapsed": false,
     "input": [
      "points = []\n",
      "for coo in refugees.keys():\n",
      "    for cor in refugees[coo].keys():\n",
      "        start_point = LngLatToPixelXY(amended_centroids[coo])\n",
      "        end_point = LngLatToPixelXY(amended_centroids[cor])\n",
      "        diff = refugees[coo][cor]['diff']\n",
      "        for i in range(0,15):\n",
      "            year = 2000 + i + 1\n",
      "            value = diff[i]\n",
      "            scaled_range = int(value *.06)\n",
      "            if scaled_range > 0:\n",
      "                for j in range(0, scaled_range):\n",
      "                    if j % 10 == 0:\n",
      "                        p1 = start_point\n",
      "                        p2 = end_point\n",
      "                        mid = [(p2[0] + p1[0])/2.0, (p2[1] + p1[1])/2.0]\n",
      "                    else:\n",
      "                        p1 = random.choice(random_points[coo])\n",
      "                        p2 = random.choice(random_points[cor])\n",
      "                        mid = [(p2[0] + p1[0])/2.0, (p2[1] + p1[1])/2.0]\n",
      "                    month, day = random_month_day()\n",
      "                    epoch = YearMonthDayToEpoch(year, month, day)\n",
      "                    points += start_point\n",
      "                    points += end_point\n",
      "                    points += mid\n",
      "                    points.append(epoch)\n",
      "\n",
      "split = split_list(points,len(points)/7)\n",
      "ordered_split = sorted(split, key=itemgetter(6))\n",
      "points = []\n",
      "for x in ordered_split:\n",
      "    for y in x:\n",
      "        points += [y]\n",
      "array.array('f', points).tofile(open('animated-points-subsampled.bin', 'w'))\n"
     ],
     "language": "python",
     "metadata": {},
     "outputs": [],
     "prompt_number": 42
    },
    {
     "cell_type": "code",
     "collapsed": false,
     "input": [],
     "language": "python",
     "metadata": {},
     "outputs": []
    }
   ],
   "metadata": {}
  }
 ]
}