{
 "metadata": {
  "name": "",
  "signature": "sha256:102e2ba997c787a4ae45723ac5ab8f4b481068e770d60e88bc77acfc63261fee"
 },
 "nbformat": 3,
 "nbformat_minor": 0,
 "worksheets": [
  {
   "cells": [
    {
     "cell_type": "code",
     "collapsed": false,
     "input": [
      "import array, json, math, random, urllib, urllib2\n",
      "from shapely.geometry import shape, box, Polygon, Point, LineString\n",
      "from shapely.wkb import loads\n",
      "\n",
      "from random import uniform\n",
      "\n",
      "def get_json(url, qsa=None):\n",
      "    if qsa != None:\n",
      "        args = urllib.urlencode(qsa)\n",
      "        url += \"?\"\n",
      "        url += args\n",
      "    response = urllib2.urlopen(url)\n",
      "    data = json.load(response)   \n",
      "    return data\n",
      "\n",
      "def LngLatToPixelXY(lnglat, scale = 1.):\n",
      "    (lng, lat) = lnglat\n",
      "    x = (lng + 180.0) * 256.0 / 360.0\n",
      "    y = 128.0 - math.log(math.tan((lat + 90.0) * math.pi / 360.0)) * 128.0 / math.pi\n",
      "    return [x*scale, y*scale]\n",
      "\n",
      "# cow.txt from http://opengeocode.org/download/cow.php"
     ],
     "language": "python",
     "metadata": {},
     "outputs": [],
     "prompt_number": 348
    },
    {
     "cell_type": "code",
     "collapsed": false,
     "input": [
      "import csv\n",
      "cow = []\n",
      "with open('cow.csv') as csvfile:\n",
      "     reader = csv.DictReader(csvfile, delimiter=\";\")\n",
      "     for row in reader:\n",
      "            cow.append(row)\n",
      "print \"ISO:%s LNG: %s LAT %s\" %  (cow[0]['ISO3166A3'], cow[0]['longitude'], cow[0]['latitude'])\n"
     ],
     "language": "python",
     "metadata": {},
     "outputs": []
    },
    {
     "cell_type": "code",
     "collapsed": false,
     "input": [
      "countries_list_url = \"http://data.unhcr.org/api/countries/list.json\"\n",
      "countries_list = get_json(countries_list_url)\n",
      "print countries_list[0]"
     ],
     "language": "python",
     "metadata": {},
     "outputs": []
    },
    {
     "cell_type": "code",
     "collapsed": false,
     "input": [
      "origin_url = \"http://data.unhcr.org/api/stats/origin.json\"\n",
      "origin_list = get_json(origin_url)\n",
      "print origin_list[0]"
     ],
     "language": "python",
     "metadata": {},
     "outputs": []
    },
    {
     "cell_type": "code",
     "collapsed": false,
     "input": [
      "population_types_url = \"http://data.unhcr.org/api/stats/time_series_population_types.json\"\n",
      "population_types_list = get_json(population_types_url)\n",
      "print population_types_list"
     ],
     "language": "python",
     "metadata": {},
     "outputs": []
    },
    {
     "cell_type": "code",
     "collapsed": false,
     "input": [
      "time_series_all_years_url = \"http://data.unhcr.org/api/stats/time_series_all_years.json\"\n",
      "args = { 'population_type_code' : 'RF',  'country_of_origin' : 'AFG', 'country_of_residence': 'CHE'}\n",
      "time_series_all_years_afg_list = get_json(time_series_all_years_url, args)\n",
      "print time_series_all_years_afg_list[0]"
     ],
     "language": "python",
     "metadata": {},
     "outputs": []
    },
    {
     "cell_type": "code",
     "collapsed": false,
     "input": [
      "for val in time_series_all_years_afg_list:\n",
      "    print \"%s %s\" % (val['year'], val['value'])"
     ],
     "language": "python",
     "metadata": {},
     "outputs": []
    },
    {
     "cell_type": "code",
     "collapsed": false,
     "input": [
      "for country in cow:\n",
      "    if country['ISO3166A3'] == \" CHE\":\n",
      "        lng, lat = float(country['longitude']), float(country['latitude'])\n",
      "        break"
     ],
     "language": "python",
     "metadata": {},
     "outputs": []
    },
    {
     "cell_type": "code",
     "collapsed": false,
     "input": [
      "points = []\n",
      "for i in range(0,13):\n",
      "    x, y = LngLatToPixelXY((lng, lat))\n",
      "    points += [x, y,\n",
      "               float(time_series_all_years_afg_list[i]['value']),\n",
      "               float(time_series_all_years_afg_list[i+1]['value'])\n",
      "               ]\n",
      "points += [x, y,\n",
      "           float(time_series_all_years_afg_list[13]['value']),\n",
      "           float(time_series_all_years_afg_list[13]['value'])\n",
      "          ]"
     ],
     "language": "python",
     "metadata": {},
     "outputs": []
    },
    {
     "cell_type": "code",
     "collapsed": false,
     "input": [
      "points"
     ],
     "language": "python",
     "metadata": {},
     "outputs": []
    },
    {
     "cell_type": "code",
     "collapsed": false,
     "input": [
      "import array\n",
      "array.array('f', points).tofile(open(\"unhcr.bin\", 'w'))"
     ],
     "language": "python",
     "metadata": {},
     "outputs": []
    },
    {
     "cell_type": "code",
     "collapsed": false,
     "input": [
      "residence_url = \"http://data.unhcr.org/api/stats/country_of_residence.json\"\n",
      "residence_list = get_json(residence_url)\n",
      "print residence_list[0]\n"
     ],
     "language": "python",
     "metadata": {},
     "outputs": []
    },
    {
     "cell_type": "code",
     "collapsed": false,
     "input": [
      "def get_time_series_all_years(origin, residence):\n",
      "    time_series_all_years_url = \"http://data.unhcr.org/api/stats/time_series_all_years.json\"\n",
      "    args = { 'population_type_code' : 'RF',  'country_of_origin' : origin, 'country_of_residence': residence}\n",
      "    time_series_all_years_list = get_json(time_series_all_years_url, args)\n",
      "    return time_series_all_years_list\n",
      "\n",
      "def fill_values(cor, residence_list):\n",
      "    values = []\n",
      "    for i in range(2000, 2014):\n",
      "        value = {'country_of_residence': cor, 'value': 0, 'year': i}\n",
      "        values.append(value)\n",
      "    for residence in residence_list:\n",
      "        index = residence['year'] - 2000;\n",
      "        values[index]['value'] = residence['value']\n",
      "    return values\n",
      "\n",
      "def get_cow_lnglat(c):\n",
      "    for country in cow:\n",
      "        if country['ISO3166A3'] == \" \" + c:\n",
      "            lng, lat = float(country['longitude']), float(country['latitude'])\n",
      "            return (lng, lat)"
     ],
     "language": "python",
     "metadata": {},
     "outputs": []
    },
    {
     "cell_type": "code",
     "collapsed": false,
     "input": [
      "points = []\n",
      "refugees_list = []\n",
      "for residence in residence_list:\n",
      "    if residence['country_of_residence'] != 'AFG' and residence['country_of_residence'] != 'YUG' and residence['country_of_residence'] != 'SCG':\n",
      "        refugee_list = get_time_series_all_years('AFG', residence['country_of_residence'])\n",
      "        if len(refugee_list) > 0:\n",
      "            print \"%s %s\" % (residence['country_of_residence'], len(refugee_list))\n",
      "            refugees_list.append(refugee_list)\n",
      "            x, y = LngLatToPixelXY(get_cow_lnglat(residence['country_of_residence']))\n",
      "            for i in range(0,len(refugee_list) - 1):\n",
      "                points += [x, y,\n",
      "                           float(refugee_list[i]['year']),\n",
      "                           0 if refugee_list[i]['value'] == None else float(refugee_list[i]['value']),\n",
      "                           0 if refugee_list[i+1]['value'] == None else float(refugee_list[i+1]['value'])\n",
      "                           ]\n",
      "            points += [x, y,\n",
      "                       float(refugee_list[len(refugee_list) - 1]['year']),\n",
      "                       0 if refugee_list[len(refugee_list) - 1]['value'] == None else float(refugee_list[len(refugee_list) - 1]['value']),\n",
      "                       0 if refugee_list[len(refugee_list) - 1]['value'] == None else float(refugee_list[len(refugee_list) - 1]['value'])\n",
      "                      ]"
     ],
     "language": "python",
     "metadata": {},
     "outputs": []
    },
    {
     "cell_type": "code",
     "collapsed": false,
     "input": [
      "len(points)\n",
      "len(refugees_list)\n",
      "refugees_list[67]"
     ],
     "language": "python",
     "metadata": {},
     "outputs": []
    },
    {
     "cell_type": "code",
     "collapsed": false,
     "input": [
      "import array\n",
      "array.array('f', points).tofile(open(\"afg-unhcr.bin\", 'w'))"
     ],
     "language": "python",
     "metadata": {},
     "outputs": []
    },
    {
     "cell_type": "code",
     "collapsed": false,
     "input": [
      "import matplotlib.pyplot as plt\n",
      "plt.plot([1,2,3,4])\n",
      "plt.plot([0.5,2.5,3,4,5])\n",
      "\n",
      "plt.ylabel('somenumbers')\n",
      "plt.show()"
     ],
     "language": "python",
     "metadata": {},
     "outputs": []
    },
    {
     "cell_type": "code",
     "collapsed": false,
     "input": [
      "data = []\n",
      "for refugee_list in refugees_list:\n",
      "    for val in refugee_list:\n",
      "        value = 0 if val['value'] == None else int(val['value'])\n",
      "        data.append(value)"
     ],
     "language": "python",
     "metadata": {},
     "outputs": []
    },
    {
     "cell_type": "code",
     "collapsed": false,
     "input": [
      "import matplotlib.pyplot as plt\n",
      "plt.plot(sorted(data))\n",
      "plt.show()"
     ],
     "language": "python",
     "metadata": {},
     "outputs": []
    },
    {
     "cell_type": "code",
     "collapsed": false,
     "input": [
      "data"
     ],
     "language": "python",
     "metadata": {},
     "outputs": []
    },
    {
     "cell_type": "code",
     "collapsed": false,
     "input": [
      "from matplotlib.colors import LogNorm\n",
      "plt.hist(points, bins=10)\n",
      "plt.show()"
     ],
     "language": "python",
     "metadata": {},
     "outputs": []
    },
    {
     "cell_type": "code",
     "collapsed": false,
     "input": [
      "trimmed_data = []\n",
      "for refugee_list in refugees_list:\n",
      "    for val in refugee_list:\n",
      "        value = 0 if val['value'] == None else int(val['value'])\n",
      "        if value > 1000 and value < 100000:\n",
      "            trimmed_data.append(value)\n",
      "        else: \n",
      "            print val['country_of_residence']"
     ],
     "language": "python",
     "metadata": {},
     "outputs": []
    },
    {
     "cell_type": "code",
     "collapsed": false,
     "input": [
      "from matplotlib.colors import LogNorm\n",
      "plt.hist(trimmed_data, bins=10)\n",
      "plt.show()"
     ],
     "language": "python",
     "metadata": {},
     "outputs": []
    },
    {
     "cell_type": "code",
     "collapsed": false,
     "input": [
      "points = []\n",
      "for refugee_list in refugees_list:\n",
      "    include = False\n",
      "    for i in range(0, len(refugee_list)):\n",
      "        value = 0 if refugee_list[i]['value'] == None else int(refugee_list[i]['value'])\n",
      "#        if value > 1000 and value < 100000:\n",
      "        if value > 1000:\n",
      "            include = True\n",
      "            break;\n",
      "    if include:\n",
      "        x, y = LngLatToPixelXY(get_cow_lnglat(refugee_list[0]['country_of_residence']))\n",
      "        for i in range(0,len(refugee_list) - 1):\n",
      "            points += [x, y,\n",
      "                       float(refugee_list[i]['year']),\n",
      "                       0 if refugee_list[i]['value'] == None else float(refugee_list[i]['value']),\n",
      "                       0 if refugee_list[i+1]['value'] == None else float(refugee_list[i+1]['value'])\n",
      "                      ]\n",
      "            points += [x, y,\n",
      "                       float(refugee_list[len(refugee_list) - 1]['year']),\n",
      "                       0 if refugee_list[len(refugee_list) - 1]['value'] == None else float(refugee_list[len(refugee_list) - 1]['value']),\n",
      "                       0 if refugee_list[len(refugee_list) - 1]['value'] == None else float(refugee_list[len(refugee_list) - 1]['value'])\n",
      "                      ]        \n",
      " "
     ],
     "language": "python",
     "metadata": {},
     "outputs": []
    },
    {
     "cell_type": "code",
     "collapsed": false,
     "input": [
      "import array\n",
      "array.array('f', points).tofile(open(\"afg-unhcr.bin\", 'w'))"
     ],
     "language": "python",
     "metadata": {},
     "outputs": []
    },
    {
     "cell_type": "code",
     "collapsed": false,
     "input": [
      "from shapely.geometry import shape, Point\n",
      "from shapely.wkb import loads\n",
      "\n",
      "from random import uniform\n",
      "\n",
      "geom_cache = {}\n",
      "\n",
      "def randomPoint(poly):\n",
      "    bbox = poly.bounds\n",
      "    l,b,r,t = bbox\n",
      "    while True:\n",
      "        point = Point(random.uniform(l,r),random.uniform(t,b))\n",
      "        if point is None:\n",
      "            break\n",
      "        if poly.contains(point):\n",
      "            break\n",
      "    return point.__geo_interface__['coordinates']"
     ],
     "language": "python",
     "metadata": {},
     "outputs": [],
     "prompt_number": 153
    },
    {
     "cell_type": "code",
     "collapsed": false,
     "input": [
      "import csv\n",
      "cow = []\n",
      "with open('cow.csv') as csvfile:\n",
      "     reader = csv.DictReader(csvfile, delimiter=\";\")\n",
      "     for row in reader:\n",
      "            cow.append(row)\n",
      "\n"
     ],
     "language": "python",
     "metadata": {},
     "outputs": []
    },
    {
     "cell_type": "code",
     "collapsed": false,
     "input": [
      "for country in cow:\n",
      "    if country['ISO3166A3'] == \" AFG\":\n",
      "        print \"%s %s %s %s \" % (country['minlatitude'], country['minlongitude'], country['maxlatitude'], country['maxlongitude']) \n",
      "        break"
     ],
     "language": "python",
     "metadata": {},
     "outputs": []
    },
    {
     "cell_type": "code",
     "collapsed": false,
     "input": [
      "refugees_list[2] "
     ],
     "language": "python",
     "metadata": {},
     "outputs": []
    },
    {
     "cell_type": "code",
     "collapsed": false,
     "input": [
      "with open(\"capture/AUT/AUT_adm0.geojson\") as f:\n",
      "  aut_geojson = json.load(f)\n",
      "\n",
      "with open(\"capture/AFG/AFG_adm0.geojson\") as f:\n",
      "  afg_geojson = json.load(f)\n"
     ],
     "language": "python",
     "metadata": {},
     "outputs": []
    },
    {
     "cell_type": "code",
     "collapsed": false,
     "input": [
      "aut_geojson['features'][0]['geometry']"
     ],
     "language": "python",
     "metadata": {},
     "outputs": []
    },
    {
     "cell_type": "code",
     "collapsed": false,
     "input": [
      "randomPoint(aut_geojson['features'][0]['geometry'])"
     ],
     "language": "python",
     "metadata": {},
     "outputs": []
    },
    {
     "cell_type": "code",
     "collapsed": false,
     "input": [
      "aut_refugees_list = refugees_list[2] "
     ],
     "language": "python",
     "metadata": {},
     "outputs": []
    },
    {
     "cell_type": "code",
     "collapsed": false,
     "input": [
      "max_pop = 0\n",
      "for year in aut_refugees_list:\n",
      "    if int(year['value']) > max_pop:\n",
      "        max_pop = int(year['value'])\n",
      "print max_pop\n"
     ],
     "language": "python",
     "metadata": {},
     "outputs": []
    },
    {
     "cell_type": "code",
     "collapsed": false,
     "input": [
      "data = []\n",
      "poly = shape(aut_geojson['features'][0]['geometry'])\n",
      "for i in range(0, max_pop):\n",
      "    aut_point = randomPoint(poly)\n",
      "    data += LngLatToPixelXY(aut_point)\n",
      "    data.append(float(i))\n",
      "    \n"
     ],
     "language": "python",
     "metadata": {},
     "outputs": []
    },
    {
     "cell_type": "code",
     "collapsed": false,
     "input": [
      "array.array('f', data).tofile(open(\"afg-aut-unhcr.bin\", 'w'))"
     ],
     "language": "python",
     "metadata": {},
     "outputs": []
    },
    {
     "cell_type": "code",
     "collapsed": false,
     "input": [
      "points = []\n",
      "for i in range(0,len(aut_refugees_list) - 1):\n",
      "            points.append([float(aut_refugees_list[i]['year']),\n",
      "                       0 if aut_refugees_list[i]['value'] == None else float(aut_refugees_list[i]['value']),\n",
      "                       0 if aut_refugees_list[i+1]['value'] == None else float(aut_refugees_list[i+1]['value'])\n",
      "                      ])\n",
      "points.append([float(aut_refugees_list[len(aut_refugees_list) - 1]['year']),\n",
      "           0 if aut_refugees_list[len(aut_refugees_list) - 1]['value'] == None else float(aut_refugees_list[len(aut_refugees_list) - 1]['value']),\n",
      "           0 if aut_refugees_list[len(aut_refugees_list) - 1]['value'] == None else float(aut_refugees_list[len(aut_refugees_list) - 1]['value'])\n",
      "          ])        \n",
      "json.dumps(points)"
     ],
     "language": "python",
     "metadata": {},
     "outputs": []
    },
    {
     "cell_type": "code",
     "collapsed": false,
     "input": [
      "countries = {}\n",
      "for refugee_list in refugees_list:\n",
      "    for vals in refugee_list:\n",
      "        if not countries.has_key(vals['country_of_residence']):\n",
      "            countries[vals['country_of_residence']] = 0\n",
      "        countries[vals['country_of_residence']] += 0 if vals['value'] == None else float(vals['value'])\n",
      "            "
     ],
     "language": "python",
     "metadata": {},
     "outputs": []
    },
    {
     "cell_type": "code",
     "collapsed": false,
     "input": [
      "countries"
     ],
     "language": "python",
     "metadata": {},
     "outputs": []
    },
    {
     "cell_type": "code",
     "collapsed": false,
     "input": [
      "import operator\n",
      "sorted_countries = sorted(countries.items(), key=operator.itemgetter(1))\n"
     ],
     "language": "python",
     "metadata": {},
     "outputs": []
    },
    {
     "cell_type": "code",
     "collapsed": false,
     "input": [
      "sorted_countries[len(sorted_countries) - 12 : len(sorted_countries)]"
     ],
     "language": "python",
     "metadata": {},
     "outputs": []
    },
    {
     "cell_type": "code",
     "collapsed": false,
     "input": [
      "foo.has_key('a')"
     ],
     "language": "python",
     "metadata": {},
     "outputs": []
    },
    {
     "cell_type": "code",
     "collapsed": false,
     "input": [
      "refugees_list[33]"
     ],
     "language": "python",
     "metadata": {},
     "outputs": []
    },
    {
     "cell_type": "code",
     "collapsed": false,
     "input": [
      "with open(\"capture/DEU/DEU_adm0.geojson\") as f:\n",
      "  deu_geojson = json.load(f)\n",
      "deu_refugees_list = refugees_list[33] \n",
      "max_pop = 0\n",
      "for year in deu_refugees_list:\n",
      "    if int(year['value']) > max_pop:\n",
      "        max_pop = int(year['value'])\n",
      "print max_pop\n",
      "data = []\n",
      "poly = shape(deu_geojson['features'][0]['geometry'])\n",
      "for i in range(0, max_pop):\n",
      "    deu_point = randomPoint(poly)\n",
      "    data += LngLatToPixelXY(deu_point)\n",
      "    data.append(float(i))\n",
      "array.array('f', data).tofile(open(\"afg-deu-unhcr.bin\", 'w'))\n"
     ],
     "language": "python",
     "metadata": {},
     "outputs": []
    },
    {
     "cell_type": "code",
     "collapsed": false,
     "input": [
      "with open(\"capture/DEU/DEU_adm0.geojson\") as f:\n",
      "  deu_geojson = json.load(f)\n",
      "with open(\"capture/AFG/AFG_adm0.geojson\") as f:\n",
      "  afg_geojson = json.load(f)\n",
      "deu_poly = shape(deu_geojson['features'][0]['geometry'])\n",
      "afg_poly = shape(afg_geojson['features'][0]['geometry'])\n",
      "deu_centroid = deu_poly.centroid.__geo_interface__['coordinates']\n",
      "afg_centroid = afg_poly.centroid.__geo_interface__['coordinates']"
     ],
     "language": "python",
     "metadata": {},
     "outputs": []
    },
    {
     "cell_type": "code",
     "collapsed": false,
     "input": [
      "deu_refugee_list = refugees_list[33]\n",
      "deu_2002 = deu_refugee_list[0]\n",
      "total_points = int(deu_2002['value'])\n",
      "year = int(deu_2002['year'])"
     ],
     "language": "python",
     "metadata": {},
     "outputs": []
    },
    {
     "cell_type": "code",
     "collapsed": false,
     "input": [],
     "language": "python",
     "metadata": {},
     "outputs": []
    },
    {
     "cell_type": "code",
     "collapsed": false,
     "input": [
      "import datetime, random\n",
      "def random_month_day():\n",
      "    month = random.randint(1, 12)\n",
      "    if month == 2:\n",
      "        day = random.randint(1, 28)\n",
      "    elif month == 4 or month == 6 or month == 9 or month == 11:\n",
      "        day = random.randint(1, 30)\n",
      "    else:\n",
      "        day = random.randint(1,31)\n",
      "    return (month, day)\n",
      "\n",
      "def LonLatToPixelXY(lonlat):\n",
      "    (lon, lat) = lonlat\n",
      "    x = (lon + 180.0) * 256.0 / 360.0\n",
      "    y = 128.0 - math.log(math.tan((lat + 90.0) * math.pi / 360.0)) * 128.0 / math.pi\n",
      "    return [x, y]\n",
      "\n",
      "def YearMonthDayToEpoch(year, month, day):\n",
      "    return (datetime.datetime(int(year), int(month), int(day)) - datetime.datetime(1970, 1, 1)).total_seconds()\n"
     ],
     "language": "python",
     "metadata": {},
     "outputs": [],
     "prompt_number": 163
    },
    {
     "cell_type": "code",
     "collapsed": false,
     "input": [
      "points = []\n",
      "for i in range(0, total_points):\n",
      "    points += LonLatToPixelXY(afg_centroid)\n",
      "    points += LonLatToPixelXY(deu_centroid)\n",
      "    month, day = random_month_day()\n",
      "    points.append(YearMonthDayToEpoch(year, month, day))"
     ],
     "language": "python",
     "metadata": {},
     "outputs": []
    },
    {
     "cell_type": "code",
     "collapsed": false,
     "input": [
      "array.array('f', points).tofile(open(\"afg-deu-points.bin\", 'w'))"
     ],
     "language": "python",
     "metadata": {},
     "outputs": []
    },
    {
     "cell_type": "code",
     "collapsed": false,
     "input": [
      "points[0:5]"
     ],
     "language": "python",
     "metadata": {},
     "outputs": []
    },
    {
     "cell_type": "code",
     "collapsed": false,
     "input": [
      "int(13/3.1)"
     ],
     "language": "python",
     "metadata": {},
     "outputs": []
    },
    {
     "cell_type": "code",
     "collapsed": false,
     "input": [
      "points = []\n",
      "for deu_refugee in deu_refugee_list:\n",
      "    total_points = int(deu_refugee['value'])\n",
      "    year = int(deu_refugee['year'])\n",
      "    for i in range(0, int(total_points*.02)):\n",
      "        points += LonLatToPixelXY(afg_centroid)\n",
      "        points += LonLatToPixelXY(deu_centroid)\n",
      "        month, day = random_month_day()\n",
      "        points.append(YearMonthDayToEpoch(year, month, day))"
     ],
     "language": "python",
     "metadata": {},
     "outputs": []
    },
    {
     "cell_type": "code",
     "collapsed": false,
     "input": [
      "array.array('f', points).tofile(open(\"afg-deu-points.bin\", 'w'))"
     ],
     "language": "python",
     "metadata": {},
     "outputs": []
    },
    {
     "cell_type": "code",
     "collapsed": false,
     "input": [
      "deu_refugee"
     ],
     "language": "python",
     "metadata": {},
     "outputs": []
    },
    {
     "cell_type": "code",
     "collapsed": false,
     "input": [
      "# Download the country shapefiles for all countries"
     ],
     "language": "python",
     "metadata": {},
     "outputs": []
    },
    {
     "cell_type": "code",
     "collapsed": false,
     "input": [
      "# Get the list of countries\n",
      "countries_list_url = \"http://data.unhcr.org/api/countries/list.json\"\n",
      "countries_list = get_json(countries_list_url)"
     ],
     "language": "python",
     "metadata": {},
     "outputs": [],
     "prompt_number": 2
    },
    {
     "cell_type": "code",
     "collapsed": false,
     "input": [
      "def download_file(url, filename):\n",
      "    command = \"curl %s --create-dirs -o %s\" % (url, filename)\n",
      "    print \"Downloading %s to %s\" % (url, filename)\n",
      "    !$command\n",
      "\n",
      "def unzip_file(filename, exdir):\n",
      "    command = \"unzip %s -d %s\" % (filename, exdir)\n",
      "    !$command\n",
      "\n",
      "def shp_to_geojson(country_name):\n",
      "    command = \"ogr2ogr -f GeoJSON -t_srs crs:84 capture/%s/%s_adm0.geojson capture/%s/%s_adm0.shp\" % (country_name, country_name, country_name, country_name)\n",
      "    !$command    "
     ],
     "language": "python",
     "metadata": {},
     "outputs": [],
     "prompt_number": 58
    },
    {
     "cell_type": "code",
     "collapsed": false,
     "input": [
      "# Download the countries\n",
      "for country in countries_list:\n",
      "    url = \"http://biogeo.ucdavis.edu/data/gadm2.8/shp/%s_adm_shp.zip\" % country['country_code']\n",
      "    filename = \"capture/%s/%s_adm_shp.zip\" % (country['country_code'], country['country_code'])\n",
      "    download_file(url, filename)"
     ],
     "language": "python",
     "metadata": {},
     "outputs": []
    },
    {
     "cell_type": "code",
     "collapsed": false,
     "input": [
      "# Unzip the countries\n",
      "for country in countries_list:\n",
      "    filename = \"capture/%s/%s_adm_shp.zip\" % (country['country_code'], country['country_code'])\n",
      "    exdir = \"capture/%s\" % country['country_code']\n",
      "    unzip_file(filename, exdir)"
     ],
     "language": "python",
     "metadata": {},
     "outputs": []
    },
    {
     "cell_type": "code",
     "collapsed": false,
     "input": [
      "# Convert shapefile to geojson\n",
      "for country in countries_list:\n",
      "    shp_to_geojson(country['country_code'])"
     ],
     "language": "python",
     "metadata": {},
     "outputs": [
      {
       "output_type": "stream",
       "stream": "stdout",
       "text": [
        "ERROR 6: The GeoJSON driver does not overwrite existing files.\r\n",
        "GeoJSON driver failed to create capture/AFG/AFG_adm0.geojson\r\n"
       ]
      },
      {
       "output_type": "stream",
       "stream": "stdout",
       "text": [
        "FAILURE:\r\n",
        "Unable to open datasource `capture/ANT/ANT_adm0.shp' with the following drivers.\r\n",
        "  -> ESRI Shapefile\r\n",
        "  -> MapInfo File\r\n",
        "  -> UK .NTF\r\n",
        "  -> SDTS\r\n",
        "  -> TIGER\r\n",
        "  -> S57\r\n",
        "  -> DGN\r\n",
        "  -> VRT\r\n",
        "  -> REC\r\n",
        "  -> Memory\r\n",
        "  -> BNA\r\n",
        "  -> CSV\r\n",
        "  -> NAS\r\n",
        "  -> GML\r\n",
        "  -> GPX\r\n",
        "  -> KML\r\n",
        "  -> GeoJSON\r\n",
        "  -> Interlis 1\r\n",
        "  -> Interlis 2\r\n",
        "  -> GMT\r\n",
        "  -> GPKG\r\n",
        "  -> SQLite\r\n",
        "  -> DODS\r\n",
        "  -> ODBC\r\n",
        "  -> WAsP\r\n",
        "  -> PGeo\r\n",
        "  -> MSSQLSpatial\r\n",
        "  -> PCIDSK\r\n",
        "  -> OpenFileGDB\r\n",
        "  -> XPlane\r\n",
        "  -> AVCBin\r\n",
        "  -> AVCE00\r\n",
        "  -> DXF\r\n",
        "  -> Geoconcept\r\n",
        "  -> GeoRSS\r\n",
        "  -> GPSTrackMaker\r\n",
        "  -> VFK\r\n",
        "  -> PGDump\r\n",
        "  -> OSM\r\n",
        "  -> GPSBabel\r\n",
        "  -> SUA\r\n",
        "  -> OpenAir\r\n",
        "  -> PDS\r\n",
        "  -> WFS\r\n",
        "  -> HTF\r\n",
        "  -> AeronavFAA\r\n",
        "  -> Geomedia\r\n",
        "  -> EDIGEO\r\n",
        "  -> GFT\r\n",
        "  -> GME\r\n",
        "  -> SVG\r\n",
        "  -> CouchDB\r\n",
        "  -> Idrisi\r\n",
        "  -> ARCGEN\r\n",
        "  -> SEGUKOOA\r\n",
        "  -> SEGY\r\n",
        "  -> XLS\r\n",
        "  -> ODS\r\n",
        "  -> XLSX\r\n",
        "  -> ElasticSearch\r\n",
        "  -> PDF\r\n",
        "  -> Walk\r\n",
        "  -> CartoDB\r\n",
        "  -> SXF\r\n"
       ]
      },
      {
       "output_type": "stream",
       "stream": "stdout",
       "text": [
        "ERROR 6: The GeoJSON driver does not overwrite existing files.\r\n",
        "GeoJSON driver failed to create capture/AUT/AUT_adm0.geojson\r\n"
       ]
      },
      {
       "output_type": "stream",
       "stream": "stdout",
       "text": [
        "ERROR 6: The GeoJSON driver does not overwrite existing files.\r\n",
        "GeoJSON driver failed to create capture/DEU/DEU_adm0.geojson\r\n"
       ]
      },
      {
       "output_type": "stream",
       "stream": "stdout",
       "text": [
        "ERROR 6: The GeoJSON driver does not overwrite existing files.\r\n",
        "GeoJSON driver failed to create capture/LBY/LBY_adm0.geojson\r\n"
       ]
      },
      {
       "output_type": "stream",
       "stream": "stdout",
       "text": [
        "ERROR 6: The GeoJSON driver does not overwrite existing files.\r\n",
        "GeoJSON driver failed to create capture/PSE/PSE_adm0.geojson\r\n"
       ]
      },
      {
       "output_type": "stream",
       "stream": "stdout",
       "text": [
        "FAILURE:\r\n",
        "Unable to open datasource `capture/SCG/SCG_adm0.shp' with the following drivers.\r\n",
        "  -> ESRI Shapefile\r\n",
        "  -> MapInfo File\r\n",
        "  -> UK .NTF\r\n",
        "  -> SDTS\r\n",
        "  -> TIGER\r\n",
        "  -> S57\r\n",
        "  -> DGN\r\n",
        "  -> VRT\r\n",
        "  -> REC\r\n",
        "  -> Memory\r\n",
        "  -> BNA\r\n",
        "  -> CSV\r\n",
        "  -> NAS\r\n",
        "  -> GML\r\n",
        "  -> GPX\r\n",
        "  -> KML\r\n",
        "  -> GeoJSON\r\n",
        "  -> Interlis 1\r\n",
        "  -> Interlis 2\r\n",
        "  -> GMT\r\n",
        "  -> GPKG\r\n",
        "  -> SQLite\r\n",
        "  -> DODS\r\n",
        "  -> ODBC\r\n",
        "  -> WAsP\r\n",
        "  -> PGeo\r\n",
        "  -> MSSQLSpatial\r\n",
        "  -> PCIDSK\r\n",
        "  -> OpenFileGDB\r\n",
        "  -> XPlane\r\n",
        "  -> AVCBin\r\n",
        "  -> AVCE00\r\n",
        "  -> DXF\r\n",
        "  -> Geoconcept\r\n",
        "  -> GeoRSS\r\n",
        "  -> GPSTrackMaker\r\n",
        "  -> VFK\r\n",
        "  -> PGDump\r\n",
        "  -> OSM\r\n",
        "  -> GPSBabel\r\n",
        "  -> SUA\r\n",
        "  -> OpenAir\r\n",
        "  -> PDS\r\n",
        "  -> WFS\r\n",
        "  -> HTF\r\n",
        "  -> AeronavFAA\r\n",
        "  -> Geomedia\r\n",
        "  -> EDIGEO\r\n",
        "  -> GFT\r\n",
        "  -> GME\r\n",
        "  -> SVG\r\n",
        "  -> CouchDB\r\n",
        "  -> Idrisi\r\n",
        "  -> ARCGEN\r\n",
        "  -> SEGUKOOA\r\n",
        "  -> SEGY\r\n",
        "  -> XLS\r\n",
        "  -> ODS\r\n",
        "  -> XLSX\r\n",
        "  -> ElasticSearch\r\n",
        "  -> PDF\r\n",
        "  -> Walk\r\n",
        "  -> CartoDB\r\n",
        "  -> SXF\r\n"
       ]
      },
      {
       "output_type": "stream",
       "stream": "stdout",
       "text": [
        "ERROR 6: The GeoJSON driver does not overwrite existing files.\r\n",
        "GeoJSON driver failed to create capture/SDN/SDN_adm0.geojson\r\n"
       ]
      },
      {
       "output_type": "stream",
       "stream": "stdout",
       "text": [
        "FAILURE:\r\n",
        "Unable to open datasource `capture/SUN/SUN_adm0.shp' with the following drivers.\r\n",
        "  -> ESRI Shapefile\r\n",
        "  -> MapInfo File\r\n",
        "  -> UK .NTF\r\n",
        "  -> SDTS\r\n",
        "  -> TIGER\r\n",
        "  -> S57\r\n",
        "  -> DGN\r\n",
        "  -> VRT\r\n",
        "  -> REC\r\n",
        "  -> Memory\r\n",
        "  -> BNA\r\n",
        "  -> CSV\r\n",
        "  -> NAS\r\n",
        "  -> GML\r\n",
        "  -> GPX\r\n",
        "  -> KML\r\n",
        "  -> GeoJSON\r\n",
        "  -> Interlis 1\r\n",
        "  -> Interlis 2\r\n",
        "  -> GMT\r\n",
        "  -> GPKG\r\n",
        "  -> SQLite\r\n",
        "  -> DODS\r\n",
        "  -> ODBC\r\n",
        "  -> WAsP\r\n",
        "  -> PGeo\r\n",
        "  -> MSSQLSpatial\r\n",
        "  -> PCIDSK\r\n",
        "  -> OpenFileGDB\r\n",
        "  -> XPlane\r\n",
        "  -> AVCBin\r\n",
        "  -> AVCE00\r\n",
        "  -> DXF\r\n",
        "  -> Geoconcept\r\n",
        "  -> GeoRSS\r\n",
        "  -> GPSTrackMaker\r\n",
        "  -> VFK\r\n",
        "  -> PGDump\r\n",
        "  -> OSM\r\n",
        "  -> GPSBabel\r\n",
        "  -> SUA\r\n",
        "  -> OpenAir\r\n",
        "  -> PDS\r\n",
        "  -> WFS\r\n",
        "  -> HTF\r\n",
        "  -> AeronavFAA\r\n",
        "  -> Geomedia\r\n",
        "  -> EDIGEO\r\n",
        "  -> GFT\r\n",
        "  -> GME\r\n",
        "  -> SVG\r\n",
        "  -> CouchDB\r\n",
        "  -> Idrisi\r\n",
        "  -> ARCGEN\r\n",
        "  -> SEGUKOOA\r\n",
        "  -> SEGY\r\n",
        "  -> XLS\r\n",
        "  -> ODS\r\n",
        "  -> XLSX\r\n",
        "  -> ElasticSearch\r\n",
        "  -> PDF\r\n",
        "  -> Walk\r\n",
        "  -> CartoDB\r\n",
        "  -> SXF\r\n"
       ]
      },
      {
       "output_type": "stream",
       "stream": "stdout",
       "text": [
        "FAILURE:\r\n",
        "Unable to open datasource `capture/XKS/XKS_adm0.shp' with the following drivers.\r\n",
        "  -> ESRI Shapefile\r\n",
        "  -> MapInfo File\r\n",
        "  -> UK .NTF\r\n",
        "  -> SDTS\r\n",
        "  -> TIGER\r\n",
        "  -> S57\r\n",
        "  -> DGN\r\n",
        "  -> VRT\r\n",
        "  -> REC\r\n",
        "  -> Memory\r\n",
        "  -> BNA\r\n",
        "  -> CSV\r\n",
        "  -> NAS\r\n",
        "  -> GML\r\n",
        "  -> GPX\r\n",
        "  -> KML\r\n",
        "  -> GeoJSON\r\n",
        "  -> Interlis 1\r\n",
        "  -> Interlis 2\r\n",
        "  -> GMT\r\n",
        "  -> GPKG\r\n",
        "  -> SQLite\r\n",
        "  -> DODS\r\n",
        "  -> ODBC\r\n",
        "  -> WAsP\r\n",
        "  -> PGeo\r\n",
        "  -> MSSQLSpatial\r\n",
        "  -> PCIDSK\r\n",
        "  -> OpenFileGDB\r\n",
        "  -> XPlane\r\n",
        "  -> AVCBin\r\n",
        "  -> AVCE00\r\n",
        "  -> DXF\r\n",
        "  -> Geoconcept\r\n",
        "  -> GeoRSS\r\n",
        "  -> GPSTrackMaker\r\n",
        "  -> VFK\r\n",
        "  -> PGDump\r\n",
        "  -> OSM\r\n",
        "  -> GPSBabel\r\n",
        "  -> SUA\r\n",
        "  -> OpenAir\r\n",
        "  -> PDS\r\n",
        "  -> WFS\r\n",
        "  -> HTF\r\n",
        "  -> AeronavFAA\r\n",
        "  -> Geomedia\r\n",
        "  -> EDIGEO\r\n",
        "  -> GFT\r\n",
        "  -> GME\r\n",
        "  -> SVG\r\n",
        "  -> CouchDB\r\n",
        "  -> Idrisi\r\n",
        "  -> ARCGEN\r\n",
        "  -> SEGUKOOA\r\n",
        "  -> SEGY\r\n",
        "  -> XLS\r\n",
        "  -> ODS\r\n",
        "  -> XLSX\r\n",
        "  -> ElasticSearch\r\n",
        "  -> PDF\r\n",
        "  -> Walk\r\n",
        "  -> CartoDB\r\n",
        "  -> SXF\r\n"
       ]
      },
      {
       "output_type": "stream",
       "stream": "stdout",
       "text": [
        "FAILURE:\r\n",
        "Unable to open datasource `capture/YUG/YUG_adm0.shp' with the following drivers.\r\n",
        "  -> ESRI Shapefile\r\n",
        "  -> MapInfo File\r\n",
        "  -> UK .NTF\r\n",
        "  -> SDTS\r\n",
        "  -> TIGER\r\n",
        "  -> S57\r\n",
        "  -> DGN\r\n",
        "  -> VRT\r\n",
        "  -> REC\r\n",
        "  -> Memory\r\n",
        "  -> BNA\r\n",
        "  -> CSV\r\n",
        "  -> NAS\r\n",
        "  -> GML\r\n",
        "  -> GPX\r\n",
        "  -> KML\r\n",
        "  -> GeoJSON\r\n",
        "  -> Interlis 1\r\n",
        "  -> Interlis 2\r\n",
        "  -> GMT\r\n",
        "  -> GPKG\r\n",
        "  -> SQLite\r\n",
        "  -> DODS\r\n",
        "  -> ODBC\r\n",
        "  -> WAsP\r\n",
        "  -> PGeo\r\n",
        "  -> MSSQLSpatial\r\n",
        "  -> PCIDSK\r\n",
        "  -> OpenFileGDB\r\n",
        "  -> XPlane\r\n",
        "  -> AVCBin\r\n",
        "  -> AVCE00\r\n",
        "  -> DXF\r\n",
        "  -> Geoconcept\r\n",
        "  -> GeoRSS\r\n",
        "  -> GPSTrackMaker\r\n",
        "  -> VFK\r\n",
        "  -> PGDump\r\n",
        "  -> OSM\r\n",
        "  -> GPSBabel\r\n",
        "  -> SUA\r\n",
        "  -> OpenAir\r\n",
        "  -> PDS\r\n",
        "  -> WFS\r\n",
        "  -> HTF\r\n",
        "  -> AeronavFAA\r\n",
        "  -> Geomedia\r\n",
        "  -> EDIGEO\r\n",
        "  -> GFT\r\n",
        "  -> GME\r\n",
        "  -> SVG\r\n",
        "  -> CouchDB\r\n",
        "  -> Idrisi\r\n",
        "  -> ARCGEN\r\n",
        "  -> SEGUKOOA\r\n",
        "  -> SEGY\r\n",
        "  -> XLS\r\n",
        "  -> ODS\r\n",
        "  -> XLSX\r\n",
        "  -> ElasticSearch\r\n",
        "  -> PDF\r\n",
        "  -> Walk\r\n",
        "  -> CartoDB\r\n",
        "  -> SXF\r\n"
       ]
      },
      {
       "output_type": "stream",
       "stream": "stdout",
       "text": [
        "FAILURE:\r\n",
        "Unable to open datasource `capture/ZAR/ZAR_adm0.shp' with the following drivers.\r\n",
        "  -> ESRI Shapefile\r\n",
        "  -> MapInfo File\r\n",
        "  -> UK .NTF\r\n",
        "  -> SDTS\r\n",
        "  -> TIGER\r\n",
        "  -> S57\r\n",
        "  -> DGN\r\n",
        "  -> VRT\r\n",
        "  -> REC\r\n",
        "  -> Memory\r\n",
        "  -> BNA\r\n",
        "  -> CSV\r\n",
        "  -> NAS\r\n",
        "  -> GML\r\n",
        "  -> GPX\r\n",
        "  -> KML\r\n",
        "  -> GeoJSON\r\n",
        "  -> Interlis 1\r\n",
        "  -> Interlis 2\r\n",
        "  -> GMT\r\n",
        "  -> GPKG\r\n",
        "  -> SQLite\r\n",
        "  -> DODS\r\n",
        "  -> ODBC\r\n",
        "  -> WAsP\r\n",
        "  -> PGeo\r\n",
        "  -> MSSQLSpatial\r\n",
        "  -> PCIDSK\r\n",
        "  -> OpenFileGDB\r\n",
        "  -> XPlane\r\n",
        "  -> AVCBin\r\n",
        "  -> AVCE00\r\n",
        "  -> DXF\r\n",
        "  -> Geoconcept\r\n",
        "  -> GeoRSS\r\n",
        "  -> GPSTrackMaker\r\n",
        "  -> VFK\r\n",
        "  -> PGDump\r\n",
        "  -> OSM\r\n",
        "  -> GPSBabel\r\n",
        "  -> SUA\r\n",
        "  -> OpenAir\r\n",
        "  -> PDS\r\n",
        "  -> WFS\r\n",
        "  -> HTF\r\n",
        "  -> AeronavFAA\r\n",
        "  -> Geomedia\r\n",
        "  -> EDIGEO\r\n",
        "  -> GFT\r\n",
        "  -> GME\r\n",
        "  -> SVG\r\n",
        "  -> CouchDB\r\n",
        "  -> Idrisi\r\n",
        "  -> ARCGEN\r\n",
        "  -> SEGUKOOA\r\n",
        "  -> SEGY\r\n",
        "  -> XLS\r\n",
        "  -> ODS\r\n",
        "  -> XLSX\r\n",
        "  -> ElasticSearch\r\n",
        "  -> PDF\r\n",
        "  -> Walk\r\n",
        "  -> CartoDB\r\n",
        "  -> SXF\r\n"
       ]
      }
     ],
     "prompt_number": 59
    },
    {
     "cell_type": "code",
     "collapsed": false,
     "input": [
      "time_series_all_years_url = \"http://data.unhcr.org/api/stats/time_series_all_years.json\"\n",
      "args = { 'population_type_code' : 'RF',  'country_of_origin' : 'AFG'}\n",
      "afg_list = get_json(time_series_all_years_url, args)"
     ],
     "language": "python",
     "metadata": {},
     "outputs": [],
     "prompt_number": 3
    },
    {
     "cell_type": "code",
     "collapsed": false,
     "input": [
      "countries = {}\n",
      "for val in afg_list:\n",
      "    if not countries.has_key(val['country_of_residence']):\n",
      "        countries[val['country_of_residence']] = 0\n",
      "    countries[val['country_of_residence']] += 0 if val['value'] == None else float(val['value'])"
     ],
     "language": "python",
     "metadata": {},
     "outputs": [],
     "prompt_number": 42
    },
    {
     "cell_type": "code",
     "collapsed": false,
     "input": [
      "import operator\n",
      "sorted_countries = sorted(countries.items(), key=operator.itemgetter(1))\n"
     ],
     "language": "python",
     "metadata": {},
     "outputs": [],
     "prompt_number": 50
    },
    {
     "cell_type": "code",
     "collapsed": false,
     "input": [
      "sorted_countries"
     ],
     "language": "python",
     "metadata": {},
     "outputs": [
      {
       "metadata": {},
       "output_type": "pyout",
       "prompt_number": 51,
       "text": [
        "[(u'MNG', 0),\n",
        " (u'ZMB', 0),\n",
        " (u'LBY', 1.0),\n",
        " (u'DZA', 2.0),\n",
        " (u'BOL', 2.0),\n",
        " (u'COL', 2.0),\n",
        " (u'SGP', 2.0),\n",
        " (u'ARG', 2.0),\n",
        " (u'PAN', 3.0),\n",
        " (u'CYM', 3.0),\n",
        " (u'SCG', 4.0),\n",
        " (u'FJI', 4.0),\n",
        " (u'NGA', 5.0),\n",
        " (u'PNG', 5.0),\n",
        " (u'NPL', 8.0),\n",
        " (u'MKD', 8.0),\n",
        " (u'BGD', 9.0),\n",
        " (u'MOZ', 9.0),\n",
        " (u'KEN', 9.0),\n",
        " (u'CRI', 12.0),\n",
        " (u'VEN', 12.0),\n",
        " (u'IRQ', 13.0),\n",
        " (u'PHL', 16.0),\n",
        " (u'TCD', 17.0),\n",
        " (u'YUG', 20.0),\n",
        " (u'HKG', 24.0),\n",
        " (u'ETH', 24.0),\n",
        " (u'ISL', 31.0),\n",
        " (u'LUX', 32.0),\n",
        " (u'GEO', 39.0),\n",
        " (u'MEX', 39.0),\n",
        " (u'ARE', 41.0),\n",
        " (u'MAR', 48.0),\n",
        " (u'LKA', 49.0),\n",
        " (u'KOR', 51.0),\n",
        " (u'JOR', 59.0),\n",
        " (u'KHM', 64.0),\n",
        " (u'SVN', 65.0),\n",
        " (u'HRV', 66.0),\n",
        " (u'CYP', 72.0),\n",
        " (u'PRT', 78.0),\n",
        " (u'MLT', 80.0),\n",
        " (u'CHN', 81.0),\n",
        " (u'THA', 89.0),\n",
        " (u'EST', 102.0),\n",
        " (u'LVA', 112.0),\n",
        " (u'CUB', 119.0),\n",
        " (u'CIV', 123.0),\n",
        " (u'MDA', 133.0),\n",
        " (u'CHL', 158.0),\n",
        " (u'BRA', 204.0),\n",
        " (u'ZAF', 226.0),\n",
        " (u'QAT', 280.0),\n",
        " (u'LBN', 319.0),\n",
        " (u'ZWE', 350.0),\n",
        " (u'EGY', 358.0),\n",
        " (u'KWT', 454.0),\n",
        " (u'SAU', 512.0),\n",
        " (u'JPN', 725.0),\n",
        " (u'ECU', 957.0),\n",
        " (u'POL', 1021.0),\n",
        " (u'ESP', 1293.0),\n",
        " (u'LTU', 1380.0),\n",
        " (u'IRL', 1403.0),\n",
        " (u'MYS', 2003.0),\n",
        " (u'SVK', 2075.0),\n",
        " (u'GRC', 2805.0),\n",
        " (u'ROU', 3001.0),\n",
        " (u'CZE', 3200.0),\n",
        " (u'IDN', 3479.0),\n",
        " (u'AZE', 4170.0),\n",
        " (u'NZL', 5934.0),\n",
        " (u'BLR', 6254.0),\n",
        " (u'KGZ', 6492.0),\n",
        " (u'TKM', 8200.0),\n",
        " (u'BEL', 10063.0),\n",
        " (u'SYR', 10306.0),\n",
        " (u'KAZ', 13275.0),\n",
        " (u'TUR', 13766.0),\n",
        " (u'FIN', 13874.0),\n",
        " (u'UKR', 19382.0),\n",
        " (u'RUS', 19846.0),\n",
        " (u'FRA', 22481.0),\n",
        " (u'BGR', 22510.0),\n",
        " (u'HUN', 23183.0),\n",
        " (u'CHE', 24093.0),\n",
        " (u'ITA', 27802.0),\n",
        " (u'UZB', 43724.0),\n",
        " (u'NOR', 53704.0),\n",
        " (u'TJK', 57345.0),\n",
        " (u'SWE', 63022.0),\n",
        " (u'DNK', 67447.0),\n",
        " (u'AUT', 67768.0),\n",
        " (u'USA', 72865.0),\n",
        " (u'AUS', 90321.0),\n",
        " (u'CAN', 113582.0),\n",
        " (u'IND', 139515.0),\n",
        " (u'NLD', 239416.0),\n",
        " (u'GBR', 258001.0),\n",
        " (u'DEU', 387216.0),\n",
        " (u'IRN', 14061208.0),\n",
        " (u'PAK', 21228791.0)]"
       ]
      }
     ],
     "prompt_number": 51
    },
    {
     "cell_type": "code",
     "collapsed": false,
     "input": [
      "geojson = {}\n",
      "polys = {}\n",
      "centroids = {}\n",
      "for val in afg_list:\n",
      "    if countries[val['country_of_residence']] > 10000:\n",
      "        if not geojson.has_key(val['country_of_residence']):\n",
      "            filename = \"capture/%s/%s_adm0.geojson\" % (val['country_of_residence'], val['country_of_residence'])\n",
      "            with open(filename) as f:\n",
      "                geojson[val['country_of_residence']] = json.load(f)\n",
      "                polys[val['country_of_residence']] = shape(geojson[val['country_of_residence']]['features'][0]['geometry'])\n",
      "                centroids[val['country_of_residence']] = polys[val['country_of_residence']].centroid.__geo_interface__['coordinates']\n",
      "\n"
     ],
     "language": "python",
     "metadata": {},
     "outputs": [],
     "prompt_number": 62
    },
    {
     "cell_type": "code",
     "collapsed": false,
     "input": [
      "country_name = 'AFG'\n",
      "filename = \"capture/%s/%s_adm0.geojson\" % (country_name, country_name)\n",
      "with open(filename) as f:\n",
      "    geojson[country_name] = json.load(f)\n",
      "    polys[country_name] = shape(geojson[country_name]['features'][0]['geometry'])\n",
      "    centroids[country_name] = polys[country_name].centroid.__geo_interface__['coordinates']"
     ],
     "language": "python",
     "metadata": {},
     "outputs": [],
     "prompt_number": 65
    },
    {
     "cell_type": "code",
     "collapsed": false,
     "input": [
      "points = []\n",
      "for val in afg_list:\n",
      "    if countries[val['country_of_residence']] > 10000:\n",
      "        year = int(val['year'])\n",
      "        points += LonLatToPixelXY(centroids['AFG'])\n",
      "        points.append(YearMonthDayToEpoch(year, 1, 1))        \n",
      "        points += LonLatToPixelXY(centroids[val['country_of_residence']])\n",
      "        points.append(YearMonthDayToEpoch(year, 1, 1))"
     ],
     "language": "python",
     "metadata": {},
     "outputs": [],
     "prompt_number": 76
    },
    {
     "cell_type": "code",
     "collapsed": false,
     "input": [
      "array.array('f', points).tofile(open(\"afg-lines.bin\", 'w'))"
     ],
     "language": "python",
     "metadata": {},
     "outputs": [],
     "prompt_number": 77
    },
    {
     "cell_type": "code",
     "collapsed": false,
     "input": [
      "# get all countries over all years\n",
      "time_series_all_years_url = \"http://data.unhcr.org/api/stats/time_series_all_years.json\"\n",
      "args = { 'population_type_code' : 'RF'}\n",
      "all_countries_list = get_json(time_series_all_years_url, args)"
     ],
     "language": "python",
     "metadata": {},
     "outputs": [],
     "prompt_number": 78
    },
    {
     "cell_type": "code",
     "collapsed": false,
     "input": [
      "total_refugees_count = {}\n",
      "for val in all_countries_list:\n",
      "    if not total_refugees_count.has_key(val['country_of_origin']):\n",
      "        total_refugees_count[val['country_of_origin']] = 0\n",
      "    total_refugees_count[val['country_of_origin']] += 0 if val['value'] == None else float(val['value'])"
     ],
     "language": "python",
     "metadata": {},
     "outputs": [],
     "prompt_number": 83
    },
    {
     "cell_type": "code",
     "collapsed": false,
     "input": [
      "origin_countries = []\n",
      "sorted_trc = sorted(total_refugees_count.items(), key=operator.itemgetter(1))\n",
      "for t in sorted_trc[len(sorted_trc)-21:len(sorted_trc)]:\n",
      "    origin_countries.append(t[0])"
     ],
     "language": "python",
     "metadata": {},
     "outputs": [],
     "prompt_number": 117
    },
    {
     "cell_type": "code",
     "collapsed": false,
     "input": [
      "origin_countries"
     ],
     "language": "python",
     "metadata": {},
     "outputs": [
      {
       "metadata": {},
       "output_type": "pyout",
       "prompt_number": 118,
       "text": [
        "[u'LKA',\n",
        " u'ESH',\n",
        " u'HRV',\n",
        " u'TUR',\n",
        " u'CHN',\n",
        " u'LBR',\n",
        " u'BIH',\n",
        " u'COL',\n",
        " u'AGO',\n",
        " u'ERI',\n",
        " u'SYR',\n",
        " u'PSE',\n",
        " u'MMR',\n",
        " u'XXX',\n",
        " u'BDI',\n",
        " u'VNM',\n",
        " u'COD',\n",
        " u'SDN',\n",
        " u'SOM',\n",
        " u'IRQ',\n",
        " u'AFG']"
       ]
      }
     ],
     "prompt_number": 118
    },
    {
     "cell_type": "code",
     "collapsed": false,
     "input": [
      "points = []\n",
      "country = origin_countries[0]\n",
      "if not geojson.has_key(country):\n",
      "    filename = \"capture/%s/%s_adm0.geojson\" % (country, country)\n",
      "    with open(filename) as f:\n",
      "        geojson[country] = json.load(f)\n",
      "        polys[country] = shape(geojson[country]['features'][0]['geometry'])\n",
      "        centroids[country] = polys[country].centroid.__geo_interface__['coordinates']\n",
      "\n",
      "time_series_all_years_url = \"http://data.unhcr.org/api/stats/time_series_all_years.json\"\n",
      "args = { 'population_type_code' : 'RF',  'country_of_origin' : country}\n",
      "country_list = get_json(time_series_all_years_url, args)\n"
     ],
     "language": "python",
     "metadata": {},
     "outputs": [],
     "prompt_number": 108
    },
    {
     "cell_type": "code",
     "collapsed": false,
     "input": [
      "refugee_counts = {}\n",
      "for val in country_list:\n",
      "    if not refugee_counts.has_key(val['country_of_residence']):\n",
      "        refugee_counts[val['country_of_residence']] = 0\n",
      "    refugee_counts[val['country_of_residence']] = max(refugee_counts[val['country_of_residence']], 0 if val['value'] == None else float(val['value']))"
     ],
     "language": "python",
     "metadata": {},
     "outputs": [],
     "prompt_number": 109
    },
    {
     "cell_type": "code",
     "collapsed": false,
     "input": [
      "for val in country_list:\n",
      "    cor = val['country_of_residence']\n",
      "    if refugee_counts[cor] > 10000:\n",
      "        if not geojson.has_key(cor):\n",
      "            filename = \"capture/%s/%s_adm0.geojson\" % (cor, cor)\n",
      "            with open(filename) as f:\n",
      "                geojson[cor] = json.load(f)\n",
      "                polys[cor] = shape(geojson[cor]['features'][0]['geometry'])\n",
      "                centroids[cor] = polys[cor].centroid.__geo_interface__['coordinates']\n",
      "\n",
      "        year = int(val['year'])\n",
      "        points += LonLatToPixelXY(centroids[country])\n",
      "        points.append(YearMonthDayToEpoch(year, 1, 1))        \n",
      "        points += LonLatToPixelXY(centroids[cor])\n",
      "        points.append(YearMonthDayToEpoch(year, 1, 1))"
     ],
     "language": "python",
     "metadata": {},
     "outputs": [],
     "prompt_number": 110
    },
    {
     "cell_type": "code",
     "collapsed": false,
     "input": [
      "array.array('f', points).tofile(open(\"syr-lines.bin\", 'w'))"
     ],
     "language": "python",
     "metadata": {},
     "outputs": [],
     "prompt_number": 112
    },
    {
     "cell_type": "code",
     "collapsed": false,
     "input": [
      "def process_country(country):\n",
      "    points = []\n",
      "    if not geojson.has_key(country):\n",
      "        filename = \"capture/%s/%s_adm0.geojson\" % (country, country)\n",
      "        with open(filename) as f:\n",
      "            geojson[country] = json.load(f)\n",
      "            polys[country] = shape(geojson[country]['features'][0]['geometry'])\n",
      "            centroids[country] = polys[country].centroid.__geo_interface__['coordinates']\n",
      "\n",
      "    time_series_all_years_url = \"http://data.unhcr.org/api/stats/time_series_all_years.json\"\n",
      "    args = { 'population_type_code' : 'RF',  'country_of_origin' : country}\n",
      "    country_list = get_json(time_series_all_years_url, args)\n",
      "\n",
      "    refugee_counts = {}\n",
      "    for val in country_list:\n",
      "        if not refugee_counts.has_key(val['country_of_residence']):\n",
      "            refugee_counts[val['country_of_residence']] = 0\n",
      "        refugee_counts[val['country_of_residence']] = max(refugee_counts[val['country_of_residence']], 0 if val['value'] == None else float(val['value']))\n",
      "\n",
      "    for val in country_list:\n",
      "        cor = val['country_of_residence']\n",
      "        if refugee_counts[cor] > 5000 and cor != \"SCG\" and cor != \"YUG\":\n",
      "            if not geojson.has_key(cor):\n",
      "                filename = \"capture/%s/%s_adm0.geojson\" % (cor, cor)\n",
      "                with open(filename) as f:\n",
      "                    geojson[cor] = json.load(f)\n",
      "                    polys[cor] = shape(geojson[cor]['features'][0]['geometry'])\n",
      "                    centroids[cor] = polys[cor].centroid.__geo_interface__['coordinates']\n",
      "\n",
      "            year = int(val['year'])\n",
      "            points += LonLatToPixelXY(centroids[country])\n",
      "            points.append(YearMonthDayToEpoch(year, 1, 1))        \n",
      "            points += LonLatToPixelXY(centroids[cor])\n",
      "            points.append(YearMonthDayToEpoch(year, 1, 1))\n",
      "    return points"
     ],
     "language": "python",
     "metadata": {},
     "outputs": [],
     "prompt_number": 127
    },
    {
     "cell_type": "code",
     "collapsed": false,
     "input": [
      "points = []\n",
      "for country in origin_countries:\n",
      "    if country != \"XXX\" and country != \"SCG\" and country != \"YUG\":\n",
      "        points += process_country(country)"
     ],
     "language": "python",
     "metadata": {},
     "outputs": [],
     "prompt_number": 128
    },
    {
     "cell_type": "code",
     "collapsed": false,
     "input": [
      "array.array('f', points).tofile(open(\"country-lines.bin\", 'w'))"
     ],
     "language": "python",
     "metadata": {},
     "outputs": [],
     "prompt_number": 130
    },
    {
     "cell_type": "code",
     "collapsed": false,
     "input": [
      "len(points)"
     ],
     "language": "python",
     "metadata": {},
     "outputs": [
      {
       "metadata": {},
       "output_type": "pyout",
       "prompt_number": 125,
       "text": [
        "10344"
       ]
      }
     ],
     "prompt_number": 125
    },
    {
     "cell_type": "code",
     "collapsed": false,
     "input": [
      "len(points)"
     ],
     "language": "python",
     "metadata": {},
     "outputs": [
      {
       "metadata": {},
       "output_type": "pyout",
       "prompt_number": 129,
       "text": [
        "13200"
       ]
      }
     ],
     "prompt_number": 129
    },
    {
     "cell_type": "code",
     "collapsed": false,
     "input": [
      "origin_url = \"http://data.unhcr.org/api/stats/origin.json\"\n",
      "origin_list = get_json(origin_url)\n",
      "print origin_list[0]"
     ],
     "language": "python",
     "metadata": {},
     "outputs": [
      {
       "output_type": "stream",
       "stream": "stdout",
       "text": [
        "{u'origin': u'AFG', u'origin_en': u'Afghanistan'}\n"
       ]
      }
     ],
     "prompt_number": 3
    },
    {
     "cell_type": "code",
     "collapsed": false,
     "input": [
      "countries_of_residence_url = \"http://data.unhcr.org/api/stats/country_of_residence.json\"\n",
      "countries_of_residence_list = get_json(countries_of_residence_url)\n",
      "print countries_of_residence_list[0]"
     ],
     "language": "python",
     "metadata": {},
     "outputs": [
      {
       "output_type": "stream",
       "stream": "stdout",
       "text": [
        "{u'country_of_residence_en': u'Afghanistan', u'country_of_residence': u'AFG'}\n"
       ]
      }
     ],
     "prompt_number": 4
    },
    {
     "cell_type": "code",
     "collapsed": false,
     "input": [
      "time_series_all_years_url = \"http://data.unhcr.org/api/stats/time_series_all_years.json\"\n",
      "args = { 'population_type_code' : 'RF'}\n",
      "time_series_all_years_list = get_json(time_series_all_years_url, args)\n",
      "print time_series_all_years_list[0]"
     ],
     "language": "python",
     "metadata": {},
     "outputs": [
      {
       "output_type": "stream",
       "stream": "stdout",
       "text": [
        "{u'country_of_origin': u'YUG', u'value': u'507', u'country_of_residence': u'ALB', u'country_of_residence_en': u'Albania', u'year': 2000, u'country_of_origin_en': u'Federal Republic of Yugoslavia'}\n"
       ]
      }
     ],
     "prompt_number": 18
    },
    {
     "cell_type": "code",
     "collapsed": false,
     "input": [
      "origins = {}\n",
      "i = 0\n",
      "for origin in origin_list:\n",
      "    coo = origin['origin']\n",
      "    origins[coo] = {}\n",
      "    print \"%s: %s\" % (i, coo)\n",
      "    i += 1\n",
      "    for country_of_residence in countries_of_residence_list:\n",
      "        cor = country_of_residence['country_of_residence']        \n",
      "        if coo != cor:\n",
      "            origins[coo][cor] = {'time_series':[]}\n",
      "            for year in range(2000,2014):\n",
      "                found = False\n",
      "                for time_series in time_series_all_years_list:\n",
      "                    if time_series['country_of_origin'] == coo and time_series['country_of_residence'] == cor and year == time_series['year']:\n",
      "                        origins[coo][cor]['time_series'].append(time_series)\n",
      "                        found = True\n",
      "                        break\n",
      "                if not found:\n",
      "                    value = {'country_of_origin': coo, 'value': u'0', 'country_of_residence': cor, 'year': year}\n",
      "                    origins[coo][cor]['time_series'].append(value)\n",
      "                            \n"
     ],
     "language": "python",
     "metadata": {},
     "outputs": [
      {
       "output_type": "stream",
       "stream": "stdout",
       "text": [
        "0: AFG\n",
        "1: ALB"
       ]
      },
      {
       "output_type": "stream",
       "stream": "stdout",
       "text": [
        "\n",
        "2: DZA"
       ]
      },
      {
       "output_type": "stream",
       "stream": "stdout",
       "text": [
        "\n",
        "3: AND"
       ]
      },
      {
       "output_type": "stream",
       "stream": "stdout",
       "text": [
        "\n",
        "4: AGO"
       ]
      },
      {
       "output_type": "stream",
       "stream": "stdout",
       "text": [
        "\n",
        "5: ATG"
       ]
      },
      {
       "output_type": "stream",
       "stream": "stdout",
       "text": [
        "\n",
        "6: ARG"
       ]
      },
      {
       "output_type": "stream",
       "stream": "stdout",
       "text": [
        "\n",
        "7: ARM"
       ]
      },
      {
       "output_type": "stream",
       "stream": "stdout",
       "text": [
        "\n",
        "8: ABW"
       ]
      },
      {
       "output_type": "stream",
       "stream": "stdout",
       "text": [
        "\n",
        "9: AUS"
       ]
      },
      {
       "output_type": "stream",
       "stream": "stdout",
       "text": [
        "\n",
        "10: AUT"
       ]
      },
      {
       "output_type": "stream",
       "stream": "stdout",
       "text": [
        "\n",
        "11: AZE"
       ]
      },
      {
       "output_type": "stream",
       "stream": "stdout",
       "text": [
        "\n",
        "12: BHS"
       ]
      },
      {
       "output_type": "stream",
       "stream": "stdout",
       "text": [
        "\n",
        "13: BHR"
       ]
      },
      {
       "output_type": "stream",
       "stream": "stdout",
       "text": [
        "\n",
        "14: BGD"
       ]
      },
      {
       "output_type": "stream",
       "stream": "stdout",
       "text": [
        "\n",
        "15: BRB"
       ]
      },
      {
       "output_type": "stream",
       "stream": "stdout",
       "text": [
        "\n",
        "16: BLR"
       ]
      },
      {
       "output_type": "stream",
       "stream": "stdout",
       "text": [
        "\n",
        "17: BEL"
       ]
      },
      {
       "output_type": "stream",
       "stream": "stdout",
       "text": [
        "\n",
        "18: BLZ"
       ]
      },
      {
       "output_type": "stream",
       "stream": "stdout",
       "text": [
        "\n",
        "19: BEN"
       ]
      },
      {
       "output_type": "stream",
       "stream": "stdout",
       "text": [
        "\n",
        "20: BMU"
       ]
      },
      {
       "output_type": "stream",
       "stream": "stdout",
       "text": [
        "\n",
        "21: BTN"
       ]
      },
      {
       "output_type": "stream",
       "stream": "stdout",
       "text": [
        "\n",
        "22: VEN"
       ]
      },
      {
       "output_type": "stream",
       "stream": "stdout",
       "text": [
        "\n",
        "23: BIH"
       ]
      },
      {
       "output_type": "stream",
       "stream": "stdout",
       "text": [
        "\n",
        "24: BWA"
       ]
      },
      {
       "output_type": "stream",
       "stream": "stdout",
       "text": [
        "\n",
        "25: BRA"
       ]
      },
      {
       "output_type": "stream",
       "stream": "stdout",
       "text": [
        "\n",
        "26: BRN"
       ]
      },
      {
       "output_type": "stream",
       "stream": "stdout",
       "text": [
        "\n",
        "27: BGR"
       ]
      },
      {
       "output_type": "stream",
       "stream": "stdout",
       "text": [
        "\n",
        "28: BFA"
       ]
      },
      {
       "output_type": "stream",
       "stream": "stdout",
       "text": [
        "\n",
        "29: BDI"
       ]
      },
      {
       "output_type": "stream",
       "stream": "stdout",
       "text": [
        "\n",
        "30: KHM"
       ]
      },
      {
       "output_type": "stream",
       "stream": "stdout",
       "text": [
        "\n",
        "31: CMR"
       ]
      },
      {
       "output_type": "stream",
       "stream": "stdout",
       "text": [
        "\n",
        "32: CAN"
       ]
      },
      {
       "output_type": "stream",
       "stream": "stdout",
       "text": [
        "\n",
        "33: CPV"
       ]
      },
      {
       "output_type": "stream",
       "stream": "stdout",
       "text": [
        "\n",
        "34: CYM"
       ]
      },
      {
       "output_type": "stream",
       "stream": "stdout",
       "text": [
        "\n",
        "35: CAF"
       ]
      },
      {
       "output_type": "stream",
       "stream": "stdout",
       "text": [
        "\n",
        "36: TCD"
       ]
      },
      {
       "output_type": "stream",
       "stream": "stdout",
       "text": [
        "\n",
        "37: CHL"
       ]
      },
      {
       "output_type": "stream",
       "stream": "stdout",
       "text": [
        "\n",
        "38: CHN"
       ]
      },
      {
       "output_type": "stream",
       "stream": "stdout",
       "text": [
        "\n",
        "39: COL"
       ]
      },
      {
       "output_type": "stream",
       "stream": "stdout",
       "text": [
        "\n",
        "40: COM"
       ]
      },
      {
       "output_type": "stream",
       "stream": "stdout",
       "text": [
        "\n",
        "41: COG"
       ]
      },
      {
       "output_type": "stream",
       "stream": "stdout",
       "text": [
        "\n",
        "42: COK"
       ]
      },
      {
       "output_type": "stream",
       "stream": "stdout",
       "text": [
        "\n",
        "43: CRI"
       ]
      },
      {
       "output_type": "stream",
       "stream": "stdout",
       "text": [
        "\n",
        "44: HRV"
       ]
      },
      {
       "output_type": "stream",
       "stream": "stdout",
       "text": [
        "\n",
        "45: CUB"
       ]
      },
      {
       "output_type": "stream",
       "stream": "stdout",
       "text": [
        "\n",
        "46: CUW"
       ]
      },
      {
       "output_type": "stream",
       "stream": "stdout",
       "text": [
        "\n",
        "47: CYP"
       ]
      },
      {
       "output_type": "stream",
       "stream": "stdout",
       "text": [
        "\n",
        "48: CZE"
       ]
      },
      {
       "output_type": "stream",
       "stream": "stdout",
       "text": [
        "\n",
        "49: CIV"
       ]
      },
      {
       "output_type": "stream",
       "stream": "stdout",
       "text": [
        "\n",
        "50: PRK"
       ]
      },
      {
       "output_type": "stream",
       "stream": "stdout",
       "text": [
        "\n",
        "51: COD"
       ]
      },
      {
       "output_type": "stream",
       "stream": "stdout",
       "text": [
        "\n",
        "52: DNK"
       ]
      },
      {
       "output_type": "stream",
       "stream": "stdout",
       "text": [
        "\n",
        "53: DJI"
       ]
      },
      {
       "output_type": "stream",
       "stream": "stdout",
       "text": [
        "\n",
        "54: DMA"
       ]
      },
      {
       "output_type": "stream",
       "stream": "stdout",
       "text": [
        "\n",
        "55: DOM"
       ]
      },
      {
       "output_type": "stream",
       "stream": "stdout",
       "text": [
        "\n",
        "56: ECU"
       ]
      },
      {
       "output_type": "stream",
       "stream": "stdout",
       "text": [
        "\n",
        "57: EGY"
       ]
      },
      {
       "output_type": "stream",
       "stream": "stdout",
       "text": [
        "\n",
        "58: SLV"
       ]
      },
      {
       "output_type": "stream",
       "stream": "stdout",
       "text": [
        "\n",
        "59: GNQ"
       ]
      },
      {
       "output_type": "stream",
       "stream": "stdout",
       "text": [
        "\n",
        "60: ERI"
       ]
      },
      {
       "output_type": "stream",
       "stream": "stdout",
       "text": [
        "\n",
        "61: EST"
       ]
      },
      {
       "output_type": "stream",
       "stream": "stdout",
       "text": [
        "\n",
        "62: ETH"
       ]
      },
      {
       "output_type": "stream",
       "stream": "stdout",
       "text": [
        "\n",
        "63: YUG"
       ]
      },
      {
       "output_type": "stream",
       "stream": "stdout",
       "text": [
        "\n",
        "64: FSM"
       ]
      },
      {
       "output_type": "stream",
       "stream": "stdout",
       "text": [
        "\n",
        "65: FJI"
       ]
      },
      {
       "output_type": "stream",
       "stream": "stdout",
       "text": [
        "\n",
        "66: FIN"
       ]
      },
      {
       "output_type": "stream",
       "stream": "stdout",
       "text": [
        "\n",
        "67: FRA"
       ]
      },
      {
       "output_type": "stream",
       "stream": "stdout",
       "text": [
        "\n",
        "68: GUF"
       ]
      },
      {
       "output_type": "stream",
       "stream": "stdout",
       "text": [
        "\n",
        "69: PYF"
       ]
      },
      {
       "output_type": "stream",
       "stream": "stdout",
       "text": [
        "\n",
        "70: GAB"
       ]
      },
      {
       "output_type": "stream",
       "stream": "stdout",
       "text": [
        "\n",
        "71: GMB"
       ]
      },
      {
       "output_type": "stream",
       "stream": "stdout",
       "text": [
        "\n",
        "72: GEO"
       ]
      },
      {
       "output_type": "stream",
       "stream": "stdout",
       "text": [
        "\n",
        "73: DEU"
       ]
      },
      {
       "output_type": "stream",
       "stream": "stdout",
       "text": [
        "\n",
        "74: GHA"
       ]
      },
      {
       "output_type": "stream",
       "stream": "stdout",
       "text": [
        "\n",
        "75: GIB"
       ]
      },
      {
       "output_type": "stream",
       "stream": "stdout",
       "text": [
        "\n",
        "76: GRC"
       ]
      },
      {
       "output_type": "stream",
       "stream": "stdout",
       "text": [
        "\n",
        "77: GRD"
       ]
      },
      {
       "output_type": "stream",
       "stream": "stdout",
       "text": [
        "\n",
        "78: GTM"
       ]
      },
      {
       "output_type": "stream",
       "stream": "stdout",
       "text": [
        "\n",
        "79: GIN"
       ]
      },
      {
       "output_type": "stream",
       "stream": "stdout",
       "text": [
        "\n",
        "80: GNB"
       ]
      },
      {
       "output_type": "stream",
       "stream": "stdout",
       "text": [
        "\n",
        "81: GUY"
       ]
      },
      {
       "output_type": "stream",
       "stream": "stdout",
       "text": [
        "\n",
        "82: HTI"
       ]
      },
      {
       "output_type": "stream",
       "stream": "stdout",
       "text": [
        "\n",
        "83: VAT"
       ]
      },
      {
       "output_type": "stream",
       "stream": "stdout",
       "text": [
        "\n",
        "84: HND"
       ]
      },
      {
       "output_type": "stream",
       "stream": "stdout",
       "text": [
        "\n",
        "85: HKG"
       ]
      },
      {
       "output_type": "stream",
       "stream": "stdout",
       "text": [
        "\n",
        "86: HUN"
       ]
      },
      {
       "output_type": "stream",
       "stream": "stdout",
       "text": [
        "\n",
        "87: ISL"
       ]
      },
      {
       "output_type": "stream",
       "stream": "stdout",
       "text": [
        "\n",
        "88: IND"
       ]
      },
      {
       "output_type": "stream",
       "stream": "stdout",
       "text": [
        "\n",
        "89: IDN"
       ]
      },
      {
       "output_type": "stream",
       "stream": "stdout",
       "text": [
        "\n",
        "90: IRQ"
       ]
      },
      {
       "output_type": "stream",
       "stream": "stdout",
       "text": [
        "\n",
        "91: IRL"
       ]
      },
      {
       "output_type": "stream",
       "stream": "stdout",
       "text": [
        "\n",
        "92: IRN"
       ]
      },
      {
       "output_type": "stream",
       "stream": "stdout",
       "text": [
        "\n",
        "93: ISR"
       ]
      },
      {
       "output_type": "stream",
       "stream": "stdout",
       "text": [
        "\n",
        "94: ITA"
       ]
      },
      {
       "output_type": "stream",
       "stream": "stdout",
       "text": [
        "\n",
        "95: JAM"
       ]
      },
      {
       "output_type": "stream",
       "stream": "stdout",
       "text": [
        "\n",
        "96: JPN"
       ]
      },
      {
       "output_type": "stream",
       "stream": "stdout",
       "text": [
        "\n",
        "97: JOR"
       ]
      },
      {
       "output_type": "stream",
       "stream": "stdout",
       "text": [
        "\n",
        "98: KAZ"
       ]
      },
      {
       "output_type": "stream",
       "stream": "stdout",
       "text": [
        "\n",
        "99: KEN"
       ]
      },
      {
       "output_type": "stream",
       "stream": "stdout",
       "text": [
        "\n",
        "100: KIR"
       ]
      },
      {
       "output_type": "stream",
       "stream": "stdout",
       "text": [
        "\n",
        "101: KWT"
       ]
      },
      {
       "output_type": "stream",
       "stream": "stdout",
       "text": [
        "\n",
        "102: KGZ"
       ]
      },
      {
       "output_type": "stream",
       "stream": "stdout",
       "text": [
        "\n",
        "103: LAO"
       ]
      },
      {
       "output_type": "stream",
       "stream": "stdout",
       "text": [
        "\n",
        "104: LVA"
       ]
      },
      {
       "output_type": "stream",
       "stream": "stdout",
       "text": [
        "\n",
        "105: LBN"
       ]
      },
      {
       "output_type": "stream",
       "stream": "stdout",
       "text": [
        "\n",
        "106: LSO"
       ]
      },
      {
       "output_type": "stream",
       "stream": "stdout",
       "text": [
        "\n",
        "107: LBR"
       ]
      },
      {
       "output_type": "stream",
       "stream": "stdout",
       "text": [
        "\n",
        "108: LBY"
       ]
      },
      {
       "output_type": "stream",
       "stream": "stdout",
       "text": [
        "\n",
        "109: LBY"
       ]
      },
      {
       "output_type": "stream",
       "stream": "stdout",
       "text": [
        "\n",
        "110: LIE"
       ]
      },
      {
       "output_type": "stream",
       "stream": "stdout",
       "text": [
        "\n",
        "111: LTU"
       ]
      },
      {
       "output_type": "stream",
       "stream": "stdout",
       "text": [
        "\n",
        "112: LUX"
       ]
      },
      {
       "output_type": "stream",
       "stream": "stdout",
       "text": [
        "\n",
        "113: MAC"
       ]
      },
      {
       "output_type": "stream",
       "stream": "stdout",
       "text": [
        "\n",
        "114: MDG"
       ]
      },
      {
       "output_type": "stream",
       "stream": "stdout",
       "text": [
        "\n",
        "115: MWI"
       ]
      },
      {
       "output_type": "stream",
       "stream": "stdout",
       "text": [
        "\n",
        "116: MYS"
       ]
      },
      {
       "output_type": "stream",
       "stream": "stdout",
       "text": [
        "\n",
        "117: MDV"
       ]
      },
      {
       "output_type": "stream",
       "stream": "stdout",
       "text": [
        "\n",
        "118: MLI"
       ]
      },
      {
       "output_type": "stream",
       "stream": "stdout",
       "text": [
        "\n",
        "119: MLT"
       ]
      },
      {
       "output_type": "stream",
       "stream": "stdout",
       "text": [
        "\n",
        "120: MHL"
       ]
      },
      {
       "output_type": "stream",
       "stream": "stdout",
       "text": [
        "\n",
        "121: MRT"
       ]
      },
      {
       "output_type": "stream",
       "stream": "stdout",
       "text": [
        "\n",
        "122: MUS"
       ]
      },
      {
       "output_type": "stream",
       "stream": "stdout",
       "text": [
        "\n",
        "123: MEX"
       ]
      },
      {
       "output_type": "stream",
       "stream": "stdout",
       "text": [
        "\n",
        "124: MCO"
       ]
      },
      {
       "output_type": "stream",
       "stream": "stdout",
       "text": [
        "\n",
        "125: MNG"
       ]
      },
      {
       "output_type": "stream",
       "stream": "stdout",
       "text": [
        "\n",
        "126: MNE"
       ]
      },
      {
       "output_type": "stream",
       "stream": "stdout",
       "text": [
        "\n",
        "127: MAR"
       ]
      },
      {
       "output_type": "stream",
       "stream": "stdout",
       "text": [
        "\n",
        "128: MOZ"
       ]
      },
      {
       "output_type": "stream",
       "stream": "stdout",
       "text": [
        "\n",
        "129: MMR"
       ]
      },
      {
       "output_type": "stream",
       "stream": "stdout",
       "text": [
        "\n",
        "130: NAM"
       ]
      },
      {
       "output_type": "stream",
       "stream": "stdout",
       "text": [
        "\n",
        "131: NRU"
       ]
      },
      {
       "output_type": "stream",
       "stream": "stdout",
       "text": [
        "\n",
        "132: NPL"
       ]
      },
      {
       "output_type": "stream",
       "stream": "stdout",
       "text": [
        "\n",
        "133: NLD"
       ]
      },
      {
       "output_type": "stream",
       "stream": "stdout",
       "text": [
        "\n",
        "134: NCL"
       ]
      },
      {
       "output_type": "stream",
       "stream": "stdout",
       "text": [
        "\n",
        "135: NZL"
       ]
      },
      {
       "output_type": "stream",
       "stream": "stdout",
       "text": [
        "\n",
        "136: NIC"
       ]
      },
      {
       "output_type": "stream",
       "stream": "stdout",
       "text": [
        "\n",
        "137: NER"
       ]
      },
      {
       "output_type": "stream",
       "stream": "stdout",
       "text": [
        "\n",
        "138: NGA"
       ]
      },
      {
       "output_type": "stream",
       "stream": "stdout",
       "text": [
        "\n",
        "139: NIU"
       ]
      },
      {
       "output_type": "stream",
       "stream": "stdout",
       "text": [
        "\n",
        "140: NOR"
       ]
      },
      {
       "output_type": "stream",
       "stream": "stdout",
       "text": [
        "\n",
        "141: PSE"
       ]
      },
      {
       "output_type": "stream",
       "stream": "stdout",
       "text": [
        "\n",
        "142: OMN"
       ]
      },
      {
       "output_type": "stream",
       "stream": "stdout",
       "text": [
        "\n",
        "143: PAK"
       ]
      },
      {
       "output_type": "stream",
       "stream": "stdout",
       "text": [
        "\n",
        "144: PLW"
       ]
      },
      {
       "output_type": "stream",
       "stream": "stdout",
       "text": [
        "\n",
        "145: PSE"
       ]
      },
      {
       "output_type": "stream",
       "stream": "stdout",
       "text": [
        "\n",
        "146: PAN"
       ]
      },
      {
       "output_type": "stream",
       "stream": "stdout",
       "text": [
        "\n",
        "147: PNG"
       ]
      },
      {
       "output_type": "stream",
       "stream": "stdout",
       "text": [
        "\n",
        "148: PRY"
       ]
      },
      {
       "output_type": "stream",
       "stream": "stdout",
       "text": [
        "\n",
        "149: PER"
       ]
      },
      {
       "output_type": "stream",
       "stream": "stdout",
       "text": [
        "\n",
        "150: PHL"
       ]
      },
      {
       "output_type": "stream",
       "stream": "stdout",
       "text": [
        "\n",
        "151: BOL"
       ]
      },
      {
       "output_type": "stream",
       "stream": "stdout",
       "text": [
        "\n",
        "152: POL"
       ]
      },
      {
       "output_type": "stream",
       "stream": "stdout",
       "text": [
        "\n",
        "153: PRT"
       ]
      },
      {
       "output_type": "stream",
       "stream": "stdout",
       "text": [
        "\n",
        "154: QAT"
       ]
      },
      {
       "output_type": "stream",
       "stream": "stdout",
       "text": [
        "\n",
        "155: KOR"
       ]
      },
      {
       "output_type": "stream",
       "stream": "stdout",
       "text": [
        "\n",
        "156: MDA"
       ]
      },
      {
       "output_type": "stream",
       "stream": "stdout",
       "text": [
        "\n",
        "157: ROU"
       ]
      },
      {
       "output_type": "stream",
       "stream": "stdout",
       "text": [
        "\n",
        "158: RUS"
       ]
      },
      {
       "output_type": "stream",
       "stream": "stdout",
       "text": [
        "\n",
        "159: RWA"
       ]
      },
      {
       "output_type": "stream",
       "stream": "stdout",
       "text": [
        "\n",
        "160: KNA"
       ]
      },
      {
       "output_type": "stream",
       "stream": "stdout",
       "text": [
        "\n",
        "161: LCA"
       ]
      },
      {
       "output_type": "stream",
       "stream": "stdout",
       "text": [
        "\n",
        "162: VCT"
       ]
      },
      {
       "output_type": "stream",
       "stream": "stdout",
       "text": [
        "\n",
        "163: WSM"
       ]
      },
      {
       "output_type": "stream",
       "stream": "stdout",
       "text": [
        "\n",
        "164: SMR"
       ]
      },
      {
       "output_type": "stream",
       "stream": "stdout",
       "text": [
        "\n",
        "165: STP"
       ]
      },
      {
       "output_type": "stream",
       "stream": "stdout",
       "text": [
        "\n",
        "166: SAU"
       ]
      },
      {
       "output_type": "stream",
       "stream": "stdout",
       "text": [
        "\n",
        "167: SEN"
       ]
      },
      {
       "output_type": "stream",
       "stream": "stdout",
       "text": [
        "\n",
        "168: SRB"
       ]
      },
      {
       "output_type": "stream",
       "stream": "stdout",
       "text": [
        "\n",
        "169: SCG"
       ]
      },
      {
       "output_type": "stream",
       "stream": "stdout",
       "text": [
        "\n",
        "170: SYC"
       ]
      },
      {
       "output_type": "stream",
       "stream": "stdout",
       "text": [
        "\n",
        "171: SLE"
       ]
      },
      {
       "output_type": "stream",
       "stream": "stdout",
       "text": [
        "\n",
        "172: SGP"
       ]
      },
      {
       "output_type": "stream",
       "stream": "stdout",
       "text": [
        "\n",
        "173: SVK"
       ]
      },
      {
       "output_type": "stream",
       "stream": "stdout",
       "text": [
        "\n",
        "174: SVN"
       ]
      },
      {
       "output_type": "stream",
       "stream": "stdout",
       "text": [
        "\n",
        "175: SLB"
       ]
      },
      {
       "output_type": "stream",
       "stream": "stdout",
       "text": [
        "\n",
        "176: SOM"
       ]
      },
      {
       "output_type": "stream",
       "stream": "stdout",
       "text": [
        "\n",
        "177: ZAF"
       ]
      },
      {
       "output_type": "stream",
       "stream": "stdout",
       "text": [
        "\n",
        "178: SSD"
       ]
      },
      {
       "output_type": "stream",
       "stream": "stdout",
       "text": [
        "\n",
        "179: ESP"
       ]
      },
      {
       "output_type": "stream",
       "stream": "stdout",
       "text": [
        "\n",
        "180: LKA"
       ]
      },
      {
       "output_type": "stream",
       "stream": "stdout",
       "text": [
        "\n",
        "181: XXA"
       ]
      },
      {
       "output_type": "stream",
       "stream": "stdout",
       "text": [
        "\n",
        "182: SDN"
       ]
      },
      {
       "output_type": "stream",
       "stream": "stdout",
       "text": [
        "\n",
        "183: SUR"
       ]
      },
      {
       "output_type": "stream",
       "stream": "stdout",
       "text": [
        "\n",
        "184: SWZ"
       ]
      },
      {
       "output_type": "stream",
       "stream": "stdout",
       "text": [
        "\n",
        "185: SWE"
       ]
      },
      {
       "output_type": "stream",
       "stream": "stdout",
       "text": [
        "\n",
        "186: CHE"
       ]
      },
      {
       "output_type": "stream",
       "stream": "stdout",
       "text": [
        "\n",
        "187: SYR"
       ]
      },
      {
       "output_type": "stream",
       "stream": "stdout",
       "text": [
        "\n",
        "188: TJK"
       ]
      },
      {
       "output_type": "stream",
       "stream": "stdout",
       "text": [
        "\n",
        "189: THA"
       ]
      },
      {
       "output_type": "stream",
       "stream": "stdout",
       "text": [
        "\n",
        "190: MKD"
       ]
      },
      {
       "output_type": "stream",
       "stream": "stdout",
       "text": [
        "\n",
        "191: XTB"
       ]
      },
      {
       "output_type": "stream",
       "stream": "stdout",
       "text": [
        "\n",
        "192: TLS"
       ]
      },
      {
       "output_type": "stream",
       "stream": "stdout",
       "text": [
        "\n",
        "193: TGO"
       ]
      },
      {
       "output_type": "stream",
       "stream": "stdout",
       "text": [
        "\n",
        "194: TON"
       ]
      },
      {
       "output_type": "stream",
       "stream": "stdout",
       "text": [
        "\n",
        "195: TTO"
       ]
      },
      {
       "output_type": "stream",
       "stream": "stdout",
       "text": [
        "\n",
        "196: TUN"
       ]
      },
      {
       "output_type": "stream",
       "stream": "stdout",
       "text": [
        "\n",
        "197: TUR"
       ]
      },
      {
       "output_type": "stream",
       "stream": "stdout",
       "text": [
        "\n",
        "198: TKM"
       ]
      },
      {
       "output_type": "stream",
       "stream": "stdout",
       "text": [
        "\n",
        "199: TCA"
       ]
      },
      {
       "output_type": "stream",
       "stream": "stdout",
       "text": [
        "\n",
        "200: TUV"
       ]
      },
      {
       "output_type": "stream",
       "stream": "stdout",
       "text": [
        "\n",
        "201: UGA"
       ]
      },
      {
       "output_type": "stream",
       "stream": "stdout",
       "text": [
        "\n",
        "202: UKR"
       ]
      },
      {
       "output_type": "stream",
       "stream": "stdout",
       "text": [
        "\n",
        "203: ARE"
       ]
      },
      {
       "output_type": "stream",
       "stream": "stdout",
       "text": [
        "\n",
        "204: GBR"
       ]
      },
      {
       "output_type": "stream",
       "stream": "stdout",
       "text": [
        "\n",
        "205: TZA"
       ]
      },
      {
       "output_type": "stream",
       "stream": "stdout",
       "text": [
        "\n",
        "206: USA"
       ]
      },
      {
       "output_type": "stream",
       "stream": "stdout",
       "text": [
        "\n",
        "207: URY"
       ]
      },
      {
       "output_type": "stream",
       "stream": "stdout",
       "text": [
        "\n",
        "208: UZB"
       ]
      },
      {
       "output_type": "stream",
       "stream": "stdout",
       "text": [
        "\n",
        "209: VUT"
       ]
      },
      {
       "output_type": "stream",
       "stream": "stdout",
       "text": [
        "\n",
        "210: XXX"
       ]
      },
      {
       "output_type": "stream",
       "stream": "stdout",
       "text": [
        "\n",
        "211: VNM"
       ]
      },
      {
       "output_type": "stream",
       "stream": "stdout",
       "text": [
        "\n",
        "212: ESH"
       ]
      },
      {
       "output_type": "stream",
       "stream": "stdout",
       "text": [
        "\n",
        "213: YEM"
       ]
      },
      {
       "output_type": "stream",
       "stream": "stdout",
       "text": [
        "\n",
        "214: ZMB"
       ]
      },
      {
       "output_type": "stream",
       "stream": "stdout",
       "text": [
        "\n",
        "215: ZWE"
       ]
      },
      {
       "output_type": "stream",
       "stream": "stdout",
       "text": [
        "\n"
       ]
      }
     ],
     "prompt_number": 38
    },
    {
     "cell_type": "code",
     "collapsed": false,
     "input": [
      "coo = 'AFG'\n",
      "for country_of_residence in countries_of_residence_list:\n",
      "    cor = country_of_residence['country_of_residence']        \n",
      "    if coo != cor:\n",
      "        origins[coo][cor] = {'time_series':[]}\n",
      "        for year in range(2000,2014):\n",
      "            found = False\n",
      "            for time_series in time_series_all_years_list:\n",
      "                if time_series['country_of_origin'] == coo and time_series['country_of_residence'] == cor and year == time_series['year']:\n",
      "                    origins[coo][cor]['time_series'].append(time_series)\n",
      "                    found = True\n",
      "                    break\n",
      "            if not found:\n",
      "                value = {'country_of_origin': coo, 'value': u'0', 'country_of_residence': cor, 'year': year}\n",
      "                origins[coo][cor]['time_series'].append(value)\n"
     ],
     "language": "python",
     "metadata": {},
     "outputs": [],
     "prompt_number": 44
    },
    {
     "cell_type": "code",
     "collapsed": false,
     "input": [
      "i = 0\n",
      "for origin in origin_list:\n",
      "    coo = origin['origin']\n",
      "    print \"%s: %s\" % (i, coo)\n",
      "    i += 1\n",
      "    for country_of_residence in countries_of_residence_list:\n",
      "        cor = country_of_residence['country_of_residence']        \n",
      "        if coo != cor:\n",
      "            for val in origins[coo][cor]['time_series']:\n",
      "                if val['value'] == None:\n",
      "                    val['value'] = 0\n"
     ],
     "language": "python",
     "metadata": {},
     "outputs": [
      {
       "output_type": "stream",
       "stream": "stdout",
       "text": [
        "0: AFG\n",
        "1: ALB\n",
        "2: DZA\n",
        "3: AND\n",
        "4: AGO\n",
        "5: ATG\n",
        "6: ARG\n",
        "7: ARM\n",
        "8: ABW\n",
        "9: AUS\n",
        "10: AUT\n",
        "11: AZE\n",
        "12: BHS\n",
        "13: BHR\n",
        "14: BGD"
       ]
      },
      {
       "output_type": "stream",
       "stream": "stdout",
       "text": [
        "\n",
        "15: BRB\n",
        "16: BLR\n",
        "17: BEL\n",
        "18: BLZ\n",
        "19: BEN\n",
        "20: BMU\n",
        "21: BTN\n",
        "22: VEN\n",
        "23: BIH\n",
        "24: BWA\n",
        "25: BRA\n",
        "26: BRN"
       ]
      },
      {
       "output_type": "stream",
       "stream": "stdout",
       "text": [
        "\n",
        "27: BGR\n",
        "28: BFA\n",
        "29: BDI\n",
        "30: KHM\n",
        "31: CMR\n",
        "32: CAN\n",
        "33: CPV\n",
        "34: CYM\n",
        "35: CAF\n",
        "36: TCD\n",
        "37: CHL\n",
        "38: CHN\n",
        "39: COL"
       ]
      },
      {
       "output_type": "stream",
       "stream": "stdout",
       "text": [
        "\n",
        "40: COM\n",
        "41: COG\n",
        "42: COK\n",
        "43: CRI\n",
        "44: HRV\n",
        "45: CUB\n",
        "46: CUW\n",
        "47: CYP\n",
        "48: CZE\n",
        "49: CIV\n",
        "50: PRK\n",
        "51: COD\n",
        "52: DNK\n",
        "53: DJI\n",
        "54: DMA"
       ]
      },
      {
       "output_type": "stream",
       "stream": "stdout",
       "text": [
        "\n",
        "55: DOM\n",
        "56: ECU\n",
        "57: EGY\n",
        "58: SLV\n",
        "59: GNQ\n",
        "60: ERI\n",
        "61: EST\n",
        "62: ETH\n",
        "63: YUG\n",
        "64: FSM\n",
        "65: FJI\n",
        "66: FIN\n",
        "67: FRA\n",
        "68: GUF\n",
        "69: PYF"
       ]
      },
      {
       "output_type": "stream",
       "stream": "stdout",
       "text": [
        "\n",
        "70: GAB\n",
        "71: GMB\n",
        "72: GEO\n",
        "73: DEU\n",
        "74: GHA\n",
        "75: GIB\n",
        "76: GRC\n",
        "77: GRD\n",
        "78: GTM\n",
        "79: GIN\n",
        "80: GNB\n",
        "81: GUY\n",
        "82: HTI\n",
        "83: VAT\n",
        "84: HND"
       ]
      },
      {
       "output_type": "stream",
       "stream": "stdout",
       "text": [
        "\n",
        "85: HKG\n",
        "86: HUN\n",
        "87: ISL\n",
        "88: IND\n",
        "89: IDN\n",
        "90: IRQ\n",
        "91: IRL\n",
        "92: IRN\n",
        "93: ISR\n",
        "94: ITA\n",
        "95: JAM\n",
        "96: JPN\n",
        "97: JOR\n",
        "98: KAZ\n",
        "99: KEN\n",
        "100: KIR"
       ]
      },
      {
       "output_type": "stream",
       "stream": "stdout",
       "text": [
        "\n",
        "101: KWT\n",
        "102: KGZ\n",
        "103: LAO\n",
        "104: LVA\n",
        "105: LBN\n",
        "106: LSO\n",
        "107: LBR\n",
        "108: LBY\n",
        "109: LBY\n",
        "110: LIE\n",
        "111: LTU\n",
        "112: LUX\n",
        "113: MAC\n",
        "114: MDG\n",
        "115: MWI\n",
        "116: MYS"
       ]
      },
      {
       "output_type": "stream",
       "stream": "stdout",
       "text": [
        "\n",
        "117: MDV\n",
        "118: MLI\n",
        "119: MLT\n",
        "120: MHL\n",
        "121: MRT\n",
        "122: MUS\n",
        "123: MEX\n",
        "124: MCO\n",
        "125: MNG\n",
        "126: MNE\n",
        "127: MAR\n",
        "128: MOZ\n",
        "129: MMR\n",
        "130: NAM\n",
        "131: NRU\n",
        "132: NPL"
       ]
      },
      {
       "output_type": "stream",
       "stream": "stdout",
       "text": [
        "\n",
        "133: NLD\n",
        "134: NCL\n",
        "135: NZL\n",
        "136: NIC\n",
        "137: NER\n",
        "138: NGA\n",
        "139: NIU\n",
        "140: NOR\n",
        "141: PSE\n",
        "142: OMN\n",
        "143: PAK\n",
        "144: PLW\n",
        "145: PSE\n",
        "146: PAN\n",
        "147: PNG"
       ]
      },
      {
       "output_type": "stream",
       "stream": "stdout",
       "text": [
        "\n",
        "148: PRY\n",
        "149: PER\n",
        "150: PHL\n",
        "151: BOL\n",
        "152: POL\n",
        "153: PRT\n",
        "154: QAT\n",
        "155: KOR\n",
        "156: MDA\n",
        "157: ROU\n",
        "158: RUS\n",
        "159: RWA\n",
        "160: KNA\n",
        "161: LCA\n",
        "162: VCT"
       ]
      },
      {
       "output_type": "stream",
       "stream": "stdout",
       "text": [
        "\n",
        "163: WSM\n",
        "164: SMR\n",
        "165: STP\n",
        "166: SAU\n",
        "167: SEN\n",
        "168: SRB\n",
        "169: SCG\n",
        "170: SYC\n",
        "171: SLE\n",
        "172: SGP\n",
        "173: SVK\n",
        "174: SVN\n",
        "175: SLB\n",
        "176: SOM\n",
        "177: ZAF"
       ]
      },
      {
       "output_type": "stream",
       "stream": "stdout",
       "text": [
        "\n",
        "178: SSD\n",
        "179: ESP\n",
        "180: LKA\n",
        "181: XXA\n",
        "182: SDN\n",
        "183: SUR\n",
        "184: SWZ\n",
        "185: SWE\n",
        "186: CHE\n",
        "187: SYR\n",
        "188: TJK\n",
        "189: THA\n",
        "190: MKD\n",
        "191: XTB\n",
        "192: TLS"
       ]
      },
      {
       "output_type": "stream",
       "stream": "stdout",
       "text": [
        "\n",
        "193: TGO\n",
        "194: TON\n",
        "195: TTO\n",
        "196: TUN\n",
        "197: TUR\n",
        "198: TKM\n",
        "199: TCA\n",
        "200: TUV\n",
        "201: UGA\n",
        "202: UKR\n",
        "203: ARE\n",
        "204: GBR\n",
        "205: TZA\n",
        "206: USA\n",
        "207: URY"
       ]
      },
      {
       "output_type": "stream",
       "stream": "stdout",
       "text": [
        "\n",
        "208: UZB\n",
        "209: VUT\n",
        "210: XXX\n",
        "211: VNM\n",
        "212: ESH\n",
        "213: YEM\n",
        "214: ZMB\n",
        "215: ZWE\n"
       ]
      }
     ],
     "prompt_number": 46
    },
    {
     "cell_type": "code",
     "collapsed": false,
     "input": [
      "i = 0\n",
      "for origin in origin_list:\n",
      "    coo = origin['origin']\n",
      "    print \"%s: %s\" % (i, coo)\n",
      "    i += 1\n",
      "    for country_of_residence in countries_of_residence_list:\n",
      "        cor = country_of_residence['country_of_residence']        \n",
      "        if coo != cor:\n",
      "            for val in origins[coo][cor]['time_series']:\n",
      "                val['value'] = int(val['value'])\n"
     ],
     "language": "python",
     "metadata": {},
     "outputs": [
      {
       "output_type": "stream",
       "stream": "stdout",
       "text": [
        "0: AFG\n",
        "1: ALB\n",
        "2: DZA\n",
        "3: AND\n",
        "4: AGO\n",
        "5: ATG\n",
        "6: ARG\n",
        "7: ARM\n",
        "8: ABW\n",
        "9: AUS\n",
        "10: AUT\n",
        "11: AZE\n",
        "12: BHS"
       ]
      },
      {
       "output_type": "stream",
       "stream": "stdout",
       "text": [
        "\n",
        "13: BHR\n",
        "14: BGD\n",
        "15: BRB\n",
        "16: BLR\n",
        "17: BEL\n",
        "18: BLZ\n",
        "19: BEN\n",
        "20: BMU\n",
        "21: BTN\n",
        "22: VEN\n",
        "23: BIH\n",
        "24: BWA\n",
        "25: BRA\n",
        "26: BRN\n",
        "27: BGR\n",
        "28: BFA"
       ]
      },
      {
       "output_type": "stream",
       "stream": "stdout",
       "text": [
        "\n",
        "29: BDI\n",
        "30: KHM\n",
        "31: CMR\n",
        "32: CAN\n",
        "33: CPV\n",
        "34: CYM\n",
        "35: CAF\n",
        "36: TCD\n",
        "37: CHL\n",
        "38: CHN\n",
        "39: COL\n",
        "40: COM\n",
        "41: COG\n",
        "42: COK\n",
        "43: CRI\n",
        "44: HRV"
       ]
      },
      {
       "output_type": "stream",
       "stream": "stdout",
       "text": [
        "\n",
        "45: CUB\n",
        "46: CUW\n",
        "47: CYP\n",
        "48: CZE\n",
        "49: CIV\n",
        "50: PRK\n",
        "51: COD\n",
        "52: DNK\n",
        "53: DJI\n",
        "54: DMA\n",
        "55: DOM\n",
        "56: ECU\n",
        "57: EGY\n",
        "58: SLV\n",
        "59: GNQ\n",
        "60: ERI"
       ]
      },
      {
       "output_type": "stream",
       "stream": "stdout",
       "text": [
        "\n",
        "61: EST\n",
        "62: ETH\n",
        "63: YUG\n",
        "64: FSM\n",
        "65: FJI\n",
        "66: FIN\n",
        "67: FRA\n",
        "68: GUF\n",
        "69: PYF\n",
        "70: GAB\n",
        "71: GMB\n",
        "72: GEO\n",
        "73: DEU\n",
        "74: GHA\n",
        "75: GIB\n",
        "76: GRC\n",
        "77: GRD"
       ]
      },
      {
       "output_type": "stream",
       "stream": "stdout",
       "text": [
        "\n",
        "78: GTM\n",
        "79: GIN\n",
        "80: GNB\n",
        "81: GUY\n",
        "82: HTI\n",
        "83: VAT\n",
        "84: HND\n",
        "85: HKG\n",
        "86: HUN\n",
        "87: ISL\n",
        "88: IND\n",
        "89: IDN\n",
        "90: IRQ\n",
        "91: IRL\n",
        "92: IRN\n",
        "93: ISR\n",
        "94: ITA"
       ]
      },
      {
       "output_type": "stream",
       "stream": "stdout",
       "text": [
        "\n",
        "95: JAM\n",
        "96: JPN\n",
        "97: JOR\n",
        "98: KAZ\n",
        "99: KEN\n",
        "100: KIR\n",
        "101: KWT\n",
        "102: KGZ\n",
        "103: LAO\n",
        "104: LVA\n",
        "105: LBN\n",
        "106: LSO\n",
        "107: LBR\n",
        "108: LBY\n",
        "109: LBY\n",
        "110: LIE\n",
        "111: LTU"
       ]
      },
      {
       "output_type": "stream",
       "stream": "stdout",
       "text": [
        "\n",
        "112: LUX\n",
        "113: MAC\n",
        "114: MDG\n",
        "115: MWI\n",
        "116: MYS\n",
        "117: MDV\n",
        "118: MLI\n",
        "119: MLT\n",
        "120: MHL\n",
        "121: MRT\n",
        "122: MUS\n",
        "123: MEX\n",
        "124: MCO\n",
        "125: MNG\n",
        "126: MNE\n",
        "127: MAR\n",
        "128: MOZ"
       ]
      },
      {
       "output_type": "stream",
       "stream": "stdout",
       "text": [
        "\n",
        "129: MMR\n",
        "130: NAM\n",
        "131: NRU\n",
        "132: NPL\n",
        "133: NLD\n",
        "134: NCL\n",
        "135: NZL\n",
        "136: NIC\n",
        "137: NER\n",
        "138: NGA\n",
        "139: NIU\n",
        "140: NOR\n",
        "141: PSE\n",
        "142: OMN\n",
        "143: PAK\n",
        "144: PLW\n",
        "145: PSE"
       ]
      },
      {
       "output_type": "stream",
       "stream": "stdout",
       "text": [
        "\n",
        "146: PAN\n",
        "147: PNG\n",
        "148: PRY\n",
        "149: PER\n",
        "150: PHL\n",
        "151: BOL\n",
        "152: POL\n",
        "153: PRT\n",
        "154: QAT\n",
        "155: KOR\n",
        "156: MDA\n",
        "157: ROU\n",
        "158: RUS\n",
        "159: RWA\n",
        "160: KNA\n",
        "161: LCA\n",
        "162: VCT"
       ]
      },
      {
       "output_type": "stream",
       "stream": "stdout",
       "text": [
        "\n",
        "163: WSM\n",
        "164: SMR\n",
        "165: STP\n",
        "166: SAU\n",
        "167: SEN\n",
        "168: SRB\n",
        "169: SCG\n",
        "170: SYC\n",
        "171: SLE\n",
        "172: SGP\n",
        "173: SVK\n",
        "174: SVN\n",
        "175: SLB\n",
        "176: SOM\n",
        "177: ZAF\n",
        "178: SSD\n",
        "179: ESP"
       ]
      },
      {
       "output_type": "stream",
       "stream": "stdout",
       "text": [
        "\n",
        "180: LKA\n",
        "181: XXA\n",
        "182: SDN\n",
        "183: SUR\n",
        "184: SWZ\n",
        "185: SWE\n",
        "186: CHE\n",
        "187: SYR\n",
        "188: TJK\n",
        "189: THA\n",
        "190: MKD\n",
        "191: XTB\n",
        "192: TLS\n",
        "193: TGO\n",
        "194: TON\n",
        "195: TTO\n",
        "196: TUN"
       ]
      },
      {
       "output_type": "stream",
       "stream": "stdout",
       "text": [
        "\n",
        "197: TUR\n",
        "198: TKM\n",
        "199: TCA\n",
        "200: TUV\n",
        "201: UGA\n",
        "202: UKR\n",
        "203: ARE\n",
        "204: GBR\n",
        "205: TZA\n",
        "206: USA\n",
        "207: URY\n",
        "208: UZB\n",
        "209: VUT\n",
        "210: XXX\n",
        "211: VNM\n",
        "212: ESH"
       ]
      },
      {
       "output_type": "stream",
       "stream": "stdout",
       "text": [
        "\n",
        "213: YEM\n",
        "214: ZMB\n",
        "215: ZWE\n"
       ]
      }
     ],
     "prompt_number": 47
    },
    {
     "cell_type": "code",
     "collapsed": false,
     "input": [
      "origins['IRN']['DEU']"
     ],
     "language": "python",
     "metadata": {},
     "outputs": [
      {
       "metadata": {},
       "output_type": "pyout",
       "prompt_number": 51,
       "text": [
        "{'time_series': [{'country_of_origin': u'IRN',\n",
        "   'country_of_residence': u'DEU',\n",
        "   'value': 0,\n",
        "   'year': 2000},\n",
        "  {'country_of_origin': u'IRN',\n",
        "   'country_of_residence': u'DEU',\n",
        "   'value': 0,\n",
        "   'year': 2001},\n",
        "  {u'country_of_origin': u'IRN',\n",
        "   u'country_of_origin_en': u'Islamic Republic of Iran',\n",
        "   u'country_of_residence': u'DEU',\n",
        "   u'country_of_residence_en': u'Germany',\n",
        "   u'value': 51538,\n",
        "   u'year': 2002},\n",
        "  {u'country_of_origin': u'IRN',\n",
        "   u'country_of_origin_en': u'Islamic Republic of Iran',\n",
        "   u'country_of_residence': u'DEU',\n",
        "   u'country_of_residence_en': u'Germany',\n",
        "   u'value': 47131,\n",
        "   u'year': 2003},\n",
        "  {u'country_of_origin': u'IRN',\n",
        "   u'country_of_origin_en': u'Islamic Republic of Iran',\n",
        "   u'country_of_residence': u'DEU',\n",
        "   u'country_of_residence_en': u'Germany',\n",
        "   u'value': 39904,\n",
        "   u'year': 2004},\n",
        "  {u'country_of_origin': u'IRN',\n",
        "   u'country_of_origin_en': u'Islamic Republic of Iran',\n",
        "   u'country_of_residence': u'DEU',\n",
        "   u'country_of_residence_en': u'Germany',\n",
        "   u'value': 24016,\n",
        "   u'year': 2005},\n",
        "  {u'country_of_origin': u'IRN',\n",
        "   u'country_of_origin_en': u'Islamic Republic of Iran',\n",
        "   u'country_of_residence': u'DEU',\n",
        "   u'country_of_residence_en': u'Germany',\n",
        "   u'value': 13213,\n",
        "   u'year': 2006},\n",
        "  {u'country_of_origin': u'IRN',\n",
        "   u'country_of_origin_en': u'Islamic Republic of Iran',\n",
        "   u'country_of_residence': u'DEU',\n",
        "   u'country_of_residence_en': u'Germany',\n",
        "   u'value': 15123,\n",
        "   u'year': 2007},\n",
        "  {u'country_of_origin': u'IRN',\n",
        "   u'country_of_origin_en': u'Islamic Republic of Iran',\n",
        "   u'country_of_residence': u'DEU',\n",
        "   u'country_of_residence_en': u'Germany',\n",
        "   u'value': 15816,\n",
        "   u'year': 2008},\n",
        "  {u'country_of_origin': u'IRN',\n",
        "   u'country_of_origin_en': u'Islamic Republic of Iran',\n",
        "   u'country_of_residence': u'DEU',\n",
        "   u'country_of_residence_en': u'Germany',\n",
        "   u'value': 20226,\n",
        "   u'year': 2009},\n",
        "  {u'country_of_origin': u'IRN',\n",
        "   u'country_of_origin_en': u'Islamic Republic of Iran',\n",
        "   u'country_of_residence': u'DEU',\n",
        "   u'country_of_residence_en': u'Germany',\n",
        "   u'value': 20444,\n",
        "   u'year': 2010},\n",
        "  {u'country_of_origin': u'IRN',\n",
        "   u'country_of_origin_en': u'Islamic Republic of Iran',\n",
        "   u'country_of_residence': u'DEU',\n",
        "   u'country_of_residence_en': u'Germany',\n",
        "   u'value': 20462,\n",
        "   u'year': 2011},\n",
        "  {u'country_of_origin': u'IRN',\n",
        "   u'country_of_origin_en': u'Islamic Republic of Iran',\n",
        "   u'country_of_residence': u'DEU',\n",
        "   u'country_of_residence_en': u'Germany',\n",
        "   u'value': 21629,\n",
        "   u'year': 2012},\n",
        "  {u'country_of_origin': u'IRN',\n",
        "   u'country_of_origin_en': u'Islamic Republic of Iran',\n",
        "   u'country_of_residence': u'DEU',\n",
        "   u'country_of_residence_en': u'Germany',\n",
        "   u'value': 17150,\n",
        "   u'year': 2013}]}"
       ]
      }
     ],
     "prompt_number": 51
    },
    {
     "cell_type": "code",
     "collapsed": false,
     "input": [
      "i = 0\n",
      "for origin in origin_list:\n",
      "    coo = origin['origin']\n",
      "    origins[coo]['sum_time_series'] = [0,0,0,0,0,0,0,0,0,0,0,0,0,0]\n",
      "    print \"%s: %s\" % (i, coo)\n",
      "    i += 1\n",
      "    for country_of_residence in countries_of_residence_list:\n",
      "        cor = country_of_residence['country_of_residence']        \n",
      "        if coo != cor:\n",
      "            for j in range(0,len(origins[coo][cor]['time_series'])):\n",
      "                origins[coo]['sum_time_series'][j] += origins[coo][cor]['time_series'][j]['value']\n",
      "                "
     ],
     "language": "python",
     "metadata": {},
     "outputs": [
      {
       "output_type": "stream",
       "stream": "stdout",
       "text": [
        "0: AFG\n",
        "1: ALB\n",
        "2: DZA\n",
        "3: AND\n",
        "4: AGO\n",
        "5: ATG\n",
        "6: ARG\n",
        "7: ARM\n",
        "8: ABW\n",
        "9: AUS\n",
        "10: AUT\n",
        "11: AZE\n",
        "12: BHS\n",
        "13: BHR\n",
        "14: BGD\n",
        "15: BRB\n",
        "16: BLR\n",
        "17: BEL\n",
        "18: BLZ\n",
        "19: BEN\n",
        "20: BMU\n",
        "21: BTN\n",
        "22: VEN\n",
        "23: BIH\n",
        "24: BWA\n",
        "25: BRA"
       ]
      },
      {
       "output_type": "stream",
       "stream": "stdout",
       "text": [
        "\n",
        "26: BRN\n",
        "27: BGR\n",
        "28: BFA\n",
        "29: BDI\n",
        "30: KHM\n",
        "31: CMR\n",
        "32: CAN\n",
        "33: CPV\n",
        "34: CYM\n",
        "35: CAF\n",
        "36: TCD\n",
        "37: CHL\n",
        "38: CHN\n",
        "39: COL\n",
        "40: COM\n",
        "41: COG\n",
        "42: COK\n",
        "43: CRI\n",
        "44: HRV\n",
        "45: CUB\n",
        "46: CUW\n",
        "47: CYP\n",
        "48: CZE\n",
        "49: CIV\n",
        "50: PRK\n",
        "51: COD\n",
        "52: DNK"
       ]
      },
      {
       "output_type": "stream",
       "stream": "stdout",
       "text": [
        "\n",
        "53: DJI\n",
        "54: DMA\n",
        "55: DOM\n",
        "56: ECU\n",
        "57: EGY\n",
        "58: SLV\n",
        "59: GNQ\n",
        "60: ERI\n",
        "61: EST\n",
        "62: ETH\n",
        "63: YUG\n",
        "64: FSM\n",
        "65: FJI\n",
        "66: FIN\n",
        "67: FRA\n",
        "68: GUF\n",
        "69: PYF\n",
        "70: GAB\n",
        "71: GMB\n",
        "72: GEO\n",
        "73: DEU\n",
        "74: GHA\n",
        "75: GIB\n",
        "76: GRC\n",
        "77: GRD\n",
        "78: GTM\n",
        "79: GIN\n",
        "80: GNB"
       ]
      },
      {
       "output_type": "stream",
       "stream": "stdout",
       "text": [
        "\n",
        "81: GUY\n",
        "82: HTI\n",
        "83: VAT\n",
        "84: HND\n",
        "85: HKG\n",
        "86: HUN\n",
        "87: ISL\n",
        "88: IND\n",
        "89: IDN\n",
        "90: IRQ\n",
        "91: IRL\n",
        "92: IRN\n",
        "93: ISR\n",
        "94: ITA\n",
        "95: JAM\n",
        "96: JPN\n",
        "97: JOR\n",
        "98: KAZ\n",
        "99: KEN\n",
        "100: KIR\n",
        "101: KWT\n",
        "102: KGZ\n",
        "103: LAO\n",
        "104: LVA\n",
        "105: LBN\n",
        "106: LSO\n",
        "107: LBR\n",
        "108: LBY\n",
        "109: LBY"
       ]
      },
      {
       "output_type": "stream",
       "stream": "stdout",
       "text": [
        "\n",
        "110: LIE\n",
        "111: LTU\n",
        "112: LUX\n",
        "113: MAC\n",
        "114: MDG\n",
        "115: MWI\n",
        "116: MYS\n",
        "117: MDV\n",
        "118: MLI\n",
        "119: MLT\n",
        "120: MHL\n",
        "121: MRT\n",
        "122: MUS\n",
        "123: MEX\n",
        "124: MCO\n",
        "125: MNG\n",
        "126: MNE\n",
        "127: MAR\n",
        "128: MOZ\n",
        "129: MMR\n",
        "130: NAM\n",
        "131: NRU\n",
        "132: NPL\n",
        "133: NLD\n",
        "134: NCL\n",
        "135: NZL\n",
        "136: NIC\n",
        "137: NER\n",
        "138: NGA\n",
        "139: NIU"
       ]
      },
      {
       "output_type": "stream",
       "stream": "stdout",
       "text": [
        "\n",
        "140: NOR\n",
        "141: PSE\n",
        "142: OMN\n",
        "143: PAK\n",
        "144: PLW\n",
        "145: PSE\n",
        "146: PAN\n",
        "147: PNG\n",
        "148: PRY\n",
        "149: PER\n",
        "150: PHL\n",
        "151: BOL\n",
        "152: POL\n",
        "153: PRT\n",
        "154: QAT\n",
        "155: KOR\n",
        "156: MDA\n",
        "157: ROU\n",
        "158: RUS\n",
        "159: RWA\n",
        "160: KNA\n",
        "161: LCA\n",
        "162: VCT\n",
        "163: WSM\n",
        "164: SMR\n",
        "165: STP\n",
        "166: SAU\n",
        "167: SEN\n",
        "168: SRB"
       ]
      },
      {
       "output_type": "stream",
       "stream": "stdout",
       "text": [
        "\n",
        "169: SCG\n",
        "170: SYC\n",
        "171: SLE\n",
        "172: SGP\n",
        "173: SVK\n",
        "174: SVN\n",
        "175: SLB\n",
        "176: SOM\n",
        "177: ZAF\n",
        "178: SSD\n",
        "179: ESP\n",
        "180: LKA\n",
        "181: XXA\n",
        "182: SDN\n",
        "183: SUR\n",
        "184: SWZ\n",
        "185: SWE\n",
        "186: CHE\n",
        "187: SYR\n",
        "188: TJK\n",
        "189: THA\n",
        "190: MKD\n",
        "191: XTB\n",
        "192: TLS\n",
        "193: TGO\n",
        "194: TON\n",
        "195: TTO"
       ]
      },
      {
       "output_type": "stream",
       "stream": "stdout",
       "text": [
        "\n",
        "196: TUN\n",
        "197: TUR\n",
        "198: TKM\n",
        "199: TCA\n",
        "200: TUV\n",
        "201: UGA\n",
        "202: UKR\n",
        "203: ARE\n",
        "204: GBR\n",
        "205: TZA\n",
        "206: USA\n",
        "207: URY\n",
        "208: UZB\n",
        "209: VUT\n",
        "210: XXX\n",
        "211: VNM\n",
        "212: ESH\n",
        "213: YEM\n",
        "214: ZMB\n",
        "215: ZWE\n"
       ]
      }
     ],
     "prompt_number": 60
    },
    {
     "cell_type": "code",
     "collapsed": false,
     "input": [
      "origins['AFG']['sum_time_series']"
     ],
     "language": "python",
     "metadata": {},
     "outputs": [
      {
       "metadata": {},
       "output_type": "pyout",
       "prompt_number": 62,
       "text": [
        "[3587336,\n",
        " 3809767,\n",
        " 2510285,\n",
        " 2136043,\n",
        " 2414468,\n",
        " 2166149,\n",
        " 2107519,\n",
        " 1909911,\n",
        " 2833128,\n",
        " 2887124,\n",
        " 3054709,\n",
        " 2664436,\n",
        " 2586152,\n",
        " 2556522]"
       ]
      }
     ],
     "prompt_number": 62
    },
    {
     "cell_type": "code",
     "collapsed": false,
     "input": [
      "totals_2000 = {}\n",
      "for origin in origin_list:\n",
      "    coo = origin['origin']\n",
      "    totals_2000[coo] = origins[coo]['sum_time_series'][0]\n",
      "sorted_totals_2000 = sorted(totals_2000.items(), key=operator.itemgetter(1))\n",
      "sorted_totals_2000[len(sorted_totals_2000) - 20:len(sorted_totals_2000)]"
     ],
     "language": "python",
     "metadata": {},
     "outputs": [
      {
       "metadata": {},
       "output_type": "pyout",
       "prompt_number": 74,
       "text": [
        "[(u'TLS', 122202),\n",
        " (u'LKA', 124160),\n",
        " (u'MMR', 137128),\n",
        " (u'YUG', 146748),\n",
        " (u'ESH', 165810),\n",
        " (u'LBR', 266930),\n",
        " (u'AZE', 284277),\n",
        " (u'HRV', 335199),\n",
        " (u'VNM', 370758),\n",
        " (u'COD', 371713),\n",
        " (u'ERI', 376851),\n",
        " (u'SLE', 402909),\n",
        " (u'AGO', 433760),\n",
        " (u'BIH', 474981),\n",
        " (u'SOM', 478546),\n",
        " (u'SDN', 494373),\n",
        " (u'IRQ', 526208),\n",
        " (u'BDI', 568084),\n",
        " (u'XXX', 1084270),\n",
        " (u'AFG', 3587336)]"
       ]
      }
     ],
     "prompt_number": 74
    },
    {
     "cell_type": "code",
     "collapsed": false,
     "input": [
      "totals_2001 = {}\n",
      "for origin in origin_list:\n",
      "    coo = origin['origin']\n",
      "    totals_2001[coo] = origins[coo]['sum_time_series'][1]\n",
      "sorted_totals_2001 = sorted(totals_2001.items(), key=operator.itemgetter(1))\n",
      "sorted_totals_2001[len(sorted_totals_2001) - 20:len(sorted_totals_2001)]"
     ],
     "language": "python",
     "metadata": {},
     "outputs": [
      {
       "metadata": {},
       "output_type": "pyout",
       "prompt_number": 75,
       "text": [
        "[(u'LKA', 122420),\n",
        " (u'YUG', 144231),\n",
        " (u'MMR', 145856),\n",
        " (u'ESH', 165910),\n",
        " (u'SLE', 179220),\n",
        " (u'LBR', 244608),\n",
        " (u'AZE', 268759),\n",
        " (u'HRV', 290279),\n",
        " (u'ERI', 333229),\n",
        " (u'VNM', 353224),\n",
        " (u'PSE', 357745),\n",
        " (u'COD', 392146),\n",
        " (u'SOM', 443040),\n",
        " (u'BIH', 447321),\n",
        " (u'AGO', 470625),\n",
        " (u'SDN', 489960),\n",
        " (u'IRQ', 530566),\n",
        " (u'BDI', 553999),\n",
        " (u'XXX', 1014701),\n",
        " (u'AFG', 3809767)]"
       ]
      }
     ],
     "prompt_number": 75
    },
    {
     "cell_type": "code",
     "collapsed": false,
     "input": [
      "top_20_totals = []\n",
      "for i in range(0,14):\n",
      "    totals = {}\n",
      "    for origin in origin_list:\n",
      "        coo = origin['origin']\n",
      "        if coo != \"XXX\" and coo != \"SCG\" and coo != \"YUG\":\n",
      "            totals[coo] = origins[coo]['sum_time_series'][i]\n",
      "    sorted_totals = sorted(totals.items(), key=operator.itemgetter(1))\n",
      "    top_20_totals.append(sorted_totals[len(sorted_totals) - 20:len(sorted_totals)])"
     ],
     "language": "python",
     "metadata": {},
     "outputs": [],
     "prompt_number": 94
    },
    {
     "cell_type": "code",
     "collapsed": false,
     "input": [
      "total_sums = []\n",
      "for top_20 in top_20_totals:\n",
      "    total = 0\n",
      "    for value in top_20:\n",
      "        total += value[1]\n",
      "    total_sums.append(total)\n",
      "total_sums"
     ],
     "language": "python",
     "metadata": {},
     "outputs": [
      {
       "metadata": {},
       "output_type": "pyout",
       "prompt_number": 99,
       "text": [
        "[9759423,\n",
        " 9826928,\n",
        " 8574472,\n",
        " 7693480,\n",
        " 7760012,\n",
        " 6938257,\n",
        " 8234376,\n",
        " 8329666,\n",
        " 9119830,\n",
        " 9041688,\n",
        " 9228738,\n",
        " 9077468,\n",
        " 9072763,\n",
        " 10517823]"
       ]
      }
     ],
     "prompt_number": 99
    },
    {
     "cell_type": "code",
     "collapsed": false,
     "input": [
      "geojson = {}\n",
      "polys = {}\n",
      "centroids = {}\n",
      "for totals in top_20_totals:\n",
      "    for value in totals:\n",
      "        coo = value[0]\n",
      "        if not geojson.has_key(coo):\n",
      "            filename = \"capture/%s/%s_adm0.geojson\" % (coo, coo)\n",
      "            with open(filename) as f:\n",
      "                geojson[coo] = json.load(f)\n",
      "                polys[coo] = shape(geojson[coo]['features'][0]['geometry'])\n",
      "                centroids[coo] = polys[coo].centroid.__geo_interface__['coordinates']\n"
     ],
     "language": "python",
     "metadata": {},
     "outputs": [],
     "prompt_number": 102
    },
    {
     "cell_type": "code",
     "collapsed": false,
     "input": [
      "for coo in geojson.keys():\n",
      "    for country_of_residence in countries_of_residence_list:\n",
      "        cor = country_of_residence['country_of_residence']\n",
      "        if coo != cor:\n",
      "            time_series = origins[coo][cor]['time_series']\n",
      "            sum_time_series = 0\n",
      "            for i in range(0,14):\n",
      "                sum_time_series += time_series[i]['value']\n",
      "            origins[coo][cor]['sum_time_series'] = sum_time_series\n"
     ],
     "language": "python",
     "metadata": {},
     "outputs": [],
     "prompt_number": 131
    },
    {
     "cell_type": "code",
     "collapsed": false,
     "input": [
      "for coo in geojson.keys():\n",
      "    for country_of_residence in countries_of_residence_list:\n",
      "        cor = country_of_residence['country_of_residence']\n",
      "        if coo != cor and cor != \"XXX\" and cor != \"SCG\" and cor != \"YUG\":\n",
      "            sum_time_series = origins[coo][cor]['sum_time_series']\n",
      "            if sum_time_series > 100:\n",
      "                if not geojson.has_key(cor):\n",
      "                    filename = \"capture/%s/%s_adm0.geojson\" % (cor, cor)\n",
      "                    with open(filename) as f:\n",
      "                        geojson[cor] = json.load(f)\n",
      "                        polys[cor] = shape(geojson[cor]['features'][0]['geometry'])\n",
      "                        centroids[cor] = polys[cor].centroid.__geo_interface__['coordinates']\n"
     ],
     "language": "python",
     "metadata": {},
     "outputs": [],
     "prompt_number": 134
    },
    {
     "cell_type": "code",
     "collapsed": false,
     "input": [
      "top_20_coo = {}\n",
      "for top_20 in top_20_totals:\n",
      "    for value in top_20:\n",
      "        coo = value[0]\n",
      "        if not top_20_coo.has_key(coo):\n",
      "            top_20_coo[coo] = True\n"
     ],
     "language": "python",
     "metadata": {},
     "outputs": [],
     "prompt_number": 147
    },
    {
     "cell_type": "code",
     "collapsed": false,
     "input": [
      "def randomMercatorPoints(coo, count, contain = True):\n",
      "    if coo == \"CHN\" or coo == \"KAZ\" or coo == \"IND\" or coo == \"AUS\" or coo == \"RUS\" or coo == \"BRA\" or coo == \"USA\" or coo == \"CAN\" or coo == \"ARG\" or coo == \"DZA\":\n",
      "        max_area = 0\n",
      "        max_geom = None\n",
      "        for geom in polys[coo].geoms:\n",
      "            if geom.area > max_area:\n",
      "                max_area = geom.area\n",
      "                max_geom = geom        \n",
      "        distance = -1.0\n",
      "        if val == \"CHN\":\n",
      "           distance = -5.5\n",
      "        if val == \"KAZ\":\n",
      "           distance = -2.0\n",
      "        if val == \"IND\":\n",
      "           distance = -2.0\n",
      "        if val == \"AUS\":\n",
      "           distance = -5.0\n",
      "        if val == \"RUS\":\n",
      "           distance = -9.0\n",
      "        if val == \"BRA\":\n",
      "           distance = -6.0\n",
      "        if val == \"USA\":\n",
      "           distance = -6.0\n",
      "        if val == \"CAN\":\n",
      "           distance = -6.0\n",
      "        if val == \"ARG\":\n",
      "           distance = -2.0\n",
      "        if val == \"DZA\":\n",
      "           distance = -1.0\n",
      "        poly = max_geom.buffer(distance)                \n",
      "    else:\n",
      "        poly = polys[coo]\n",
      "    bbox = poly.bounds\n",
      "    l,b,r,t = bbox\n",
      "    points = []\n",
      "    for i in range(0, count):\n",
      "        while True:\n",
      "            point = Point(random.uniform(l,r),random.uniform(t,b))\n",
      "            if point is None:\n",
      "                break\n",
      "            if contain and poly.contains(point):\n",
      "                break\n",
      "            if not contain:\n",
      "                break\n",
      "        points.append(LngLatToPixelXY(point.__geo_interface__['coordinates']))\n",
      "    return points\n"
     ],
     "language": "python",
     "metadata": {},
     "outputs": [],
     "prompt_number": 323
    },
    {
     "cell_type": "code",
     "collapsed": false,
     "input": [
      "import json\n",
      "with open('origins.json', 'w') as outfile:\n",
      "    json.dump(origins, outfile)"
     ],
     "language": "python",
     "metadata": {},
     "outputs": [],
     "prompt_number": 172
    },
    {
     "cell_type": "code",
     "collapsed": false,
     "input": [
      "points = randomMercatorPoints(polys['AFG'], 100)"
     ],
     "language": "python",
     "metadata": {},
     "outputs": [],
     "prompt_number": 188
    },
    {
     "cell_type": "code",
     "collapsed": false,
     "input": [
      "random_points = {}\n",
      "for coo in top_20_coo.keys():\n",
      "    print coo\n",
      "    random_mid_points[coo] = []\n",
      "    print \"Generating 10 random points in %s\" % coo\n",
      "    random_points[coo] = randomMercatorPoints(coo, 10, False)\n"
     ],
     "language": "python",
     "metadata": {},
     "outputs": [
      {
       "output_type": "stream",
       "stream": "stdout",
       "text": [
        "AGO\n",
        "Generating 10 random points in AGO\n",
        "SRB\n",
        "Generating 10 random points in SRB\n",
        "AZE\n",
        "Generating 10 random points in AZE\n",
        "LKA\n",
        "Generating 10 random points in LKA\n",
        "COD\n",
        "Generating 10 random points in COD\n",
        "ETH\n",
        "Generating 10 random points in ETH\n",
        "MMR\n",
        "Generating 10 random points in MMR\n",
        "ERI\n",
        "Generating 10 random points in ERI\n",
        "LBR\n",
        "Generating 10 random points in LBR\n",
        "BIH\n",
        "Generating 10 random points in BIH\n",
        "VNM\n",
        "Generating 10 random points in VNM\n",
        "SOM\n",
        "Generating 10 random points in SOM\n",
        "MLI\n",
        "Generating 10 random points in MLI\n",
        "CAF\n",
        "Generating 10 random points in CAF\n",
        "TLS\n",
        "Generating 10 random points in TLS\n",
        "AFG\n",
        "Generating 10 random points in AFG\n",
        "IRQ\n",
        "Generating 10 random points in IRQ\n",
        "HRV\n",
        "Generating 10 random points in HRV\n",
        "BDI\n",
        "Generating 10 random points in BDI\n",
        "CHN\n",
        "Generating 10 random points in CHN\n",
        "COL"
       ]
      },
      {
       "output_type": "stream",
       "stream": "stdout",
       "text": [
        "\n",
        "Generating 10 random points in COL\n",
        "IRN\n",
        "Generating 10 random points in IRN\n",
        "SSD\n",
        "Generating 10 random points in SSD\n",
        "SLE\n",
        "Generating 10 random points in SLE\n",
        "ESH\n",
        "Generating 10 random points in ESH\n",
        "RWA\n",
        "Generating 10 random points in RWA\n",
        "TUR\n",
        "Generating 10 random points in TUR\n",
        "PSE\n",
        "Generating 10 random points in PSE\n",
        "SYR\n",
        "Generating 10 random points in SYR\n",
        "RUS\n",
        "Generating 10 random points in RUS\n",
        "SDN"
       ]
      },
      {
       "output_type": "stream",
       "stream": "stdout",
       "text": [
        "\n",
        "Generating 10 random points in SDN\n",
        "BTN\n",
        "Generating 10 random points in BTN\n",
        "CIV\n",
        "Generating 10 random points in CIV\n"
       ]
      }
     ],
     "prompt_number": 328
    },
    {
     "cell_type": "code",
     "collapsed": false,
     "input": [
      "len(random_points.keys())"
     ],
     "language": "python",
     "metadata": {},
     "outputs": [
      {
       "metadata": {},
       "output_type": "pyout",
       "prompt_number": 329,
       "text": [
        "33"
       ]
      }
     ],
     "prompt_number": 329
    },
    {
     "cell_type": "code",
     "collapsed": false,
     "input": [
      "for coo in top_20_coo.keys():\n",
      "    print \"Working on %s\" % coo\n",
      "    for country_of_residence in countries_of_residence_list:\n",
      "        cor = country_of_residence['country_of_residence']\n",
      "        if coo != cor and cor != \"XXX\" and cor != \"SCG\" and cor != \"YUG\" and not random_points.has_key(cor):\n",
      "            sum_time_series = origins[coo][cor]['sum_time_series']\n",
      "            if sum_time_series > 100:\n",
      "                random_points[cor] = []\n",
      "                print \"Generating 10 random points in %s\" % cor\n",
      "                random_points[cor] = randomMercatorPoints(cor, 10, False)\n"
     ],
     "language": "python",
     "metadata": {},
     "outputs": [
      {
       "output_type": "stream",
       "stream": "stdout",
       "text": [
        "Working on AGO\n",
        "Generating 10 random points in ARG\n",
        "Generating 10 random points in AUT"
       ]
      },
      {
       "output_type": "stream",
       "stream": "stdout",
       "text": [
        "\n",
        "Generating 10 random points in BEL\n",
        "Generating 10 random points in BWA\n",
        "Generating 10 random points in BRA\n",
        "Generating 10 random points in CMR"
       ]
      },
      {
       "output_type": "stream",
       "stream": "stdout",
       "text": [
        "\n",
        "Generating 10 random points in CAN\n",
        "Generating 10 random points in COG"
       ]
      },
      {
       "output_type": "stream",
       "stream": "stdout",
       "text": [
        "\n",
        "Generating 10 random points in CZE\n",
        "Generating 10 random points in DNK\n",
        "Generating 10 random points in FIN\n",
        "Generating 10 random points in FRA\n",
        "Generating 10 random points in GAB\n",
        "Generating 10 random points in DEU\n",
        "Generating 10 random points in HUN\n",
        "Generating 10 random points in IRL\n",
        "Generating 10 random points in ITA\n",
        "Generating 10 random points in NAM\n",
        "Generating 10 random points in NLD\n",
        "Generating 10 random points in NGA\n",
        "Generating 10 random points in NOR\n",
        "Generating 10 random points in PRT\n",
        "Generating 10 random points in SVK\n",
        "Generating 10 random points in ZAF\n",
        "Generating 10 random points in ESP\n",
        "Generating 10 random points in SWZ\n",
        "Generating 10 random points in SWE\n",
        "Generating 10 random points in CHE\n",
        "Generating 10 random points in UKR\n",
        "Generating 10 random points in GBR\n",
        "Generating 10 random points in USA\n",
        "Generating 10 random points in ZMB"
       ]
      },
      {
       "output_type": "stream",
       "stream": "stdout",
       "text": [
        "\n",
        "Generating 10 random points in ZWE\n",
        "Working on SRB\n",
        "Generating 10 random points in ALB\n",
        "Generating 10 random points in AUS\n",
        "Generating 10 random points in BGR"
       ]
      },
      {
       "output_type": "stream",
       "stream": "stdout",
       "text": [
        "\n",
        "Generating 10 random points in CYP\n",
        "Generating 10 random points in GRC\n",
        "Generating 10 random points in ISL\n",
        "Generating 10 random points in LIE\n",
        "Generating 10 random points in LUX\n",
        "Generating 10 random points in MLT\n",
        "Generating 10 random points in MNE\n",
        "Generating 10 random points in PER\n",
        "Generating 10 random points in ROU\n",
        "Generating 10 random points in SVN\n",
        "Generating 10 random points in MKD\n",
        "Working on AZE\n",
        "Generating 10 random points in ARM\n",
        "Generating 10 random points in BLR\n",
        "Generating 10 random points in TKM\n",
        "Working on LKA\n",
        "Generating 10 random points in ECU\n",
        "Generating 10 random points in HKG\n",
        "Generating 10 random points in IND\n",
        "Generating 10 random points in IDN"
       ]
      },
      {
       "output_type": "stream",
       "stream": "stdout",
       "text": [
        "\n",
        "Generating 10 random points in JPN\n",
        "Generating 10 random points in MYS\n",
        "Generating 10 random points in MEX\n",
        "Generating 10 random points in NZL\n",
        "Generating 10 random points in PHL\n",
        "Generating 10 random points in POL\n",
        "Generating 10 random points in THA\n",
        "Working on COD\n",
        "Generating 10 random points in DZA\n",
        "Generating 10 random points in BEN"
       ]
      },
      {
       "output_type": "stream",
       "stream": "stdout",
       "text": [
        "\n",
        "Generating 10 random points in BFA\n",
        "Generating 10 random points in TCD\n",
        "Generating 10 random points in EGY\n",
        "Generating 10 random points in GMB\n",
        "Generating 10 random points in GHA\n",
        "Generating 10 random points in GIN\n",
        "Generating 10 random points in ISR\n",
        "Generating 10 random points in KEN\n",
        "Generating 10 random points in LBY\n",
        "Generating 10 random points in MWI\n",
        "Generating 10 random points in MRT\n",
        "Generating 10 random points in MAR\n",
        "Generating 10 random points in MOZ\n",
        "Generating 10 random points in NER\n",
        "Generating 10 random points in KOR\n",
        "Generating 10 random points in SEN\n",
        "Generating 10 random points in TGO\n",
        "Generating 10 random points in UGA\n",
        "Generating 10 random points in TZA\n",
        "Working on ETH\n",
        "Generating 10 random points in CUB\n",
        "Generating 10 random points in DJI\n",
        "Generating 10 random points in LBN\n",
        "Generating 10 random points in TUN\n",
        "Generating 10 random points in YEM\n",
        "Working on MMR\n",
        "Generating 10 random points in BGD\n",
        "Generating 10 random points in NPL\n",
        "Generating 10 random points in PAK\n",
        "Working on ERI\n",
        "Generating 10 random points in SAU\n",
        "Working on LBR\n",
        "Generating 10 random points in GNB\n",
        "Working on BIH\n",
        "Generating 10 random points in JOR\n",
        "Working on VNM\n",
        "Generating 10 random points in KHM\n",
        "Working on SOM\n",
        "Generating 10 random points in KWT\n",
        "Generating 10 random points in LTU\n",
        "Generating 10 random points in ARE\n",
        "Working on MLI\n",
        "Working on CAF\n",
        "Working on TLS\n",
        "Working on AFG\n",
        "Generating 10 random points in CHL\n",
        "Generating 10 random points in EST\n",
        "Generating 10 random points in KAZ\n",
        "Generating 10 random points in KGZ"
       ]
      },
      {
       "output_type": "stream",
       "stream": "stdout",
       "text": [
        "\n",
        "Generating 10 random points in LVA\n",
        "Generating 10 random points in QAT\n",
        "Generating 10 random points in MDA\n",
        "Generating 10 random points in TJK\n",
        "Generating 10 random points in UZB\n",
        "Working on IRQ\n",
        "Generating 10 random points in BHR\n",
        "Generating 10 random points in OMN\n",
        "Generating 10 random points in BOL\n",
        "Working on HRV\n",
        "Working on BDI\n",
        "Working on CHN\n",
        "Working on COL\n",
        "Generating 10 random points in VEN\n",
        "Generating 10 random points in CRI\n",
        "Generating 10 random points in PAN\n",
        "Generating 10 random points in PRY\n",
        "Generating 10 random points in URY\n",
        "Working on IRN\n",
        "Working on SSD\n",
        "Working on SLE\n",
        "Working on ESH\n",
        "Working on RWA\n",
        "Working on TUR\n",
        "Working on PSE\n",
        "Working on SYR\n",
        "Generating 10 random points in GEO\n",
        "Working on RUS\n",
        "Working on SDN\n",
        "Working on BTN\n",
        "Working on CIV\n"
       ]
      }
     ],
     "prompt_number": 330
    },
    {
     "cell_type": "code",
     "collapsed": false,
     "input": [
      "len(random_points.keys())"
     ],
     "language": "python",
     "metadata": {},
     "outputs": [
      {
       "metadata": {},
       "output_type": "pyout",
       "prompt_number": 331,
       "text": [
        "148"
       ]
      }
     ],
     "prompt_number": 331
    },
    {
     "cell_type": "code",
     "collapsed": false,
     "input": [
      "random_points['GBR']"
     ],
     "language": "python",
     "metadata": {},
     "outputs": [
      {
       "metadata": {},
       "output_type": "pyout",
       "prompt_number": 334,
       "text": [
        "[[123.9584914352148, 83.36948066725623],\n",
        " [118.74154214296173, 74.87713155029942],\n",
        " [120.4616701482142, 77.74875526219682],\n",
        " [118.38408936038802, 83.31943989035915],\n",
        " [118.85361746226292, 80.16204854784354],\n",
        " [128.93958858583662, 82.63677572281665],\n",
        " [120.46137535133957, 77.7194580167343],\n",
        " [122.2936613016353, 81.75924317800533],\n",
        " [126.7526265384534, 78.27616913737853],\n",
        " [125.02468080850295, 75.7746288441634]]"
       ]
      }
     ],
     "prompt_number": 334
    },
    {
     "cell_type": "code",
     "collapsed": false,
     "input": [
      "random.choice(random_points['GBR'])"
     ],
     "language": "python",
     "metadata": {},
     "outputs": [
      {
       "metadata": {},
       "output_type": "pyout",
       "prompt_number": 335,
       "text": [
        "[120.4616701482142, 77.74875526219682]"
       ]
      }
     ],
     "prompt_number": 335
    },
    {
     "cell_type": "code",
     "collapsed": false,
     "input": [
      "points = []\n",
      "for coo in top_20_coo.keys():\n",
      "    print coo\n",
      "    for country_of_residence in countries_of_residence_list:\n",
      "        cor = country_of_residence['country_of_residence']\n",
      "        if coo != cor and cor != \"XXX\" and cor != \"SCG\" and cor != \"YUG\":\n",
      "            sum_time_series = origins[coo][cor]['sum_time_series']\n",
      "            if sum_time_series > 100:\n",
      "                start_point = LngLatToPixelXY(centroids[coo])\n",
      "                end_point = LngLatToPixelXY(centroids[cor])\n",
      "                coo_ison = geojson[coo]['features'][0]['properties']['ISON']\n",
      "                cor_ison = geojson[cor]['features'][0]['properties']['ISON']\n",
      "                time_series = origins[coo][cor]['time_series']\n",
      "                for val in time_series:\n",
      "                    year = val['year']\n",
      "                    value = val['value']\n",
      "                    scaled_range = int(value/10)\n",
      "                    for i in range(0, scaled_range):\n",
      "                        if i % 10 == 0:\n",
      "                            p1 = start_point\n",
      "                            p2 = end_point\n",
      "                            mid = [(p2[0] + p1[0])/2.0, (p2[1] + p1[1])/2.0]\n",
      "                        else:\n",
      "                            p1 = random.choice(random_points[coo])\n",
      "                            p2 = random.choice(random_points[cor])\n",
      "                            mid = [(p2[0] + p1[0])/2.0, (p2[1] + p1[1])/2.0]\n",
      "                        month, day = random_month_day()\n",
      "                        epoch = YearMonthDayToEpoch(year, month, day)\n",
      "                        points += start_point\n",
      "                        points += end_point\n",
      "                        points += mid\n",
      "                        points.append(epoch)\n",
      "                        points.append(coo_ison)\n",
      "                        points.append(cor_ison)\n",
      "\n"
     ],
     "language": "python",
     "metadata": {},
     "outputs": [
      {
       "output_type": "stream",
       "stream": "stdout",
       "text": [
        "AGO\n",
        "SRB"
       ]
      },
      {
       "output_type": "stream",
       "stream": "stdout",
       "text": [
        "\n",
        "AZE"
       ]
      },
      {
       "output_type": "stream",
       "stream": "stdout",
       "text": [
        "\n",
        "LKA"
       ]
      },
      {
       "output_type": "stream",
       "stream": "stdout",
       "text": [
        "\n",
        "COD"
       ]
      },
      {
       "output_type": "stream",
       "stream": "stdout",
       "text": [
        "\n",
        "ETH"
       ]
      },
      {
       "output_type": "stream",
       "stream": "stdout",
       "text": [
        "\n",
        "MMR"
       ]
      },
      {
       "output_type": "stream",
       "stream": "stdout",
       "text": [
        "\n",
        "ERI"
       ]
      },
      {
       "output_type": "stream",
       "stream": "stdout",
       "text": [
        "\n",
        "LBR"
       ]
      },
      {
       "output_type": "stream",
       "stream": "stdout",
       "text": [
        "\n",
        "BIH"
       ]
      },
      {
       "output_type": "stream",
       "stream": "stdout",
       "text": [
        "\n",
        "VNM"
       ]
      },
      {
       "output_type": "stream",
       "stream": "stdout",
       "text": [
        "\n",
        "SOM"
       ]
      },
      {
       "output_type": "stream",
       "stream": "stdout",
       "text": [
        "\n",
        "MLI"
       ]
      },
      {
       "output_type": "stream",
       "stream": "stdout",
       "text": [
        "\n",
        "CAF"
       ]
      },
      {
       "output_type": "stream",
       "stream": "stdout",
       "text": [
        "\n",
        "TLS"
       ]
      },
      {
       "output_type": "stream",
       "stream": "stdout",
       "text": [
        "\n",
        "AFG"
       ]
      },
      {
       "output_type": "stream",
       "stream": "stdout",
       "text": [
        "\n",
        "IRQ"
       ]
      },
      {
       "output_type": "stream",
       "stream": "stdout",
       "text": [
        "\n",
        "HRV"
       ]
      },
      {
       "output_type": "stream",
       "stream": "stdout",
       "text": [
        "\n",
        "BDI"
       ]
      },
      {
       "output_type": "stream",
       "stream": "stdout",
       "text": [
        "\n",
        "CHN"
       ]
      },
      {
       "output_type": "stream",
       "stream": "stdout",
       "text": [
        "\n",
        "COL"
       ]
      },
      {
       "output_type": "stream",
       "stream": "stdout",
       "text": [
        "\n",
        "IRN"
       ]
      },
      {
       "output_type": "stream",
       "stream": "stdout",
       "text": [
        "\n",
        "SSD"
       ]
      },
      {
       "output_type": "stream",
       "stream": "stdout",
       "text": [
        "\n",
        "SLE"
       ]
      },
      {
       "output_type": "stream",
       "stream": "stdout",
       "text": [
        "\n",
        "ESH"
       ]
      },
      {
       "output_type": "stream",
       "stream": "stdout",
       "text": [
        "\n",
        "RWA"
       ]
      },
      {
       "output_type": "stream",
       "stream": "stdout",
       "text": [
        "\n",
        "TUR"
       ]
      },
      {
       "output_type": "stream",
       "stream": "stdout",
       "text": [
        "\n",
        "PSE"
       ]
      },
      {
       "output_type": "stream",
       "stream": "stdout",
       "text": [
        "\n",
        "SYR"
       ]
      },
      {
       "output_type": "stream",
       "stream": "stdout",
       "text": [
        "\n",
        "RUS"
       ]
      },
      {
       "output_type": "stream",
       "stream": "stdout",
       "text": [
        "\n",
        "SDN"
       ]
      },
      {
       "output_type": "stream",
       "stream": "stdout",
       "text": [
        "\n",
        "BTN"
       ]
      },
      {
       "output_type": "stream",
       "stream": "stdout",
       "text": [
        "\n",
        "CIV"
       ]
      },
      {
       "output_type": "stream",
       "stream": "stdout",
       "text": [
        "\n"
       ]
      }
     ],
     "prompt_number": 337
    },
    {
     "cell_type": "code",
     "collapsed": false,
     "input": [
      "len(points)/9"
     ],
     "language": "python",
     "metadata": {},
     "outputs": [
      {
       "metadata": {},
       "output_type": "pyout",
       "prompt_number": 343,
       "text": [
        "12868593"
       ]
      }
     ],
     "prompt_number": 343
    },
    {
     "cell_type": "code",
     "collapsed": false,
     "input": [
      "array.array('f', points).tofile(open(\"animated-points.bin\", 'w'))"
     ],
     "language": "python",
     "metadata": {},
     "outputs": [],
     "prompt_number": 342
    },
    {
     "cell_type": "code",
     "collapsed": false,
     "input": [
      "points = []\n",
      "for coo in top_20_coo.keys():\n",
      "    print coo\n",
      "    for country_of_residence in countries_of_residence_list:\n",
      "        cor = country_of_residence['country_of_residence']\n",
      "        if coo != cor and cor != \"XXX\" and cor != \"SCG\" and cor != \"YUG\":\n",
      "            sum_time_series = origins[coo][cor]['sum_time_series']\n",
      "            if sum_time_series > 100:\n",
      "                start_point = LngLatToPixelXY(centroids[coo])\n",
      "                end_point = LngLatToPixelXY(centroids[cor])\n",
      "                coo_ison = geojson[coo]['features'][0]['properties']['ISON']\n",
      "                cor_ison = geojson[cor]['features'][0]['properties']['ISON']\n",
      "                time_series = origins[coo][cor]['time_series']\n",
      "                for i in range(0,13):\n",
      "                    val_0 = time_series[i]\n",
      "                    val_1 = time_series[i+1]\n",
      "                    year = val_1['year']\n",
      "                    value = val_1['value'] - val_0['value']\n",
      "                    scaled_range = int(value)\n",
      "                    for j in range(0, scaled_range):\n",
      "                        if j % 10 == 0:\n",
      "                            p1 = start_point\n",
      "                            p2 = end_point\n",
      "                            mid = [(p2[0] + p1[0])/2.0, (p2[1] + p1[1])/2.0]\n",
      "                        else:\n",
      "                            p1 = random.choice(random_points[coo])\n",
      "                            p2 = random.choice(random_points[cor])\n",
      "                            mid = [(p2[0] + p1[0])/2.0, (p2[1] + p1[1])/2.0]\n",
      "                        month, day = random_month_day()\n",
      "                        epoch = YearMonthDayToEpoch(year, month, day)\n",
      "                        points += start_point\n",
      "                        points += end_point\n",
      "                        points += mid\n",
      "                        points.append(epoch)\n",
      "                        points.append(coo_ison)\n",
      "                        points.append(cor_ison)\n",
      "\n"
     ],
     "language": "python",
     "metadata": {},
     "outputs": [
      {
       "output_type": "stream",
       "stream": "stdout",
       "text": [
        "AGO\n",
        "SRB"
       ]
      },
      {
       "output_type": "stream",
       "stream": "stdout",
       "text": [
        "\n",
        "AZE"
       ]
      },
      {
       "output_type": "stream",
       "stream": "stdout",
       "text": [
        "\n",
        "LKA"
       ]
      },
      {
       "output_type": "stream",
       "stream": "stdout",
       "text": [
        "\n",
        "COD"
       ]
      },
      {
       "output_type": "stream",
       "stream": "stdout",
       "text": [
        "\n",
        "ETH"
       ]
      },
      {
       "output_type": "stream",
       "stream": "stdout",
       "text": [
        "\n",
        "MMR"
       ]
      },
      {
       "output_type": "stream",
       "stream": "stdout",
       "text": [
        "\n",
        "ERI"
       ]
      },
      {
       "output_type": "stream",
       "stream": "stdout",
       "text": [
        "\n",
        "LBR"
       ]
      },
      {
       "output_type": "stream",
       "stream": "stdout",
       "text": [
        "\n",
        "BIH"
       ]
      },
      {
       "output_type": "stream",
       "stream": "stdout",
       "text": [
        "\n",
        "VNM"
       ]
      },
      {
       "output_type": "stream",
       "stream": "stdout",
       "text": [
        "\n",
        "SOM"
       ]
      },
      {
       "output_type": "stream",
       "stream": "stdout",
       "text": [
        "\n",
        "MLI"
       ]
      },
      {
       "output_type": "stream",
       "stream": "stdout",
       "text": [
        "\n",
        "CAF"
       ]
      },
      {
       "output_type": "stream",
       "stream": "stdout",
       "text": [
        "\n",
        "TLS"
       ]
      },
      {
       "output_type": "stream",
       "stream": "stdout",
       "text": [
        "\n",
        "AFG\n",
        "IRQ"
       ]
      },
      {
       "output_type": "stream",
       "stream": "stdout",
       "text": [
        "\n",
        "HRV"
       ]
      },
      {
       "output_type": "stream",
       "stream": "stdout",
       "text": [
        "\n",
        "BDI"
       ]
      },
      {
       "output_type": "stream",
       "stream": "stdout",
       "text": [
        "\n",
        "CHN"
       ]
      },
      {
       "output_type": "stream",
       "stream": "stdout",
       "text": [
        "\n",
        "COL"
       ]
      },
      {
       "output_type": "stream",
       "stream": "stdout",
       "text": [
        "\n",
        "IRN"
       ]
      },
      {
       "output_type": "stream",
       "stream": "stdout",
       "text": [
        "\n",
        "SSD"
       ]
      },
      {
       "output_type": "stream",
       "stream": "stdout",
       "text": [
        "\n",
        "SLE"
       ]
      },
      {
       "output_type": "stream",
       "stream": "stdout",
       "text": [
        "\n",
        "ESH"
       ]
      },
      {
       "output_type": "stream",
       "stream": "stdout",
       "text": [
        "\n",
        "RWA"
       ]
      },
      {
       "output_type": "stream",
       "stream": "stdout",
       "text": [
        "\n",
        "TUR"
       ]
      },
      {
       "output_type": "stream",
       "stream": "stdout",
       "text": [
        "\n",
        "PSE"
       ]
      },
      {
       "output_type": "stream",
       "stream": "stdout",
       "text": [
        "\n",
        "SYR"
       ]
      },
      {
       "output_type": "stream",
       "stream": "stdout",
       "text": [
        "\n",
        "RUS"
       ]
      },
      {
       "output_type": "stream",
       "stream": "stdout",
       "text": [
        "\n",
        "SDN"
       ]
      },
      {
       "output_type": "stream",
       "stream": "stdout",
       "text": [
        "\n",
        "BTN"
       ]
      },
      {
       "output_type": "stream",
       "stream": "stdout",
       "text": [
        "\n",
        "CIV"
       ]
      },
      {
       "output_type": "stream",
       "stream": "stdout",
       "text": [
        "\n"
       ]
      }
     ],
     "prompt_number": 363
    },
    {
     "cell_type": "code",
     "collapsed": false,
     "input": [
      "def split_list(alist, wanted_parts=1):\n",
      "    length = len(alist)\n",
      "    return [ alist[i*length // wanted_parts: (i+1)*length // wanted_parts] \n",
      "             for i in range(wanted_parts) ]"
     ],
     "language": "python",
     "metadata": {},
     "outputs": [],
     "prompt_number": 365
    },
    {
     "cell_type": "code",
     "collapsed": false,
     "input": [
      "split = split_list(points,len(points)/9)\n",
      "print split[0]"
     ],
     "language": "python",
     "metadata": {},
     "outputs": [
      {
       "output_type": "stream",
       "stream": "stdout",
       "text": [
        "[140.47950062296715, 136.81240894781038, 81.65902387405613, 154.93829380159596, 111.06926224851165, 145.87535137470317, 1058832000.0, 24, 32]\n"
       ]
      }
     ],
     "prompt_number": 366
    },
    {
     "cell_type": "code",
     "collapsed": false,
     "input": [
      "from operator import itemgetter\n",
      "ordered_split = sorted(split, key=itemgetter(6))"
     ],
     "language": "python",
     "metadata": {},
     "outputs": [],
     "prompt_number": 369
    },
    {
     "cell_type": "code",
     "collapsed": false,
     "input": [
      "print split[0]\n",
      "print ordered_split[0]"
     ],
     "language": "python",
     "metadata": {},
     "outputs": [
      {
       "output_type": "stream",
       "stream": "stdout",
       "text": [
        "[140.47950062296715, 136.81240894781038, 81.65902387405613, 154.93829380159596, 111.06926224851165, 145.87535137470317, 1058832000.0, 24, 32]\n",
        "[140.47950062296715, 136.81240894781038, 90.25664871764965, 135.68510544281168, 115.3680746703084, 136.24875719531104, 978307200.0, 24, 76]\n"
       ]
      }
     ],
     "prompt_number": 370
    },
    {
     "cell_type": "code",
     "collapsed": false,
     "input": [
      "datetime.datetime.utcfromtimestamp(ordered_split[0][6]).year"
     ],
     "language": "python",
     "metadata": {},
     "outputs": [
      {
       "metadata": {},
       "output_type": "pyout",
       "prompt_number": 379,
       "text": [
        "2001"
       ]
      }
     ],
     "prompt_number": 379
    },
    {
     "cell_type": "code",
     "collapsed": false,
     "input": [
      "datetime.datetime.utcfromtimestamp(ordered_split[len(ordered_split) - 1][6])"
     ],
     "language": "python",
     "metadata": {},
     "outputs": [
      {
       "metadata": {},
       "output_type": "pyout",
       "prompt_number": 381,
       "text": [
        "datetime.datetime(2013, 12, 31, 0, 0)"
       ]
      }
     ],
     "prompt_number": 381
    },
    {
     "cell_type": "code",
     "collapsed": false,
     "input": [
      "year_totals = {}\n",
      "for row in ordered_split:\n",
      "    year = datetime.datetime.utcfromtimestamp(row[6]).year\n",
      "    if year_totals.has_key(year):\n",
      "        year_totals[year] += 1\n",
      "    else:\n",
      "        year_totals[year] = 1\n",
      "year_totals"
     ],
     "language": "python",
     "metadata": {},
     "outputs": [
      {
       "metadata": {},
       "output_type": "pyout",
       "prompt_number": 385,
       "text": [
        "{2001: 756932,\n",
        " 2002: 941857,\n",
        " 2003: 354892,\n",
        " 2004: 592040,\n",
        " 2005: 233373,\n",
        " 2006: 2172593,\n",
        " 2007: 1133828,\n",
        " 2008: 1638846,\n",
        " 2009: 851353,\n",
        " 2010: 457101,\n",
        " 2011: 703067,\n",
        " 2012: 1305917,\n",
        " 2013: 2219588}"
       ]
      }
     ],
     "prompt_number": 385
    },
    {
     "cell_type": "code",
     "collapsed": false,
     "input": [
      "year_idx = {}\n",
      "years = range(2001,2014)"
     ],
     "language": "python",
     "metadata": {},
     "outputs": [],
     "prompt_number": 386
    },
    {
     "cell_type": "code",
     "collapsed": false,
     "input": [
      "for i in range(0,len(years)):\n",
      "    year = years[i]\n",
      "    year_idx[year] = {}\n",
      "    year_idx[year]['count'] = year_totals[year]\n",
      "    year_idx[year]['start'] = 0\n",
      "    for j in range(0,i):\n",
      "        year_x = years[j]\n",
      "        year_idx[year]['start'] += year_idx[year_x]['count']\n",
      "year_idx\n",
      "\n",
      "            \n",
      "        "
     ],
     "language": "python",
     "metadata": {},
     "outputs": [
      {
       "metadata": {},
       "output_type": "pyout",
       "prompt_number": 394,
       "text": [
        "{2001: {'count': 756932, 'start': 0},\n",
        " 2002: {'count': 941857, 'start': 756932},\n",
        " 2003: {'count': 354892, 'start': 1698789},\n",
        " 2004: {'count': 592040, 'start': 2053681},\n",
        " 2005: {'count': 233373, 'start': 2645721},\n",
        " 2006: {'count': 2172593, 'start': 2879094},\n",
        " 2007: {'count': 1133828, 'start': 5051687},\n",
        " 2008: {'count': 1638846, 'start': 6185515},\n",
        " 2009: {'count': 851353, 'start': 7824361},\n",
        " 2010: {'count': 457101, 'start': 8675714},\n",
        " 2011: {'count': 703067, 'start': 9132815},\n",
        " 2012: {'count': 1305917, 'start': 9835882},\n",
        " 2013: {'count': 2219588, 'start': 11141799}}"
       ]
      }
     ],
     "prompt_number": 394
    },
    {
     "cell_type": "code",
     "collapsed": false,
     "input": [
      "points = []\n",
      "for x in ordered_split:\n",
      "    for y in x:\n",
      "        points += [y]\n",
      "array.array('f', points).tofile(open('animated-points-3.bin', 'w'))"
     ],
     "language": "python",
     "metadata": {},
     "outputs": [],
     "prompt_number": 395
    },
    {
     "cell_type": "code",
     "collapsed": false,
     "input": [],
     "language": "python",
     "metadata": {},
     "outputs": []
    }
   ],
   "metadata": {}
  }
 ]
}