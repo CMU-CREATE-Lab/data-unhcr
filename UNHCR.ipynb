{
 "metadata": {
  "name": "",
  "signature": "sha256:59001db2cec351be48b8b1b31981b22caf34be42b621147197c40744f7459462"
 },
 "nbformat": 3,
 "nbformat_minor": 0,
 "worksheets": [
  {
   "cells": [
    {
     "cell_type": "code",
     "collapsed": false,
     "input": [
      "import os\n",
      "dir = \"capture\"\n",
      "# Create download data directory\n",
      "try:\n",
      "    os.makedirs(dir)\n",
      "except OSError:\n",
      "    pass"
     ],
     "language": "python",
     "metadata": {},
     "outputs": []
    },
    {
     "cell_type": "code",
     "collapsed": false,
     "input": [
      "import urllib2\n",
      "def fetch_url(url, dest):\n",
      "    \"\"\"Fetch url to dest, if dest doesn't already exist\"\"\"\n",
      "    if os.path.exists(dest):\n",
      "        print \"%s already exists\" % dest\n",
      "    else:\n",
      "        dir = os.path.dirname(os.path.abspath(dest))\n",
      "        try:\n",
      "            os.makedirs(dir)\n",
      "        except OSError:\n",
      "            pass\n",
      "        print \"Fetching %s to %s\" % (url, dest)\n",
      "        input = urllib2.urlopen(url)\n",
      "        output = open(dest + \".tmp\", \"w\")\n",
      "        data = input.read()\n",
      "        output.write(data)\n",
      "        input.close()\n",
      "        output.close()\n",
      "        os.rename(dest + \".tmp\", dest)\n",
      "        print \"Fetched %d bytes from %s into %s\" % (len(data), url, dest)"
     ],
     "language": "python",
     "metadata": {},
     "outputs": []
    },
    {
     "cell_type": "code",
     "collapsed": false,
     "input": [
      "urls= [\n",
      "    'http://www.unhcr.org/static/statistical_yearbook/2001/annexexcel.zip',\n",
      "    'http://www.unhcr.org/static/statistical_yearbook/2002/annexexcel.zip',\n",
      "    'http://www.unhcr.org/static/statistical_yearbook/2003/annexexcel.zip',\n",
      "    'http://www.unhcr.org/static/statistical_yearbook/2004/annexexcel2004.zip',\n",
      "    'http://www.unhcr.org/static/statistical_yearbook/2005/annexexcel2005.zip',\n",
      "    'http://www.unhcr.org/static/statistical_yearbook/2006/annextables.zip',\n",
      "    'http://www.unhcr.org/static/statistical_yearbook/2007/annextables.zip',\n",
      "    'http://www.unhcr.org/static/statistical_yearbook/2008/08-TPOC-TB_v5_external_PW.zip',\n",
      "    'http://www.unhcr.org/static/statistical_yearbook/2009/2009-Statistical-Yearbook-Annex-Tables.zip',\n",
      "    'http://www.unhcr.org/static/statistical_yearbook/2010/2011-SYB10-annex-tables.zip',\n",
      "    'http://www.unhcr.org/static/statistical_yearbook/2011/2011_Statistical_Yearbook_annex_tables_v1.zip',\n",
      "    'http://www.unhcr.org/static/statistical_yearbook/2012/2012_Statistical_Yearbook_annex_tables_v1.zip',\n",
      "    'http://www.unhcr.org/static/statistical_yearbook/2013/annex_tables.zip',\n",
      "    'http://www.unhcr.org/statisticalyearbook/2014-annex-tables.zip'\n",
      "]"
     ],
     "language": "python",
     "metadata": {},
     "outputs": []
    },
    {
     "cell_type": "code",
     "collapsed": false,
     "input": [
      "import re\n",
      "regex = re.compile(r'\\d{4}')\n",
      "for url in urls:\n",
      "    m = regex.search(url)\n",
      "    year = m.group(0)\n",
      "    print year\n",
      "    dest = \"capture/%s/annex.zip\" % year\n",
      "    fetch_url(url, dest)  \n",
      "  "
     ],
     "language": "python",
     "metadata": {},
     "outputs": []
    },
    {
     "cell_type": "code",
     "collapsed": false,
     "input": [
      "import re\n",
      "regex = re.compile(r'\\d{4}')\n",
      "for url in urls:\n",
      "    m = regex.search(url)\n",
      "    year = m.group(0)\n",
      "    print year\n",
      "    dest = \"capture/%s/annex.zip\" % year\n",
      "    dir = \"capture/%s\" % year\n",
      "    command = \"unzip %s -d %s\" % (dest,dir)\n",
      "    !$command"
     ],
     "language": "python",
     "metadata": {},
     "outputs": []
    },
    {
     "cell_type": "code",
     "collapsed": false,
     "input": [],
     "language": "python",
     "metadata": {},
     "outputs": []
    }
   ],
   "metadata": {}
  }
 ]
}